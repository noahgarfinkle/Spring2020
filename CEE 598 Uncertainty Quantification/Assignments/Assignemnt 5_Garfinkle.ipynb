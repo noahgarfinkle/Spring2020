{
 "cells": [
  {
   "cell_type": "markdown",
   "metadata": {},
   "source": [
    "# CEE 598: Uncertainty Quantification\n",
    "## Assignment Five\n",
    "### Noah Garfinkle (garfink2@illinois edu)\n",
    "### 16 April 2020"
   ]
  },
  {
   "cell_type": "markdown",
   "metadata": {},
   "source": [
    "## Imports and Set Up"
   ]
  },
  {
   "cell_type": "code",
   "execution_count": 2,
   "metadata": {},
   "outputs": [],
   "source": [
    "import numpy as np\n",
    "import scipy as sp\n",
    "import matplotlib.pyplot as plt\n",
    "import seaborn as sns\n",
    "import pytest\n",
    "import chaospy as cp"
   ]
  },
  {
   "cell_type": "markdown",
   "metadata": {},
   "source": [
    "## References"
   ]
  },
  {
   "cell_type": "code",
   "execution_count": null,
   "metadata": {},
   "outputs": [],
   "source": []
  },
  {
   "cell_type": "markdown",
   "metadata": {},
   "source": [
    "## General Solution Approach"
   ]
  },
  {
   "cell_type": "markdown",
   "metadata": {},
   "source": [
    "Per the assignment guidelines, I have chosen approach (2), converting the provided MATLAB code into Python according to tasks one and two and verifying the code according to task three."
   ]
  },
  {
   "cell_type": "markdown",
   "metadata": {},
   "source": [
    "Per slide 6 of lecture 17, we consider the general approach to be:\n",
    "1. Choose the polynomial type\n",
    "2. Write the polynomial representationf or parameters\n",
    "3. Pick the polynomial order for response\n",
    "4. Write the polynomial representation for response\n",
    "5. Calculate the unknown coefficients"
   ]
  },
  {
   "cell_type": "markdown",
   "metadata": {},
   "source": [
    "## Task One"
   ]
  },
  {
   "cell_type": "markdown",
   "metadata": {},
   "source": [
    "Using the three-term recurrence relation, write a generic code that evaluates the $n$-th order one-dimensional Hermite and Legendre polynomials, denoted by $P_n(x)$, at a prescribed numerical value for $x$.  The code can be written in the form of a single function that is called with a prescribed type of polynomial (either Hermite or Legendre).  Name your function evaluate_1D_polynomial.  So, the function will be called as follows\n",
    "\n",
    "**evaluate_1D_polynomial(x,n,polynomial_type)**.\n",
    "\n",
    "Using this function, plot the Hermite and Legendre polynomials of order ${0,1,2,3}$.  For Hermite polynomials, set the plotting range $x$ to be $[-3,3]$."
   ]
  },
  {
   "cell_type": "code",
   "execution_count": 3,
   "metadata": {},
   "outputs": [],
   "source": [
    "\"\"\"\n",
    "d = dimension (integer)\n",
    "p = order (integer)\n",
    "\n",
    "returns n (integer)\n",
    "\n",
    "calls: none\n",
    "\"\"\"\n",
    "def func_PCE_NumPols(d,p):\n",
    "    n = 0\n",
    "    for m1 in range(0,p+1):\n",
    "        n += np.math.factorial(m1+d-1) / np.math.factorial(m1) / np.math.factorial(d-1)\n",
    "    return int(n)"
   ]
  },
  {
   "cell_type": "code",
   "execution_count": 4,
   "metadata": {},
   "outputs": [],
   "source": [
    "assert func_PCE_NumPols(4,3) == 35 # PASSES COMPARISON TO MATLAB CODE"
   ]
  },
  {
   "cell_type": "code",
   "execution_count": 5,
   "metadata": {},
   "outputs": [],
   "source": [
    "def evaluate_1D_polynomial(x,n,polynomial_type):\n",
    "    return 0"
   ]
  },
  {
   "cell_type": "code",
   "execution_count": 6,
   "metadata": {},
   "outputs": [],
   "source": [
    "He_n = np.array([1,0])\n",
    "He_nminus1 = np.array([1])"
   ]
  },
  {
   "cell_type": "code",
   "execution_count": 7,
   "metadata": {},
   "outputs": [],
   "source": [
    "m1 = 3"
   ]
  },
  {
   "cell_type": "code",
   "execution_count": 8,
   "metadata": {},
   "outputs": [
    {
     "data": {
      "text/plain": [
       "array([ 1.,  0., -2.])"
      ]
     },
     "execution_count": 8,
     "metadata": {},
     "output_type": "execute_result"
    }
   ],
   "source": [
    "np.convolve(np.array([1,0]), He_n) - (m1-1)*np.concatenate((np.zeros(2),He_nminus1))"
   ]
  },
  {
   "cell_type": "code",
   "execution_count": null,
   "metadata": {},
   "outputs": [],
   "source": []
  },
  {
   "cell_type": "code",
   "execution_count": 9,
   "metadata": {},
   "outputs": [
    {
     "data": {
      "text/plain": [
       "array([0., 0.])"
      ]
     },
     "execution_count": 9,
     "metadata": {},
     "output_type": "execute_result"
    }
   ],
   "source": [
    "np.zeros(2)"
   ]
  },
  {
   "cell_type": "code",
   "execution_count": 10,
   "metadata": {},
   "outputs": [],
   "source": [
    "\"\"\"\n",
    "p = degree (integer)\n",
    "vargin = list of type and optional paraemeters\n",
    " Let vargin be a list, where the zero element is the type\n",
    "\n",
    "returns c = coefficients (1*(p+1) real vector)\n",
    "\n",
    "calls: none\n",
    "\"\"\"\n",
    "def func_PCE_1DPoly(p,vargin):\n",
    "    polyType = vargin[0]\n",
    "    c = []\n",
    "    if polyType == \"Hermite\": # no other parameters \n",
    "        if p == 0:\n",
    "            c = [1]\n",
    "        elif p == 1:\n",
    "            c = [1,0]\n",
    "        else: # high order polynomials using recursion formula\n",
    "            He_n = np.array([1,0])\n",
    "            He_nminus1 = np.array([1])\n",
    "            for m1 in range(2,p+1):\n",
    "                c = np.convolve(np.array([1,0]), He_n) - (m1-1)*np.concatenate((np.zeros(2),He_nminus1))\n",
    "                if m1 != p:\n",
    "                    He_nminus1 = He_n\n",
    "                    He_n = c\n",
    "        c = (1/np.sqrt(np.math.factorial(p))) * c # normalization\n",
    "    elif polyType == \"Legendre\": # no other parameters\n",
    "        if p == 0:\n",
    "            c = np.array([1])\n",
    "        elif p == 1:\n",
    "            c = np.array([1,0])\n",
    "        else:\n",
    "            He_n = np.array([1,0])\n",
    "            He_nminus1 = np.array([1])\n",
    "            for m1 in range(2,p+1):\n",
    "                c = ((2*m1-1)/m1 * np.convolve(np.array([1,0]), He_n)) - ((m1-1)/m1) * np.concatenate((np.zeros(2),He_nminus1))\n",
    "                if m1 != p:\n",
    "                    He_nminus1 = He_n\n",
    "                    He_n = c\n",
    "        c = np.sqrt((2*p+1)/2) * c # normalization\n",
    "    elif polyType == \"Laguerre\": # 1st index is a\n",
    "        a = vargin[1]\n",
    "        return \"Not Implemented\"\n",
    "    elif polyType == \"Chebyshev\": # no other parameters\n",
    "        return \"Not Implemented\"\n",
    "    elif polyType == \"Jacobi\": # 1st index is a, 2nd index is b\n",
    "        a = vargin[1]\n",
    "        b = varagin[2]\n",
    "        return \"Not Implemented\"\n",
    "    else:\n",
    "        return \"Not Implemented\"\n",
    "    return np.array(c)"
   ]
  },
  {
   "cell_type": "code",
   "execution_count": 11,
   "metadata": {},
   "outputs": [],
   "source": [
    "np.testing.assert_allclose(func_PCE_1DPoly(3,[\"Hermite\"]),np.array([0.4082,0,-1.2247,0]),rtol=1e-3)\n",
    "np.testing.assert_allclose(func_PCE_1DPoly(3,[\"Legendre\"]),np.array([4.6771,0,-2.8062,0]),rtol=1e-3)"
   ]
  },
  {
   "cell_type": "code",
   "execution_count": 12,
   "metadata": {},
   "outputs": [],
   "source": [
    "\"\"\"\n",
    "x = argument (d*1 real vector)\n",
    "c = coefficients (n*1 real vector)\n",
    "d = dimension (integer)\n",
    "p = order (integer)\n",
    "vargin = list of type and optional parameters\n",
    "    a = Laguerre parameter (real scalar > -1)\n",
    "    a,b = Jacobi paraemters (real scalars > -1)\n",
    "    \n",
    "returns y = scalar\n",
    "\n",
    "calls: func_PCE_NumPols, func_PCE_MultiIndex\n",
    "\"\"\"\n",
    "def func_PCE_Chaos(x,c,d,p,varagin):\n",
    "    return 0"
   ]
  },
  {
   "cell_type": "code",
   "execution_count": 13,
   "metadata": {},
   "outputs": [],
   "source": [
    "\"\"\"\n",
    "j = index (integer)\n",
    "d = dimension (integer)\n",
    "\n",
    "returns n = coefficients (1*d integer vector)\n",
    "\n",
    "calls: itself recursively\n",
    "\"\"\"\n",
    "def func_PCE_MultiIndex(j,d):\n",
    "    # compute the polynomial order\n",
    "    index_p = 0\n",
    "    index_pp = 1\n",
    "    p = 0\n",
    "    while j >= index_pp:\n",
    "        index_p = index_pp\n",
    "        index_pp += (np.math.factorial((p+1)+d-1) / np.math.factorial(p+1) / np.math.factorial(d-1))\n",
    "        p += 1\n",
    "\n",
    "    # compute the first idnex\n",
    "    index_pp = index_p + 1\n",
    "    newindex = 0\n",
    "    n = np.zeros((1,d))\n",
    "    \n",
    "    for m1 in range(0,p+1):\n",
    "        if j < index_pp:\n",
    "            n[0] = p - m1\n",
    "            print(n)\n",
    "            if d != 1:\n",
    "                for m2 in range(0,m1-1+1):\n",
    "                    newindex += (np.math.factorial(m2+d-2) / np.math.factorial(m2) / np.math.factorial(d-2))\n",
    "                    print(func_PCE_MultiIndex(newindex+j-index_p,d-1)) # this is where my error is, the size is correct but not the vlaues\n",
    "#                     print(f\"-->n:{n},{func_PCE_MultiIndex(newindex+j-index_p,d-1)}\")\n",
    "                    n[1:] = func_PCE_MultiIndex(newindex+j-index_p,d-1)\n",
    "                    print(n)\n",
    "        else:\n",
    "            index_p = index_pp\n",
    "            print(f\"index_p:{index_p}\")\n",
    "            index_pp += (np.math.factorial(m1+1+d-2)/np.math.factorial(m1+1)/np.math.factorial(d-2))\n",
    "    return n"
   ]
  },
  {
   "cell_type": "code",
   "execution_count": 14,
   "metadata": {},
   "outputs": [
    {
     "name": "stdout",
     "output_type": "stream",
     "text": [
      "index_p:2\n",
      "[[0. 0. 0. 0. 0. 0. 0.]]\n",
      "index_p:2\n",
      "[[0. 0. 0. 0. 0. 0.]]\n",
      "index_p:2\n",
      "[[0. 0. 0. 0. 0.]]\n",
      "[[1. 1. 1. 1.]]\n",
      "[[0. 0. 0. 0.]]\n",
      "[[1. 1. 1.]]\n",
      "[[0. 0. 0.]]\n",
      "[[1. 1.]]\n",
      "[[0. 0.]]\n",
      "[[1.]]\n",
      "[[0.]]\n",
      "[[0.]]\n",
      "[[1.]]\n",
      "[[0.]]\n",
      "[[0. 0.]]\n",
      "[[0. 0.]]\n",
      "[[1. 1.]]\n",
      "[[0. 0.]]\n",
      "[[1.]]\n",
      "[[0.]]\n",
      "[[0.]]\n",
      "[[1.]]\n",
      "[[0.]]\n",
      "[[0. 0.]]\n"
     ]
    },
    {
     "ename": "ValueError",
     "evalue": "could not broadcast input array from shape (1,2) into shape (0,3)",
     "output_type": "error",
     "traceback": [
      "\u001b[1;31m---------------------------------------------------------------------------\u001b[0m",
      "\u001b[1;31mValueError\u001b[0m                                Traceback (most recent call last)",
      "\u001b[1;32m<ipython-input-14-fbdd01086793>\u001b[0m in \u001b[0;36m<module>\u001b[1;34m\u001b[0m\n\u001b[1;32m----> 1\u001b[1;33m \u001b[0mfunc_PCE_MultiIndex\u001b[0m\u001b[1;33m(\u001b[0m\u001b[1;36m4\u001b[0m\u001b[1;33m,\u001b[0m\u001b[1;36m7\u001b[0m\u001b[1;33m)\u001b[0m \u001b[1;31m# not there yet\u001b[0m\u001b[1;33m\u001b[0m\u001b[1;33m\u001b[0m\u001b[0m\n\u001b[0m",
      "\u001b[1;32m<ipython-input-13-fb1c57fb7e03>\u001b[0m in \u001b[0;36mfunc_PCE_MultiIndex\u001b[1;34m(j, d)\u001b[0m\n\u001b[0;32m     29\u001b[0m                 \u001b[1;32mfor\u001b[0m \u001b[0mm2\u001b[0m \u001b[1;32min\u001b[0m \u001b[0mrange\u001b[0m\u001b[1;33m(\u001b[0m\u001b[1;36m0\u001b[0m\u001b[1;33m,\u001b[0m\u001b[0mm1\u001b[0m\u001b[1;33m-\u001b[0m\u001b[1;36m1\u001b[0m\u001b[1;33m+\u001b[0m\u001b[1;36m1\u001b[0m\u001b[1;33m)\u001b[0m\u001b[1;33m:\u001b[0m\u001b[1;33m\u001b[0m\u001b[1;33m\u001b[0m\u001b[0m\n\u001b[0;32m     30\u001b[0m                     \u001b[0mnewindex\u001b[0m \u001b[1;33m+=\u001b[0m \u001b[1;33m(\u001b[0m\u001b[0mnp\u001b[0m\u001b[1;33m.\u001b[0m\u001b[0mmath\u001b[0m\u001b[1;33m.\u001b[0m\u001b[0mfactorial\u001b[0m\u001b[1;33m(\u001b[0m\u001b[0mm2\u001b[0m\u001b[1;33m+\u001b[0m\u001b[0md\u001b[0m\u001b[1;33m-\u001b[0m\u001b[1;36m2\u001b[0m\u001b[1;33m)\u001b[0m \u001b[1;33m/\u001b[0m \u001b[0mnp\u001b[0m\u001b[1;33m.\u001b[0m\u001b[0mmath\u001b[0m\u001b[1;33m.\u001b[0m\u001b[0mfactorial\u001b[0m\u001b[1;33m(\u001b[0m\u001b[0mm2\u001b[0m\u001b[1;33m)\u001b[0m \u001b[1;33m/\u001b[0m \u001b[0mnp\u001b[0m\u001b[1;33m.\u001b[0m\u001b[0mmath\u001b[0m\u001b[1;33m.\u001b[0m\u001b[0mfactorial\u001b[0m\u001b[1;33m(\u001b[0m\u001b[0md\u001b[0m\u001b[1;33m-\u001b[0m\u001b[1;36m2\u001b[0m\u001b[1;33m)\u001b[0m\u001b[1;33m)\u001b[0m\u001b[1;33m\u001b[0m\u001b[1;33m\u001b[0m\u001b[0m\n\u001b[1;32m---> 31\u001b[1;33m                     \u001b[0mprint\u001b[0m\u001b[1;33m(\u001b[0m\u001b[0mfunc_PCE_MultiIndex\u001b[0m\u001b[1;33m(\u001b[0m\u001b[0mnewindex\u001b[0m\u001b[1;33m+\u001b[0m\u001b[0mj\u001b[0m\u001b[1;33m-\u001b[0m\u001b[0mindex_p\u001b[0m\u001b[1;33m,\u001b[0m\u001b[0md\u001b[0m\u001b[1;33m-\u001b[0m\u001b[1;36m1\u001b[0m\u001b[1;33m)\u001b[0m\u001b[1;33m)\u001b[0m \u001b[1;31m# this is where my error is, the size is correct but not the vlaues\u001b[0m\u001b[1;33m\u001b[0m\u001b[1;33m\u001b[0m\u001b[0m\n\u001b[0m\u001b[0;32m     32\u001b[0m \u001b[1;31m#                     print(f\"-->n:{n},{func_PCE_MultiIndex(newindex+j-index_p,d-1)}\")\u001b[0m\u001b[1;33m\u001b[0m\u001b[1;33m\u001b[0m\u001b[1;33m\u001b[0m\u001b[0m\n\u001b[0;32m     33\u001b[0m                     \u001b[0mn\u001b[0m\u001b[1;33m[\u001b[0m\u001b[1;36m1\u001b[0m\u001b[1;33m:\u001b[0m\u001b[1;33m]\u001b[0m \u001b[1;33m=\u001b[0m \u001b[0mfunc_PCE_MultiIndex\u001b[0m\u001b[1;33m(\u001b[0m\u001b[0mnewindex\u001b[0m\u001b[1;33m+\u001b[0m\u001b[0mj\u001b[0m\u001b[1;33m-\u001b[0m\u001b[0mindex_p\u001b[0m\u001b[1;33m,\u001b[0m\u001b[0md\u001b[0m\u001b[1;33m-\u001b[0m\u001b[1;36m1\u001b[0m\u001b[1;33m)\u001b[0m\u001b[1;33m\u001b[0m\u001b[1;33m\u001b[0m\u001b[0m\n",
      "\u001b[1;32m<ipython-input-13-fb1c57fb7e03>\u001b[0m in \u001b[0;36mfunc_PCE_MultiIndex\u001b[1;34m(j, d)\u001b[0m\n\u001b[0;32m     29\u001b[0m                 \u001b[1;32mfor\u001b[0m \u001b[0mm2\u001b[0m \u001b[1;32min\u001b[0m \u001b[0mrange\u001b[0m\u001b[1;33m(\u001b[0m\u001b[1;36m0\u001b[0m\u001b[1;33m,\u001b[0m\u001b[0mm1\u001b[0m\u001b[1;33m-\u001b[0m\u001b[1;36m1\u001b[0m\u001b[1;33m+\u001b[0m\u001b[1;36m1\u001b[0m\u001b[1;33m)\u001b[0m\u001b[1;33m:\u001b[0m\u001b[1;33m\u001b[0m\u001b[1;33m\u001b[0m\u001b[0m\n\u001b[0;32m     30\u001b[0m                     \u001b[0mnewindex\u001b[0m \u001b[1;33m+=\u001b[0m \u001b[1;33m(\u001b[0m\u001b[0mnp\u001b[0m\u001b[1;33m.\u001b[0m\u001b[0mmath\u001b[0m\u001b[1;33m.\u001b[0m\u001b[0mfactorial\u001b[0m\u001b[1;33m(\u001b[0m\u001b[0mm2\u001b[0m\u001b[1;33m+\u001b[0m\u001b[0md\u001b[0m\u001b[1;33m-\u001b[0m\u001b[1;36m2\u001b[0m\u001b[1;33m)\u001b[0m \u001b[1;33m/\u001b[0m \u001b[0mnp\u001b[0m\u001b[1;33m.\u001b[0m\u001b[0mmath\u001b[0m\u001b[1;33m.\u001b[0m\u001b[0mfactorial\u001b[0m\u001b[1;33m(\u001b[0m\u001b[0mm2\u001b[0m\u001b[1;33m)\u001b[0m \u001b[1;33m/\u001b[0m \u001b[0mnp\u001b[0m\u001b[1;33m.\u001b[0m\u001b[0mmath\u001b[0m\u001b[1;33m.\u001b[0m\u001b[0mfactorial\u001b[0m\u001b[1;33m(\u001b[0m\u001b[0md\u001b[0m\u001b[1;33m-\u001b[0m\u001b[1;36m2\u001b[0m\u001b[1;33m)\u001b[0m\u001b[1;33m)\u001b[0m\u001b[1;33m\u001b[0m\u001b[1;33m\u001b[0m\u001b[0m\n\u001b[1;32m---> 31\u001b[1;33m                     \u001b[0mprint\u001b[0m\u001b[1;33m(\u001b[0m\u001b[0mfunc_PCE_MultiIndex\u001b[0m\u001b[1;33m(\u001b[0m\u001b[0mnewindex\u001b[0m\u001b[1;33m+\u001b[0m\u001b[0mj\u001b[0m\u001b[1;33m-\u001b[0m\u001b[0mindex_p\u001b[0m\u001b[1;33m,\u001b[0m\u001b[0md\u001b[0m\u001b[1;33m-\u001b[0m\u001b[1;36m1\u001b[0m\u001b[1;33m)\u001b[0m\u001b[1;33m)\u001b[0m \u001b[1;31m# this is where my error is, the size is correct but not the vlaues\u001b[0m\u001b[1;33m\u001b[0m\u001b[1;33m\u001b[0m\u001b[0m\n\u001b[0m\u001b[0;32m     32\u001b[0m \u001b[1;31m#                     print(f\"-->n:{n},{func_PCE_MultiIndex(newindex+j-index_p,d-1)}\")\u001b[0m\u001b[1;33m\u001b[0m\u001b[1;33m\u001b[0m\u001b[1;33m\u001b[0m\u001b[0m\n\u001b[0;32m     33\u001b[0m                     \u001b[0mn\u001b[0m\u001b[1;33m[\u001b[0m\u001b[1;36m1\u001b[0m\u001b[1;33m:\u001b[0m\u001b[1;33m]\u001b[0m \u001b[1;33m=\u001b[0m \u001b[0mfunc_PCE_MultiIndex\u001b[0m\u001b[1;33m(\u001b[0m\u001b[0mnewindex\u001b[0m\u001b[1;33m+\u001b[0m\u001b[0mj\u001b[0m\u001b[1;33m-\u001b[0m\u001b[0mindex_p\u001b[0m\u001b[1;33m,\u001b[0m\u001b[0md\u001b[0m\u001b[1;33m-\u001b[0m\u001b[1;36m1\u001b[0m\u001b[1;33m)\u001b[0m\u001b[1;33m\u001b[0m\u001b[1;33m\u001b[0m\u001b[0m\n",
      "\u001b[1;32m<ipython-input-13-fb1c57fb7e03>\u001b[0m in \u001b[0;36mfunc_PCE_MultiIndex\u001b[1;34m(j, d)\u001b[0m\n\u001b[0;32m     29\u001b[0m                 \u001b[1;32mfor\u001b[0m \u001b[0mm2\u001b[0m \u001b[1;32min\u001b[0m \u001b[0mrange\u001b[0m\u001b[1;33m(\u001b[0m\u001b[1;36m0\u001b[0m\u001b[1;33m,\u001b[0m\u001b[0mm1\u001b[0m\u001b[1;33m-\u001b[0m\u001b[1;36m1\u001b[0m\u001b[1;33m+\u001b[0m\u001b[1;36m1\u001b[0m\u001b[1;33m)\u001b[0m\u001b[1;33m:\u001b[0m\u001b[1;33m\u001b[0m\u001b[1;33m\u001b[0m\u001b[0m\n\u001b[0;32m     30\u001b[0m                     \u001b[0mnewindex\u001b[0m \u001b[1;33m+=\u001b[0m \u001b[1;33m(\u001b[0m\u001b[0mnp\u001b[0m\u001b[1;33m.\u001b[0m\u001b[0mmath\u001b[0m\u001b[1;33m.\u001b[0m\u001b[0mfactorial\u001b[0m\u001b[1;33m(\u001b[0m\u001b[0mm2\u001b[0m\u001b[1;33m+\u001b[0m\u001b[0md\u001b[0m\u001b[1;33m-\u001b[0m\u001b[1;36m2\u001b[0m\u001b[1;33m)\u001b[0m \u001b[1;33m/\u001b[0m \u001b[0mnp\u001b[0m\u001b[1;33m.\u001b[0m\u001b[0mmath\u001b[0m\u001b[1;33m.\u001b[0m\u001b[0mfactorial\u001b[0m\u001b[1;33m(\u001b[0m\u001b[0mm2\u001b[0m\u001b[1;33m)\u001b[0m \u001b[1;33m/\u001b[0m \u001b[0mnp\u001b[0m\u001b[1;33m.\u001b[0m\u001b[0mmath\u001b[0m\u001b[1;33m.\u001b[0m\u001b[0mfactorial\u001b[0m\u001b[1;33m(\u001b[0m\u001b[0md\u001b[0m\u001b[1;33m-\u001b[0m\u001b[1;36m2\u001b[0m\u001b[1;33m)\u001b[0m\u001b[1;33m)\u001b[0m\u001b[1;33m\u001b[0m\u001b[1;33m\u001b[0m\u001b[0m\n\u001b[1;32m---> 31\u001b[1;33m                     \u001b[0mprint\u001b[0m\u001b[1;33m(\u001b[0m\u001b[0mfunc_PCE_MultiIndex\u001b[0m\u001b[1;33m(\u001b[0m\u001b[0mnewindex\u001b[0m\u001b[1;33m+\u001b[0m\u001b[0mj\u001b[0m\u001b[1;33m-\u001b[0m\u001b[0mindex_p\u001b[0m\u001b[1;33m,\u001b[0m\u001b[0md\u001b[0m\u001b[1;33m-\u001b[0m\u001b[1;36m1\u001b[0m\u001b[1;33m)\u001b[0m\u001b[1;33m)\u001b[0m \u001b[1;31m# this is where my error is, the size is correct but not the vlaues\u001b[0m\u001b[1;33m\u001b[0m\u001b[1;33m\u001b[0m\u001b[0m\n\u001b[0m\u001b[0;32m     32\u001b[0m \u001b[1;31m#                     print(f\"-->n:{n},{func_PCE_MultiIndex(newindex+j-index_p,d-1)}\")\u001b[0m\u001b[1;33m\u001b[0m\u001b[1;33m\u001b[0m\u001b[1;33m\u001b[0m\u001b[0m\n\u001b[0;32m     33\u001b[0m                     \u001b[0mn\u001b[0m\u001b[1;33m[\u001b[0m\u001b[1;36m1\u001b[0m\u001b[1;33m:\u001b[0m\u001b[1;33m]\u001b[0m \u001b[1;33m=\u001b[0m \u001b[0mfunc_PCE_MultiIndex\u001b[0m\u001b[1;33m(\u001b[0m\u001b[0mnewindex\u001b[0m\u001b[1;33m+\u001b[0m\u001b[0mj\u001b[0m\u001b[1;33m-\u001b[0m\u001b[0mindex_p\u001b[0m\u001b[1;33m,\u001b[0m\u001b[0md\u001b[0m\u001b[1;33m-\u001b[0m\u001b[1;36m1\u001b[0m\u001b[1;33m)\u001b[0m\u001b[1;33m\u001b[0m\u001b[1;33m\u001b[0m\u001b[0m\n",
      "\u001b[1;32m<ipython-input-13-fb1c57fb7e03>\u001b[0m in \u001b[0;36mfunc_PCE_MultiIndex\u001b[1;34m(j, d)\u001b[0m\n\u001b[0;32m     29\u001b[0m                 \u001b[1;32mfor\u001b[0m \u001b[0mm2\u001b[0m \u001b[1;32min\u001b[0m \u001b[0mrange\u001b[0m\u001b[1;33m(\u001b[0m\u001b[1;36m0\u001b[0m\u001b[1;33m,\u001b[0m\u001b[0mm1\u001b[0m\u001b[1;33m-\u001b[0m\u001b[1;36m1\u001b[0m\u001b[1;33m+\u001b[0m\u001b[1;36m1\u001b[0m\u001b[1;33m)\u001b[0m\u001b[1;33m:\u001b[0m\u001b[1;33m\u001b[0m\u001b[1;33m\u001b[0m\u001b[0m\n\u001b[0;32m     30\u001b[0m                     \u001b[0mnewindex\u001b[0m \u001b[1;33m+=\u001b[0m \u001b[1;33m(\u001b[0m\u001b[0mnp\u001b[0m\u001b[1;33m.\u001b[0m\u001b[0mmath\u001b[0m\u001b[1;33m.\u001b[0m\u001b[0mfactorial\u001b[0m\u001b[1;33m(\u001b[0m\u001b[0mm2\u001b[0m\u001b[1;33m+\u001b[0m\u001b[0md\u001b[0m\u001b[1;33m-\u001b[0m\u001b[1;36m2\u001b[0m\u001b[1;33m)\u001b[0m \u001b[1;33m/\u001b[0m \u001b[0mnp\u001b[0m\u001b[1;33m.\u001b[0m\u001b[0mmath\u001b[0m\u001b[1;33m.\u001b[0m\u001b[0mfactorial\u001b[0m\u001b[1;33m(\u001b[0m\u001b[0mm2\u001b[0m\u001b[1;33m)\u001b[0m \u001b[1;33m/\u001b[0m \u001b[0mnp\u001b[0m\u001b[1;33m.\u001b[0m\u001b[0mmath\u001b[0m\u001b[1;33m.\u001b[0m\u001b[0mfactorial\u001b[0m\u001b[1;33m(\u001b[0m\u001b[0md\u001b[0m\u001b[1;33m-\u001b[0m\u001b[1;36m2\u001b[0m\u001b[1;33m)\u001b[0m\u001b[1;33m)\u001b[0m\u001b[1;33m\u001b[0m\u001b[1;33m\u001b[0m\u001b[0m\n\u001b[1;32m---> 31\u001b[1;33m                     \u001b[0mprint\u001b[0m\u001b[1;33m(\u001b[0m\u001b[0mfunc_PCE_MultiIndex\u001b[0m\u001b[1;33m(\u001b[0m\u001b[0mnewindex\u001b[0m\u001b[1;33m+\u001b[0m\u001b[0mj\u001b[0m\u001b[1;33m-\u001b[0m\u001b[0mindex_p\u001b[0m\u001b[1;33m,\u001b[0m\u001b[0md\u001b[0m\u001b[1;33m-\u001b[0m\u001b[1;36m1\u001b[0m\u001b[1;33m)\u001b[0m\u001b[1;33m)\u001b[0m \u001b[1;31m# this is where my error is, the size is correct but not the vlaues\u001b[0m\u001b[1;33m\u001b[0m\u001b[1;33m\u001b[0m\u001b[0m\n\u001b[0m\u001b[0;32m     32\u001b[0m \u001b[1;31m#                     print(f\"-->n:{n},{func_PCE_MultiIndex(newindex+j-index_p,d-1)}\")\u001b[0m\u001b[1;33m\u001b[0m\u001b[1;33m\u001b[0m\u001b[1;33m\u001b[0m\u001b[0m\n\u001b[0;32m     33\u001b[0m                     \u001b[0mn\u001b[0m\u001b[1;33m[\u001b[0m\u001b[1;36m1\u001b[0m\u001b[1;33m:\u001b[0m\u001b[1;33m]\u001b[0m \u001b[1;33m=\u001b[0m \u001b[0mfunc_PCE_MultiIndex\u001b[0m\u001b[1;33m(\u001b[0m\u001b[0mnewindex\u001b[0m\u001b[1;33m+\u001b[0m\u001b[0mj\u001b[0m\u001b[1;33m-\u001b[0m\u001b[0mindex_p\u001b[0m\u001b[1;33m,\u001b[0m\u001b[0md\u001b[0m\u001b[1;33m-\u001b[0m\u001b[1;36m1\u001b[0m\u001b[1;33m)\u001b[0m\u001b[1;33m\u001b[0m\u001b[1;33m\u001b[0m\u001b[0m\n",
      "\u001b[1;32m<ipython-input-13-fb1c57fb7e03>\u001b[0m in \u001b[0;36mfunc_PCE_MultiIndex\u001b[1;34m(j, d)\u001b[0m\n\u001b[0;32m     31\u001b[0m                     \u001b[0mprint\u001b[0m\u001b[1;33m(\u001b[0m\u001b[0mfunc_PCE_MultiIndex\u001b[0m\u001b[1;33m(\u001b[0m\u001b[0mnewindex\u001b[0m\u001b[1;33m+\u001b[0m\u001b[0mj\u001b[0m\u001b[1;33m-\u001b[0m\u001b[0mindex_p\u001b[0m\u001b[1;33m,\u001b[0m\u001b[0md\u001b[0m\u001b[1;33m-\u001b[0m\u001b[1;36m1\u001b[0m\u001b[1;33m)\u001b[0m\u001b[1;33m)\u001b[0m \u001b[1;31m# this is where my error is, the size is correct but not the vlaues\u001b[0m\u001b[1;33m\u001b[0m\u001b[1;33m\u001b[0m\u001b[0m\n\u001b[0;32m     32\u001b[0m \u001b[1;31m#                     print(f\"-->n:{n},{func_PCE_MultiIndex(newindex+j-index_p,d-1)}\")\u001b[0m\u001b[1;33m\u001b[0m\u001b[1;33m\u001b[0m\u001b[1;33m\u001b[0m\u001b[0m\n\u001b[1;32m---> 33\u001b[1;33m                     \u001b[0mn\u001b[0m\u001b[1;33m[\u001b[0m\u001b[1;36m1\u001b[0m\u001b[1;33m:\u001b[0m\u001b[1;33m]\u001b[0m \u001b[1;33m=\u001b[0m \u001b[0mfunc_PCE_MultiIndex\u001b[0m\u001b[1;33m(\u001b[0m\u001b[0mnewindex\u001b[0m\u001b[1;33m+\u001b[0m\u001b[0mj\u001b[0m\u001b[1;33m-\u001b[0m\u001b[0mindex_p\u001b[0m\u001b[1;33m,\u001b[0m\u001b[0md\u001b[0m\u001b[1;33m-\u001b[0m\u001b[1;36m1\u001b[0m\u001b[1;33m)\u001b[0m\u001b[1;33m\u001b[0m\u001b[1;33m\u001b[0m\u001b[0m\n\u001b[0m\u001b[0;32m     34\u001b[0m                     \u001b[0mprint\u001b[0m\u001b[1;33m(\u001b[0m\u001b[0mn\u001b[0m\u001b[1;33m)\u001b[0m\u001b[1;33m\u001b[0m\u001b[1;33m\u001b[0m\u001b[0m\n\u001b[0;32m     35\u001b[0m         \u001b[1;32melse\u001b[0m\u001b[1;33m:\u001b[0m\u001b[1;33m\u001b[0m\u001b[1;33m\u001b[0m\u001b[0m\n",
      "\u001b[1;31mValueError\u001b[0m: could not broadcast input array from shape (1,2) into shape (0,3)"
     ]
    }
   ],
   "source": [
    "func_PCE_MultiIndex(4,7) # not there yet"
   ]
  },
  {
   "cell_type": "code",
   "execution_count": 24,
   "metadata": {},
   "outputs": [
    {
     "ename": "SyntaxError",
     "evalue": "invalid syntax (<ipython-input-24-a9d08633abc4>, line 2)",
     "output_type": "error",
     "traceback": [
      "\u001b[1;36m  File \u001b[1;32m\"<ipython-input-24-a9d08633abc4>\"\u001b[1;36m, line \u001b[1;32m2\u001b[0m\n\u001b[1;33m    a = np.\u001b[0m\n\u001b[1;37m           ^\u001b[0m\n\u001b[1;31mSyntaxError\u001b[0m\u001b[1;31m:\u001b[0m invalid syntax\n"
     ]
    }
   ],
   "source": [
    "def poly_multiindex(p,d):\n",
    "    a = np.\n",
    "    \n",
    "    return 0"
   ]
  },
  {
   "cell_type": "code",
   "execution_count": 25,
   "metadata": {},
   "outputs": [],
   "source": [
    "p = 3\n",
    "d = 2\n",
    "a0 = np.zeros((1,p))\n",
    "a1 = np.identity(p)\n",
    "a = np.concatenate((a0,a1))\n",
    "P = p + 1\n",
    "pmat = np.zeros((100,100)) # just an absurdly largenumber under I figure this out\n",
    "pmat_col1 = np.ones((p,1))\n",
    "pmat[0:p,0] = 1\n",
    "for k in range(1,d):\n",
    "    L = P\n",
    "    for i in range(0,p):\n",
    "        pmat[i,k] = np.sum(pmat[i:p,k-1]) # good, just too big,  need to figure out the optimum size\n",
    "    for j in range(0,p):\n",
    "        for m in range(L-int(pmat[j,k])+1,L):\n",
    "            P = P = 1\n",
    "            a[P,0:p] = a[m,0:p]\n",
    "            a[P,j] = a[P,j] + 1"
   ]
  },
  {
   "cell_type": "code",
   "execution_count": 26,
   "metadata": {},
   "outputs": [
    {
     "data": {
      "text/plain": [
       "array([[1., 3., 0., ..., 0., 0., 0.],\n",
       "       [1., 2., 0., ..., 0., 0., 0.],\n",
       "       [1., 1., 0., ..., 0., 0., 0.],\n",
       "       ...,\n",
       "       [0., 0., 0., ..., 0., 0., 0.],\n",
       "       [0., 0., 0., ..., 0., 0., 0.],\n",
       "       [0., 0., 0., ..., 0., 0., 0.]])"
      ]
     },
     "execution_count": 26,
     "metadata": {},
     "output_type": "execute_result"
    }
   ],
   "source": [
    "pmat"
   ]
  },
  {
   "cell_type": "markdown",
   "metadata": {},
   "source": [
    "## Task Two"
   ]
  },
  {
   "cell_type": "markdown",
   "metadata": {},
   "source": [
    "Multi-dimensional polynomial bases are just the product of one-dimensional polynomials.  Based on your one-dimensional polynomial code, **evaluate_1D_polynomial**, write a code that evaluates the $i$-th $d$-dimensional Hermite or Legendre polynomial, denoted by $\\Psi_i(x)$, at a given numerical vector sample $x={x_i}_{i=1}^d$.  The function will be called as follows\n",
    "\n",
    "**polynomial_value = evaluate_multiD_polynomial(x,d,i,polynomial_type)**\n",
    "\n",
    "Using this function, generate the (surface) plots of 2D Hermite and Legendre polynomials with $i={0,1,2,3}$.  For Hermite polynomials, set the plotting range of $x_1$ and $x_2$ to be $[-3,3]$."
   ]
  },
  {
   "cell_type": "markdown",
   "metadata": {},
   "source": [
    "### Note\n",
    "\n",
    "For the relationship between a multi-dimensional index, $i$, and its corresponding combination of one-dimensional degrees, e.g. (2,1,0,1), you could use the convention shown on Slide 6 of March 31 Lecture.  "
   ]
  },
  {
   "cell_type": "code",
   "execution_count": null,
   "metadata": {},
   "outputs": [],
   "source": []
  },
  {
   "cell_type": "markdown",
   "metadata": {},
   "source": [
    "## Task Three"
   ]
  },
  {
   "cell_type": "markdown",
   "metadata": {},
   "source": [
    "In this code verification task, verify your codes by testing whether it can separately recover the following two target functions (intentionally chosen to be polynomial):\n",
    "\n",
    "$$f(x_1,...,x_2)=6+2x_1^2+0.2x_1^3+2.3x_1x_2-1.5x_2^2-0.8x_3$$\n",
    "\n",
    "$$g(y_1,y_2)=-15+0.05y_2^2+3.2y_1y_2+0.3y_2^2$$"
   ]
  },
  {
   "cell_type": "markdown",
   "metadata": {},
   "source": [
    "Consider all the 3 $x$ variables to be standard normal and the 2 $y$ variables to be uniform random variables in $[0,1]$, use the corresponding orthogonal polynomials.  To do the verification, use multidimensional quadrature using tensor product.  For 1D quadrature rules, use Gauss-Hermite quadrature points for normal random variables and Gauss-Legendre quadrature points for uniform random variables.  These quadrature points and their weights can be easily found on the Internet.  You should choose the number of quadrature points and explain your choices."
   ]
  },
  {
   "cell_type": "markdown",
   "metadata": {},
   "source": [
    "### Try chaospy"
   ]
  },
  {
   "cell_type": "code",
   "execution_count": 29,
   "metadata": {},
   "outputs": [],
   "source": [
    "distribution_x = cp.J(cp.Normal(),cp.Normal(),cp.Normal())\n",
    "distribution_y = cp.J(cp.Uniform(0,1),cp.Uniform(0,1))"
   ]
  },
  {
   "cell_type": "code",
   "execution_count": 30,
   "metadata": {},
   "outputs": [],
   "source": [
    "abscissas,weights = cp.generate_quadrature(3,distribution_x,sparse=False)"
   ]
  },
  {
   "cell_type": "code",
   "execution_count": 31,
   "metadata": {},
   "outputs": [],
   "source": [
    "# https://chaospy.readthedocs.io/en/master/tutorial.html\n",
    "def foo(coord,param):\n",
    "    return 6 + 2 * np.power(param[0],2) + 0.2 * np.power(param[0],3) + 2.3 * param[0] * param[1] - 1.5 * np.power(param[1],2) - 0.8 * param[2]"
   ]
  },
  {
   "cell_type": "code",
   "execution_count": 32,
   "metadata": {},
   "outputs": [],
   "source": [
    "x1 = np.linspace(-3,3,10)\n",
    "x2 = np.linspace(-3,3,10)\n",
    "x3 = np.linspace(-3,3,10)"
   ]
  },
  {
   "cell_type": "code",
   "execution_count": 33,
   "metadata": {},
   "outputs": [],
   "source": [
    "coord = np.meshgrid(x1,x2,x3)"
   ]
  },
  {
   "cell_type": "code",
   "execution_count": 34,
   "metadata": {},
   "outputs": [],
   "source": [
    "samples = distribution_x.sample(50)"
   ]
  },
  {
   "cell_type": "code",
   "execution_count": 35,
   "metadata": {},
   "outputs": [],
   "source": [
    "evals = [foo(coord,sample) for sample in samples.T]"
   ]
  },
  {
   "cell_type": "code",
   "execution_count": 36,
   "metadata": {},
   "outputs": [
    {
     "data": {
      "text/plain": [
       "[<matplotlib.lines.Line2D at 0x1931a66dc88>]"
      ]
     },
     "execution_count": 36,
     "metadata": {},
     "output_type": "execute_result"
    },
    {
     "data": {
      "image/png": "[encoded data removed]",
      "text/plain": [
       "<Figure size 432x288 with 1 Axes>"
      ]
     },
     "metadata": {
      "needs_background": "light"
     },
     "output_type": "display_data"
    }
   ],
   "source": [
    "plt.plot(evals)"
   ]
  },
  {
   "cell_type": "code",
   "execution_count": 41,
   "metadata": {},
   "outputs": [],
   "source": [
    "x2_fixed = [0] * 100\n",
    "x3_fixed = [0] * 100"
   ]
  },
  {
   "cell_type": "code",
   "execution_count": 42,
   "metadata": {},
   "outputs": [],
   "source": [
    "evals_fixed = []\n",
    "for i,x_1 in enumerate(x1):\n",
    "    x_2 = x2_fixed[i]\n",
    "    x_3 = x3_fixed[i]\n",
    "    evals_fixed.append(foo(0,(x_1,x_2,x_3)))"
   ]
  },
  {
   "cell_type": "code",
   "execution_count": 68,
   "metadata": {},
   "outputs": [],
   "source": [
    "def plotFixed(x1,x2,x3,variable=\"x1\"):\n",
    "    workingVariable = x1\n",
    "    fixedVariable1 = x2\n",
    "    fixedVariable2 = x3\n",
    "    if variable == \"x2\":\n",
    "        workingVariable = x2\n",
    "        fixedVariable1 = x1\n",
    "        fixedVariable2 = x3\n",
    "    if variable == \"x3\":\n",
    "        workingVariable = x3\n",
    "        fixedVariable1 = x1\n",
    "        fixedVariable2 = x2\n",
    "    evals_fixed = []\n",
    "    for i,x_1 in enumerate(workingVariable):\n",
    "        x_2 = fixedVariable1[i]\n",
    "        x_3 = fixedVariable2[i]\n",
    "        evals_fixed.append(foo(1,(x_1,x_2,x_3)))\n",
    "    fig,ax = plt.subplots()\n",
    "    ax.plot(evals_fixed)\n",
    "    ax.set_title(f\"Plotting with all fixed except {variable}\")"
   ]
  },
  {
   "cell_type": "code",
   "execution_count": 69,
   "metadata": {},
   "outputs": [
    {
     "data": {
      "image/png": "[encoded data removed]",
      "text/plain": [
       "<Figure size 432x288 with 1 Axes>"
      ]
     },
     "metadata": {
      "needs_background": "light"
     },
     "output_type": "display_data"
    }
   ],
   "source": [
    "plotFixed(x1,x2,x3)"
   ]
  },
  {
   "cell_type": "code",
   "execution_count": 70,
   "metadata": {},
   "outputs": [
    {
     "data": {
      "image/png": "[encoded data removed]",
      "text/plain": [
       "<Figure size 432x288 with 1 Axes>"
      ]
     },
     "metadata": {
      "needs_background": "light"
     },
     "output_type": "display_data"
    }
   ],
   "source": [
    "plotFixed(x1,x2,x3,variable=\"x2\")"
   ]
  },
  {
   "cell_type": "code",
   "execution_count": 71,
   "metadata": {},
   "outputs": [
    {
     "data": {
      "image/png": "[encoded data removed]",
      "text/plain": [
       "<Figure size 432x288 with 1 Axes>"
      ]
     },
     "metadata": {
      "needs_background": "light"
     },
     "output_type": "display_data"
    }
   ],
   "source": [
    "plotFixed(x1,x2,x3,variable=\"x3\")"
   ]
  },
  {
   "cell_type": "code",
   "execution_count": 48,
   "metadata": {},
   "outputs": [
    {
     "data": {
      "text/plain": [
       "Text(0.5, 1.0, 'x2 and x3 fixed at zero')"
      ]
     },
     "execution_count": 48,
     "metadata": {},
     "output_type": "execute_result"
    },
    {
     "data": {
      "image/png": "[encoded data removed]",
      "text/plain": [
       "<Figure size 432x288 with 1 Axes>"
      ]
     },
     "metadata": {
      "needs_background": "light"
     },
     "output_type": "display_data"
    }
   ],
   "source": [
    "fig,ax = plt.subplots()\n",
    "ax.plot(evals_fixed)\n",
    "ax.set_title(\"x2 and x3 fixed at zero\")"
   ]
  },
  {
   "cell_type": "code",
   "execution_count": 37,
   "metadata": {},
   "outputs": [],
   "source": [
    "# https://chaospy.readthedocs.io/en/master/quadrature.html#gauss-legendre\n"
   ]
  },
  {
   "cell_type": "markdown",
   "metadata": {},
   "source": [
    "### Approach from 16 April 2020 Lecture"
   ]
  },
  {
   "cell_type": "markdown",
   "metadata": {},
   "source": [
    "$$u_i = \\sum_{q=1}^{N_q} f(\\bar{x}^q)\\psi_i(\\bar{x}^q)w^q$$"
   ]
  },
  {
   "cell_type": "code",
   "execution_count": 57,
   "metadata": {},
   "outputs": [
    {
     "name": "stdout",
     "output_type": "stream",
     "text": [
      "2 [[-5.809 -5.809 -5.809 -5.809 -5.809 -5.809 -5.809 -5.809 -5.809 -0.\n",
      "  -0.    -0.    -0.    -0.    -0.    -0.    -0.    -0.     5.809  5.809\n",
      "   5.809  5.809  5.809  5.809  5.809  5.809  5.809]\n",
      " [-5.809 -5.809 -5.809 -0.    -0.    -0.     5.809  5.809  5.809 -5.809\n",
      "  -5.809 -5.809 -0.    -0.    -0.     5.809  5.809  5.809 -5.809 -5.809\n",
      "  -5.809 -0.    -0.    -0.     5.809  5.809  5.809]\n",
      " [-5.809 -0.     5.809 -5.809 -0.     5.809 -5.809 -0.     5.809 -5.809\n",
      "  -0.     5.809 -5.809 -0.     5.809 -5.809 -0.     5.809 -5.809 -0.\n",
      "   5.809 -5.809 -0.     5.809 -5.809 -0.     5.809]] [0. 0. 0. 0. 0. 0. 0. 0. 0. 0. 0. 0. 0. 1. 0. 0. 0. 0. 0. 0. 0. 0. 0. 0.\n",
      " 0. 0. 0.]\n"
     ]
    }
   ],
   "source": [
    "for order in [2]:\n",
    "    abscissas, weights = cp.generate_quadrature(\n",
    "        order, distribution_x, rule=\"gauss_legendre\")\n",
    "    print(order, abscissas.round(3), weights.round(3))"
   ]
  },
  {
   "cell_type": "code",
   "execution_count": 58,
   "metadata": {},
   "outputs": [
    {
     "data": {
      "text/plain": [
       "array([[-5.80947502e+00, -5.80947502e+00, -5.80947502e+00,\n",
       "        -5.80947502e+00, -5.80947502e+00, -5.80947502e+00,\n",
       "        -5.80947502e+00, -5.80947502e+00, -5.80947502e+00,\n",
       "        -2.66453526e-15, -2.66453526e-15, -2.66453526e-15,\n",
       "        -2.66453526e-15, -2.66453526e-15, -2.66453526e-15,\n",
       "        -2.66453526e-15, -2.66453526e-15, -2.66453526e-15,\n",
       "         5.80947502e+00,  5.80947502e+00,  5.80947502e+00,\n",
       "         5.80947502e+00,  5.80947502e+00,  5.80947502e+00,\n",
       "         5.80947502e+00,  5.80947502e+00,  5.80947502e+00],\n",
       "       [-5.80947502e+00, -5.80947502e+00, -5.80947502e+00,\n",
       "        -2.66453526e-15, -2.66453526e-15, -2.66453526e-15,\n",
       "         5.80947502e+00,  5.80947502e+00,  5.80947502e+00,\n",
       "        -5.80947502e+00, -5.80947502e+00, -5.80947502e+00,\n",
       "        -2.66453526e-15, -2.66453526e-15, -2.66453526e-15,\n",
       "         5.80947502e+00,  5.80947502e+00,  5.80947502e+00,\n",
       "        -5.80947502e+00, -5.80947502e+00, -5.80947502e+00,\n",
       "        -2.66453526e-15, -2.66453526e-15, -2.66453526e-15,\n",
       "         5.80947502e+00,  5.80947502e+00,  5.80947502e+00],\n",
       "       [-5.80947502e+00, -2.66453526e-15,  5.80947502e+00,\n",
       "        -5.80947502e+00, -2.66453526e-15,  5.80947502e+00,\n",
       "        -5.80947502e+00, -2.66453526e-15,  5.80947502e+00,\n",
       "        -5.80947502e+00, -2.66453526e-15,  5.80947502e+00,\n",
       "        -5.80947502e+00, -2.66453526e-15,  5.80947502e+00,\n",
       "        -5.80947502e+00, -2.66453526e-15,  5.80947502e+00,\n",
       "        -5.80947502e+00, -2.66453526e-15,  5.80947502e+00,\n",
       "        -5.80947502e+00, -2.66453526e-15,  5.80947502e+00,\n",
       "        -5.80947502e+00, -2.66453526e-15,  5.80947502e+00]])"
      ]
     },
     "execution_count": 58,
     "metadata": {},
     "output_type": "execute_result"
    }
   ],
   "source": [
    "abscissas"
   ]
  },
  {
   "cell_type": "code",
   "execution_count": 74,
   "metadata": {},
   "outputs": [
    {
     "data": {
      "text/plain": [
       "array([2.52047172e-23, 8.59649063e-16, 2.52047172e-23, 8.59649063e-16,\n",
       "       2.93197700e-08, 8.59649063e-16, 2.52047172e-23, 8.59649063e-16,\n",
       "       2.52047172e-23, 8.59649063e-16, 2.93197700e-08, 8.59649063e-16,\n",
       "       2.93197700e-08, 9.99999824e-01, 2.93197700e-08, 8.59649063e-16,\n",
       "       2.93197700e-08, 8.59649063e-16, 2.52047172e-23, 8.59649063e-16,\n",
       "       2.52047172e-23, 8.59649063e-16, 2.93197700e-08, 8.59649063e-16,\n",
       "       2.52047172e-23, 8.59649063e-16, 2.52047172e-23])"
      ]
     },
     "execution_count": 74,
     "metadata": {},
     "output_type": "execute_result"
    }
   ],
   "source": [
    "weights"
   ]
  },
  {
   "cell_type": "code",
   "execution_count": 59,
   "metadata": {},
   "outputs": [],
   "source": [
    "evals2 = [foo(coord,sample) for sample in abscissas.T]"
   ]
  },
  {
   "cell_type": "code",
   "execution_count": 60,
   "metadata": {},
   "outputs": [
    {
     "data": {
      "text/plain": [
       "[<matplotlib.lines.Line2D at 0x1931b9a7dc8>]"
      ]
     },
     "execution_count": 60,
     "metadata": {},
     "output_type": "execute_result"
    },
    {
     "data": {
      "image/png": "[encoded data removed]",
      "text/plain": [
       "<Figure size 432x288 with 1 Axes>"
      ]
     },
     "metadata": {
      "needs_background": "light"
     },
     "output_type": "display_data"
    }
   ],
   "source": [
    "plt.plot(evals2)"
   ]
  },
  {
   "cell_type": "markdown",
   "metadata": {},
   "source": [
    "# Office Hours Notes"
   ]
  },
  {
   "cell_type": "markdown",
   "metadata": {},
   "source": [
    "Try to solve for multiple one dimensional problems and see how they look"
   ]
  },
  {
   "cell_type": "code",
   "execution_count": 61,
   "metadata": {},
   "outputs": [],
   "source": [
    "# https://en.wikipedia.org/wiki/Gaussian_quadrature"
   ]
  },
  {
   "cell_type": "code",
   "execution_count": 72,
   "metadata": {},
   "outputs": [],
   "source": [
    "orthogonal_expansion = cp.orth_ttr(2, distribution_x)"
   ]
  },
  {
   "cell_type": "code",
   "execution_count": 73,
   "metadata": {},
   "outputs": [
    {
     "data": {
      "text/plain": [
       "polynomial([1.0, q2, q1, q0, -1.0+q2**2, q1*q2, -1.0+q1**2, q0*q2, q0*q1,\n",
       "            -1.0+q0**2])"
      ]
     },
     "execution_count": 73,
     "metadata": {},
     "output_type": "execute_result"
    }
   ],
   "source": [
    "orthogonal_expansion"
   ]
  },
  {
   "cell_type": "code",
   "execution_count": 95,
   "metadata": {},
   "outputs": [],
   "source": [
    "samples = distribution_x.sample(20*len(orthogonal_expansion), rule=\"hammersley\")"
   ]
  },
  {
   "cell_type": "code",
   "execution_count": 97,
   "metadata": {},
   "outputs": [],
   "source": [
    "solves = np.array([foo(0,sample) for sample in samples.T])"
   ]
  },
  {
   "cell_type": "code",
   "execution_count": 98,
   "metadata": {},
   "outputs": [
    {
     "data": {
      "text/plain": [
       "[<matplotlib.lines.Line2D at 0x1931eb59f08>]"
      ]
     },
     "execution_count": 98,
     "metadata": {},
     "output_type": "execute_result"
    },
    {
     "data": {
      "image/png": "[encoded data removed]",
      "text/plain": [
       "<Figure size 432x288 with 1 Axes>"
      ]
     },
     "metadata": {
      "needs_background": "light"
     },
     "output_type": "display_data"
    }
   ],
   "source": [
    "plt.plot(solves)"
   ]
  },
  {
   "cell_type": "code",
   "execution_count": 99,
   "metadata": {},
   "outputs": [],
   "source": [
    "approx_model = cp.fit_regression(orthogonal_expansion, samples, solves)"
   ]
  },
  {
   "cell_type": "code",
   "execution_count": 100,
   "metadata": {},
   "outputs": [],
   "source": [
    "a = approx_model.round(2)"
   ]
  },
  {
   "cell_type": "code",
   "execution_count": 106,
   "metadata": {},
   "outputs": [],
   "source": [
    "str_version = str(approx_model)"
   ]
  },
  {
   "cell_type": "code",
   "execution_count": 107,
   "metadata": {},
   "outputs": [
    {
     "data": {
      "text/plain": [
       "'6.041584103583703-0.795298462064194*q2-0.003854002829316737*q2**2-0.011761456270214049*q1+0.028708990455797296*q1*q2-1.5056517819063582*q1**2+0.5219102048424542*q0+0.04023202682859393*q0*q2+2.297695443122243*q0*q1+1.9498166383269033*q0**2'"
      ]
     },
     "execution_count": 107,
     "metadata": {},
     "output_type": "execute_result"
    }
   ],
   "source": [
    "str_version"
   ]
  },
  {
   "cell_type": "code",
   "execution_count": 112,
   "metadata": {},
   "outputs": [],
   "source": [
    "str_version_parts = str_version.replace('-','|-').replace('+','|').split('|')"
   ]
  },
  {
   "cell_type": "code",
   "execution_count": 113,
   "metadata": {},
   "outputs": [
    {
     "data": {
      "text/plain": [
       "['6.041584103583703',\n",
       " '-0.795298462064194*q2',\n",
       " '-0.003854002829316737*q2**2',\n",
       " '-0.011761456270214049*q1',\n",
       " '0.028708990455797296*q1*q2',\n",
       " '-1.5056517819063582*q1**2',\n",
       " '0.5219102048424542*q0',\n",
       " '0.04023202682859393*q0*q2',\n",
       " '2.297695443122243*q0*q1',\n",
       " '1.9498166383269033*q0**2']"
      ]
     },
     "execution_count": 113,
     "metadata": {},
     "output_type": "execute_result"
    }
   ],
   "source": [
    "str_version_parts"
   ]
  },
  {
   "cell_type": "code",
   "execution_count": 115,
   "metadata": {},
   "outputs": [
    {
     "name": "stdout",
     "output_type": "stream",
     "text": [
      "0.5219102048424542*q0\n",
      "0.04023202682859393*q0*q2\n",
      "2.297695443122243*q0*q1\n",
      "1.9498166383269033*q0**2\n"
     ]
    }
   ],
   "source": [
    "for part in str_version_parts:\n",
    "    if 'q0' in part:\n",
    "        print(part)"
   ]
  },
  {
   "cell_type": "code",
   "execution_count": 111,
   "metadata": {},
   "outputs": [],
   "source": [
    "def convertModelToEquation(approx_model):\n",
    "    str_version = str(approx_model)\n",
    "    str_version_parts = str_version.replace('-','|-').replace('+','|+').split('|')"
   ]
  },
  {
   "cell_type": "code",
   "execution_count": 102,
   "metadata": {},
   "outputs": [],
   "source": [
    "# Per office hours, treating as least squares and comparing"
   ]
  },
  {
   "cell_type": "code",
   "execution_count": 103,
   "metadata": {},
   "outputs": [
    {
     "ename": "SyntaxError",
     "evalue": "invalid syntax (<ipython-input-103-f41ae6d6cc38>, line 1)",
     "output_type": "error",
     "traceback": [
      "\u001b[1;36m  File \u001b[1;32m\"<ipython-input-103-f41ae6d6cc38>\"\u001b[1;36m, line \u001b[1;32m1\u001b[0m\n\u001b[1;33m    cp.distributions.sampler.generator.generate_samples.\u001b[0m\n\u001b[1;37m                                                        ^\u001b[0m\n\u001b[1;31mSyntaxError\u001b[0m\u001b[1;31m:\u001b[0m invalid syntax\n"
     ]
    }
   ],
   "source": [
    "cp.distributions.sampler.generator.generate_samples."
   ]
  },
  {
   "cell_type": "markdown",
   "metadata": {},
   "source": [
    "In this code verification task, verify your codes by testing whether it can separately recover the following two target functions (intentionally chosen to be polynomial):\n",
    "\n",
    "$$f(x_1,...,x_2)=6+2x_1^2+0.2x_1^3+2.3x_1x_2-1.5x_2^2-0.8x_3$$\n",
    "\n",
    "$$g(y_1,y_2)=-15+0.05y_2^2+3.2y_1y_2+0.3y_2^2$$"
   ]
  }
 ],
 "metadata": {
  "kernelspec": {
   "display_name": "Python 3",
   "language": "python",
   "name": "python3"
  },
  "language_info": {
   "codemirror_mode": {
    "name": "ipython",
    "version": 3
   },
   "file_extension": ".py",
   "mimetype": "text/x-python",
   "name": "python",
   "nbconvert_exporter": "python",
   "pygments_lexer": "ipython3",
   "version": "3.7.6"
  }
 },
 "nbformat": 4,
 "nbformat_minor": 4
}
