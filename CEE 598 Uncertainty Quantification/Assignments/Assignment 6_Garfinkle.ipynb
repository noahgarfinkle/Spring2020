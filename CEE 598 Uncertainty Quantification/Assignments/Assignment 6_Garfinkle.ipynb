{
 "cells": [
  {
   "cell_type": "markdown",
   "metadata": {},
   "source": [
    "# CEE 598: Uncertainty Quantification\n",
    "## Assignment Six\n",
    "### Noah Garfinkle (garfink2@illinois edu)\n",
    "### 03 May 2020"
   ]
  },
  {
   "cell_type": "markdown",
   "metadata": {},
   "source": [
    "## Imports and Set Up"
   ]
  },
  {
   "cell_type": "code",
   "execution_count": 1,
   "metadata": {},
   "outputs": [],
   "source": [
    "import numpy as np\n",
    "import scipy as sp\n",
    "import matplotlib.pyplot as plt\n",
    "import seaborn as sns\n",
    "import pytest\n",
    "import chaospy as cp\n",
    "import pandas as pd\n",
    "from scipy.integrate import odeint"
   ]
  },
  {
   "cell_type": "markdown",
   "metadata": {},
   "source": [
    "## References"
   ]
  },
  {
   "cell_type": "code",
   "execution_count": 2,
   "metadata": {},
   "outputs": [],
   "source": [
    "# https://chaospy.readthedocs.io/en/master/tutorial.html\n",
    "# https://chaospy.readthedocs.io/en/master/_modules/chaospy/quadrature/clenshaw_curtis.html\n",
    "# https://chaospy.readthedocs.io/en/master/quadrature.html#module-chaospy.quadrature.clenshaw_curtis\n",
    "# https://chaospy.readthedocs.io/en/master/quadrature.html#module-chaospy.quadrature.sparse_grid\n",
    "# https://chaospy.readthedocs.io/en/master/recipes/galerkin.html"
   ]
  },
  {
   "cell_type": "markdown",
   "metadata": {},
   "source": [
    "## General Approach"
   ]
  },
  {
   "cell_type": "markdown",
   "metadata": {},
   "source": [
    "Building off of assignment five, I have opted to again utilize the third path of confirming an existing library.  As with Assignment Five, I have opted to utilize Chaospy for Python.\n",
    "\n",
    "In order to evaluate the integral, I have opted to utilize an approach similar to Monte Carlo approximations of the integral, represented by\n",
    "\n",
    "$$\\int{f(X)} \\approx \\sum_{n=1}^{N}W_nf(X_n)$$\n",
    "\n",
    "Where $N$ is the number of samples, $X_n$ is each individual sample, $f(X_n)$ is the evaluation of the target function at the sample coordinates, and $W_n$ is the weight of the sample as defined by the rule utilized."
   ]
  },
  {
   "cell_type": "markdown",
   "metadata": {},
   "source": [
    "## Problem 1.\n",
    "Consider the following target function\n",
    "\n",
    "$$f(x)=f(x_1,x_2,...,x_5)=\\prod_{i=1}^5sin(ix_i)$$\n",
    "\n",
    "where $x_i \\in [0,1],\\forall_i$.  We would like to approximate $\\int_{[0,1]^5}f(x)dx$ using quadrature.  Compare the following multidimensional quadrature rules:"
   ]
  },
  {
   "cell_type": "markdown",
   "metadata": {},
   "source": [
    "I have assumed that $x_i$ are each uniformally distributed."
   ]
  },
  {
   "cell_type": "code",
   "execution_count": 3,
   "metadata": {},
   "outputs": [],
   "source": [
    "def func(x):\n",
    "    x1,x2,x3,x4,x5 = x\n",
    "    value = np.sin(x1) * np.sin(2*x2) * np.sin(3*x3) * np.sin(4*x4) * np.sin(5*x5)\n",
    "    return value"
   ]
  },
  {
   "cell_type": "code",
   "execution_count": 4,
   "metadata": {},
   "outputs": [],
   "source": [
    "distribution_x = cp.J(cp.Uniform(0,1),cp.Uniform(0,1),cp.Uniform(0,1),cp.Uniform(0,1),cp.Uniform(0,1))"
   ]
  },
  {
   "cell_type": "code",
   "execution_count": 5,
   "metadata": {},
   "outputs": [],
   "source": [
    "def calculateIntegral(order,sampleRule=\"clenshaw_curtis\",sparse=False,growth=False):\n",
    "    abscissas, weights = cp.generate_quadrature(order, distribution_x, rule=sampleRule,sparse=sparse,growth=growth)\n",
    "    samples = abscissas.T\n",
    "    integral = 0.0\n",
    "    for i,sample in enumerate(samples):\n",
    "        weight = weights[i]\n",
    "        integral += weight * func(sample)\n",
    "    return integral"
   ]
  },
  {
   "cell_type": "code",
   "execution_count": 6,
   "metadata": {},
   "outputs": [],
   "source": [
    "def evaluateIntegralAtMultipleLevels(sampleRule=\"clenshaw_curtis\",sparse=False,growth=False,levels=[1,2,3]):\n",
    "    orders = []\n",
    "    integrals = []\n",
    "    rules = []\n",
    "    sparses = []\n",
    "    for order in levels:\n",
    "        orders.append(order)\n",
    "        integrals.append(calculateIntegral(order,sampleRule=sampleRule,sparse=sparse,growth=growth))\n",
    "        rules.append(sampleRule)\n",
    "        sparses.append(sparse)\n",
    "    df = pd.DataFrame({\"Order\":orders,\"Integral\":integrals,\"Rule\":rules,\"Sparse\":sparses})\n",
    "    return df"
   ]
  },
  {
   "cell_type": "markdown",
   "metadata": {},
   "source": [
    "### Problem 1a. Tensor product using Clenshaw-Curtis (CC) points at levels 1,2, and 3."
   ]
  },
  {
   "cell_type": "markdown",
   "metadata": {},
   "source": [
    "Note: Clenshaw-Curtis points and their weights are given on Slide 15 of Lecture 20"
   ]
  },
  {
   "cell_type": "code",
   "execution_count": 7,
   "metadata": {},
   "outputs": [
    {
     "data": {
      "text/plain": [
       "Text(0.5, 1.0, 'Problem 1a. Cleanshaw-Curtis')"
      ]
     },
     "execution_count": 7,
     "metadata": {},
     "output_type": "execute_result"
    },
    {
     "data": {
      "image/png": "[encoded data removed]",
      "text/plain": [
       "<Figure size 720x360 with 1 Axes>"
      ]
     },
     "metadata": {
      "needs_background": "light"
     },
     "output_type": "display_data"
    }
   ],
   "source": [
    "df_1a = evaluateIntegralAtMultipleLevels(levels=[1,2,3,4,5])\n",
    "fig,ax = plt.subplots(figsize=(10,5))\n",
    "sns.barplot(x=\"Order\",y=\"Integral\",data=df_1a,ax=ax)\n",
    "ax.set_title(\"Problem 1a. Cleanshaw-Curtis\")"
   ]
  },
  {
   "cell_type": "markdown",
   "metadata": {},
   "source": [
    "### Problem 1b. Sparse grid using CC points at levels 1, 2, and 3."
   ]
  },
  {
   "cell_type": "code",
   "execution_count": 8,
   "metadata": {},
   "outputs": [
    {
     "name": "stderr",
     "output_type": "stream",
     "text": [
      "C:\\Users\\garfink2\\AppData\\Local\\Continuum\\anaconda3\\envs\\phd\\lib\\site-packages\\numpoly\\poly_function\\monomial\\cross_truncation.py:49: RuntimeWarning: divide by zero encountered in true_divide\n",
      "  out = numpy.sum((indices/bound)**norm, axis=-1)**(1./norm) <= 1\n",
      "C:\\Users\\garfink2\\AppData\\Local\\Continuum\\anaconda3\\envs\\phd\\lib\\site-packages\\numpoly\\poly_function\\monomial\\cross_truncation.py:49: RuntimeWarning: invalid value encountered in true_divide\n",
      "  out = numpy.sum((indices/bound)**norm, axis=-1)**(1./norm) <= 1\n",
      "C:\\Users\\garfink2\\AppData\\Local\\Continuum\\anaconda3\\envs\\phd\\lib\\site-packages\\numpoly\\poly_function\\monomial\\cross_truncation.py:49: RuntimeWarning: invalid value encountered in less_equal\n",
      "  out = numpy.sum((indices/bound)**norm, axis=-1)**(1./norm) <= 1\n"
     ]
    },
    {
     "data": {
      "text/plain": [
       "Text(0.5, 1.0, 'Problem 1b. Cleanshaw-Curtis with Sparse Grid')"
      ]
     },
     "execution_count": 8,
     "metadata": {},
     "output_type": "execute_result"
    },
    {
     "data": {
      "image/png": "[encoded data removed]",
      "text/plain": [
       "<Figure size 720x360 with 1 Axes>"
      ]
     },
     "metadata": {
      "needs_background": "light"
     },
     "output_type": "display_data"
    }
   ],
   "source": [
    "df_1b = evaluateIntegralAtMultipleLevels(sparse=True,growth=True,levels=[1,2,3,4,5])\n",
    "fig,ax = plt.subplots(figsize=(10,5))\n",
    "sns.barplot(x=\"Order\",y=\"Integral\",data=df_1b,ax=ax)\n",
    "ax.set_title(\"Problem 1b. Cleanshaw-Curtis with Sparse Grid\")"
   ]
  },
  {
   "cell_type": "markdown",
   "metadata": {},
   "source": [
    "### Problem 1c. Sparse grid using Gauss-Legendre quadrature points at sparse grid levels 1,2,3, and 4.  Note that the level for one dimensional GL quadrature, compared to 1D CC quadrature, involves different numbers of points.  For example, level-2 CC has 3 points, but level-2 GL has 2 points.  So, it is expected that at the same sparse grid level, the number of multidimensional points are not the same between CC and GL."
   ]
  },
  {
   "cell_type": "code",
   "execution_count": 9,
   "metadata": {},
   "outputs": [
    {
     "data": {
      "text/plain": [
       "Text(0.5, 1.0, 'Problem 1c. Gauss-Legendre')"
      ]
     },
     "execution_count": 9,
     "metadata": {},
     "output_type": "execute_result"
    },
    {
     "data": {
      "image/png": "[encoded data removed]",
      "text/plain": [
       "<Figure size 720x360 with 1 Axes>"
      ]
     },
     "metadata": {
      "needs_background": "light"
     },
     "output_type": "display_data"
    }
   ],
   "source": [
    "df_1c = evaluateIntegralAtMultipleLevels(sampleRule=\"gauss_legendre\",sparse=False,growth=False,levels=[1,2,3,4,5])\n",
    "fig,ax = plt.subplots(figsize=(10,5))\n",
    "sns.barplot(x=\"Order\",y=\"Integral\",data=df_1c,ax=ax)\n",
    "ax.set_title(\"Problem 1c. Gauss-Legendre\")"
   ]
  },
  {
   "cell_type": "code",
   "execution_count": 10,
   "metadata": {},
   "outputs": [
    {
     "data": {
      "text/plain": [
       "Text(0.5, 1.0, 'Problem 1c. Gauss-Legendre with Sparse Grid')"
      ]
     },
     "execution_count": 10,
     "metadata": {},
     "output_type": "execute_result"
    },
    {
     "data": {
      "image/png": "[encoded data removed]",
      "text/plain": [
       "<Figure size 720x360 with 1 Axes>"
      ]
     },
     "metadata": {
      "needs_background": "light"
     },
     "output_type": "display_data"
    }
   ],
   "source": [
    "df_1c2 = evaluateIntegralAtMultipleLevels(sampleRule=\"gauss_legendre\",sparse=True,growth=True,levels=[1,2,3,4,5])\n",
    "fig,ax = plt.subplots(figsize=(10,5))\n",
    "sns.barplot(x=\"Order\",y=\"Integral\",data=df_1c2,ax=ax)\n",
    "ax.set_title(\"Problem 1c. Gauss-Legendre with Sparse Grid\")"
   ]
  },
  {
   "cell_type": "code",
   "execution_count": 11,
   "metadata": {},
   "outputs": [],
   "source": [
    "df_stacked = pd.concat([df_1a,df_1b,df_1c,df_1c2])\n",
    "metaRule = []\n",
    "for i,row in df_stacked.iterrows():\n",
    "    sparse = \"\"\n",
    "    if row[\"Sparse\"] == True:\n",
    "        sparse = \"Sparse Grid\"\n",
    "    rule = f\"{row['Rule']} {sparse}\"\n",
    "    metaRule.append(rule)\n",
    "df_stacked[\"Meta Rule\"] = metaRule"
   ]
  },
  {
   "cell_type": "code",
   "execution_count": 12,
   "metadata": {},
   "outputs": [
    {
     "name": "stdout",
     "output_type": "stream",
     "text": [
      "0.012788234790550164\n"
     ]
    }
   ],
   "source": [
    "# Run a high order problem to try to fit a better estimate\n",
    "bestGuessIntegral = calculateIntegral(10,sampleRule=\"clenshaw_curtis\",sparse=False,growth=False)\n",
    "print(bestGuessIntegral)"
   ]
  },
  {
   "cell_type": "markdown",
   "metadata": {},
   "source": [
    "In order to more fairly compare the four approaches presented above, I have run each approach out to five levels, whcih are compared below."
   ]
  },
  {
   "cell_type": "code",
   "execution_count": 13,
   "metadata": {},
   "outputs": [
    {
     "data": {
      "text/plain": [
       "Text(0.5, 1.0, 'Comparison of Solution Approaches')"
      ]
     },
     "execution_count": 13,
     "metadata": {},
     "output_type": "execute_result"
    },
    {
     "data": {
      "image/png": "[encoded data removed]",
      "text/plain": [
       "<Figure size 720x360 with 1 Axes>"
      ]
     },
     "metadata": {
      "needs_background": "light"
     },
     "output_type": "display_data"
    }
   ],
   "source": [
    "fig,ax = plt.subplots(figsize=(10,5))\n",
    "ax.axhline(bestGuessIntegral,ls=\":\",label=\"Best Guess Value\")\n",
    "sns.barplot(x=\"Order\",y=\"Integral\",hue=\"Meta Rule\",data=df_stacked,ax=ax)\n",
    "ax.set_title(\"Comparison of Solution Approaches\")"
   ]
  },
  {
   "cell_type": "markdown",
   "metadata": {},
   "source": [
    "In spite of my expectations, sparse grids as implemented do not improve my solution until allowing a greater order, suggesting that I have not implemented them correctly.\n",
    "\n",
    "The Gauss-Legendre rule appears to perform best, which I believe is reasonable as it is known to be a good solution approach for uniform distributions as we have with this problem, while the Clenshaw-Curtis rule is more general but often faster."
   ]
  },
  {
   "cell_type": "markdown",
   "metadata": {},
   "source": [
    "## Problem 2.\n",
    "Using the Stochastic Galerkin approach, find a PCE approximation for $y$ given by\n",
    "\n",
    "$$ay=bc+d$$\n",
    "\n",
    "where $a=3-0.4\\Psi_2(z), b=-5+0.4\\Psi_1(z), c=3+0.02\\Psi_1(z), and d=11-3\\Psi_1(z)$ are four random parameters, where ${z}$ is a uniform random variable in $[0,1]$ and ${\\Psi_i}$ are Legendre polynomials."
   ]
  },
  {
   "cell_type": "code",
   "execution_count": 14,
   "metadata": {},
   "outputs": [],
   "source": [
    "distribution_z = cp.J(cp.Uniform(0,1),cp.Uniform(0,1),cp.Uniform(0,1),cp.Uniform(0,1))"
   ]
  },
  {
   "cell_type": "markdown",
   "metadata": {},
   "source": [
    "### General Approach to Problem Two"
   ]
  },
  {
   "cell_type": "markdown",
   "metadata": {},
   "source": [
    "Per page 216 of \"Uncertainty Quantification,\" our objective is to formulate an approximate solution $u^K(z,\\Psi)$ which satisfies\n",
    "\n",
    "$$0=\\langle\\frac{du^K}{dz}-f,\\Psi_i\\rangle$$\n",
    "\n",
    "We then approximate this inner product \"using a quadrature rule with points $q^r$ and weights $w^r$."
   ]
  },
  {
   "cell_type": "markdown",
   "metadata": {},
   "source": [
    "This approach is written as\n",
    "\n",
    "$$\\sum_{r=1}^R{\\Psi_i(q^r)p_Q(q^r)w^r}$$"
   ]
  },
  {
   "cell_type": "code",
   "execution_count": null,
   "metadata": {},
   "outputs": [],
   "source": []
  }
 ],
 "metadata": {
  "kernelspec": {
   "display_name": "Python 3.7.6 64-bit ('phd': conda)",
   "language": "python",
   "name": "python37664bitphdcondab24623704836426aa66db115e96068bb"
  },
  "language_info": {
   "codemirror_mode": {
    "name": "ipython",
    "version": 3
   },
   "file_extension": ".py",
   "mimetype": "text/x-python",
   "name": "python",
   "nbconvert_exporter": "python",
   "pygments_lexer": "ipython3",
   "version": "3.7.6"
  }
 },
 "nbformat": 4,
 "nbformat_minor": 4
}
