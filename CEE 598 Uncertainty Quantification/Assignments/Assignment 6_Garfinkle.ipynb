{
 "cells": [
  {
   "cell_type": "markdown",
   "metadata": {},
   "source": [
    "# CEE 598: Uncertainty Quantification\n",
    "## Assignment Six\n",
    "### Noah Garfinkle (garfink2@illinois edu)\n",
    "### 03 May 2020"
   ]
  },
  {
   "cell_type": "markdown",
   "metadata": {},
   "source": [
    "## Imports and Set Up"
   ]
  },
  {
   "cell_type": "code",
   "execution_count": 5,
   "metadata": {},
   "outputs": [],
   "source": [
    "import numpy as np\n",
    "import scipy as sp\n",
    "import matplotlib.pyplot as plt\n",
    "import seaborn as sns\n",
    "import pytest\n",
    "import chaospy as cp\n",
    "import pandas as pd"
   ]
  },
  {
   "cell_type": "markdown",
   "metadata": {},
   "source": [
    "## References"
   ]
  },
  {
   "cell_type": "code",
   "execution_count": 6,
   "metadata": {},
   "outputs": [],
   "source": [
    "# https://chaospy.readthedocs.io/en/master/tutorial.html\n",
    "# https://chaospy.readthedocs.io/en/master/_modules/chaospy/quadrature/clenshaw_curtis.html\n",
    "# https://chaospy.readthedocs.io/en/master/quadrature.html#module-chaospy.quadrature.clenshaw_curtis\n",
    "# https://chaospy.readthedocs.io/en/master/quadrature.html#module-chaospy.quadrature.sparse_grid\n",
    "# https://chaospy.readthedocs.io/en/master/recipes/galerkin.html"
   ]
  },
  {
   "cell_type": "markdown",
   "metadata": {},
   "source": [
    "## General Approach"
   ]
  },
  {
   "cell_type": "markdown",
   "metadata": {},
   "source": [
    "Building off of assignment five, I have opted to again utilize the third path of confirming an existing library.  As with Assignment Five, I have opted to utilize Chaospy for Python.\n",
    "\n",
    "In order to evaluate the integral, I have opted to utilize an approach similar to Monte Carlo approximations of the integral, represented by\n",
    "\n",
    "$$\\int{f(X)} \\approx \\sum_{n=1}^{N}W_nf(X_n)$$\n",
    "\n",
    "Where $N$ is the number of samples, $X_n$ is each individual sample, $f(X_n)$ is the evaluation of the target function at the sample coordinates, and $W_n$ is the weight of the sample as defined by the rule utilized."
   ]
  },
  {
   "cell_type": "markdown",
   "metadata": {},
   "source": [
    "## Problem 1.\n",
    "Consider the following target function\n",
    "\n",
    "$$f(x)=f(x_1,x_2,...,x_5)=\\prod_{i=1}^5sin(ix_i)$$\n",
    "\n",
    "where $x_i \\in [0,1],\\forall_i$.  We would like to approximate $\\int_{[0,1]^5}f(x)dx$ using quadrature.  Compare the following multidimensional quadrature rules:"
   ]
  },
  {
   "cell_type": "markdown",
   "metadata": {},
   "source": [
    "I have assumed that $x_i$ are each uniformally distributed."
   ]
  },
  {
   "cell_type": "code",
   "execution_count": 47,
   "metadata": {},
   "outputs": [],
   "source": [
    "def func(x):\n",
    "    x1,x2,x3,x4,x5 = x\n",
    "    value = np.sin(x1) * np.sin(2*x2) * np.sin(3*x3) * np.sin(4*x4) * np.sin(5*x5)\n",
    "    return value"
   ]
  },
  {
   "cell_type": "code",
   "execution_count": 48,
   "metadata": {},
   "outputs": [],
   "source": [
    "distribution_x = cp.J(cp.Uniform(0,1),cp.Uniform(0,1),cp.Uniform(0,1),cp.Uniform(0,1),cp.Uniform(0,1))"
   ]
  },
  {
   "cell_type": "code",
   "execution_count": 115,
   "metadata": {},
   "outputs": [],
   "source": [
    "def calculateIntegral(order,sampleRule=\"clenshaw_curtis\",sparse=False,growth=False):\n",
    "    abscissas, weights = cp.generate_quadrature(order, distribution_x, rule=sampleRule,sparse=sparse,growth=growth)\n",
    "    samples = abscissas.T\n",
    "    integral = 0.0\n",
    "    for i,sample in enumerate(samples):\n",
    "        weight = weights[i]\n",
    "        integral += weight * func(sample)\n",
    "    return integral"
   ]
  },
  {
   "cell_type": "code",
   "execution_count": 140,
   "metadata": {},
   "outputs": [],
   "source": [
    "def evaluateIntegralAtMultipleLevels(sampleRule=\"clenshaw_curtis\",sparse=False,growth=False,levels=[1,2,3]):\n",
    "    orders = []\n",
    "    integrals = []\n",
    "    rules = []\n",
    "    sparses = []\n",
    "    for order in levels:\n",
    "        orders.append(order)\n",
    "        integrals.append(calculateIntegral(order,sampleRule=sampleRule,sparse=sparse,growth=growth))\n",
    "        rules.append(sampleRule)\n",
    "        sparses.append(sparse)\n",
    "    df = pd.DataFrame({\"Order\":orders,\"Integral\":integrals,\"Rule\":rules,\"Sparse\":sparses})\n",
    "    return df"
   ]
  },
  {
   "cell_type": "markdown",
   "metadata": {},
   "source": [
    "### Problem 1a. Tensor product using Clenshaw-Curtis (CC) points at levels 1,2, and 3."
   ]
  },
  {
   "cell_type": "markdown",
   "metadata": {},
   "source": [
    "Note: Clenshaw-Curtis points and their weights are given on Slide 15 of Lecture 20"
   ]
  },
  {
   "cell_type": "code",
   "execution_count": 141,
   "metadata": {},
   "outputs": [
    {
     "data": {
      "text/plain": [
       "Text(0.5, 1.0, 'Problem 1a. Cleanshaw-Curtis')"
      ]
     },
     "execution_count": 141,
     "metadata": {},
     "output_type": "execute_result"
    },
    {
     "data": {
      "image/png": "[encoded data removed]",
      "text/plain": [
       "<Figure size 720x360 with 1 Axes>"
      ]
     },
     "metadata": {
      "needs_background": "light"
     },
     "output_type": "display_data"
    }
   ],
   "source": [
    "df_1a = evaluateIntegralAtMultipleLevels()\n",
    "fig,ax = plt.subplots(figsize=(10,5))\n",
    "sns.barplot(x=\"Order\",y=\"Integral\",data=df_1a,ax=ax)\n",
    "ax.set_title(\"Problem 1a. Cleanshaw-Curtis\")"
   ]
  },
  {
   "cell_type": "markdown",
   "metadata": {},
   "source": [
    "### Problem 1b. Sparse grid using CC points at levels 1, 2, and 3."
   ]
  },
  {
   "cell_type": "code",
   "execution_count": 145,
   "metadata": {},
   "outputs": [
    {
     "data": {
      "text/plain": [
       "Text(0.5, 1.0, 'Problem 1b. Cleanshaw-Curtis with Sparse Grid')"
      ]
     },
     "execution_count": 145,
     "metadata": {},
     "output_type": "execute_result"
    },
    {
     "data": {
      "image/png": "[encoded data removed]",
      "text/plain": [
       "<Figure size 720x360 with 1 Axes>"
      ]
     },
     "metadata": {
      "needs_background": "light"
     },
     "output_type": "display_data"
    }
   ],
   "source": [
    "df_1b = evaluateIntegralAtMultipleLevels(sparse=True,growth=True)\n",
    "fig,ax = plt.subplots(figsize=(10,5))\n",
    "sns.barplot(x=\"Order\",y=\"Integral\",data=df_1b,ax=ax)\n",
    "ax.set_title(\"Problem 1b. Cleanshaw-Curtis with Sparse Grid\")"
   ]
  },
  {
   "cell_type": "markdown",
   "metadata": {},
   "source": [
    "### Problem 1c. Sparse grid using Gauss-Legendre quadrature points with the number of points in each dimension being equal to 1, 2, and 3. Compare it with one that does so using sparse grid quadratures at levels 1, 3, and 5."
   ]
  },
  {
   "cell_type": "code",
   "execution_count": 150,
   "metadata": {},
   "outputs": [
    {
     "data": {
      "text/plain": [
       "Text(0.5, 1.0, 'Problem 1c. Gauss-Legendre')"
      ]
     },
     "execution_count": 150,
     "metadata": {},
     "output_type": "execute_result"
    },
    {
     "data": {
      "image/png": "[encoded data removed]",
      "text/plain": [
       "<Figure size 720x360 with 1 Axes>"
      ]
     },
     "metadata": {
      "needs_background": "light"
     },
     "output_type": "display_data"
    }
   ],
   "source": [
    "df_1c = evaluateIntegralAtMultipleLevels(sampleRule=\"gauss_legendre\",sparse=False,growth=False)\n",
    "fig,ax = plt.subplots(figsize=(10,5))\n",
    "sns.barplot(x=\"Order\",y=\"Integral\",data=df_1c,ax=ax)\n",
    "ax.set_title(\"Problem 1c. Gauss-Legendre\")"
   ]
  },
  {
   "cell_type": "code",
   "execution_count": 152,
   "metadata": {},
   "outputs": [
    {
     "data": {
      "text/plain": [
       "Text(0.5, 1.0, 'Problem 1c. Gauss-Legendre with Sparse Grid')"
      ]
     },
     "execution_count": 152,
     "metadata": {},
     "output_type": "execute_result"
    },
    {
     "data": {
      "image/png": "[encoded data removed]",
      "text/plain": [
       "<Figure size 720x360 with 1 Axes>"
      ]
     },
     "metadata": {
      "needs_background": "light"
     },
     "output_type": "display_data"
    }
   ],
   "source": [
    "df_1c2 = evaluateIntegralAtMultipleLevels(sampleRule=\"gauss_legendre\",sparse=True,growth=True)\n",
    "fig,ax = plt.subplots(figsize=(10,5))\n",
    "sns.barplot(x=\"Order\",y=\"Integral\",data=df_1c2,ax=ax)\n",
    "ax.set_title(\"Problem 1c. Gauss-Legendre with Sparse Grid\")"
   ]
  },
  {
   "cell_type": "code",
   "execution_count": 161,
   "metadata": {},
   "outputs": [],
   "source": [
    "df_stacked = pd.concat([df_1a,df_1b,df_1c,df_1c2])\n",
    "metaRule = []\n",
    "for i,row in df_stacked.iterrows():\n",
    "    sparse = \"\"\n",
    "    if row[\"Sparse\"] == True:\n",
    "        sparse = \"Sparse Grid\"\n",
    "    rule = f\"{row['Rule']} {sparse}\"\n",
    "    metaRule.append(rule)\n",
    "df_stacked[\"Meta Rule\"] = metaRule"
   ]
  },
  {
   "cell_type": "code",
   "execution_count": 162,
   "metadata": {},
   "outputs": [
    {
     "data": {
      "text/plain": [
       "<matplotlib.axes._subplots.AxesSubplot at 0x23b9237b208>"
      ]
     },
     "execution_count": 162,
     "metadata": {},
     "output_type": "execute_result"
    },
    {
     "data": {
      "image/png": "[encoded data removed]",
      "text/plain": [
       "<Figure size 720x360 with 1 Axes>"
      ]
     },
     "metadata": {
      "needs_background": "light"
     },
     "output_type": "display_data"
    }
   ],
   "source": [
    "fig,ax = plt.subplots(figsize=(10,5))\n",
    "sns.barplot(x=\"Order\",y=\"Integral\",hue=\"Meta Rule\",data=df_stacked,ax=ax)\n"
   ]
  },
  {
   "cell_type": "markdown",
   "metadata": {},
   "source": [
    "## Problem 2.\n",
    "Using the Stochastic Galerkin approach, find a PCE approximation for $y$ given by\n",
    "\n",
    "$$ay=bc+d$$\n",
    "\n",
    "where $a=3-0.4\\Psi_2(z_1), b=-5+0.4\\Psi_1(z_2), c=3+0.02\\Psi_1(z_3), and d=11-3\\Psi_1(z_3)$ are four random parameters, where ${z_i}$ are independent uniform random variables in $[0,1]$ and ${\\Psi_i}$ are Legendre polynomials."
   ]
  },
  {
   "cell_type": "code",
   "execution_count": null,
   "metadata": {},
   "outputs": [],
   "source": []
  }
 ],
 "metadata": {
  "kernelspec": {
   "display_name": "Python 3.7.6 64-bit ('phd': conda)",
   "language": "python",
   "name": "python37664bitphdcondab24623704836426aa66db115e96068bb"
  },
  "language_info": {
   "codemirror_mode": {
    "name": "ipython",
    "version": 3
   },
   "file_extension": ".py",
   "mimetype": "text/x-python",
   "name": "python",
   "nbconvert_exporter": "python",
   "pygments_lexer": "ipython3",
   "version": "3.7.6"
  }
 },
 "nbformat": 4,
 "nbformat_minor": 4
}
