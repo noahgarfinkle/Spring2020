{
 "cells": [
  {
   "cell_type": "markdown",
   "metadata": {},
   "source": [
    "# CEE 598: Uncertainty Quantification\n",
    "## Assignment Five\n",
    "### Noah Garfinkle (garfink2@illinois edu)\n",
    "### 16 April 2020"
   ]
  },
  {
   "cell_type": "markdown",
   "metadata": {},
   "source": [
    "## Imports and Set Up"
   ]
  },
  {
   "cell_type": "code",
   "execution_count": 1,
   "metadata": {},
   "outputs": [],
   "source": [
    "import numpy as np\n",
    "import scipy as sp\n",
    "import matplotlib.pyplot as plt\n",
    "import seaborn as sns\n",
    "import pytest\n",
    "import chaospy as cp\n",
    "import pandas as pd"
   ]
  },
  {
   "cell_type": "markdown",
   "metadata": {},
   "source": [
    "## References"
   ]
  },
  {
   "cell_type": "code",
   "execution_count": 2,
   "metadata": {},
   "outputs": [],
   "source": [
    "# https://chaospy.readthedocs.io/en/master/tutorial.html\n"
   ]
  },
  {
   "cell_type": "markdown",
   "metadata": {},
   "source": [
    "## General Solution Approach"
   ]
  },
  {
   "cell_type": "markdown",
   "metadata": {},
   "source": [
    "Per the assignment guidelines, I have ultimately chosen approach (3), utilizing open-source codes to perform tasks 1 and 2, and verified using task 3.  I had initially attempted approach (2), and have included my attempts as an appendix for my own future reference if I attempt to repair them, but am most satisfied with the verificiation of task 3 utilizing approach (3).  For the library, I have chosen to use the Python library ChaosPy, which I found through online searches and comparisons of available options.  As seen in the code below, the approach for Chaospy is relatively clean and straightforward, requiring only a few hours of review and practice to implement successfully with required variations.  In the spirit of this assignment, I have also written several helper functions included with this assignment, which I found useful in understanding the results produced by ChaosPy and in comparing my results to those expected per task 3.  These functions were particularly important for the first reason, as the danger of applying an unknown third-party library is that it is often difficult to understand if it is functioning correctly and in the intended way."
   ]
  },
  {
   "cell_type": "markdown",
   "metadata": {},
   "source": [
    "Per slide 6 of lecture 17, we consider the general approach to be:\n",
    "1. Choose the polynomial type\n",
    "2. Write the polynomial representation for parameters\n",
    "3. Pick the polynomial order for response\n",
    "4. Write the polynomial representation for response\n",
    "5. Calculate the unknown coefficients"
   ]
  },
  {
   "cell_type": "markdown",
   "metadata": {},
   "source": [
    "$$u_i = \\sum_{q=1}^{N_q} f(\\bar{x}^q)\\psi_i(\\bar{x}^q)w^q$$"
   ]
  },
  {
   "cell_type": "markdown",
   "metadata": {},
   "source": [
    "I have simplified most of these steps within wrappers for the ChaosPy library, which stillr equires inputs for (1) the polynomial type and (3) the polynomial order for the response, as well as the number of samples to be utilized, as a scaling coefficient of the default logic built into ChaosPy.  I have written the code to be easily modified to take in arbitrary simulations for the systems being modeled, but have also written my wrappers to directly input matrix representations of the polynomial functions for easy comparison.\n",
    "\n",
    "While ChaosPy supports a vast variety of polynomial types, per the problem prompt I have focused on normal distributions (evaluated using Hermite polynomials) and uniform distributions (evaluated using Legendre polynomials).  Because the ChaosPy library is well established, I first solved for the multi-dimensional polynomial, and then bulit the ability to indvidually extract out and filter the one-dimensional polynomials.  I feel that this approach most cleanly allows utilization of the library."
   ]
  },
  {
   "cell_type": "markdown",
   "metadata": {},
   "source": [
    "My initial findings are as follows.  First, the library does not seem to provide correct support for zero-order and first-order polynomials.  While no error is returned, the returned data structure appears to be defaulting to third-order.  Second-order and higher appear to work correctly as tested.  Second, runtime is very fast for the examples of case three."
   ]
  },
  {
   "cell_type": "code",
   "execution_count": 3,
   "metadata": {},
   "outputs": [],
   "source": [
    "# Use ChasosPy to define the distributions for the problem.  Multiple distributions are supported by defualt.\n",
    "distribution_x = cp.J(cp.Normal(),cp.Normal(),cp.Normal())\n",
    "distribution_y = cp.J(cp.Uniform(0,1),cp.Uniform(0,1))"
   ]
  },
  {
   "cell_type": "markdown",
   "metadata": {},
   "source": [
    "For simplicity in comparing results, I have chosen to create a data structure for storing polynomials. The datastructure, contained within a Pandas DataFrame, has a column of coefficients, followed by an arbitrary number of numbered columns representing variables (for instance $x_1$), the value of which is the power to which this coefficient should be taken for the given term, scaled by the row's coefficient."
   ]
  },
  {
   "cell_type": "code",
   "execution_count": 4,
   "metadata": {},
   "outputs": [
    {
     "data": {
      "text/html": [
       "<div>\n",
       "<style scoped>\n",
       "    .dataframe tbody tr th:only-of-type {\n",
       "        vertical-align: middle;\n",
       "    }\n",
       "\n",
       "    .dataframe tbody tr th {\n",
       "        vertical-align: top;\n",
       "    }\n",
       "\n",
       "    .dataframe thead th {\n",
       "        text-align: right;\n",
       "    }\n",
       "</style>\n",
       "<table border=\"1\" class=\"dataframe\">\n",
       "  <thead>\n",
       "    <tr style=\"text-align: right;\">\n",
       "      <th></th>\n",
       "      <th>Coefficient</th>\n",
       "      <th>0</th>\n",
       "      <th>1</th>\n",
       "      <th>2</th>\n",
       "    </tr>\n",
       "  </thead>\n",
       "  <tbody>\n",
       "    <tr>\n",
       "      <th>0</th>\n",
       "      <td>6.0</td>\n",
       "      <td>0</td>\n",
       "      <td>0</td>\n",
       "      <td>0</td>\n",
       "    </tr>\n",
       "    <tr>\n",
       "      <th>1</th>\n",
       "      <td>2.0</td>\n",
       "      <td>2</td>\n",
       "      <td>0</td>\n",
       "      <td>0</td>\n",
       "    </tr>\n",
       "    <tr>\n",
       "      <th>2</th>\n",
       "      <td>0.2</td>\n",
       "      <td>3</td>\n",
       "      <td>0</td>\n",
       "      <td>0</td>\n",
       "    </tr>\n",
       "    <tr>\n",
       "      <th>3</th>\n",
       "      <td>2.3</td>\n",
       "      <td>1</td>\n",
       "      <td>1</td>\n",
       "      <td>0</td>\n",
       "    </tr>\n",
       "    <tr>\n",
       "      <th>4</th>\n",
       "      <td>-1.5</td>\n",
       "      <td>0</td>\n",
       "      <td>2</td>\n",
       "      <td>0</td>\n",
       "    </tr>\n",
       "    <tr>\n",
       "      <th>5</th>\n",
       "      <td>-0.8</td>\n",
       "      <td>0</td>\n",
       "      <td>0</td>\n",
       "      <td>1</td>\n",
       "    </tr>\n",
       "  </tbody>\n",
       "</table>\n",
       "</div>"
      ],
      "text/plain": [
       "   Coefficient  0  1  2\n",
       "0          6.0  0  0  0\n",
       "1          2.0  2  0  0\n",
       "2          0.2  3  0  0\n",
       "3          2.3  1  1  0\n",
       "4         -1.5  0  2  0\n",
       "5         -0.8  0  0  1"
      ]
     },
     "execution_count": 4,
     "metadata": {},
     "output_type": "execute_result"
    }
   ],
   "source": [
    "coefs_x = [6,2,0.2,2.3,-1.5,-0.8]\n",
    "x1_x = [0,2,3,1,0,0]\n",
    "x2_x = [0,0,0,1,2,0]\n",
    "x3_x = [0,0,0,0,0,1]\n",
    "df_x = pd.DataFrame({\"Coefficient\":coefs_x,0:x1_x,1:x2_x,2:x3_x})\n",
    "df_x"
   ]
  },
  {
   "cell_type": "code",
   "execution_count": 5,
   "metadata": {},
   "outputs": [
    {
     "data": {
      "text/html": [
       "<div>\n",
       "<style scoped>\n",
       "    .dataframe tbody tr th:only-of-type {\n",
       "        vertical-align: middle;\n",
       "    }\n",
       "\n",
       "    .dataframe tbody tr th {\n",
       "        vertical-align: top;\n",
       "    }\n",
       "\n",
       "    .dataframe thead th {\n",
       "        text-align: right;\n",
       "    }\n",
       "</style>\n",
       "<table border=\"1\" class=\"dataframe\">\n",
       "  <thead>\n",
       "    <tr style=\"text-align: right;\">\n",
       "      <th></th>\n",
       "      <th>Coefficient</th>\n",
       "      <th>0</th>\n",
       "      <th>1</th>\n",
       "    </tr>\n",
       "  </thead>\n",
       "  <tbody>\n",
       "    <tr>\n",
       "      <th>0</th>\n",
       "      <td>-15.00</td>\n",
       "      <td>0</td>\n",
       "      <td>0</td>\n",
       "    </tr>\n",
       "    <tr>\n",
       "      <th>1</th>\n",
       "      <td>0.05</td>\n",
       "      <td>0</td>\n",
       "      <td>2</td>\n",
       "    </tr>\n",
       "    <tr>\n",
       "      <th>2</th>\n",
       "      <td>3.20</td>\n",
       "      <td>1</td>\n",
       "      <td>1</td>\n",
       "    </tr>\n",
       "    <tr>\n",
       "      <th>3</th>\n",
       "      <td>0.30</td>\n",
       "      <td>0</td>\n",
       "      <td>2</td>\n",
       "    </tr>\n",
       "  </tbody>\n",
       "</table>\n",
       "</div>"
      ],
      "text/plain": [
       "   Coefficient  0  1\n",
       "0       -15.00  0  0\n",
       "1         0.05  0  2\n",
       "2         3.20  1  1\n",
       "3         0.30  0  2"
      ]
     },
     "execution_count": 5,
     "metadata": {},
     "output_type": "execute_result"
    }
   ],
   "source": [
    "coefs_y = [-15,0.05,3.2,0.3]\n",
    "y1_y = [0,0,1,0]\n",
    "y2_y = [0,2,1,2]\n",
    "df_y = pd.DataFrame({\"Coefficient\":coefs_y,0:y1_y,1:y2_y})\n",
    "df_y"
   ]
  },
  {
   "cell_type": "markdown",
   "metadata": {},
   "source": [
    "## Helper Functions for ChaosPy"
   ]
  },
  {
   "cell_type": "code",
   "execution_count": 6,
   "metadata": {},
   "outputs": [],
   "source": [
    "\"\"\"\n",
    "Takes the dataframe representation of coefficients and variable orders and allows this to be treated like\n",
    "an equation, taking inputs and returning the evaluation.  Very simple but I think a pretty clean\n",
    "way to represent the models used in task three. Most importantly, makes it much easier to evaluate\n",
    "ChaosPy polynomials in my opinion.\n",
    "\n",
    "Inputs:\n",
    "coefsDF (Pandas DataFrame) -> a data structure I created for this assignment where the first column\n",
    "                              is the coefficient of each term, and each subsequent numbered column\n",
    "                              is a variable index\n",
    "varsArray (list or numpy array) -> the coordinates at which the function is being evaluated\n",
    "\n",
    "Returns:\n",
    "valueToReturn (float) -> The value of the function represented by coefsDF at the coordinates represented\n",
    "                        by varsArray\n",
    "\"\"\"\n",
    "def matrixToEquation(coefsDF,varsArray):\n",
    "    valueToReturn = 0.0\n",
    "    for i,row in coefsDF.iterrows():\n",
    "        rowValue = row[\"Coefficient\"]\n",
    "        for j,var in enumerate(varsArray):\n",
    "            rowValue *= np.power(var,row[j])\n",
    "        valueToReturn += rowValue\n",
    "    return valueToReturn"
   ]
  },
  {
   "cell_type": "code",
   "execution_count": 7,
   "metadata": {},
   "outputs": [],
   "source": [
    "# this is kludgy, but pass the two coefficinent matrices and an array of variables where\n",
    "# the place which is (min,max) is the study (non-fixed) variable and the other values are fixed\n",
    "def plotComparison(correctCoefs,generatedCoefs,arr,title='',nSamples=100):\n",
    "    correctEvaluations = []\n",
    "    generatedEvaluations = []\n",
    "    indexOfVariable = [i for i in range(len(arr)) if type(arr[i]) == tuple][0]\n",
    "    lowerBound = arr[indexOfVariable][0]\n",
    "    upperBound = arr[indexOfVariable][1]\n",
    "    varValues = np.linspace(lowerBound,upperBound,nSamples)\n",
    "    for varValue in varValues:\n",
    "        variableInput = []\n",
    "        for varLoc,varVal in enumerate(arr):\n",
    "            if varLoc == indexOfVariable:\n",
    "                variableInput.append(varValue)\n",
    "            else:\n",
    "                variableInput.append(varVal)\n",
    "        correctEvaluation = matrixToEquation(correctCoefs,variableInput)\n",
    "        generatedEvaluation = matrixToEquation(generatedCoefs,variableInput)\n",
    "        correctEvaluations.append(correctEvaluation)\n",
    "        generatedEvaluations.append(generatedEvaluation)\n",
    "    fig,ax = plt.subplots(figsize=(10,5))\n",
    "    ax.plot(varValues,correctEvaluations,label=\"Correct\")\n",
    "    ax.scatter(varValues,generatedEvaluations,label=\"Test\",marker=\"*\",color=\"red\",alpha=0.5)\n",
    "    ax.set_title(title)\n",
    "    ax.legend()"
   ]
  },
  {
   "cell_type": "code",
   "execution_count": 8,
   "metadata": {},
   "outputs": [],
   "source": [
    "\"\"\"\n",
    "Creates a pretty-print string representation of the polynomial represented by the pandas dataframe,\n",
    "written to look nice in LaTex.  The cutoff will drop (from printing, not from analyzing) any coefficient\n",
    "with an absolute value less than the cutoff.  Coefficients are rounded for printing based upon rounding.\n",
    "\"\"\"\n",
    "def convertDFGeneratedToEquation(df_Generated,variableName=\"X\",cutoff=0.001,rounding=3):\n",
    "    df_Generated_Filtered = df_Generated[np.abs(df_Generated[\"Coefficient\"]) >= 0.001]\n",
    "    variables = list(df_Generated.columns)[1:]\n",
    "    strRepresentation = \"\"\n",
    "    for i,row in df_Generated_Filtered.iterrows():\n",
    "        if row[\"Coefficient\"] >= 0:\n",
    "            term = f\"+{round(row['Coefficient'],rounding)}\"\n",
    "        else:\n",
    "            term = f\"{round(row['Coefficient'],rounding)}\"\n",
    "        for variable in variables:\n",
    "            if row[variable] != 0:\n",
    "                term += f\"{variableName}_{variable+1}^{int(row[variable])}\" # the variable + 1 is to be congruent with the 1-based indexing of the assignment\n",
    "        strRepresentation += term\n",
    "    return strRepresentation"
   ]
  },
  {
   "cell_type": "markdown",
   "metadata": {},
   "source": [
    "## Equation X"
   ]
  },
  {
   "cell_type": "code",
   "execution_count": 11,
   "metadata": {},
   "outputs": [],
   "source": [
    "\"\"\"\n",
    "This function implements task three directly, with the examples below demonstrating how it can be\n",
    "used to implement tasks one and two.  \n",
    "\n",
    "Inputs:\n",
    "distribution (Pandas DataFrame) -> a data structure I created for this assignment where the first column\n",
    "                              is the coefficient of each term, and each subsequent numbered column\n",
    "                              is a variable index\n",
    "            \n",
    "simulationDistribution (Pandas DataFrame) -> The same data structure as above to represent the polynomials\n",
    "                                             being modeled.  Please note that it is very easy to replace this\n",
    "                                             with an actual simulation, or any generator of choice.\n",
    "                                        \n",
    "order (int) -> The order to be evaluated.  As noted in the discussion, order < 2 produces unpredictable results\n",
    "\n",
    "sampleRule (string) -> The polynomial type, including \"gaussian\", \"gauss_legendre\"\n",
    "\n",
    "Returns:\n",
    "df_Generated (Pandas DataFrame) -> a data structure I created for this assignment where the first column\n",
    "                              is the coefficient of each term, and each subsequent numbered column\n",
    "                              is a variable index\n",
    "\"\"\"\n",
    "def generatePolynomialSurrogate(distribution,simulationDistribution,order,sampleRule=\"gauss_legendre\"):\n",
    "    orthogonal_expansion = cp.orth_ttr(order, distribution)\n",
    "    samples,weights = cp.generate_quadrature(order,distribution,rule=sampleRule)\n",
    "    solves = np.array([matrixToEquation(simulationDistribution,sample) for sample in samples.T])\n",
    "    approx_model = cp.fit_regression(orthogonal_expansion, samples, solves)\n",
    "    nVars = approx_model.exponents.shape[1]\n",
    "    dataDict = {'Coefficient':approx_model.coefficients}\n",
    "    for varIndex in range(0,nVars):\n",
    "        dataDict[varIndex] = approx_model.exponents[:,varIndex]\n",
    "    df_Generated = pd.DataFrame(dataDict)\n",
    "    return df_Generated"
   ]
  },
  {
   "cell_type": "code",
   "execution_count": 12,
   "metadata": {},
   "outputs": [
    {
     "data": {
      "image/png": "[encoded data removed]",
      "text/plain": [
       "<Figure size 720x360 with 1 Axes>"
      ]
     },
     "metadata": {
      "needs_background": "light"
     },
     "output_type": "display_data"
    }
   ],
   "source": [
    "df_Generated = generatePolynomialSurrogate(distribution_x,df_x,1,sampleRule=\"gaussian\")\n",
    "plotComparison(df_x,df_Generated,[(-10,10),0,0],title=f\"Case X, Order 1, $X_2$ & $X_3$ fixed\\n${convertDFGeneratedToEquation(df_Generated)}$\")"
   ]
  },
  {
   "cell_type": "code",
   "execution_count": 13,
   "metadata": {},
   "outputs": [
    {
     "data": {
      "image/png": "[encoded data removed]",
      "text/plain": [
       "<Figure size 720x360 with 1 Axes>"
      ]
     },
     "metadata": {
      "needs_background": "light"
     },
     "output_type": "display_data"
    }
   ],
   "source": [
    "df_Generated = generatePolynomialSurrogate(distribution_x,df_x,2,sampleRule=\"gaussian\")\n",
    "plotComparison(df_x,df_Generated,[(-10,10),0,0],title=f\"Case X, Order 2, $X_2$ & $X_3$ fixed\\n${convertDFGeneratedToEquation(df_Generated)}$\")"
   ]
  },
  {
   "cell_type": "code",
   "execution_count": 14,
   "metadata": {},
   "outputs": [
    {
     "data": {
      "image/png": "[encoded data removed]",
      "text/plain": [
       "<Figure size 720x360 with 1 Axes>"
      ]
     },
     "metadata": {
      "needs_background": "light"
     },
     "output_type": "display_data"
    }
   ],
   "source": [
    "df_Generated = generatePolynomialSurrogate(distribution_x,df_x,3,sampleRule=\"gaussian\")\n",
    "plotComparison(df_x,df_Generated,[(-10,10),0,0],title=f\"Case X, Order 3, $X_2$ & $X_3$ fixed\\n${convertDFGeneratedToEquation(df_Generated)}$\")"
   ]
  },
  {
   "cell_type": "code",
   "execution_count": 15,
   "metadata": {},
   "outputs": [
    {
     "data": {
      "image/png": "[encoded data removed]",
      "text/plain": [
       "<Figure size 720x360 with 1 Axes>"
      ]
     },
     "metadata": {
      "needs_background": "light"
     },
     "output_type": "display_data"
    }
   ],
   "source": [
    "df_Generated = generatePolynomialSurrogate(distribution_x,df_x,1,sampleRule=\"gaussian\")\n",
    "plotComparison(df_x,df_Generated,[0,(-10,10),0],title=f\"Case X, Order 1, $X_1$ & $X_3$ fixed\\n${convertDFGeneratedToEquation(df_Generated)}$\")"
   ]
  },
  {
   "cell_type": "code",
   "execution_count": 16,
   "metadata": {},
   "outputs": [
    {
     "data": {
      "image/png": "[encoded data removed]",
      "text/plain": [
       "<Figure size 720x360 with 1 Axes>"
      ]
     },
     "metadata": {
      "needs_background": "light"
     },
     "output_type": "display_data"
    }
   ],
   "source": [
    "df_Generated = generatePolynomialSurrogate(distribution_x,df_x,2,sampleRule=\"gaussian\")\n",
    "plotComparison(df_x,df_Generated,[0,(-10,10),0],title=f\"Case X, Order 2, $X_1$ & $X_3$ fixed\\n${convertDFGeneratedToEquation(df_Generated)}$\")"
   ]
  },
  {
   "cell_type": "code",
   "execution_count": 17,
   "metadata": {},
   "outputs": [
    {
     "data": {
      "image/png": "[encoded data removed]",
      "text/plain": [
       "<Figure size 720x360 with 1 Axes>"
      ]
     },
     "metadata": {
      "needs_background": "light"
     },
     "output_type": "display_data"
    }
   ],
   "source": [
    "df_Generated = generatePolynomialSurrogate(distribution_x,df_x,3,sampleRule=\"gaussian\")\n",
    "plotComparison(df_x,df_Generated,[0,(-10,10),0],title=f\"Case X, Order 3, $X_1$ & $X_3$ fixed\\n${convertDFGeneratedToEquation(df_Generated)}$\")"
   ]
  },
  {
   "cell_type": "markdown",
   "metadata": {},
   "source": [
    "## Equation Y"
   ]
  },
  {
   "cell_type": "code",
   "execution_count": 18,
   "metadata": {},
   "outputs": [
    {
     "data": {
      "image/png": "[encoded data removed]",
      "text/plain": [
       "<Figure size 720x360 with 1 Axes>"
      ]
     },
     "metadata": {
      "needs_background": "light"
     },
     "output_type": "display_data"
    }
   ],
   "source": [
    "df_Generated = generatePolynomialSurrogate(distribution_y,df_y,1,sampleRule=\"gauss_legendre\")\n",
    "plotComparison(df_y,df_Generated,[0,(-10,10)],title=f\"Case Y, Order 1, $Y_1$ fixed\\n${convertDFGeneratedToEquation(df_Generated)}$\")"
   ]
  },
  {
   "cell_type": "code",
   "execution_count": null,
   "metadata": {},
   "outputs": [],
   "source": [
    "df_Generated = generatePolynomialSurrogate(distribution_y,df_y,2,sampleRule=\"gauss_legendre\")\n",
    "plotComparison(df_y,df_Generated,[0,(-10,10)],title=f\"Case Y, Order 2, $Y_1$ fixed\\n${convertDFGeneratedToEquation(df_Generated)}$\")"
   ]
  },
  {
   "cell_type": "code",
   "execution_count": null,
   "metadata": {},
   "outputs": [],
   "source": [
    "df_Generated = generatePolynomialSurrogate(distribution_y,df_y,2,sampleRule=\"gauss_legendre\")\n",
    "plotComparison(df_y,df_Generated,[(-10,10),0],title=f\"Case Y, Order 2, $Y_1$ fixed\\n${convertDFGeneratedToEquation(df_Generated)}$\")"
   ]
  },
  {
   "cell_type": "markdown",
   "metadata": {},
   "source": [
    "# Appendix- Failed Approach (2)"
   ]
  },
  {
   "cell_type": "markdown",
   "metadata": {},
   "source": [
    "## Task One"
   ]
  },
  {
   "cell_type": "markdown",
   "metadata": {},
   "source": [
    "Using the three-term recurrence relation, write a generic code that evaluates the $n$-th order one-dimensional Hermite and Legendre polynomials, denoted by $P_n(x)$, at a prescribed numerical value for $x$.  The code can be written in the form of a single function that is called with a prescribed type of polynomial (either Hermite or Legendre).  Name your function evaluate_1D_polynomial.  So, the function will be called as follows\n",
    "\n",
    "**evaluate_1D_polynomial(x,n,polynomial_type)**.\n",
    "\n",
    "Using this function, plot the Hermite and Legendre polynomials of order ${0,1,2,3}$.  For Hermite polynomials, set the plotting range $x$ to be $[-3,3]$."
   ]
  },
  {
   "cell_type": "code",
   "execution_count": null,
   "metadata": {},
   "outputs": [],
   "source": [
    "\"\"\"\n",
    "d = dimension (integer)\n",
    "p = order (integer)\n",
    "\n",
    "returns n (integer)\n",
    "\n",
    "calls: none\n",
    "\"\"\"\n",
    "def func_PCE_NumPols(d,p):\n",
    "    n = 0\n",
    "    for m1 in range(0,p+1):\n",
    "        n += np.math.factorial(m1+d-1) / np.math.factorial(m1) / np.math.factorial(d-1)\n",
    "    return int(n)"
   ]
  },
  {
   "cell_type": "code",
   "execution_count": null,
   "metadata": {},
   "outputs": [],
   "source": [
    "assert func_PCE_NumPols(4,3) == 35 # PASSES COMPARISON TO MATLAB CODE"
   ]
  },
  {
   "cell_type": "code",
   "execution_count": null,
   "metadata": {},
   "outputs": [],
   "source": [
    "def evaluate_1D_polynomial(x,n,polynomial_type):\n",
    "    return 0"
   ]
  },
  {
   "cell_type": "code",
   "execution_count": null,
   "metadata": {},
   "outputs": [],
   "source": [
    "He_n = np.array([1,0])\n",
    "He_nminus1 = np.array([1])"
   ]
  },
  {
   "cell_type": "code",
   "execution_count": null,
   "metadata": {},
   "outputs": [],
   "source": [
    "m1 = 3"
   ]
  },
  {
   "cell_type": "code",
   "execution_count": null,
   "metadata": {},
   "outputs": [],
   "source": [
    "np.convolve(np.array([1,0]), He_n) - (m1-1)*np.concatenate((np.zeros(2),He_nminus1))"
   ]
  },
  {
   "cell_type": "code",
   "execution_count": null,
   "metadata": {},
   "outputs": [],
   "source": []
  },
  {
   "cell_type": "code",
   "execution_count": null,
   "metadata": {},
   "outputs": [],
   "source": [
    "np.zeros(2)"
   ]
  },
  {
   "cell_type": "code",
   "execution_count": null,
   "metadata": {},
   "outputs": [],
   "source": [
    "\"\"\"\n",
    "p = degree (integer)\n",
    "vargin = list of type and optional paraemeters\n",
    " Let vargin be a list, where the zero element is the type\n",
    "\n",
    "returns c = coefficients (1*(p+1) real vector)\n",
    "\n",
    "calls: none\n",
    "\"\"\"\n",
    "def func_PCE_1DPoly(p,vargin):\n",
    "    polyType = vargin[0]\n",
    "    c = []\n",
    "    if polyType == \"Hermite\": # no other parameters \n",
    "        if p == 0:\n",
    "            c = [1]\n",
    "        elif p == 1:\n",
    "            c = [1,0]\n",
    "        else: # high order polynomials using recursion formula\n",
    "            He_n = np.array([1,0])\n",
    "            He_nminus1 = np.array([1])\n",
    "            for m1 in range(2,p+1):\n",
    "                c = np.convolve(np.array([1,0]), He_n) - (m1-1)*np.concatenate((np.zeros(2),He_nminus1))\n",
    "                if m1 != p:\n",
    "                    He_nminus1 = He_n\n",
    "                    He_n = c\n",
    "        c = (1/np.sqrt(np.math.factorial(p))) * c # normalization\n",
    "    elif polyType == \"Legendre\": # no other parameters\n",
    "        if p == 0:\n",
    "            c = np.array([1])\n",
    "        elif p == 1:\n",
    "            c = np.array([1,0])\n",
    "        else:\n",
    "            He_n = np.array([1,0])\n",
    "            He_nminus1 = np.array([1])\n",
    "            for m1 in range(2,p+1):\n",
    "                c = ((2*m1-1)/m1 * np.convolve(np.array([1,0]), He_n)) - ((m1-1)/m1) * np.concatenate((np.zeros(2),He_nminus1))\n",
    "                if m1 != p:\n",
    "                    He_nminus1 = He_n\n",
    "                    He_n = c\n",
    "        c = np.sqrt((2*p+1)/2) * c # normalization\n",
    "    elif polyType == \"Laguerre\": # 1st index is a\n",
    "        a = vargin[1]\n",
    "        return \"Not Implemented\"\n",
    "    elif polyType == \"Chebyshev\": # no other parameters\n",
    "        return \"Not Implemented\"\n",
    "    elif polyType == \"Jacobi\": # 1st index is a, 2nd index is b\n",
    "        a = vargin[1]\n",
    "        b = varagin[2]\n",
    "        return \"Not Implemented\"\n",
    "    else:\n",
    "        return \"Not Implemented\"\n",
    "    return np.array(c)"
   ]
  },
  {
   "cell_type": "code",
   "execution_count": null,
   "metadata": {},
   "outputs": [],
   "source": [
    "np.testing.assert_allclose(func_PCE_1DPoly(3,[\"Hermite\"]),np.array([0.4082,0,-1.2247,0]),rtol=1e-3)\n",
    "np.testing.assert_allclose(func_PCE_1DPoly(3,[\"Legendre\"]),np.array([4.6771,0,-2.8062,0]),rtol=1e-3)"
   ]
  },
  {
   "cell_type": "code",
   "execution_count": null,
   "metadata": {},
   "outputs": [],
   "source": [
    "\"\"\"\n",
    "x = argument (d*1 real vector)\n",
    "c = coefficients (n*1 real vector)\n",
    "d = dimension (integer)\n",
    "p = order (integer)\n",
    "vargin = list of type and optional parameters\n",
    "    a = Laguerre parameter (real scalar > -1)\n",
    "    a,b = Jacobi paraemters (real scalars > -1)\n",
    "    \n",
    "returns y = scalar\n",
    "\n",
    "calls: func_PCE_NumPols, func_PCE_MultiIndex\n",
    "\"\"\"\n",
    "def func_PCE_Chaos(x,c,d,p,varagin):\n",
    "    return 0"
   ]
  },
  {
   "cell_type": "code",
   "execution_count": null,
   "metadata": {},
   "outputs": [],
   "source": [
    "\"\"\"\n",
    "j = index (integer)\n",
    "d = dimension (integer)\n",
    "\n",
    "returns n = coefficients (1*d integer vector)\n",
    "\n",
    "calls: itself recursively\n",
    "\"\"\"\n",
    "def func_PCE_MultiIndex(j,d):\n",
    "    # compute the polynomial order\n",
    "    index_p = 0\n",
    "    index_pp = 1\n",
    "    p = 0\n",
    "    while j >= index_pp:\n",
    "        index_p = index_pp\n",
    "        index_pp += (np.math.factorial((p+1)+d-1) / np.math.factorial(p+1) / np.math.factorial(d-1))\n",
    "        p += 1\n",
    "\n",
    "    # compute the first idnex\n",
    "    index_pp = index_p + 1\n",
    "    newindex = 0\n",
    "    n = np.zeros((1,d))\n",
    "    \n",
    "    for m1 in range(0,p+1):\n",
    "        if j < index_pp:\n",
    "            n[0] = p - m1\n",
    "            print(n)\n",
    "            if d != 1:\n",
    "                for m2 in range(0,m1-1+1):\n",
    "                    newindex += (np.math.factorial(m2+d-2) / np.math.factorial(m2) / np.math.factorial(d-2))\n",
    "                    print(func_PCE_MultiIndex(newindex+j-index_p,d-1)) # this is where my error is, the size is correct but not the vlaues\n",
    "#                     print(f\"-->n:{n},{func_PCE_MultiIndex(newindex+j-index_p,d-1)}\")\n",
    "                    n[1:] = func_PCE_MultiIndex(newindex+j-index_p,d-1)\n",
    "                    print(n)\n",
    "        else:\n",
    "            index_p = index_pp\n",
    "            print(f\"index_p:{index_p}\")\n",
    "            index_pp += (np.math.factorial(m1+1+d-2)/np.math.factorial(m1+1)/np.math.factorial(d-2))\n",
    "    return n"
   ]
  },
  {
   "cell_type": "code",
   "execution_count": null,
   "metadata": {},
   "outputs": [],
   "source": [
    "func_PCE_MultiIndex(4,7) # not there yet"
   ]
  },
  {
   "cell_type": "code",
   "execution_count": null,
   "metadata": {},
   "outputs": [],
   "source": [
    "def poly_multiindex(p,d):\n",
    "    a = np.\n",
    "    \n",
    "    return 0"
   ]
  },
  {
   "cell_type": "code",
   "execution_count": null,
   "metadata": {},
   "outputs": [],
   "source": [
    "p = 3\n",
    "d = 2\n",
    "a0 = np.zeros((1,p))\n",
    "a1 = np.identity(p)\n",
    "a = np.concatenate((a0,a1))\n",
    "P = p + 1\n",
    "pmat = np.zeros((100,100)) # just an absurdly largenumber under I figure this out\n",
    "pmat_col1 = np.ones((p,1))\n",
    "pmat[0:p,0] = 1\n",
    "for k in range(1,d):\n",
    "    L = P\n",
    "    for i in range(0,p):\n",
    "        pmat[i,k] = np.sum(pmat[i:p,k-1]) # good, just too big,  need to figure out the optimum size\n",
    "    for j in range(0,p):\n",
    "        for m in range(L-int(pmat[j,k])+1,L):\n",
    "            P = P = 1\n",
    "            a[P,0:p] = a[m,0:p]\n",
    "            a[P,j] = a[P,j] + 1"
   ]
  },
  {
   "cell_type": "code",
   "execution_count": null,
   "metadata": {},
   "outputs": [],
   "source": [
    "pmat"
   ]
  },
  {
   "cell_type": "markdown",
   "metadata": {},
   "source": [
    "## Task Two"
   ]
  },
  {
   "cell_type": "markdown",
   "metadata": {},
   "source": [
    "Multi-dimensional polynomial bases are just the product of one-dimensional polynomials.  Based on your one-dimensional polynomial code, **evaluate_1D_polynomial**, write a code that evaluates the $i$-th $d$-dimensional Hermite or Legendre polynomial, denoted by $\\Psi_i(x)$, at a given numerical vector sample $x={x_i}_{i=1}^d$.  The function will be called as follows\n",
    "\n",
    "**polynomial_value = evaluate_multiD_polynomial(x,d,i,polynomial_type)**\n",
    "\n",
    "Using this function, generate the (surface) plots of 2D Hermite and Legendre polynomials with $i={0,1,2,3}$.  For Hermite polynomials, set the plotting range of $x_1$ and $x_2$ to be $[-3,3]$."
   ]
  },
  {
   "cell_type": "markdown",
   "metadata": {},
   "source": [
    "### Note\n",
    "\n",
    "For the relationship between a multi-dimensional index, $i$, and its corresponding combination of one-dimensional degrees, e.g. (2,1,0,1), you could use the convention shown on Slide 6 of March 31 Lecture.  "
   ]
  },
  {
   "cell_type": "code",
   "execution_count": null,
   "metadata": {},
   "outputs": [],
   "source": []
  },
  {
   "cell_type": "markdown",
   "metadata": {},
   "source": [
    "## Task Three"
   ]
  },
  {
   "cell_type": "markdown",
   "metadata": {},
   "source": [
    "In this code verification task, verify your codes by testing whether it can separately recover the following two target functions (intentionally chosen to be polynomial):\n",
    "\n",
    "$$f(x_1,...,x_2)=6+2x_1^2+0.2x_1^3+2.3x_1x_2-1.5x_2^2-0.8x_3$$\n",
    "\n",
    "$$g(y_1,y_2)=-15+0.05y_2^2+3.2y_1y_2+0.3y_2^2$$"
   ]
  },
  {
   "cell_type": "markdown",
   "metadata": {},
   "source": [
    "Consider all the 3 $x$ variables to be standard normal and the 2 $y$ variables to be uniform random variables in $[0,1]$, use the corresponding orthogonal polynomials.  To do the verification, use multidimensional quadrature using tensor product.  For 1D quadrature rules, use Gauss-Hermite quadrature points for normal random variables and Gauss-Legendre quadrature points for uniform random variables.  These quadrature points and their weights can be easily found on the Internet.  You should choose the number of quadrature points and explain your choices."
   ]
  },
  {
   "cell_type": "markdown",
   "metadata": {},
   "source": [
    "### Try chaospy"
   ]
  },
  {
   "cell_type": "code",
   "execution_count": null,
   "metadata": {},
   "outputs": [],
   "source": [
    "distribution_x = cp.J(cp.Normal(),cp.Normal(),cp.Normal())\n",
    "distribution_y = cp.J(cp.Uniform(0,1),cp.Uniform(0,1))"
   ]
  },
  {
   "cell_type": "code",
   "execution_count": null,
   "metadata": {},
   "outputs": [],
   "source": [
    "abscissas,weights = cp.generate_quadrature(3,distribution_x,sparse=False)"
   ]
  },
  {
   "cell_type": "code",
   "execution_count": null,
   "metadata": {},
   "outputs": [],
   "source": [
    "# https://chaospy.readthedocs.io/en/master/tutorial.html\n",
    "def foo(coord,param):\n",
    "    return 6 + 2 * np.power(param[0],2) + 0.2 * np.power(param[0],3) + 2.3 * param[0] * param[1] - 1.5 * np.power(param[1],2) - 0.8 * param[2]"
   ]
  },
  {
   "cell_type": "code",
   "execution_count": null,
   "metadata": {},
   "outputs": [],
   "source": [
    "x1 = np.linspace(-3,3,10)\n",
    "x2 = np.linspace(-3,3,10)\n",
    "x3 = np.linspace(-3,3,10)"
   ]
  },
  {
   "cell_type": "code",
   "execution_count": null,
   "metadata": {},
   "outputs": [],
   "source": [
    "coord = np.meshgrid(x1,x2,x3)"
   ]
  },
  {
   "cell_type": "code",
   "execution_count": null,
   "metadata": {},
   "outputs": [],
   "source": [
    "samples = distribution_x.sample(50)"
   ]
  },
  {
   "cell_type": "code",
   "execution_count": null,
   "metadata": {},
   "outputs": [],
   "source": [
    "evals = [foo(coord,sample) for sample in samples.T]"
   ]
  },
  {
   "cell_type": "code",
   "execution_count": null,
   "metadata": {},
   "outputs": [],
   "source": [
    "plt.plot(evals)"
   ]
  },
  {
   "cell_type": "code",
   "execution_count": null,
   "metadata": {},
   "outputs": [],
   "source": [
    "x2_fixed = [0] * 100\n",
    "x3_fixed = [0] * 100"
   ]
  },
  {
   "cell_type": "code",
   "execution_count": null,
   "metadata": {},
   "outputs": [],
   "source": [
    "evals_fixed = []\n",
    "for i,x_1 in enumerate(x1):\n",
    "    x_2 = x2_fixed[i]\n",
    "    x_3 = x3_fixed[i]\n",
    "    evals_fixed.append(foo(0,(x_1,x_2,x_3)))"
   ]
  },
  {
   "cell_type": "code",
   "execution_count": null,
   "metadata": {},
   "outputs": [],
   "source": [
    "def plotFixed(x1,x2,x3,variable=\"x1\"):\n",
    "    workingVariable = x1\n",
    "    fixedVariable1 = x2\n",
    "    fixedVariable2 = x3\n",
    "    if variable == \"x2\":\n",
    "        workingVariable = x2\n",
    "        fixedVariable1 = x1\n",
    "        fixedVariable2 = x3\n",
    "    if variable == \"x3\":\n",
    "        workingVariable = x3\n",
    "        fixedVariable1 = x1\n",
    "        fixedVariable2 = x2\n",
    "    evals_fixed = []\n",
    "    for i,x_1 in enumerate(workingVariable):\n",
    "        x_2 = fixedVariable1[i]\n",
    "        x_3 = fixedVariable2[i]\n",
    "        evals_fixed.append(foo(1,(x_1,x_2,x_3)))\n",
    "    fig,ax = plt.subplots()\n",
    "    ax.plot(evals_fixed)\n",
    "    ax.set_title(f\"Plotting with all fixed except {variable}\")"
   ]
  },
  {
   "cell_type": "code",
   "execution_count": null,
   "metadata": {},
   "outputs": [],
   "source": [
    "plotFixed(x1,x2,x3)"
   ]
  },
  {
   "cell_type": "code",
   "execution_count": null,
   "metadata": {},
   "outputs": [],
   "source": [
    "plotFixed(x1,x2,x3,variable=\"x2\")"
   ]
  },
  {
   "cell_type": "code",
   "execution_count": null,
   "metadata": {},
   "outputs": [],
   "source": [
    "plotFixed(x1,x2,x3,variable=\"x3\")"
   ]
  },
  {
   "cell_type": "code",
   "execution_count": null,
   "metadata": {},
   "outputs": [],
   "source": [
    "fig,ax = plt.subplots()\n",
    "ax.plot(evals_fixed)\n",
    "ax.set_title(\"x2 and x3 fixed at zero\")"
   ]
  },
  {
   "cell_type": "code",
   "execution_count": null,
   "metadata": {},
   "outputs": [],
   "source": [
    "# https://chaospy.readthedocs.io/en/master/quadrature.html#gauss-legendre\n"
   ]
  },
  {
   "cell_type": "markdown",
   "metadata": {},
   "source": [
    "### Approach from 16 April 2020 Lecture"
   ]
  },
  {
   "cell_type": "code",
   "execution_count": null,
   "metadata": {},
   "outputs": [],
   "source": [
    "for order in [2]:\n",
    "    abscissas, weights = cp.generate_quadrature(\n",
    "        order, distribution_x, rule=\"gauss_legendre\")\n",
    "    print(order, abscissas.round(3), weights.round(3))"
   ]
  },
  {
   "cell_type": "code",
   "execution_count": null,
   "metadata": {},
   "outputs": [],
   "source": [
    "abscissas"
   ]
  },
  {
   "cell_type": "code",
   "execution_count": null,
   "metadata": {},
   "outputs": [],
   "source": [
    "weights"
   ]
  },
  {
   "cell_type": "code",
   "execution_count": null,
   "metadata": {},
   "outputs": [],
   "source": [
    "evals2 = [foo(coord,sample) for sample in abscissas.T]"
   ]
  },
  {
   "cell_type": "code",
   "execution_count": null,
   "metadata": {},
   "outputs": [],
   "source": [
    "plt.plot(evals2)"
   ]
  },
  {
   "cell_type": "markdown",
   "metadata": {},
   "source": [
    "# Office Hours Notes"
   ]
  },
  {
   "cell_type": "markdown",
   "metadata": {},
   "source": [
    "Try to solve for multiple one dimensional problems and see how they look"
   ]
  },
  {
   "cell_type": "code",
   "execution_count": null,
   "metadata": {},
   "outputs": [],
   "source": [
    "# https://en.wikipedia.org/wiki/Gaussian_quadrature"
   ]
  },
  {
   "cell_type": "code",
   "execution_count": null,
   "metadata": {},
   "outputs": [],
   "source": [
    "distribution_x = cp.J(cp.Normal(),cp.Normal(),cp.Normal())\n",
    "distribution_y = cp.J(cp.Uniform(0,1),cp.Uniform(0,1))"
   ]
  },
  {
   "cell_type": "code",
   "execution_count": null,
   "metadata": {},
   "outputs": [],
   "source": [
    "abscissas,weights = cp.generate_quadrature(3,distribution_x,sparse=False)"
   ]
  },
  {
   "cell_type": "code",
   "execution_count": null,
   "metadata": {},
   "outputs": [],
   "source": [
    "# https://chaospy.readthedocs.io/en/master/tutorial.html\n",
    "def foo(coord,param):\n",
    "    return 6 + 2 * np.power(param[0],2) + 0.2 * np.power(param[0],3) + 2.3 * param[0] * param[1] - 1.5 * np.power(param[1],2) - 0.8 * param[2]"
   ]
  },
  {
   "cell_type": "code",
   "execution_count": null,
   "metadata": {},
   "outputs": [],
   "source": [
    "x1 = np.linspace(-3,3,10)\n",
    "x2 = np.linspace(-3,3,10)\n",
    "x3 = np.linspace(-3,3,10)"
   ]
  },
  {
   "cell_type": "code",
   "execution_count": null,
   "metadata": {},
   "outputs": [],
   "source": [
    "coord = np.meshgrid(x1,x2,x3)"
   ]
  },
  {
   "cell_type": "code",
   "execution_count": null,
   "metadata": {},
   "outputs": [],
   "source": [
    "samples = distribution_x.sample(50)"
   ]
  },
  {
   "cell_type": "code",
   "execution_count": null,
   "metadata": {},
   "outputs": [],
   "source": [
    "orthogonal_expansion = cp.orth_ttr(3, distribution_x)"
   ]
  },
  {
   "cell_type": "code",
   "execution_count": null,
   "metadata": {},
   "outputs": [],
   "source": [
    "orthogonal_expansion"
   ]
  },
  {
   "cell_type": "code",
   "execution_count": null,
   "metadata": {},
   "outputs": [],
   "source": [
    "samples = distribution_x.sample(20*len(orthogonal_expansion), rule=\"hammersley\")"
   ]
  },
  {
   "cell_type": "code",
   "execution_count": null,
   "metadata": {},
   "outputs": [],
   "source": [
    "solves = np.array([foo(0,sample) for sample in samples.T])"
   ]
  },
  {
   "cell_type": "code",
   "execution_count": null,
   "metadata": {},
   "outputs": [],
   "source": [
    "plt.plot(solves)"
   ]
  },
  {
   "cell_type": "code",
   "execution_count": null,
   "metadata": {},
   "outputs": [],
   "source": [
    "approx_model = cp.fit_regression(orthogonal_expansion, samples, solves)"
   ]
  },
  {
   "cell_type": "code",
   "execution_count": null,
   "metadata": {},
   "outputs": [],
   "source": [
    "df_Compare = pd.DataFrame({\"Coefficient\":approx_model.coefficients,\n",
    "                           0:approx_model.exponents[:,0],\n",
    "                           1:approx_model.exponents[:,1],\n",
    "                           2:approx_model.exponents[:,2]})"
   ]
  },
  {
   "cell_type": "code",
   "execution_count": null,
   "metadata": {},
   "outputs": [],
   "source": [
    "df_Compare"
   ]
  },
  {
   "cell_type": "code",
   "execution_count": null,
   "metadata": {},
   "outputs": [],
   "source": [
    "def matrixToEquation(coefsDF,varsArray):\n",
    "    valueToReturn = 0.0\n",
    "    for i,row in coefsDF.iterrows():\n",
    "        rowValue = row[\"Coefficient\"]\n",
    "        for j,var in enumerate(varsArray):\n",
    "            rowValue *= np.power(var,row[j])\n",
    "        valueToReturn += rowValue\n",
    "    return valueToReturn"
   ]
  },
  {
   "cell_type": "code",
   "execution_count": null,
   "metadata": {},
   "outputs": [],
   "source": [
    "matrixToEquation(df_Compare,[1,1,1])"
   ]
  },
  {
   "cell_type": "code",
   "execution_count": null,
   "metadata": {},
   "outputs": [],
   "source": [
    "foo(0,[1,1,1])"
   ]
  },
  {
   "cell_type": "code",
   "execution_count": null,
   "metadata": {},
   "outputs": [],
   "source": [
    "approx_model.exponents[:,0]"
   ]
  },
  {
   "cell_type": "code",
   "execution_count": null,
   "metadata": {},
   "outputs": [],
   "source": [
    "approx_model.names"
   ]
  },
  {
   "cell_type": "code",
   "execution_count": null,
   "metadata": {},
   "outputs": [],
   "source": [
    "a = approx_model.round(2)"
   ]
  },
  {
   "cell_type": "code",
   "execution_count": null,
   "metadata": {},
   "outputs": [],
   "source": [
    "str_version = str(approx_model)"
   ]
  },
  {
   "cell_type": "code",
   "execution_count": null,
   "metadata": {},
   "outputs": [],
   "source": [
    "str_version"
   ]
  },
  {
   "cell_type": "code",
   "execution_count": null,
   "metadata": {},
   "outputs": [],
   "source": [
    "str_version_parts = str_version.replace('-','|-').replace('+','|').split('|')"
   ]
  },
  {
   "cell_type": "code",
   "execution_count": null,
   "metadata": {},
   "outputs": [],
   "source": [
    "str_version_parts"
   ]
  },
  {
   "cell_type": "code",
   "execution_count": null,
   "metadata": {},
   "outputs": [],
   "source": [
    "for part in str_version_parts:\n",
    "    if 'q0' in part:\n",
    "        print(part)"
   ]
  },
  {
   "cell_type": "code",
   "execution_count": null,
   "metadata": {},
   "outputs": [],
   "source": [
    "def convertModelToEquation(approx_model):\n",
    "    str_version = str(approx_model)\n",
    "    str_version_parts = str_version.replace('-','|-').replace('+','|+').split('|')"
   ]
  },
  {
   "cell_type": "markdown",
   "metadata": {},
   "source": [
    "# Clean up and submit"
   ]
  },
  {
   "cell_type": "code",
   "execution_count": null,
   "metadata": {},
   "outputs": [],
   "source": [
    "# Per office hours, treating as least squares and comparing"
   ]
  },
  {
   "cell_type": "markdown",
   "metadata": {},
   "source": [
    "In this code verification task, verify your codes by testing whether it can separately recover the following two target functions (intentionally chosen to be polynomial):\n",
    "\n",
    "$$f(x_1,...,x_2)=6+2x_1^2+0.2x_1^3+2.3x_1x_2-1.5x_2^2-0.8x_3$$\n",
    "\n",
    "$$g(y_1,y_2)=-15+0.05y_2^2+3.2y_1y_2+0.3y_2^2$$"
   ]
  },
  {
   "cell_type": "code",
   "execution_count": null,
   "metadata": {},
   "outputs": [],
   "source": [
    "distribution_x = cp.J(cp.Normal(),cp.Normal(),cp.Normal())\n",
    "distribution_y = cp.J(cp.Uniform(0,1),cp.Uniform(0,1))"
   ]
  },
  {
   "cell_type": "code",
   "execution_count": null,
   "metadata": {},
   "outputs": [],
   "source": [
    "abscissas,weights = cp.generate_quadrature(3,distribution_x,sparse=False)"
   ]
  },
  {
   "cell_type": "code",
   "execution_count": null,
   "metadata": {},
   "outputs": [],
   "source": [
    "# https://chaospy.readthedocs.io/en/master/tutorial.html\n",
    "def foo(coord,param):\n",
    "    return 6 + 2 * np.power(param[0],2) + 0.2 * np.power(param[0],3) + 2.3 * param[0] * param[1] - 1.5 * np.power(param[1],2) - 0.8 * param[2]"
   ]
  },
  {
   "cell_type": "code",
   "execution_count": null,
   "metadata": {},
   "outputs": [],
   "source": [
    "x1 = np.linspace(-3,3,10)\n",
    "x2 = np.linspace(-3,3,10)\n",
    "x3 = np.linspace(-3,3,10)"
   ]
  },
  {
   "cell_type": "code",
   "execution_count": null,
   "metadata": {},
   "outputs": [],
   "source": [
    "coord = np.meshgrid(x1,x2,x3)"
   ]
  },
  {
   "cell_type": "code",
   "execution_count": null,
   "metadata": {},
   "outputs": [],
   "source": [
    "coefs_x = [6,2,0.2,2.3,-1.5,-0.8]\n",
    "x1_x = [0,2,3,1,0,0]\n",
    "x2_x = [0,0,0,1,2,0]\n",
    "x3_x = [0,0,0,0,0,1]\n",
    "df_x = pd.DataFrame({\"Coefficient\":coefs_x,0:x1_x,1:x2_x,2:x3_x})\n",
    "df_x"
   ]
  },
  {
   "cell_type": "code",
   "execution_count": null,
   "metadata": {},
   "outputs": [],
   "source": [
    "coefs_y = [-15,0.05,3.2,0.3]\n",
    "y1_y = [0,0,1,0]\n",
    "y2_y = [0,2,1,2]\n",
    "df_y = pd.DataFrame({\"Coefficient\":coefs_y,0:y1_y,1:y2_y})\n",
    "df_y"
   ]
  },
  {
   "cell_type": "code",
   "execution_count": null,
   "metadata": {},
   "outputs": [],
   "source": [
    "def matrixToEquation(coefsDF,varsArray):\n",
    "    valueToReturn = 0.0\n",
    "    for i,row in coefsDF.iterrows():\n",
    "        rowValue = row[\"Coefficient\"]\n",
    "        for j,var in enumerate(varsArray):\n",
    "            rowValue *= np.power(var,row[j])\n",
    "        valueToReturn += rowValue\n",
    "    return valueToReturn"
   ]
  },
  {
   "cell_type": "code",
   "execution_count": null,
   "metadata": {},
   "outputs": [],
   "source": [
    "# https://en.wikipedia.org/wiki/Gaussian_quadrature"
   ]
  },
  {
   "cell_type": "code",
   "execution_count": null,
   "metadata": {},
   "outputs": [],
   "source": [
    "# this is kludgy, but pass th two coefficinent matrices and an array of variables where:\n",
    "# the place which is (min,max) is the study (non-fixed) variable and the other values are fixed\n",
    "def plotComparison(correctCoefs,generatedCoefs,arr,title='',nSamples=100):\n",
    "    correctEvaluations = []\n",
    "    generatedEvaluations = []\n",
    "    indexOfVariable = [i for i in range(len(arr)) if type(arr[i]) == tuple][0]\n",
    "    lowerBound = arr[indexOfVariable][0]\n",
    "    upperBound = arr[indexOfVariable][1]\n",
    "    varValues = np.linspace(lowerBound,upperBound,nSamples)\n",
    "    for varValue in varValues:\n",
    "        variableInput = []\n",
    "        for varLoc,varVal in enumerate(arr):\n",
    "            if varLoc == indexOfVariable:\n",
    "                variableInput.append(varValue)\n",
    "            else:\n",
    "                variableInput.append(varVal)\n",
    "        correctEvaluation = matrixToEquation(correctCoefs,variableInput)\n",
    "        generatedEvaluation = matrixToEquation(generatedCoefs,variableInput)\n",
    "        correctEvaluations.append(correctEvaluation)\n",
    "        generatedEvaluations.append(generatedEvaluation)\n",
    "    fig,ax = plt.subplots(figsize=(10,10))\n",
    "    ax.plot(varValues,correctEvaluations,label=\"Correct\")\n",
    "    ax.plot(varValues,generatedEvaluations,label=\"Test\")"
   ]
  },
  {
   "cell_type": "markdown",
   "metadata": {},
   "source": [
    "## Equation X"
   ]
  },
  {
   "cell_type": "code",
   "execution_count": null,
   "metadata": {},
   "outputs": [],
   "source": [
    "# sampleRule = \"gaussian\", \"gauss_legendre\"\n",
    "def generatePolynomialSurrogate(distribution,simulationDistribution,order,sampleScaling,sampleRule=\"gauss_legendre\"):\n",
    "    orthogonal_expansion = cp.orth_ttr(3, distribution)\n",
    "#     samples = distribution_x.sample(sampleScaling*len(orthogonal_expansion), rule=\"hammersley\")\n",
    "    samples,weights = cp.generate_quadrature(order,distribution,rule=sampleRule)\n",
    "    solves = np.array([matrixToEquation(simulationDistribution,sample) for sample in samples.T])\n",
    "    approx_model = cp.fit_regression(orthogonal_expansion, samples, solves)\n",
    "    nVars = approx_model.exponents.shape[1]\n",
    "    dataDict = {'Coefficient':approx_model.coefficients}\n",
    "    for varIndex in range(0,nVars):\n",
    "        dataDict[varIndex] = approx_model.exponents[:,varIndex]\n",
    "    df_Generated = pd.DataFrame(dataDict)\n",
    "    return df_Generated"
   ]
  },
  {
   "cell_type": "code",
   "execution_count": null,
   "metadata": {},
   "outputs": [],
   "source": [
    "df_Generated = generatePolynomialSurrogate(distribution_x,df_x,2,2,sampleRule=\"gaussian\")"
   ]
  },
  {
   "cell_type": "code",
   "execution_count": null,
   "metadata": {},
   "outputs": [],
   "source": [
    "plotComparison(df_x,df_Generated,[1,(-10,10),0])"
   ]
  },
  {
   "cell_type": "code",
   "execution_count": null,
   "metadata": {},
   "outputs": [],
   "source": [
    "orthogonal_expansion = cp.orth_ttr(3, distribution_x)"
   ]
  },
  {
   "cell_type": "code",
   "execution_count": null,
   "metadata": {},
   "outputs": [],
   "source": [
    "samples = distribution_x.sample(2*len(orthogonal_expansion), rule=\"hammersley\")"
   ]
  },
  {
   "cell_type": "code",
   "execution_count": null,
   "metadata": {},
   "outputs": [],
   "source": [
    "solves = np.array([foo(0,sample) for sample in samples.T])"
   ]
  },
  {
   "cell_type": "code",
   "execution_count": null,
   "metadata": {},
   "outputs": [],
   "source": [
    "approx_model = cp.fit_regression(orthogonal_expansion, samples, solves)"
   ]
  },
  {
   "cell_type": "code",
   "execution_count": null,
   "metadata": {},
   "outputs": [],
   "source": [
    "df_Compare = pd.DataFrame({\"Coefficient\":approx_model.coefficients,\n",
    "                           0:approx_model.exponents[:,0],\n",
    "                           1:approx_model.exponents[:,1],\n",
    "                           2:approx_model.exponents[:,2]})\n",
    "df_Compare"
   ]
  },
  {
   "cell_type": "code",
   "execution_count": null,
   "metadata": {},
   "outputs": [],
   "source": [
    "matrixToEquation(df_Compare,[1,1,1])"
   ]
  },
  {
   "cell_type": "code",
   "execution_count": null,
   "metadata": {},
   "outputs": [],
   "source": [
    "matrixToEquation(df_x,[1,1,1])"
   ]
  },
  {
   "cell_type": "code",
   "execution_count": null,
   "metadata": {},
   "outputs": [],
   "source": [
    "plotComparison(df_x,df_Compare,[1,(0,10),0])"
   ]
  },
  {
   "cell_type": "markdown",
   "metadata": {},
   "source": [
    "## Equation Y"
   ]
  },
  {
   "cell_type": "code",
   "execution_count": null,
   "metadata": {},
   "outputs": [],
   "source": [
    "df_Generated = generatePolynomialSurrogate(distribution_y,df_y,2,2,sampleRule=\"gauss_legendre\")"
   ]
  },
  {
   "cell_type": "code",
   "execution_count": null,
   "metadata": {},
   "outputs": [],
   "source": [
    "plotComparison(df_y,df_Generated,[1,(-10,10)])"
   ]
  },
  {
   "cell_type": "code",
   "execution_count": null,
   "metadata": {},
   "outputs": [],
   "source": [
    "orthogonal_expansion = cp.orth_ttr(2, distribution_y)"
   ]
  },
  {
   "cell_type": "code",
   "execution_count": null,
   "metadata": {},
   "outputs": [],
   "source": [
    "samples = distribution_y.sample(2*len(orthogonal_expansion), rule=\"hammersley\")"
   ]
  },
  {
   "cell_type": "code",
   "execution_count": null,
   "metadata": {},
   "outputs": [],
   "source": [
    "solves = np.array([matrixToEquation(df_y,sample) for sample in samples.T])"
   ]
  },
  {
   "cell_type": "code",
   "execution_count": null,
   "metadata": {},
   "outputs": [],
   "source": [
    "approx_model = cp.fit_regression(orthogonal_expansion, samples, solves)"
   ]
  },
  {
   "cell_type": "code",
   "execution_count": null,
   "metadata": {},
   "outputs": [],
   "source": [
    "df_Compare = pd.DataFrame({\"Coefficient\":approx_model.coefficients,\n",
    "                           0:approx_model.exponents[:,0],\n",
    "                           1:approx_model.exponents[:,1],\n",
    "                          })\n",
    "df_Compare"
   ]
  },
  {
   "cell_type": "code",
   "execution_count": null,
   "metadata": {},
   "outputs": [],
   "source": [
    "matrixToEquation(df_Compare,[1,1])"
   ]
  },
  {
   "cell_type": "code",
   "execution_count": null,
   "metadata": {},
   "outputs": [],
   "source": [
    "matrixToEquation(df_y,[1,1])"
   ]
  },
  {
   "cell_type": "code",
   "execution_count": null,
   "metadata": {},
   "outputs": [],
   "source": [
    "plotComparison(df_y,df_Compare,[1,(0,10)])"
   ]
  },
  {
   "cell_type": "code",
   "execution_count": null,
   "metadata": {},
   "outputs": [],
   "source": []
  }
 ],
 "metadata": {
  "kernelspec": {
   "display_name": "Python 3",
   "language": "python",
   "name": "python3"
  },
  "language_info": {
   "codemirror_mode": {
    "name": "ipython",
    "version": 3
   },
   "file_extension": ".py",
   "mimetype": "text/x-python",
   "name": "python",
   "nbconvert_exporter": "python",
   "pygments_lexer": "ipython3",
   "version": "3.7.6"
  }
 },
 "nbformat": 4,
 "nbformat_minor": 4
}
