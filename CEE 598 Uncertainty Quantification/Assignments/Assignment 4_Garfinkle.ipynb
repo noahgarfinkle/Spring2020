{
 "cells": [
  {
   "cell_type": "markdown",
   "metadata": {},
   "source": [
    "# CEE 598: Uncertainty Quantification\n",
    "## Assignment Four\n",
    "### Noah Garfinkle (garfink2@illinois edu)\n",
    "### 12 March 2020"
   ]
  },
  {
   "cell_type": "markdown",
   "metadata": {},
   "source": [
    "## Problem 1."
   ]
  },
  {
   "cell_type": "markdown",
   "metadata": {},
   "source": [
    "Consider a modification of the famous \"braking data\" of Tukey (1977) given below.  Note that for some speed ($x$) values two distance ($y$) values are given and separated by a comma.  The two values are obtained from two independent experiments.  A quadratic model is to be built resulting in the following measurement equation\n",
    "\n",
    "$$\n",
    "y = a + bx + cx^2 + \\epsilon\n",
    "$$\n",
    "\n",
    "where $\\epsilon \\sim N(0,\\sigma^2 = 2^2)$.  We need to estimate the parameters $a$, $b$, and $c$ in this model in a probabilistic way.  Consider the prior density fucntions of these parameters are given as follows:\n",
    "\n",
    "$$\n",
    "a \\sim \\pi(a) = N(1,\\sigma^2=5^2)\n",
    "$$\n",
    "\n",
    "$$\n",
    "b \\sim \\pi(b) = N(0.2,\\sigma^2=0.05^2)\n",
    "$$\n",
    "\n",
    "and\n",
    "\n",
    "$$\n",
    "c \\sim \\pi(c) = N(0.2,\\sigma^2=0.05^2)\n",
    "$$\n",
    "\n",
    "Use your Metropolis-Hastings code to generate the posterior histograms of these three parameters, using 10,000 posterior samples.  You can choose the proposal however you like.  Discuss:\n",
    "\n",
    "- Your choice of proposal,\n",
    "- It's impact on the outcome,\n",
    "- The convergence property,\n",
    "- Acceptance rates, and\n",
    "- Other interesting points about your results"
   ]
  },
  {
   "cell_type": "code",
   "execution_count": null,
   "metadata": {},
   "outputs": [],
   "source": []
  }
 ],
 "metadata": {
  "kernelspec": {
   "display_name": "Python 3",
   "language": "python",
   "name": "python3"
  },
  "language_info": {
   "codemirror_mode": {
    "name": "ipython",
    "version": 3
   },
   "file_extension": ".py",
   "mimetype": "text/x-python",
   "name": "python",
   "nbconvert_exporter": "python",
   "pygments_lexer": "ipython3",
   "version": "3.7.4"
  }
 },
 "nbformat": 4,
 "nbformat_minor": 4
}
