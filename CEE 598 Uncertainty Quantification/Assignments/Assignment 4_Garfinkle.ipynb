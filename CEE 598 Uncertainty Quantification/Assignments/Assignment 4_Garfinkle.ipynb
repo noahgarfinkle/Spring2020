{
 "cells": [
  {
   "cell_type": "markdown",
   "metadata": {},
   "source": [
    "# CEE 598: Uncertainty Quantification\n",
    "## Assignment Four\n",
    "### Noah Garfinkle (garfink2@illinois edu)\n",
    "### 12 March 2020"
   ]
  },
  {
   "cell_type": "markdown",
   "metadata": {},
   "source": [
    "## Imports and Setup"
   ]
  },
  {
   "cell_type": "code",
   "execution_count": 1,
   "metadata": {},
   "outputs": [],
   "source": [
    "import numpy as np\n",
    "import matplotlib.pyplot as plt\n",
    "import seaborn as sns\n",
    "import scipy.stats as stats\n",
    "import ipywidgets as widgets\n",
    "from ipywidgets import interact, interact_manual\n",
    "import pandas as pd\n",
    "import time"
   ]
  },
  {
   "cell_type": "markdown",
   "metadata": {},
   "source": [
    "## Problem 1."
   ]
  },
  {
   "cell_type": "markdown",
   "metadata": {},
   "source": [
    "Consider a modification of the famous \"braking data\" of Tukey (1977) given below.  Note that for some speed ($x$) values two distance ($y$) values are given and separated by a comma.  The two values are obtained from two independent experiments.  A quadratic model is to be built resulting in the following measurement equation\n",
    "\n",
    "$$\n",
    "y = a + bx + cx^2 + \\epsilon\n",
    "$$\n",
    "\n",
    "where $\\epsilon \\sim N(0,\\sigma^2 = 2^2)$.  We need to estimate the parameters $a$, $b$, and $c$ in this model in a probabilistic way.  Consider the prior density fucntions of these parameters are given as follows:\n",
    "\n",
    "$$\n",
    "a \\sim \\pi(a) = N(1,\\sigma^2=5^2)\n",
    "$$\n",
    "\n",
    "$$\n",
    "b \\sim \\pi(b) = N(0.2,\\sigma^2=0.05^2)\n",
    "$$\n",
    "\n",
    "and\n",
    "\n",
    "$$\n",
    "c \\sim \\pi(c) = N(0.2,\\sigma^2=0.05^2)\n",
    "$$\n",
    "\n",
    "Use your Metropolis-Hastings code to generate the posterior histograms of these three parameters, using 10,000 posterior samples.  You can choose the proposal however you like.  Discuss:\n",
    "\n",
    "- Your choice of proposal,\n",
    "- It's impact on the outcome,\n",
    "- The convergence property,\n",
    "- Acceptance rates, and\n",
    "- Other interesting points about your results"
   ]
  },
  {
   "cell_type": "markdown",
   "metadata": {},
   "source": [
    "Methodology\n",
    "\n",
    "- Generate random pulls of a,b,c\n",
    "- Use those to calculate y for a breaking value and compare to the actual\n",
    "- Center the error function on y and use that to estimate the liklihood\n",
    "- Use the liklihood as part of the MCMC acceptance criteria\n",
    "- Instead of having one accepted argument, I will have three (a,b,c)\n",
    "- Plot those as the posterior histograms?  Or use Bayes rule?"
   ]
  },
  {
   "cell_type": "code",
   "execution_count": 79,
   "metadata": {},
   "outputs": [],
   "source": [
    "xs = [4,7,8,9,10,11,12,13,14,15,16,17,18,19,20,22,23,24,25]\n",
    "ys_1 = [2,4,16,10,18,17,14,26,26,20,32,32,42,36,32,66,54,70,85]\n",
    "ys_2 = [10,22,None,None,26,28,20,34,36,26,40,40,56,46,48,None,None,92,None]\n",
    "df_prob1 = pd.DataFrame({\"x\":xs,\"y1\":ys_1,\"y2\":ys_2})"
   ]
  },
  {
   "cell_type": "code",
   "execution_count": 92,
   "metadata": {},
   "outputs": [],
   "source": [
    "xs = []\n",
    "ys = []\n",
    "for i,row in df_prob1.iterrows():\n",
    "    xs.append(row[\"x\"])\n",
    "    ys.append(row[\"y1\"])\n",
    "    if not row.isna()[\"y2\"]:\n",
    "        xs.append(row[\"x\"])\n",
    "        ys.append(row[\"y2\"])\n",
    "df_prob1 = pd.DataFrame({\"x\":xs,\"y\":ys})"
   ]
  },
  {
   "cell_type": "code",
   "execution_count": 93,
   "metadata": {},
   "outputs": [
    {
     "data": {
      "text/html": [
       "<div>\n",
       "<style scoped>\n",
       "    .dataframe tbody tr th:only-of-type {\n",
       "        vertical-align: middle;\n",
       "    }\n",
       "\n",
       "    .dataframe tbody tr th {\n",
       "        vertical-align: top;\n",
       "    }\n",
       "\n",
       "    .dataframe thead th {\n",
       "        text-align: right;\n",
       "    }\n",
       "</style>\n",
       "<table border=\"1\" class=\"dataframe\">\n",
       "  <thead>\n",
       "    <tr style=\"text-align: right;\">\n",
       "      <th></th>\n",
       "      <th>x</th>\n",
       "      <th>y</th>\n",
       "    </tr>\n",
       "  </thead>\n",
       "  <tbody>\n",
       "    <tr>\n",
       "      <th>0</th>\n",
       "      <td>4.0</td>\n",
       "      <td>2.0</td>\n",
       "    </tr>\n",
       "    <tr>\n",
       "      <th>1</th>\n",
       "      <td>4.0</td>\n",
       "      <td>10.0</td>\n",
       "    </tr>\n",
       "    <tr>\n",
       "      <th>2</th>\n",
       "      <td>7.0</td>\n",
       "      <td>4.0</td>\n",
       "    </tr>\n",
       "    <tr>\n",
       "      <th>3</th>\n",
       "      <td>7.0</td>\n",
       "      <td>22.0</td>\n",
       "    </tr>\n",
       "    <tr>\n",
       "      <th>4</th>\n",
       "      <td>8.0</td>\n",
       "      <td>16.0</td>\n",
       "    </tr>\n",
       "    <tr>\n",
       "      <th>5</th>\n",
       "      <td>9.0</td>\n",
       "      <td>10.0</td>\n",
       "    </tr>\n",
       "    <tr>\n",
       "      <th>6</th>\n",
       "      <td>10.0</td>\n",
       "      <td>18.0</td>\n",
       "    </tr>\n",
       "    <tr>\n",
       "      <th>7</th>\n",
       "      <td>10.0</td>\n",
       "      <td>26.0</td>\n",
       "    </tr>\n",
       "    <tr>\n",
       "      <th>8</th>\n",
       "      <td>11.0</td>\n",
       "      <td>17.0</td>\n",
       "    </tr>\n",
       "    <tr>\n",
       "      <th>9</th>\n",
       "      <td>11.0</td>\n",
       "      <td>28.0</td>\n",
       "    </tr>\n",
       "    <tr>\n",
       "      <th>10</th>\n",
       "      <td>12.0</td>\n",
       "      <td>14.0</td>\n",
       "    </tr>\n",
       "    <tr>\n",
       "      <th>11</th>\n",
       "      <td>12.0</td>\n",
       "      <td>20.0</td>\n",
       "    </tr>\n",
       "    <tr>\n",
       "      <th>12</th>\n",
       "      <td>13.0</td>\n",
       "      <td>26.0</td>\n",
       "    </tr>\n",
       "    <tr>\n",
       "      <th>13</th>\n",
       "      <td>13.0</td>\n",
       "      <td>34.0</td>\n",
       "    </tr>\n",
       "    <tr>\n",
       "      <th>14</th>\n",
       "      <td>14.0</td>\n",
       "      <td>26.0</td>\n",
       "    </tr>\n",
       "    <tr>\n",
       "      <th>15</th>\n",
       "      <td>14.0</td>\n",
       "      <td>36.0</td>\n",
       "    </tr>\n",
       "    <tr>\n",
       "      <th>16</th>\n",
       "      <td>15.0</td>\n",
       "      <td>20.0</td>\n",
       "    </tr>\n",
       "    <tr>\n",
       "      <th>17</th>\n",
       "      <td>15.0</td>\n",
       "      <td>26.0</td>\n",
       "    </tr>\n",
       "    <tr>\n",
       "      <th>18</th>\n",
       "      <td>16.0</td>\n",
       "      <td>32.0</td>\n",
       "    </tr>\n",
       "    <tr>\n",
       "      <th>19</th>\n",
       "      <td>16.0</td>\n",
       "      <td>40.0</td>\n",
       "    </tr>\n",
       "    <tr>\n",
       "      <th>20</th>\n",
       "      <td>17.0</td>\n",
       "      <td>32.0</td>\n",
       "    </tr>\n",
       "    <tr>\n",
       "      <th>21</th>\n",
       "      <td>17.0</td>\n",
       "      <td>40.0</td>\n",
       "    </tr>\n",
       "    <tr>\n",
       "      <th>22</th>\n",
       "      <td>18.0</td>\n",
       "      <td>42.0</td>\n",
       "    </tr>\n",
       "    <tr>\n",
       "      <th>23</th>\n",
       "      <td>18.0</td>\n",
       "      <td>56.0</td>\n",
       "    </tr>\n",
       "    <tr>\n",
       "      <th>24</th>\n",
       "      <td>19.0</td>\n",
       "      <td>36.0</td>\n",
       "    </tr>\n",
       "    <tr>\n",
       "      <th>25</th>\n",
       "      <td>19.0</td>\n",
       "      <td>46.0</td>\n",
       "    </tr>\n",
       "    <tr>\n",
       "      <th>26</th>\n",
       "      <td>20.0</td>\n",
       "      <td>32.0</td>\n",
       "    </tr>\n",
       "    <tr>\n",
       "      <th>27</th>\n",
       "      <td>20.0</td>\n",
       "      <td>48.0</td>\n",
       "    </tr>\n",
       "    <tr>\n",
       "      <th>28</th>\n",
       "      <td>22.0</td>\n",
       "      <td>66.0</td>\n",
       "    </tr>\n",
       "    <tr>\n",
       "      <th>29</th>\n",
       "      <td>23.0</td>\n",
       "      <td>54.0</td>\n",
       "    </tr>\n",
       "    <tr>\n",
       "      <th>30</th>\n",
       "      <td>24.0</td>\n",
       "      <td>70.0</td>\n",
       "    </tr>\n",
       "    <tr>\n",
       "      <th>31</th>\n",
       "      <td>24.0</td>\n",
       "      <td>92.0</td>\n",
       "    </tr>\n",
       "    <tr>\n",
       "      <th>32</th>\n",
       "      <td>25.0</td>\n",
       "      <td>85.0</td>\n",
       "    </tr>\n",
       "  </tbody>\n",
       "</table>\n",
       "</div>"
      ],
      "text/plain": [
       "       x     y\n",
       "0    4.0   2.0\n",
       "1    4.0  10.0\n",
       "2    7.0   4.0\n",
       "3    7.0  22.0\n",
       "4    8.0  16.0\n",
       "5    9.0  10.0\n",
       "6   10.0  18.0\n",
       "7   10.0  26.0\n",
       "8   11.0  17.0\n",
       "9   11.0  28.0\n",
       "10  12.0  14.0\n",
       "11  12.0  20.0\n",
       "12  13.0  26.0\n",
       "13  13.0  34.0\n",
       "14  14.0  26.0\n",
       "15  14.0  36.0\n",
       "16  15.0  20.0\n",
       "17  15.0  26.0\n",
       "18  16.0  32.0\n",
       "19  16.0  40.0\n",
       "20  17.0  32.0\n",
       "21  17.0  40.0\n",
       "22  18.0  42.0\n",
       "23  18.0  56.0\n",
       "24  19.0  36.0\n",
       "25  19.0  46.0\n",
       "26  20.0  32.0\n",
       "27  20.0  48.0\n",
       "28  22.0  66.0\n",
       "29  23.0  54.0\n",
       "30  24.0  70.0\n",
       "31  24.0  92.0\n",
       "32  25.0  85.0"
      ]
     },
     "execution_count": 93,
     "metadata": {},
     "output_type": "execute_result"
    }
   ],
   "source": [
    "df_prob1"
   ]
  },
  {
   "cell_type": "code",
   "execution_count": 102,
   "metadata": {},
   "outputs": [
    {
     "data": {
      "text/plain": [
       "Text(0, 0.5, '$y$ = distance to stop (feet)')"
      ]
     },
     "execution_count": 102,
     "metadata": {},
     "output_type": "execute_result"
    },
    {
     "data": {
      "image/png": "[encoded data removed]",
      "text/plain": [
       "<Figure size 360x360 with 1 Axes>"
      ]
     },
     "metadata": {
      "needs_background": "light"
     },
     "output_type": "display_data"
    }
   ],
   "source": [
    "fig,ax = plt.subplots(figsize=(5,5))\n",
    "sns.lineplot(\"x\",\"y\",data=df_prob1,ax=ax,label=\"Observations\",estimator=None,err_style=\"bars\")\n",
    "ax.legend()\n",
    "ax.set_title(\"Braking Data\")\n",
    "ax.set_xlabel(\"$x$ = speed (mph)\")\n",
    "ax.set_ylabel(\"$y$ = distance to stop (feet)\")"
   ]
  },
  {
   "cell_type": "code",
   "execution_count": 12,
   "metadata": {},
   "outputs": [
    {
     "data": {
      "text/plain": [
       "Text(0, 0.5, '$y$ = distance to stop (feet)')"
      ]
     },
     "execution_count": 12,
     "metadata": {},
     "output_type": "execute_result"
    },
    {
     "data": {
      "image/png": "[encoded data removed]",
      "text/plain": [
       "<Figure size 360x360 with 1 Axes>"
      ]
     },
     "metadata": {
      "needs_background": "light"
     },
     "output_type": "display_data"
    }
   ],
   "source": [
    "fig,ax = plt.subplots(figsize=(5,5))\n",
    "ax.plot(xs,ys_1,label=\"y1\",marker=\"*\")\n",
    "ax.plot(xs,ys_2,label=\"y2, if available\",marker=\"*\",ls=\"--\")\n",
    "ax.legend()\n",
    "ax.set_title(\"Braking Data\")\n",
    "ax.set_xlabel(\"$x$ = speed (mph)\")\n",
    "ax.set_ylabel(\"$y$ = distance to stop (feet)\")"
   ]
  },
  {
   "cell_type": "code",
   "execution_count": 9,
   "metadata": {},
   "outputs": [],
   "source": [
    "def π_normal(x,σ):\n",
    "    normalDist = stats.norm(loc=x,scale=σ)\n",
    "    proposedValue = normalDist.rvs()\n",
    "    return proposedValue"
   ]
  },
  {
   "cell_type": "code",
   "execution_count": 47,
   "metadata": {},
   "outputs": [],
   "source": [
    "def π(mean=[1,0.2,0.2,0],cov=np.diag([5,0.05,0.05,2])):\n",
    "    normalDist = stats.multivariate_normal(mean=mean,cov=cov)\n",
    "    proposedValues = normalDist.rvs()\n",
    "    return proposedValues"
   ]
  },
  {
   "cell_type": "code",
   "execution_count": 24,
   "metadata": {},
   "outputs": [],
   "source": [
    "def π(mean=[1,0.2,0.2],cov=np.diag([5,0.05,0.05])):\n",
    "    normalDist = stats.multivariate_normal(mean=mean,cov=cov)\n",
    "    proposedValues = normalDist.rvs()\n",
    "    return proposedValues"
   ]
  },
  {
   "cell_type": "code",
   "execution_count": 43,
   "metadata": {},
   "outputs": [],
   "source": [
    "ϵ=0.0"
   ]
  },
  {
   "cell_type": "code",
   "execution_count": 58,
   "metadata": {},
   "outputs": [],
   "source": [
    "a,b,c,ϵ = π()"
   ]
  },
  {
   "cell_type": "code",
   "execution_count": 59,
   "metadata": {},
   "outputs": [],
   "source": [
    "def predict_y(x,a,b,c,ϵ):\n",
    "    y = a + b * x + c * x * x + ϵ\n",
    "    return y"
   ]
  },
  {
   "cell_type": "code",
   "execution_count": 60,
   "metadata": {},
   "outputs": [],
   "source": [
    "predictions = [predict_y(x,a,b,c,ϵ) for x in xs]"
   ]
  },
  {
   "cell_type": "code",
   "execution_count": 61,
   "metadata": {},
   "outputs": [
    {
     "data": {
      "text/plain": [
       "Text(0, 0.5, '$y$ = distance to stop (feet)')"
      ]
     },
     "execution_count": 61,
     "metadata": {},
     "output_type": "execute_result"
    },
    {
     "data": {
      "image/png": "[encoded data removed]",
      "text/plain": [
       "<Figure size 360x360 with 1 Axes>"
      ]
     },
     "metadata": {
      "needs_background": "light"
     },
     "output_type": "display_data"
    }
   ],
   "source": [
    "fig,ax = plt.subplots(figsize=(5,5))\n",
    "ax.plot(xs,ys_1,label=\"y1\",marker=\"*\")\n",
    "ax.plot(xs,ys_2,label=\"y2, if available\",marker=\"*\",ls=\"--\")\n",
    "ax.plot(xs,predictions,label=\"Predictions\",marker='.')\n",
    "ax.legend()\n",
    "ax.set_title(\"Braking Data\")\n",
    "ax.set_xlabel(\"$x$ = speed (mph)\")\n",
    "ax.set_ylabel(\"$y$ = distance to stop (feet)\")"
   ]
  },
  {
   "cell_type": "markdown",
   "metadata": {},
   "source": [
    "Migrating and adapting my Metropolis-Hastings code from Assignment Three to function on multi-dimensional problems:"
   ]
  },
  {
   "cell_type": "code",
   "execution_count": null,
   "metadata": {},
   "outputs": [],
   "source": [
    "run code for abc, puy y value as mean of error, use log of liklihood\n",
    "log?(α)=logpzlogpd|z-logpz-logpd|z"
   ]
  },
  {
   "cell_type": "code",
   "execution_count": 62,
   "metadata": {},
   "outputs": [],
   "source": [
    "errorDist = stats.norm(loc=3,scale=1)"
   ]
  },
  {
   "cell_type": "code",
   "execution_count": 63,
   "metadata": {},
   "outputs": [
    {
     "data": {
      "text/plain": [
       "0.3969525474770118"
      ]
     },
     "execution_count": 63,
     "metadata": {},
     "output_type": "execute_result"
    }
   ],
   "source": [
    "errorDist.pdf(2.9)"
   ]
  },
  {
   "cell_type": "code",
   "execution_count": 64,
   "metadata": {},
   "outputs": [],
   "source": [
    "def f_errorCheck(x,σ,a,b,c,yActual):\n",
    "    prediction = predict_y(x,a,b,c,0.0)\n",
    "    errorDist = stats.norm(loc=prediction,scale=σ)\n",
    "    p = errorDist.pdf(yActual)\n",
    "    return p"
   ]
  },
  {
   "cell_type": "code",
   "execution_count": 68,
   "metadata": {},
   "outputs": [
    {
     "data": {
      "text/plain": [
       "0.0493301394867687"
      ]
     },
     "execution_count": 68,
     "metadata": {},
     "output_type": "execute_result"
    }
   ],
   "source": [
    "f_errorCheck(4,1,a,b,c,4)"
   ]
  },
  {
   "cell_type": "markdown",
   "metadata": {},
   "source": [
    "def f_rayleigh(x,σ):\n",
    "    p = x / np.power(σ,2)*np.exp(-np.power(x,2)/(2*np.power(σ,2)))\n",
    "    return p"
   ]
  },
  {
   "cell_type": "code",
   "execution_count": 18,
   "metadata": {},
   "outputs": [],
   "source": [
    "# I think what actually needs to happen here with my proposal is a normal distribution centered on x and with σ\n",
    "def q_x(x,σ):\n",
    "    normalDist = stats.norm(loc=x,scale=σ)\n",
    "    proposedValue = normalDist.rvs()\n",
    "    return proposedValue"
   ]
  },
  {
   "cell_type": "code",
   "execution_count": null,
   "metadata": {},
   "outputs": [],
   "source": [
    "n = 10\n",
    "a,b,c = π()\n",
    "iterations = []\n",
    "a_s = []\n",
    "b_s = []\n",
    "c_s = []\n",
    "proposedAs = []\n",
    "proposedBs = []\n",
    "proposedCs = []\n",
    "arr_Accepted = []\n",
    "for t in range(0,n):\n",
    "    # obtain a proposed value from q\n",
    "    proposed_a,proposed_b,proposed_c = π()\n",
    "    \n",
    "    # calculate the acceptance probability\n",
    "    acceptanceRatio = min(1,f_rayleigh(proposedValue,1) / f_rayleigh(x,1) * stats.norm.pdf(x,scale=σ_q,loc=proposedValue) / stats.norm.pdf(proposedValue,scale=σ_q,loc=x))\n",
    "    accepted = False\n",
    "    \n",
    "    if acceptanceRatio == 1: #accept\n",
    "        a = proposed_a\n",
    "        b = proposed_b\n",
    "        c = proposed_c\n",
    "        accepted = True\n",
    "    else: # draw a random number and take the probability from acceptanceRatio\n",
    "        rand = np.random.random()\n",
    "        if rand < acceptanceRatio:\n",
    "            a = proposed_a\n",
    "            b = proposed_b\n",
    "            c = proposed_c\n",
    "            accepted = True\n",
    "        else:\n",
    "            pass\n",
    "    iterations.append(t)\n",
    "    a_s.append(a)\n",
    "    b_s.append(b)\n",
    "    c_s.append(c)\n",
    "    proposedAs.append(proposed_a)\n",
    "    proposedBs.append(proposed_b)\n",
    "    proposedCs.append(proposed_c)\n",
    "    arr_Accepted.append(accepted)\n",
    "df = pd.DataFrame({\"t\":iterations,\"a\":a_s,\"b\":b_s,\"c\":c_s,\"proposals_a\":proposedAs,\n",
    "                   \"proposals_b\":proposedBs,\"proposals_c\":proposedCs,\"accepted\":arr_Accepted})\n",
    "\n",
    "df_Accepted = df[df[\"accepted\"]==True]\n",
    "df_Rejected = df[df[\"accepted\"]==False]\n",
    "\n",
    "fig,ax = plt.subplots(figsize=(10,5))\n",
    "ax.scatter(df_Accepted[\"t\"],df_Accepted[\"x\"],label=\"Accepted\",marker=\".\",color=\"green\")\n",
    "ax.scatter(df_Rejected[\"t\"],df_Rejected[\"proposals\"],label=\"Rejected\",marker=\"x\",color=\"red\")\n",
    "ax.legend()\n",
    "ax.set_xlabel(\"Iteration\")\n",
    "ax.set_ylabel(\"$x$\")\n",
    "\n",
    "xs = np.linspace(0,10,100)\n",
    "fs_rayleigh = [f_rayleigh(x,1) for x in xs]\n",
    "fig,ax = plt.subplots(figsize=(10,10))\n",
    "sns.lineplot(xs,fs_rayleigh,label=\"Rayleigh distribution\",ax=ax)\n",
    "sns.kdeplot(df[\"x\"],ax=ax,label=\"Metropolis Hastings\")\n",
    "ax.legend()"
   ]
  },
  {
   "cell_type": "code",
   "execution_count": 19,
   "metadata": {},
   "outputs": [],
   "source": [
    "def metropolisHastings(x=1.0,σ=1,σ_q=1,n=10000):\n",
    "    a,b,c = π()\n",
    "    iterations = []\n",
    "    a_s = []\n",
    "    b_s = []\n",
    "    c_s = []\n",
    "    proposedAs = []\n",
    "    proposedBs = []\n",
    "    proposedCs = []\n",
    "    arr_Accepted = []\n",
    "\n",
    "    for t in range(0,n):\n",
    "        # obtain a proposed value from q\n",
    "        proposedValue = q_x(x,σ_q)\n",
    "        proposed_a,proposed_b,proposed_c = π()\n",
    "        # calculate the acceptance probability\n",
    "        acceptanceRatio = min(1,f_rayleigh(proposedValue,1) / f_rayleigh(x,1) * stats.norm.pdf(x,scale=σ_q,loc=proposedValue) / stats.norm.pdf(proposedValue,scale=σ_q,loc=x))\n",
    "        accepted = False\n",
    "        if acceptanceRatio == 1: #accept\n",
    "            x = proposedValue\n",
    "            accepted = True\n",
    "        else: # draw a random number and take the probability from acceptanceRatio\n",
    "            rand = np.random.random()\n",
    "            if rand < acceptanceRatio:\n",
    "                x = proposedValue\n",
    "                accepted = True\n",
    "            else:\n",
    "                pass\n",
    "        iterations.append(t)\n",
    "        xs.append(x)\n",
    "        proposedXs.append(proposedValue)\n",
    "        arr_Accepted.append(accepted)\n",
    "    df = pd.DataFrame({\"t\":iterations,\"x\":xs,\"proposals\":proposedXs,\"accepted\":arr_Accepted})\n",
    "    \n",
    "    df_Accepted = df[df[\"accepted\"]==True]\n",
    "    df_Rejected = df[df[\"accepted\"]==False]\n",
    "\n",
    "    fig,ax = plt.subplots(figsize=(10,5))\n",
    "    ax.scatter(df_Accepted[\"t\"],df_Accepted[\"x\"],label=\"Accepted\",marker=\".\",color=\"green\")\n",
    "    ax.scatter(df_Rejected[\"t\"],df_Rejected[\"proposals\"],label=\"Rejected\",marker=\"x\",color=\"red\")\n",
    "    ax.legend()\n",
    "    ax.set_xlabel(\"Iteration\")\n",
    "    ax.set_ylabel(\"$x$\")\n",
    "    \n",
    "    xs = np.linspace(0,10,100)\n",
    "    fs_rayleigh = [f_rayleigh(x,1) for x in xs]\n",
    "    fig,ax = plt.subplots(figsize=(10,10))\n",
    "    sns.lineplot(xs,fs_rayleigh,label=\"Rayleigh distribution\",ax=ax)\n",
    "    sns.kdeplot(df[\"x\"],ax=ax,label=\"Metropolis Hastings\")\n",
    "    ax.legend()\n",
    "    \n",
    "    return df"
   ]
  },
  {
   "cell_type": "code",
   "execution_count": null,
   "metadata": {},
   "outputs": [],
   "source": [
    "metropolisHastings()"
   ]
  },
  {
   "cell_type": "markdown",
   "metadata": {},
   "source": [
    "## Problem Two"
   ]
  },
  {
   "cell_type": "markdown",
   "metadata": {},
   "source": [
    "You are asked to estimate the mechanical property (specifically the elastic modulus) of the material used in a set of manufactured truss members.  You have access to the experiments carried otu on a number of truss structures (as shown in the Figure) made from these elements.  Specifically, you are provided with the displacements at a number of nodes.  Assume all the truss bars have the same elastic modulus.\n",
    "\n",
    "In order to use Bayesian inference, a structural analysis code is provided that calculates the displacements under different loadings.  The code is available in the 'Truss Analysis' folder on Piazza, together with the documentation file ('Help.pdf').  Try to get familiar with the code and its inputs and outputs, and verify that for $YM=1e7$, your outputs match those given in the documentation.\n",
    "\n",
    "The measurement equation is as follows:\n",
    "\n",
    "$$\n",
    "y = g(E) + \\epsilon\n",
    "$$\n",
    "\n",
    "where $g(E)$ is the displacement given by the model and $\\epsilon \\sim N(0,\\sigma^2 = 0.01^2)$ is the measurement noise."
   ]
  },
  {
   "cell_type": "markdown",
   "metadata": {},
   "source": [
    "Approach:\n",
    "\n",
    "Because I am not familiar with MATLAB, I have opted to replicate the MATLAB functions Data.m and ST.m using Python."
   ]
  },
  {
   "cell_type": "markdown",
   "metadata": {},
   "source": [
    "Steps to run the MATLAB code for my reference:\n",
    "1. D=Data(1e7)\n",
    "2. [F,U,R] = ST(D)\n",
    "3. TP(D,U,20)"
   ]
  },
  {
   "cell_type": "code",
   "execution_count": 2,
   "metadata": {},
   "outputs": [],
   "source": [
    "class Data:\n",
    "    def __init__(self,YM):\n",
    "        self.YM = YM\n",
    "        self.Coord = []\n",
    "        self.Con = []\n",
    "        self.Re = []\n",
    "        self.Load = []\n",
    "        self.E = []\n",
    "        self.A = []\n",
    "        \n",
    "        self.createCoord()\n",
    "        self.createCon()\n",
    "        self.createRE()\n",
    "        self.createLoad()\n",
    "        self.createE()\n",
    "        self.createA()\n",
    "        \n",
    "    def createCoord(self):\n",
    "        coords=np.array([-37.5,0,200,37.5,0,200,-37.5,37.5,100,37.5,37.5,100,37.5,-37.5,100,-37.5,-37.5,100,-100,100,0,100,100,0,100,-100,0,-100,-100,0])\n",
    "        coords_x = []\n",
    "        coords_y = []\n",
    "        coords_z = []\n",
    "        index = 0\n",
    "        for coord in coords:\n",
    "            if index == 0:\n",
    "                coords_x.append(coord)\n",
    "            elif index == 1:\n",
    "                coords_y.append(coord)\n",
    "            elif index == 2:\n",
    "                coords_z.append(coord)\n",
    "            else:\n",
    "                print(\"ERROR\")\n",
    "            index += 1\n",
    "            if index == 3:\n",
    "                index = 0\n",
    "        df_coords = pd.DataFrame({\"x\":coords_x,\"y\":coords_y,\"z\":coords_z})\n",
    "        self.Coord = df_coords\n",
    "        \n",
    "    def createCon(self):\n",
    "        Con=[1,2,1,4,2,3,1,5,2,6,2,4,2,5,1,3,1,6,3,6,4,5,3,4,5,6,3,10,6,7,4,9,5,8,4,7,3,8,5,10,6,9,6,10,3,7,4,8,5,9]\n",
    "        con_starts = []\n",
    "        con_ends = []\n",
    "        index = 0\n",
    "        for node in Con:\n",
    "            if index == 0:\n",
    "                con_starts.append(node)\n",
    "            elif index == 1:\n",
    "                con_ends.append(node)\n",
    "            else:\n",
    "                print(\"ERROR\")\n",
    "            index += 1\n",
    "            if index == 2:\n",
    "                index = 0\n",
    "        df_connections = pd.DataFrame({\"start\":con_starts,\"end\":con_ends})\n",
    "        self.Con = df_connections\n",
    "    \n",
    "    def createRE(self):\n",
    "        Re = np.zeros((10,3))\n",
    "        Re[6:10,:] = 1\n",
    "        self.Re = Re\n",
    "    \n",
    "    def createLoad(self):\n",
    "        Load = np.array([[1,-10,-10],[0,-10,-10],[0.5,0,0],[0,0,0],[0,0,0],[0.6,0,0],[0,0,0],[0,0,0],[0,0,0],[0,0,0]]) * 1e3;\n",
    "        self.Load = Load\n",
    "    \n",
    "    def createE(self):\n",
    "        E = np.array([self.YM for i in range(0,25)])\n",
    "        self.E = E\n",
    "    \n",
    "    def createA(self):\n",
    "        A = np.array([.4,.1,.1,.1,.1,3.4,3.4,3.4,3.4,.4,.4,1.3,1.3,.9,.9,.9,.9,1,1,1,1,3.4,3.4,3.4,3.4])\n",
    "        self.A = A"
   ]
  },
  {
   "cell_type": "code",
   "execution_count": 3,
   "metadata": {},
   "outputs": [],
   "source": [
    "def ST(D):\n",
    "    w = D.Re.shape # Note, reversed from MATLAB\n",
    "    S = np.zeros((3*w[0],3*w[0]))\n",
    "    U = 1 - D.Re\n",
    "    f = [i for i in range(0,18)] # shifted one because zero index\n",
    "\n",
    "    Tj = np.zeros((3,25))\n",
    "    for i,row in D.Con.iterrows():\n",
    "        H = np.array([row[\"start\"],row[\"end\"]])\n",
    "        # calculate the length in each coordinate, subtracting one to make\n",
    "        # up for the difference in index between Matlab and Python\n",
    "        C_x = D.Coord.iloc[row[\"end\"]-1].x - D.Coord.iloc[row[\"start\"]-1].x\n",
    "        C_y = D.Coord.iloc[row[\"end\"]-1].y - D.Coord.iloc[row[\"start\"]-1].y\n",
    "        C_z = D.Coord.iloc[row[\"end\"]-1].z - D.Coord.iloc[row[\"start\"]-1].z\n",
    "        C = np.array([C_x,C_y,C_z]) # good\n",
    "        # norm\n",
    "        Le = np.linalg.norm(C) # good\n",
    "        T = C/Le\n",
    "        T = T[np.newaxis] # good, https://stackoverflow.com/questions/5954603/transposing-a-numpy-array\n",
    "        s = T * np.transpose(T) # good\n",
    "        G=D.E[i]*D.A[i]/Le # good\n",
    "        Tj[:,i] = G*T # looks good!\n",
    "        e1 = [j for j in range(3*H[0]-3,3*H[0])]\n",
    "        e2 = [j for j in range(3*H[1]-3,3*H[1])]\n",
    "        e = np.array(e1 + e2) # good I think, all indices are shifted down one\n",
    "        goofyArray = np.zeros((len(s)*2,len(s)*2))\n",
    "        goofyArray[0:3,0:3] = s # upper left quadrant\n",
    "        goofyArray[0:3,3:] = -s # upper right quadrant\n",
    "        goofyArray[3:,0:3] = -s # lower left quadrant\n",
    "        goofyArray[3:,3:] = s # lower right quadrant\n",
    "        goofyArray *= G\n",
    "        S[np.ix_(e,e)] += goofyArray #This was absurdly tricky but I think this works!!! # https://docs.scipy.org/doc/numpy/user/numpy-for-matlab-users.html\n",
    "\n",
    "    # Now find U, which proceeds row-wise \n",
    "    goofyArray2 = S[np.ix_(f,f)]\n",
    "    # D.Load(f) is the first 18 values of D.Load rowwise, I have no idea why\n",
    "    DLoadf = np.array(list(D.Load[0])+list(D.Load[1])\n",
    "                      +list(D.Load[2])+list(D.Load[3])\n",
    "                      +list(D.Load[4])+list(D.Load[5]))\n",
    "    goofyArray3 = np.linalg.solve(goofyArray2,DLoadf) # this is equivalent to S(f,f)\\D.Load(f)\n",
    "    U[0,:] = goofyArray3[0:3]\n",
    "    U[1,:] = goofyArray3[3:6]\n",
    "    U[2,:] = goofyArray3[6:9]\n",
    "    U[3,:] = goofyArray3[9:12]\n",
    "    U[4,:] = goofyArray3[12:15]\n",
    "    U[5,:] = goofyArray3[15:18]\n",
    "\n",
    "    dcon = D.Con.to_numpy() # good\n",
    "    dcon = dcon - 1 # good, correcting for zero index\n",
    "    # U(:,D.Con(2,:)) -> I think I figured this out, start at the first row of U and place there the value of the location by index\n",
    "    F = np.sum(Tj.T * (U[np.ix_(dcon[:,1])] - U[np.ix_(dcon[:,0])]),axis=1) # good!  This took hours to figure out how to replicate!\n",
    "    toBeReshaped = np.dot(S,U.reshape(30,1)) # good!\n",
    "    R = np.reshape(toBeReshaped,(10,3)).T # good I think!\n",
    "    R[:,0] = 0.0\n",
    "    R[:,1] = 0.0\n",
    "    R[:,2] = 0.0\n",
    "    R[:,3] = 0.0\n",
    "    R[:,4] = 0.0\n",
    "    R[:,5] = 0.0\n",
    "    return F,U,R"
   ]
  },
  {
   "cell_type": "code",
   "execution_count": 4,
   "metadata": {},
   "outputs": [],
   "source": [
    "D=Data(1e9)\n",
    "F,U,R = ST(D)"
   ]
  },
  {
   "cell_type": "code",
   "execution_count": 5,
   "metadata": {},
   "outputs": [
    {
     "data": {
      "text/plain": [
       "array([  -336.319792  ,   -240.28037334,    629.17339468,   -914.55709256,\n",
       "          -43.95977576,   8385.1090718 , -19544.03334719,   9096.64146254,\n",
       "       -18831.56511371,   -256.68085568,   -294.53292772,   2846.23109304,\n",
       "        -6881.61977941,   2270.22933694,  -3767.64589843,   2002.80710339,\n",
       "        -4035.46494973,   1887.31843132,   1736.16818133,  -4046.77307179,\n",
       "        -4288.09760868, -17642.58471495,   9059.2610844 ,   7366.58537374,\n",
       "       -19403.74638901])"
      ]
     },
     "execution_count": 5,
     "metadata": {},
     "output_type": "execute_result"
    }
   ],
   "source": [
    "F"
   ]
  },
  {
   "cell_type": "code",
   "execution_count": 6,
   "metadata": {},
   "outputs": [
    {
     "data": {
      "text/plain": [
       "array([[ 1.13129821e-03, -3.48893089e-03, -4.54721534e-04],\n",
       "       [ 1.06823825e-03, -3.47935931e-03, -5.21572758e-04],\n",
       "       [-4.75340804e-05,  1.76537878e-04,  6.14656998e-04],\n",
       "       [ 1.16671560e-04,  1.72128424e-04,  5.66433231e-04],\n",
       "       [-1.55645424e-04,  2.27353348e-04, -1.25593080e-03],\n",
       "       [ 2.41371102e-04,  2.24665538e-04, -1.21556272e-03],\n",
       "       [ 0.00000000e+00,  0.00000000e+00,  0.00000000e+00],\n",
       "       [ 0.00000000e+00,  0.00000000e+00,  0.00000000e+00],\n",
       "       [ 0.00000000e+00,  0.00000000e+00,  0.00000000e+00],\n",
       "       [ 0.00000000e+00,  0.00000000e+00,  0.00000000e+00]])"
      ]
     },
     "execution_count": 6,
     "metadata": {},
     "output_type": "execute_result"
    }
   ],
   "source": [
    "U"
   ]
  },
  {
   "cell_type": "code",
   "execution_count": 8,
   "metadata": {},
   "outputs": [
    {
     "data": {
      "text/plain": [
       "array([[     0.        ,      0.        ,      0.        ,\n",
       "             0.        ,      0.        ,      0.        ,\n",
       "         -4375.03715424,   3375.22883543, -11650.57800004,\n",
       "         10550.38631885],\n",
       "       [     0.        ,      0.        ,      0.        ,\n",
       "             0.        ,      0.        ,      0.        ,\n",
       "          2033.65948028,    985.54568849,   9045.8959927 ,\n",
       "          7934.89883853],\n",
       "       [     0.        ,      0.        ,      0.        ,\n",
       "             0.        ,      0.        ,      0.        ,\n",
       "         -5749.78093578,  -4250.21906422,  15800.21906422,\n",
       "         14199.78093578]])"
      ]
     },
     "execution_count": 8,
     "metadata": {},
     "output_type": "execute_result"
    }
   ],
   "source": [
    "R"
   ]
  },
  {
   "cell_type": "markdown",
   "metadata": {},
   "source": [
    "### Part 2.1"
   ]
  },
  {
   "cell_type": "markdown",
   "metadata": {},
   "source": [
    "First, consider a single truss structure is made and tested.  Assume a uniform prior for the eleastic modulus in the range $[5e6,5e7]$.  Find the posterior distribution for the elastic modulus under the following scenarios:"
   ]
  },
  {
   "cell_type": "markdown",
   "metadata": {},
   "source": [
    "#### a. We have measured the displacement of node 2 in x-direction is 0.1128.  Estimate elastic modulus (probabilistically) using this single observation)."
   ]
  },
  {
   "cell_type": "code",
   "execution_count": null,
   "metadata": {},
   "outputs": [],
   "source": []
  },
  {
   "cell_type": "markdown",
   "metadata": {},
   "source": [
    "#### b. We have measured the displacemetn of node 2 in the three directions as $[0.1128,,-0.3636,-0.0577]$.  Estimate the elastic modulus using this observation."
   ]
  },
  {
   "cell_type": "code",
   "execution_count": null,
   "metadata": {},
   "outputs": [],
   "source": []
  },
  {
   "cell_type": "markdown",
   "metadata": {},
   "source": [
    "#### c. We have measured the displacement of node 1 as $[0.1084,-0.3474,-0.0286]$, and the displacement of node 2 as $[0.1128,-0.3636,-0.0577]$."
   ]
  },
  {
   "cell_type": "code",
   "execution_count": null,
   "metadata": {},
   "outputs": [],
   "source": []
  },
  {
   "cell_type": "markdown",
   "metadata": {},
   "source": [
    "Compare and discuss the results pertaining to these cases."
   ]
  },
  {
   "cell_type": "code",
   "execution_count": null,
   "metadata": {},
   "outputs": [],
   "source": []
  },
  {
   "cell_type": "markdown",
   "metadata": {},
   "source": [
    "### Part 2.2"
   ]
  },
  {
   "cell_type": "markdown",
   "metadata": {},
   "source": [
    "Now, consider a number of 50 truss structures are made and tested and node 2 displacements in $x$, $y$, and $z$ directions are recorded for each experiment.  The file 'observations.txt' includes the recorded displacements.  Assuming a uniform prior for the elastic modulus in the same range ($[5e6,5e7]$), estimate the posterior pdf for the elastic modulus given these observations.  In particular, calculate three different posterior pdfs for three difference cases where 5, 20, and finally all 50 tests are used.  Compare and discuss the results."
   ]
  },
  {
   "cell_type": "code",
   "execution_count": null,
   "metadata": {},
   "outputs": [],
   "source": []
  }
 ],
 "metadata": {
  "kernelspec": {
   "display_name": "Python 3",
   "language": "python",
   "name": "python3"
  },
  "language_info": {
   "codemirror_mode": {
    "name": "ipython",
    "version": 3
   },
   "file_extension": ".py",
   "mimetype": "text/x-python",
   "name": "python",
   "nbconvert_exporter": "python",
   "pygments_lexer": "ipython3",
   "version": "3.7.6"
  }
 },
 "nbformat": 4,
 "nbformat_minor": 4
}
