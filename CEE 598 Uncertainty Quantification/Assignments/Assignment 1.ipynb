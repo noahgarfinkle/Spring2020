{
 "cells": [
  {
   "cell_type": "markdown",
   "metadata": {},
   "source": [
    "# CEE 598: Uncertainty Quantification\n",
    "## Assignment One\n",
    "### Noah Garfinkle (garfink2@illinois edu)\n",
    "### 06 February 2020"
   ]
  },
  {
   "cell_type": "code",
   "execution_count": 3,
   "metadata": {},
   "outputs": [],
   "source": [
    "import numpy as np\n",
    "import matplotlib.pyplot as plt\n",
    "from scipy.integrate import quad\n",
    "import seaborn as sns"
   ]
  },
  {
   "cell_type": "markdown",
   "metadata": {},
   "source": [
    "## Problem 1."
   ]
  },
  {
   "cell_type": "code",
   "execution_count": 12,
   "metadata": {},
   "outputs": [],
   "source": [
    "results = []\n",
    "ns = np.linspace(0.1,1000,100)\n",
    "f = lambda x: n*np.power(1-x,n-1)\n",
    "for n in ns:\n",
    "    result = round(quad(f,0,1)[0],2)\n",
    "    results.append(result)"
   ]
  },
  {
   "cell_type": "code",
   "execution_count": 13,
   "metadata": {},
   "outputs": [
    {
     "data": {
      "text/plain": [
       "Text(0, 0.5, 'integral of n(1-x)^(n-1) from 0<=x<=1')"
      ]
     },
     "execution_count": 13,
     "metadata": {},
     "output_type": "execute_result"
    },
    {
     "data": {
      "image/png": "[encoded data removed]",
      "text/plain": [
       "<Figure size 720x720 with 1 Axes>"
      ]
     },
     "metadata": {
      "needs_background": "light"
     },
     "output_type": "display_data"
    }
   ],
   "source": [
    "fig,ax = plt.subplots(figsize=(10,10))\n",
    "ax.plot(ns,results)\n",
    "ax.set_title(\"Integration for varied values of n\")\n",
    "ax.set_xlabel(\"n\")\n",
    "ax.set_ylabel(\"integral of n(1-x)^(n-1) from 0<=x<=1\")"
   ]
  },
  {
   "cell_type": "code",
   "execution_count": 11,
   "metadata": {},
   "outputs": [
    {
     "data": {
      "text/plain": [
       "[0.999999999916325,\n",
       " 1.0,\n",
       " 1.0000000000000002,\n",
       " 1.0000000000000004,\n",
       " 1.0000000000000007,\n",
       " 0.9999999999999999,\n",
       " 1.0000000000000002,\n",
       " 1.0000000000000002,\n",
       " 1.0,\n",
       " 1.0,\n",
       " 0.9999999999999999,\n",
       " 0.9999999999999999,\n",
       " 0.9999999999999998,\n",
       " 0.9999999999999996,\n",
       " 0.9999999999999994,\n",
       " 1.0000000000000013,\n",
       " 1.0000000000000016,\n",
       " 1.0000000000000013,\n",
       " 1.0000000000000018,\n",
       " 1.0000000000000018,\n",
       " 1.000000000000002,\n",
       " 1.0000000000000018,\n",
       " 1.000000000000002,\n",
       " 1.0000000000000022,\n",
       " 1.0000000000000022,\n",
       " 1.0000000000000022,\n",
       " 1.0000000000000024,\n",
       " 1.0000000000000022,\n",
       " 1.0000000000000024,\n",
       " 0.9999999999999996,\n",
       " 0.9999999999999994,\n",
       " 0.9999999999999997,\n",
       " 0.9999999999999996,\n",
       " 0.9999999999999998,\n",
       " 0.9999999999999998,\n",
       " 0.9999999999999998,\n",
       " 0.9999999999999998,\n",
       " 0.9999999999999999,\n",
       " 0.9999999999999999,\n",
       " 1.0,\n",
       " 0.9999999999999998,\n",
       " 0.9999999999999998,\n",
       " 1.0,\n",
       " 1.0000000000000002,\n",
       " 1.0,\n",
       " 1.0,\n",
       " 0.9999999999999999,\n",
       " 1.0000000000000002,\n",
       " 1.0,\n",
       " 1.0,\n",
       " 1.0,\n",
       " 1.0000000000000002,\n",
       " 1.0,\n",
       " 1.0,\n",
       " 1.0,\n",
       " 0.9999999999999999,\n",
       " 0.9999999999999999,\n",
       " 1.0,\n",
       " 1.0000000000000098,\n",
       " 1.00000000000001,\n",
       " 1.0000000000000102,\n",
       " 1.0000000000000107,\n",
       " 1.0000000000000109,\n",
       " 1.0000000000000113,\n",
       " 1.0000000000000118,\n",
       " 1.0000000000000124,\n",
       " 1.0000000000000127,\n",
       " 1.0000000000000129,\n",
       " 1.000000000000013,\n",
       " 1.0000000000000135,\n",
       " 1.000000000000014,\n",
       " 1.0000000000000142,\n",
       " 1.0000000000000147,\n",
       " 1.0000000000000153,\n",
       " 1.0000000000000153,\n",
       " 1.0000000000000158,\n",
       " 1.000000000000016,\n",
       " 1.0000000000000167,\n",
       " 1.0000000000000169,\n",
       " 1.000000000000017,\n",
       " 1.0000000000000178,\n",
       " 1.000000000000018,\n",
       " 1.0000000000000187,\n",
       " 1.0000000000000189,\n",
       " 1.0000000000000193,\n",
       " 1.0000000000000198,\n",
       " 1.00000000000002,\n",
       " 1.0000000000000207,\n",
       " 1.0000000000000209,\n",
       " 1.0000000000000213,\n",
       " 1.0000000000000215,\n",
       " 1.000000000000022,\n",
       " 1.0000000000000224,\n",
       " 1.0000000000000229,\n",
       " 1.0000000000000233,\n",
       " 1.0000000000000235,\n",
       " 1.0000000000000242,\n",
       " 1.0000000000000244,\n",
       " 1.0000000000000249,\n",
       " 1.0000000000000253]"
      ]
     },
     "execution_count": 11,
     "metadata": {},
     "output_type": "execute_result"
    }
   ],
   "source": [
    "results"
   ]
  },
  {
   "cell_type": "markdown",
   "metadata": {},
   "source": [
    "## Problem 2."
   ]
  },
  {
   "cell_type": "code",
   "execution_count": 3,
   "metadata": {},
   "outputs": [],
   "source": [
    "def pdf(x):\n",
    "    if x < 4:\n",
    "        return 0\n",
    "    elif 4 <= x < 5:\n",
    "        return 0.4\n",
    "    elif 5 <= x < 6:\n",
    "        return 0.3\n",
    "    elif 6 <= x < 7:\n",
    "        return 0.3\n",
    "    elif x > 7:\n",
    "        return 0"
   ]
  },
  {
   "cell_type": "code",
   "execution_count": 4,
   "metadata": {},
   "outputs": [
    {
     "data": {
      "text/plain": [
       "0.3"
      ]
     },
     "execution_count": 4,
     "metadata": {},
     "output_type": "execute_result"
    }
   ],
   "source": [
    "pdf(5.5)"
   ]
  },
  {
   "cell_type": "code",
   "execution_count": 8,
   "metadata": {},
   "outputs": [],
   "source": [
    "#creating a demand function. for a given p, we integrate from theta*t\n",
    "def Q(p):\n",
    "    return quad(lambda v: pdf(v),0,np.inf)[0]\n",
    "# here is the info about the quad function and how to use it: \n",
    "# https://docs.scipy.org/doc/scipy/reference/generated/scipy.integrate.quad.html"
   ]
  },
  {
   "cell_type": "code",
   "execution_count": 9,
   "metadata": {},
   "outputs": [
    {
     "ename": "TypeError",
     "evalue": "must be real number, not NoneType",
     "output_type": "error",
     "traceback": [
      "\u001b[1;31m---------------------------------------------------------------------------\u001b[0m",
      "\u001b[1;31mTypeError\u001b[0m                                 Traceback (most recent call last)",
      "\u001b[1;32m<ipython-input-9-2daa0f784d43>\u001b[0m in \u001b[0;36m<module>\u001b[1;34m\u001b[0m\n\u001b[1;32m----> 1\u001b[1;33m \u001b[0mQ\u001b[0m\u001b[1;33m(\u001b[0m\u001b[1;36m10\u001b[0m\u001b[1;33m)\u001b[0m\u001b[1;33m\u001b[0m\u001b[1;33m\u001b[0m\u001b[0m\n\u001b[0m",
      "\u001b[1;32m<ipython-input-8-acae16234c05>\u001b[0m in \u001b[0;36mQ\u001b[1;34m(p)\u001b[0m\n\u001b[0;32m      1\u001b[0m \u001b[1;31m#creating a demand function. for a given p, we integrate from theta*t\u001b[0m\u001b[1;33m\u001b[0m\u001b[1;33m\u001b[0m\u001b[1;33m\u001b[0m\u001b[0m\n\u001b[0;32m      2\u001b[0m \u001b[1;32mdef\u001b[0m \u001b[0mQ\u001b[0m\u001b[1;33m(\u001b[0m\u001b[0mp\u001b[0m\u001b[1;33m)\u001b[0m\u001b[1;33m:\u001b[0m\u001b[1;33m\u001b[0m\u001b[1;33m\u001b[0m\u001b[0m\n\u001b[1;32m----> 3\u001b[1;33m     \u001b[1;32mreturn\u001b[0m \u001b[0mquad\u001b[0m\u001b[1;33m(\u001b[0m\u001b[1;32mlambda\u001b[0m \u001b[0mv\u001b[0m\u001b[1;33m:\u001b[0m \u001b[0mpdf\u001b[0m\u001b[1;33m(\u001b[0m\u001b[0mv\u001b[0m\u001b[1;33m)\u001b[0m\u001b[1;33m,\u001b[0m\u001b[1;36m0\u001b[0m\u001b[1;33m,\u001b[0m\u001b[0mnp\u001b[0m\u001b[1;33m.\u001b[0m\u001b[0minf\u001b[0m\u001b[1;33m)\u001b[0m\u001b[1;33m[\u001b[0m\u001b[1;36m0\u001b[0m\u001b[1;33m]\u001b[0m\u001b[1;33m\u001b[0m\u001b[1;33m\u001b[0m\u001b[0m\n\u001b[0m\u001b[0;32m      4\u001b[0m \u001b[1;31m# here is the info about the quad function and how to use it:\u001b[0m\u001b[1;33m\u001b[0m\u001b[1;33m\u001b[0m\u001b[1;33m\u001b[0m\u001b[0m\n\u001b[0;32m      5\u001b[0m \u001b[1;31m# https://docs.scipy.org/doc/scipy/reference/generated/scipy.integrate.quad.html\u001b[0m\u001b[1;33m\u001b[0m\u001b[1;33m\u001b[0m\u001b[1;33m\u001b[0m\u001b[0m\n",
      "\u001b[1;32m~\\AppData\\Local\\Continuum\\anaconda3\\lib\\site-packages\\scipy\\integrate\\quadpack.py\u001b[0m in \u001b[0;36mquad\u001b[1;34m(func, a, b, args, full_output, epsabs, epsrel, limit, points, weight, wvar, wopts, maxp1, limlst)\u001b[0m\n\u001b[0;32m    339\u001b[0m     \u001b[1;32mif\u001b[0m \u001b[0mweight\u001b[0m \u001b[1;32mis\u001b[0m \u001b[1;32mNone\u001b[0m\u001b[1;33m:\u001b[0m\u001b[1;33m\u001b[0m\u001b[1;33m\u001b[0m\u001b[0m\n\u001b[0;32m    340\u001b[0m         retval = _quad(func, a, b, args, full_output, epsabs, epsrel, limit,\n\u001b[1;32m--> 341\u001b[1;33m                        points)\n\u001b[0m\u001b[0;32m    342\u001b[0m     \u001b[1;32melse\u001b[0m\u001b[1;33m:\u001b[0m\u001b[1;33m\u001b[0m\u001b[1;33m\u001b[0m\u001b[0m\n\u001b[0;32m    343\u001b[0m         retval = _quad_weight(func, a, b, args, full_output, epsabs, epsrel,\n",
      "\u001b[1;32m~\\AppData\\Local\\Continuum\\anaconda3\\lib\\site-packages\\scipy\\integrate\\quadpack.py\u001b[0m in \u001b[0;36m_quad\u001b[1;34m(func, a, b, args, full_output, epsabs, epsrel, limit, points)\u001b[0m\n\u001b[0;32m    448\u001b[0m             \u001b[1;32mreturn\u001b[0m \u001b[0m_quadpack\u001b[0m\u001b[1;33m.\u001b[0m\u001b[0m_qagse\u001b[0m\u001b[1;33m(\u001b[0m\u001b[0mfunc\u001b[0m\u001b[1;33m,\u001b[0m\u001b[0ma\u001b[0m\u001b[1;33m,\u001b[0m\u001b[0mb\u001b[0m\u001b[1;33m,\u001b[0m\u001b[0margs\u001b[0m\u001b[1;33m,\u001b[0m\u001b[0mfull_output\u001b[0m\u001b[1;33m,\u001b[0m\u001b[0mepsabs\u001b[0m\u001b[1;33m,\u001b[0m\u001b[0mepsrel\u001b[0m\u001b[1;33m,\u001b[0m\u001b[0mlimit\u001b[0m\u001b[1;33m)\u001b[0m\u001b[1;33m\u001b[0m\u001b[1;33m\u001b[0m\u001b[0m\n\u001b[0;32m    449\u001b[0m         \u001b[1;32melse\u001b[0m\u001b[1;33m:\u001b[0m\u001b[1;33m\u001b[0m\u001b[1;33m\u001b[0m\u001b[0m\n\u001b[1;32m--> 450\u001b[1;33m             \u001b[1;32mreturn\u001b[0m \u001b[0m_quadpack\u001b[0m\u001b[1;33m.\u001b[0m\u001b[0m_qagie\u001b[0m\u001b[1;33m(\u001b[0m\u001b[0mfunc\u001b[0m\u001b[1;33m,\u001b[0m\u001b[0mbound\u001b[0m\u001b[1;33m,\u001b[0m\u001b[0minfbounds\u001b[0m\u001b[1;33m,\u001b[0m\u001b[0margs\u001b[0m\u001b[1;33m,\u001b[0m\u001b[0mfull_output\u001b[0m\u001b[1;33m,\u001b[0m\u001b[0mepsabs\u001b[0m\u001b[1;33m,\u001b[0m\u001b[0mepsrel\u001b[0m\u001b[1;33m,\u001b[0m\u001b[0mlimit\u001b[0m\u001b[1;33m)\u001b[0m\u001b[1;33m\u001b[0m\u001b[1;33m\u001b[0m\u001b[0m\n\u001b[0m\u001b[0;32m    451\u001b[0m     \u001b[1;32melse\u001b[0m\u001b[1;33m:\u001b[0m\u001b[1;33m\u001b[0m\u001b[1;33m\u001b[0m\u001b[0m\n\u001b[0;32m    452\u001b[0m         \u001b[1;32mif\u001b[0m \u001b[0minfbounds\u001b[0m \u001b[1;33m!=\u001b[0m \u001b[1;36m0\u001b[0m\u001b[1;33m:\u001b[0m\u001b[1;33m\u001b[0m\u001b[1;33m\u001b[0m\u001b[0m\n",
      "\u001b[1;31mTypeError\u001b[0m: must be real number, not NoneType"
     ]
    }
   ],
   "source": [
    "Q(10)"
   ]
  },
  {
   "cell_type": "code",
   "execution_count": null,
   "metadata": {},
   "outputs": [],
   "source": [
    "ps = np.linspace(0.1,3,20) #the range of p's we want too see, from 0.1 to 3\n",
    "qd = list(map(Q,ps)) #the Q value for each of the p's (this maps the function Q over the list ps)\n",
    "plt.plot(qd,ps, label=\"D\") #now we plot qd on the horizontal axis and ps on the vertical axis as the curve \"D\"\n",
    "#label the axes\n",
    "plt.xlabel(\"Q\") \n",
    "plt.ylabel(\"P\")\n",
    "plt.legend(loc=\"upper right\") #now add a legend"
   ]
  }
 ],
 "metadata": {
  "kernelspec": {
   "display_name": "Python 3",
   "language": "python",
   "name": "python3"
  },
  "language_info": {
   "codemirror_mode": {
    "name": "ipython",
    "version": 3
   },
   "file_extension": ".py",
   "mimetype": "text/x-python",
   "name": "python",
   "nbconvert_exporter": "python",
   "pygments_lexer": "ipython3",
   "version": "3.7.3"
  }
 },
 "nbformat": 4,
 "nbformat_minor": 4
}
