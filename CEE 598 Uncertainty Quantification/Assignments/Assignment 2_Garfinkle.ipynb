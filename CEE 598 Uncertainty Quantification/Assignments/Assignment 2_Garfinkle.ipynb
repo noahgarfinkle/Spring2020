{
 "cells": [
  {
   "cell_type": "markdown",
   "metadata": {},
   "source": [
    "# CEE 598: Uncertainty Quantification\n",
    "## Assignment Two\n",
    "### Noah Garfinkle (garfink2@illinois edu)\n",
    "### 13 February 2020"
   ]
  },
  {
   "cell_type": "markdown",
   "metadata": {},
   "source": [
    "# Imports and Setup"
   ]
  },
  {
   "cell_type": "code",
   "execution_count": 38,
   "metadata": {},
   "outputs": [],
   "source": [
    "import numpy as np\n",
    "import matplotlib.pyplot as plt\n",
    "import seaborn as sns\n",
    "import scipy.stats as stats\n",
    "import ipywidgets as widgets\n",
    "from ipywidgets import interact, interact_manual"
   ]
  },
  {
   "cell_type": "markdown",
   "metadata": {},
   "source": [
    "# Problem 1\n",
    "\n",
    "Using inverse transform sampling, write a code that can be used to generate n samples from the Cauchy distribution.  The Cauchy PDF and CDF are given by\n",
    "\n",
    "$$\n",
    "f_X\\left(x\\right)=\\frac{1}{\\pi\\gamma\\left[1+\\left(\\frac{x-x_0}{\\gamma}\\right)^2\\right]}\n",
    "$$\n",
    "\n",
    "$$\n",
    "F_X\\left(x\\right)=\\frac{1}{\\pi}\\arctan{\\left(\\frac{x-x_0}{\\gamma}\\right)}+\\frac{1}{2}\n",
    "$$\n",
    "\n",
    "Where $x_o$ is the median, and $\\gamma$ is a scale factor.  The inputs to your code should be the number of samples $n$, and the numerical values for $x_0$ and $\\gamma$.  Compute the generated samples with the target PDF, for a particular choice of $x_0$ and $\\gamma$ (you’re free to choose any value).  You can use histogram plots or any available kernel density estimator codes.  Discuss your results."
   ]
  },
  {
   "cell_type": "code",
   "execution_count": 39,
   "metadata": {},
   "outputs": [],
   "source": [
    "x0 = 0\n",
    "γ = 2"
   ]
  },
  {
   "cell_type": "code",
   "execution_count": 40,
   "metadata": {},
   "outputs": [],
   "source": [
    "def pdf(x,x0=0,γ=2):\n",
    "    f_denom = np.pi * γ * (1 + np.power((x-x0)/γ,2))\n",
    "    f = 1.0 / f_denom\n",
    "    return f"
   ]
  },
  {
   "cell_type": "code",
   "execution_count": 41,
   "metadata": {},
   "outputs": [],
   "source": [
    "def cdf(x,x0=0,γ=2):\n",
    "    F = (1/np.pi) * np.arctan((x-x0)/γ) + 1/2\n",
    "    return F"
   ]
  },
  {
   "cell_type": "code",
   "execution_count": 42,
   "metadata": {},
   "outputs": [],
   "source": [
    "def testPDF(x,x0=0,γ=2):\n",
    "    f = stats.cauchy.pdf(x=x, loc=x0, scale=γ)\n",
    "    return f"
   ]
  },
  {
   "cell_type": "code",
   "execution_count": 43,
   "metadata": {},
   "outputs": [],
   "source": [
    "def testCDF(x,x0=0,γ=2):\n",
    "    F = stats.cauchy.cdf(x=x, loc=x0, scale=γ)\n",
    "    return F"
   ]
  },
  {
   "cell_type": "markdown",
   "metadata": {},
   "source": [
    "Solve for the inverse of the CDF\n",
    "\n",
    "$$\n",
    "y=\\frac{1}{\\pi}\\arctan{\\left(\\frac{x-x_0}{\\gamma}\\right)}+\\frac{1}{2}\n",
    "$$\n",
    "$$\n",
    "y-\\frac{1}{2}=\\frac{1}{\\pi}\\arctan{\\left(\\frac{x-x_0}{\\gamma}\\right)}\n",
    "$$\n",
    "$$\n",
    "\\pi y-\\frac{1}{2}\\pi=\\arctan{\\left(\\frac{x-x_0}{\\gamma}\\right)}\n",
    "$$\n",
    "$$\n",
    "\\tan{\\left(y\\pi-\\frac{1}{2}\\pi\\right)}=\\frac{x-x_0}{\\gamma}\n",
    "$$\n",
    "$$\n",
    "\\gamma tan{\\left(y\\pi-\\frac{1}{2}\\pi\\right)}=x-x_0\n",
    "$$\n",
    "$$\n",
    "x=\\gamma tan{\\left(y\\pi-\\frac{1}{2}\\pi\\right)}+x_0\\rightarrow Inverse\\ CDF\n",
    "$$"
   ]
  },
  {
   "cell_type": "code",
   "execution_count": 44,
   "metadata": {},
   "outputs": [],
   "source": [
    "def inverseCDF(P,x0=0.0,γ=2.0):\n",
    "    P = float(P)\n",
    "    x0 = float(x0)\n",
    "    γ = float(γ)\n",
    "    x = γ*np.tan(P*np.pi-(1/2)*np.pi) + x0\n",
    "    return x"
   ]
  },
  {
   "cell_type": "code",
   "execution_count": 45,
   "metadata": {},
   "outputs": [],
   "source": [
    "def cauchy(n,x0=0,γ=2):\n",
    "    inverseCDFXs = []\n",
    "    for i in range(0,n):\n",
    "        u = np.random.uniform()\n",
    "        inverseCDFXs.append(inverseCDF(u,x0,γ))\n",
    "    return inverseCDFXs"
   ]
  },
  {
   "cell_type": "code",
   "execution_count": 46,
   "metadata": {},
   "outputs": [],
   "source": [
    "def plotController(x0=0.0,γ=2.0,n=10000,xMin=0.0,xMax=10.0,linSpaceIntervals=100):\n",
    "    xs = np.linspace(xMin,xMax,linSpaceIntervals)\n",
    "    fs = [pdf(x,x0,γ) for x in xs]\n",
    "    testfs = [testPDF(x,x0,γ) for x in xs]\n",
    "\n",
    "    Fs = [cdf(x,x0,γ) for x in xs]\n",
    "    testFs = [testCDF(x,x0,γ) for x in xs]\n",
    "\n",
    "    fig,ax = plt.subplots(2,2,figsize=(20,20))\n",
    "    ax[0,0].plot(xs,fs,label=\"My PDF\", alpha=0.5)\n",
    "    ax[0,0].fill_between(xs,testfs,hatch='x',facecolor=\"white\",label=\"Numpy PDF\")\n",
    "\n",
    "    ax[0,1].plot(xs,Fs,label=\"My CDF\", alpha=0.5)\n",
    "    ax[0,1].fill_between(xs,testFs,hatch='+',facecolor=\"white\",label=\"Numpy CDF\",alpha=0.5)\n",
    "\n",
    "    ax[0,0].set_title(f\"PDF Test: x0:{x0}, γ={γ}\")\n",
    "    ax[0,1].set_title(f\"CDF Test: x0:{x0}, γ={γ}\")\n",
    "\n",
    "    ax[0,0].set_xlabel(\"x\")\n",
    "    ax[0,0].set_ylabel(\"P\")\n",
    "\n",
    "    ax[0,1].set_xlabel(\"x\")\n",
    "    ax[0,1].set_ylabel(\"P\")\n",
    "\n",
    "    ax[0,0].legend()\n",
    "    ax[0,1].legend()\n",
    "    \n",
    "    Ps = np.linspace(0.01,0.99,100)\n",
    "    inverseXs = [inverseCDF(P,x0,γ) for P in Ps]\n",
    "    ax[1,0].plot(inverseXs,Ps,label=\"Inverse CDF\")\n",
    "    ax[1,0].legend()\n",
    "    ax[1,0].set_title(f\"Inverse CDF: x0:{x0}, γ={γ}\")\n",
    "    \n",
    "    c = cauchy(n,x0=x0,γ=γ)\n",
    "    testC = stats.cauchy.rvs(size=n, loc=x0, scale=γ)\n",
    "    \n",
    "    # compare two distributions\n",
    "    # https://stats.stackexchange.com/questions/354035/how-to-compare-the-data-distribution-of-2-datasets\n",
    "    ksTest = stats.ks_2samp(c,testC)\n",
    "    \n",
    "    # do a direct kstest too\n",
    "    # https://docs.scipy.org/doc/scipy-0.14.0/reference/generated/scipy.stats.kstest.html\n",
    "    ksTest_Direct = stats.kstest(c,\"cauchy\",(x0,γ))\n",
    "    \n",
    "    sns.kdeplot(c,ax=ax[1,1],label=\"My Generator\",alpha=0.5)\n",
    "    sns.kdeplot(testC,ax=ax[1,1],label=\"Numpy Generator\",alpha=0.5)\n",
    "    ax[1,1].legend()\n",
    "    ax[1,1].set_title(f\"Comparison of Implemented and Numpy Cauchy Random Number Generator\\nx0:{x0}, γ={γ}\\nKolmogorov-Smirnov Test: Statistic-{ksTest.statistic:,.3f},pValue-{ksTest.pvalue:,.3}\\nKolmogorov-Smirnov Test Against Distribution Name: Statistic-{ksTest_Direct.statistic:,.3f},pValue-{ksTest_Direct.pvalue:,.3}\\nμ={np.mean(c)}\")"
   ]
  },
  {
   "cell_type": "code",
   "execution_count": 47,
   "metadata": {},
   "outputs": [
    {
     "data": {
      "application/vnd.jupyter.widget-view+json": {
       "model_id": "08731512dea549cbbbc5959084f03034",
       "version_major": 2,
       "version_minor": 0
      },
      "text/plain": [
       "interactive(children=(FloatSlider(value=0.0, description='x0', max=10.0, min=-10.0, step=0.5), FloatSlider(val…"
      ]
     },
     "metadata": {},
     "output_type": "display_data"
    },
    {
     "data": {
      "text/plain": [
       "<function __main__.plotController(x0=0.0, γ=2.0, n=10000, xMin=0.0, xMax=10.0, linSpaceIntervals=100)>"
      ]
     },
     "execution_count": 47,
     "metadata": {},
     "output_type": "execute_result"
    }
   ],
   "source": [
    "interact(plotController,\n",
    "         x0=widgets.FloatSlider(min=-10,max=10,step=0.5,value=0),\n",
    "         γ=widgets.FloatSlider(min=1,max=10,step=0.1,value=1),\n",
    "         n=widgets.IntSlider(min=10000,max=1000000,step=10000,value=100000),\n",
    "         xMin=widgets.IntSlider(min=-100,max=100,step=1,value=0),\n",
    "         xMax=widgets.IntSlider(min=-90,max=110,step=1,value=10),\n",
    "         linSpaceIntervals=widgets.IntSlider(min=100,max=10000,step=100,value=100)\n",
    "        )"
   ]
  },
  {
   "cell_type": "markdown",
   "metadata": {},
   "source": [
    "# Problem 2\n",
    "\n",
    "You are asked to provide a random number generator from the Gamma PDF, $Gamma(x;2,2)$, given by\n",
    "\n",
    "$$\n",
    "f_X\\left(x\\right)=\\frac{1}{4}xe^{-\\frac{x}{2}}\n",
    "$$\n",
    "\n",
    "You are supposed to use rejection sampling, and choose the envelope PDF, i.e. $cg(x)$, to be a scaled version of Cauchy PDF (given in Problem 1)."
   ]
  },
  {
   "cell_type": "code",
   "execution_count": 111,
   "metadata": {},
   "outputs": [],
   "source": [
    "def gammaPDF(x):\n",
    "    f = 1/4 * x * np.exp(-x/2)\n",
    "    return f"
   ]
  },
  {
   "cell_type": "markdown",
   "metadata": {},
   "source": [
    "## Problem 2.1\n",
    "\n",
    "Show how you modify your Cauchy PDF to become an upper bound for the Gamma PDF everywhere.  The parameters that you can vary so that this upper bound condition is satisfied are $x_0$, $\\gamma$, and also $c$.  There are several combinations of these parameters that can make the Cauchy PDF an envelope distribution.  Discussion how some of these conditions can be more favorable than others."
   ]
  },
  {
   "cell_type": "code",
   "execution_count": 112,
   "metadata": {},
   "outputs": [],
   "source": [
    "def gammaPlotCalibrator(c = 1.0, x0 = 1.0, γ = 1.0):\n",
    "    xs = np.linspace(0,10,1000)\n",
    "    fs = [c*pdf(x,x0,γ) for x in xs]\n",
    "    gammafs = [gammaPDF(x) for x in xs]\n",
    "    fig,ax = plt.subplots(figsize=(10,10))\n",
    "    ax.plot(xs,fs,label=\"Cauchy\")\n",
    "    ax.plot(xs,gammafs,label=\"Gamma\")\n",
    "    ax.legend()"
   ]
  },
  {
   "cell_type": "code",
   "execution_count": 113,
   "metadata": {},
   "outputs": [
    {
     "data": {
      "application/vnd.jupyter.widget-view+json": {
       "model_id": "5fc4c05745a04ab1acced1c96e3545c6",
       "version_major": 2,
       "version_minor": 0
      },
      "text/plain": [
       "interactive(children=(FloatSlider(value=2.4, description='c', max=10.0, min=0.1), FloatSlider(value=2.0, descr…"
      ]
     },
     "metadata": {},
     "output_type": "display_data"
    },
    {
     "data": {
      "text/plain": [
       "<function __main__.gammaPlotCalibrator(c=1.0, x0=1.0, γ=1.0)>"
      ]
     },
     "execution_count": 113,
     "metadata": {},
     "output_type": "execute_result"
    }
   ],
   "source": [
    "interact(gammaPlotCalibrator,\n",
    "         c=widgets.FloatSlider(min=0.1,max=10,step=0.1,value=2.4),\n",
    "         x0=widgets.FloatSlider(min=-10,max=10,step=0.5,value=2.0),\n",
    "         γ=widgets.FloatSlider(min=1,max=10,step=0.1,value=3.7)\n",
    "         )"
   ]
  },
  {
   "cell_type": "markdown",
   "metadata": {},
   "source": [
    "Examples of when some distributions might be more favorible are seen when there is a tradeoff between quality of fit at the peak and along the tail.  Additionally, the quality of fit for values less than the mean."
   ]
  },
  {
   "cell_type": "markdown",
   "metadata": {},
   "source": [
    "## Problem 2.2\n",
    "\n",
    "Write an acceptance-rejection sampling code that can be used to generate $n$ samples from the given Gamma PDF.  Use the code you wrote for Problem 1 to draw samples from $g_X(x)$ within your rejection sampling algorithm.\n"
   ]
  },
  {
   "cell_type": "markdown",
   "metadata": {},
   "source": [
    "The fundamental approach is as follows, per slide 10:\n",
    "\n",
    "1. Draw a candidate sample $y~g_x(x)$\n",
    "\n",
    "2. Accept $y$ with probability $\\frac {f(y)} {cg(y)}$, drawing a uniform sample $u~U[0,1]$\n",
    "\n",
    "3. Implement acceptance criteria.  If $u(cg(y)) \\leq f(y)$ accept $y$, otherwise reject $y$"
   ]
  },
  {
   "cell_type": "markdown",
   "metadata": {},
   "source": [
    "Note that the Gamma distribution does not go negative, and as such we will only consider positive values of $x$."
   ]
  },
  {
   "cell_type": "code",
   "execution_count": 131,
   "metadata": {},
   "outputs": [
    {
     "name": "stderr",
     "output_type": "stream",
     "text": [
      "C:\\Users\\garfink2\\AppData\\Local\\Continuum\\anaconda3\\lib\\site-packages\\ipykernel_launcher.py:2: RuntimeWarning: overflow encountered in double_scalars\n",
      "  \n"
     ]
    },
    {
     "name": "stdout",
     "output_type": "stream",
     "text": [
      "Rejected 252,499 samples to produce 10,000 samples\n"
     ]
    }
   ],
   "source": [
    "c = 2.1\n",
    "x0 = 2\n",
    "γ = 3.6\n",
    "\n",
    "nRejected = 0\n",
    "\n",
    "desiredNumberOfSamples = 10000\n",
    "samples = []\n",
    "\n",
    "while len(samples) < desiredNumberOfSamples:\n",
    "    # 0. Select a random number from 0 to 1, from a uniform distribution, and find the corresponding value of cgx\n",
    "    rv = stats.uniform.rvs()\n",
    "    y = c * inverseCDF(rv,x0=x0,γ=γ)\n",
    "\n",
    "    fy = gammaPDF(y)\n",
    "\n",
    "    if fy >= 0:\n",
    "        u2 = stats.uniform.rvs()\n",
    "        # fraction = fy / y\n",
    "        fraction = fy # this approach appears to work really well!  But I need to make sure I understand why\n",
    "        if fraction >= u2:\n",
    "            samples.append(y)\n",
    "        else:\n",
    "            nRejected += 1\n",
    "            pass\n",
    "    else:\n",
    "        nRejected += 1\n",
    "        pass # reject\n",
    "print(f\"Rejected {nRejected:,} samples to produce {desiredNumberOfSamples:,} samples\")"
   ]
  },
  {
   "cell_type": "code",
   "execution_count": 141,
   "metadata": {},
   "outputs": [
    {
     "name": "stderr",
     "output_type": "stream",
     "text": [
      "C:\\Users\\garfink2\\AppData\\Local\\Continuum\\anaconda3\\lib\\site-packages\\ipykernel_launcher.py:2: RuntimeWarning: overflow encountered in double_scalars\n",
      "  \n"
     ]
    },
    {
     "name": "stdout",
     "output_type": "stream",
     "text": [
      "Rejected 165,533 samples to produce 10,000 samples\n"
     ]
    }
   ],
   "source": [
    "# try again per http://www.columbia.edu/~ks20/4703-Sigman/4703-07-Notes-ARM.pdf\n",
    "c = 2.1\n",
    "x0 = 2\n",
    "γ = 3.6\n",
    "\n",
    "nRejected = 0\n",
    "\n",
    "desiredNumberOfSamples = 10000\n",
    "samples = []\n",
    "\n",
    "while len(samples) < desiredNumberOfSamples:\n",
    "    # Generate a rv Y distributed as G\n",
    "    rv = stats.uniform.rvs()\n",
    "    y = inverseCDF(rv,x0=x0,γ=γ)\n",
    "    \n",
    "    # Generate U (independent from Y)\n",
    "    u = stats.uniform.rvs()\n",
    "    \n",
    "    # Check if U <= f(Y)/(cG(Y))\n",
    "    if u <= gammaPDF(y)/(c*(cdf(y,x0=x0,γ=γ))):\n",
    "        samples.append(y)\n",
    "    else:\n",
    "        nRejected += 1\n",
    "print(f\"Rejected {nRejected:,} samples to produce {desiredNumberOfSamples:,} samples\")"
   ]
  },
  {
   "cell_type": "code",
   "execution_count": 142,
   "metadata": {},
   "outputs": [],
   "source": [
    "xs = np.linspace(0,20,10000)\n",
    "gammafs = [gammaPDF(x) for x in xs]"
   ]
  },
  {
   "cell_type": "code",
   "execution_count": 143,
   "metadata": {},
   "outputs": [
    {
     "data": {
      "text/plain": [
       "<matplotlib.legend.Legend at 0x16b77d49a88>"
      ]
     },
     "execution_count": 143,
     "metadata": {},
     "output_type": "execute_result"
    },
    {
     "data": {
      "image/png": "[encoded data removed]",
      "text/plain": [
       "<Figure size 720x720 with 1 Axes>"
      ]
     },
     "metadata": {
      "needs_background": "light"
     },
     "output_type": "display_data"
    }
   ],
   "source": [
    "fig,ax = plt.subplots(figsize=(10,10))\n",
    "sns.kdeplot(samples,ax=ax,label=\"My Generator\",alpha=0.5)\n",
    "ax.plot(xs,gammafs,label=\"Gamma PDF\",alpha=0.5)\n",
    "ax.legend()"
   ]
  },
  {
   "cell_type": "markdown",
   "metadata": {},
   "source": [
    "## Problem 2.3\n",
    "\n",
    "Compare the generated samples with the targeted PDF.  You can use histogram plots or available kernel density estimator codes.  Discuss your results.\n"
   ]
  },
  {
   "cell_type": "code",
   "execution_count": null,
   "metadata": {},
   "outputs": [],
   "source": []
  }
 ],
 "metadata": {
  "kernelspec": {
   "display_name": "Python 3",
   "language": "python",
   "name": "python3"
  },
  "language_info": {
   "codemirror_mode": {
    "name": "ipython",
    "version": 3
   },
   "file_extension": ".py",
   "mimetype": "text/x-python",
   "name": "python",
   "nbconvert_exporter": "python",
   "pygments_lexer": "ipython3",
   "version": "3.7.4"
  }
 },
 "nbformat": 4,
 "nbformat_minor": 4
}
