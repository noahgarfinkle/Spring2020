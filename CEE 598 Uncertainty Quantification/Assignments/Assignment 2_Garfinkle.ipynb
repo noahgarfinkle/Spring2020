{
 "cells": [
  {
   "cell_type": "markdown",
   "metadata": {},
   "source": [
    "# CEE 598: Uncertainty Quantification\n",
    "## Assignment Two\n",
    "### Noah Garfinkle (garfink2@illinois edu)\n",
    "### 13 February 2020"
   ]
  },
  {
   "cell_type": "markdown",
   "metadata": {},
   "source": [
    "# Imports and Setup"
   ]
  },
  {
   "cell_type": "code",
   "execution_count": 1,
   "metadata": {},
   "outputs": [],
   "source": [
    "import numpy as np\n",
    "import matplotlib.pyplot as plt\n",
    "import seaborn as sns\n",
    "import scipy.stats as stats\n",
    "import ipywidgets as widgets\n",
    "from ipywidgets import interact, interact_manual"
   ]
  },
  {
   "cell_type": "markdown",
   "metadata": {},
   "source": [
    "# Problem 1\n",
    "\n",
    "Using inverse transform sampling, write a code that can be used to generate n samples from the Cauchy distribution.  The Cauchy PDF and CDF are given by\n",
    "\n",
    "$$\n",
    "f_X\\left(x\\right)=\\frac{1}{\\pi\\gamma\\left[1+\\left(\\frac{x-x_0}{\\gamma}\\right)^2\\right]}\n",
    "$$\n",
    "\n",
    "$$\n",
    "F_X\\left(x\\right)=\\frac{1}{\\pi}\\arctan{\\left(\\frac{x-x_0}{\\gamma}\\right)}+\\frac{1}{2}\n",
    "$$\n",
    "\n",
    "Where $x_o$ is the median, and $\\gamma$ is a scale factor.  The inputs to your code should be the number of samples $n$, and the numerical values for $x_0$ and $\\gamma$.  Compute the generated samples with the target PDF, for a particular choice of $x_0$ and $\\gamma$ (you’re free to choose any value).  You can use histogram plots or any available kernel density estimator codes.  Discuss your results."
   ]
  },
  {
   "cell_type": "code",
   "execution_count": 2,
   "metadata": {},
   "outputs": [],
   "source": [
    "x0 = 0\n",
    "γ = 2"
   ]
  },
  {
   "cell_type": "code",
   "execution_count": 3,
   "metadata": {},
   "outputs": [],
   "source": [
    "def pdf(x,x0=0,γ=2):\n",
    "    f_denom = np.pi * γ * (1 + np.power((x-x0)/γ,2))\n",
    "    f = 1.0 / f_denom\n",
    "    return f"
   ]
  },
  {
   "cell_type": "code",
   "execution_count": 4,
   "metadata": {},
   "outputs": [],
   "source": [
    "def cdf(x,x0=0,γ=2):\n",
    "    F = (1/np.pi) * np.arctan((x-x0)/γ) + 1/2\n",
    "    return F"
   ]
  },
  {
   "cell_type": "code",
   "execution_count": 5,
   "metadata": {},
   "outputs": [],
   "source": [
    "def testPDF(x,x0=0,γ=2):\n",
    "    f = stats.cauchy.pdf(x=x, loc=x0, scale=γ)\n",
    "    return f"
   ]
  },
  {
   "cell_type": "code",
   "execution_count": 6,
   "metadata": {},
   "outputs": [],
   "source": [
    "def testCDF(x,x0=0,γ=2):\n",
    "    F = stats.cauchy.cdf(x=x, loc=x0, scale=γ)\n",
    "    return F"
   ]
  },
  {
   "cell_type": "code",
   "execution_count": 28,
   "metadata": {},
   "outputs": [],
   "source": [
    "def plotController(x0=0.0,γ=2.0):\n",
    "    xs = np.linspace(0,10,100)\n",
    "    fs = [pdf(x,x0,γ) for x in xs]\n",
    "    testfs = [testPDF(x,x0,γ) for x in xs]\n",
    "\n",
    "    Fs = [cdf(x,x0,γ) for x in xs]\n",
    "    testFs = [testCDF(x,x0,γ) for x in xs]\n",
    "\n",
    "    fig,ax = plt.subplots(2,1,figsize=(10,10))\n",
    "    ax[0].plot(xs,fs,label=\"My PDF\", alpha=0.5)\n",
    "    ax[0].fill_between(xs,testfs,hatch='x',facecolor=\"white\",label=\"Numpy PDF\")\n",
    "\n",
    "    ax[1].plot(xs,Fs,label=\"My CDF\", alpha=0.5)\n",
    "    ax[1].fill_between(xs,testFs,hatch='+',facecolor=\"white\",label=\"Numpy CDF\",alpha=0.5)\n",
    "\n",
    "    ax[0].set_title(f\"PDF Test: x0:{x0}, γ={γ}\")\n",
    "    ax[1].set_title(f\"CDF Test: x0:{x0}, γ={γ}\")\n",
    "\n",
    "    ax[0].set_xlabel(\"x\")\n",
    "    ax[0].set_ylabel(\"P\")\n",
    "\n",
    "    ax[1].set_xlabel(\"x\")\n",
    "    ax[1].set_ylabel(\"P\")\n",
    "\n",
    "    ax[0].legend()\n",
    "    ax[1].legend()"
   ]
  },
  {
   "cell_type": "code",
   "execution_count": 31,
   "metadata": {},
   "outputs": [
    {
     "data": {
      "application/vnd.jupyter.widget-view+json": {
       "model_id": "cc619043a531476788e3aa4785464d2b",
       "version_major": 2,
       "version_minor": 0
      },
      "text/plain": [
       "interactive(children=(FloatSlider(value=0.0, description='x0', max=10.0, min=-10.0, step=0.5), FloatSlider(val…"
      ]
     },
     "metadata": {},
     "output_type": "display_data"
    },
    {
     "data": {
      "text/plain": [
       "<function __main__.plotController(x0=0.0, γ=2.0)>"
      ]
     },
     "execution_count": 31,
     "metadata": {},
     "output_type": "execute_result"
    }
   ],
   "source": [
    "interact(plotController,x0=widgets.FloatSlider(min=-10,max=10,step=0.5,value=0),γ=widgets.FloatSlider(min=1,max=10,step=0.1,value=1))"
   ]
  },
  {
   "cell_type": "markdown",
   "metadata": {},
   "source": [
    "Solve for the inverse of the CDF\n",
    "\n",
    "$$\n",
    "y=\\frac{1}{\\pi}\\arctan{\\left(\\frac{x-x_0}{\\gamma}\\right)}+\\frac{1}{2}\n",
    "$$\n",
    "$$\n",
    "y-\\frac{1}{2}=\\frac{1}{\\pi}\\arctan{\\left(\\frac{x-x_0}{\\gamma}\\right)}\n",
    "$$\n",
    "$$\n",
    "\\pi y-\\frac{1}{2}\\pi=\\arctan{\\left(\\frac{x-x_0}{\\gamma}\\right)}\n",
    "$$\n",
    "$$\n",
    "\\tan{\\left(y\\pi-\\frac{1}{2}\\pi\\right)}=\\frac{x-x_0}{\\gamma}\n",
    "$$\n",
    "$$\n",
    "\\gamma tan{\\left(y\\pi-\\frac{1}{2}\\pi\\right)}=x-x_0\n",
    "$$\n",
    "$$\n",
    "x=\\gamma tan{\\left(y\\pi-\\frac{1}{2}\\pi\\right)}+x_0\\rightarrow Inverse\\ CDF\n",
    "$$"
   ]
  },
  {
   "cell_type": "code",
   "execution_count": 10,
   "metadata": {},
   "outputs": [],
   "source": [
    "def inverseCDF(P,x0=0.0,γ=2.0):\n",
    "    x = γ*np.tan(P*np.pi-(1/2)*np.pi) + x0\n",
    "    return x"
   ]
  },
  {
   "cell_type": "code",
   "execution_count": 45,
   "metadata": {},
   "outputs": [],
   "source": [
    "def plotInverseCDF(x0=0.0,γ=2.0):\n",
    "    Ps = np.linspace(0.01,0.99,100)\n",
    "    inverseXs = [inverseCDF(P,x0,γ) for P in Ps]\n",
    "    fig,ax = plt.subplots(figsize=(10,10))\n",
    "    ax.plot(inverseXs,Ps)"
   ]
  },
  {
   "cell_type": "code",
   "execution_count": 57,
   "metadata": {},
   "outputs": [],
   "source": [
    "def plotControllerWithInverse(x0=0.0,γ=2.0):\n",
    "    xs = np.linspace(0,10,100)\n",
    "    fs = [pdf(x,x0,γ) for x in xs]\n",
    "    testfs = [testPDF(x,x0,γ) for x in xs]\n",
    "\n",
    "    Fs = [cdf(x,x0,γ) for x in xs]\n",
    "    testFs = [testCDF(x,x0,γ) for x in xs]\n",
    "\n",
    "    fig,ax = plt.subplots(1,3,figsize=(30,10))\n",
    "    ax[0].plot(xs,fs,label=\"My PDF\", alpha=0.5)\n",
    "    ax[0].fill_between(xs,testfs,hatch='x',facecolor=\"white\",label=\"Numpy PDF\")\n",
    "\n",
    "    ax[1].plot(xs,Fs,label=\"My CDF\", alpha=0.5)\n",
    "    ax[1].fill_between(xs,testFs,hatch='+',facecolor=\"white\",label=\"Numpy CDF\",alpha=0.5)\n",
    "\n",
    "    ax[0].set_title(f\"PDF Test: x0:{x0}, γ={γ}\")\n",
    "    ax[1].set_title(f\"CDF Test: x0:{x0}, γ={γ}\")\n",
    "\n",
    "    ax[0].set_xlabel(\"x\")\n",
    "    ax[0].set_ylabel(\"P\")\n",
    "\n",
    "    ax[1].set_xlabel(\"x\")\n",
    "    ax[1].set_ylabel(\"P\")\n",
    "\n",
    "    ax[0].legend()\n",
    "    ax[1].legend()\n",
    "    \n",
    "    Ps = np.linspace(0.01,0.99,100)\n",
    "    inverseXs = [inverseCDF(P,x0,γ) for P in Ps]\n",
    "    ax[2].plot(inverseXs,Ps)"
   ]
  },
  {
   "cell_type": "code",
   "execution_count": 58,
   "metadata": {},
   "outputs": [
    {
     "data": {
      "application/vnd.jupyter.widget-view+json": {
       "model_id": "6076b9e4f1714229b326b6f9bf9e2286",
       "version_major": 2,
       "version_minor": 0
      },
      "text/plain": [
       "interactive(children=(FloatSlider(value=0.0, description='x0', max=10.0, min=-10.0, step=0.5), FloatSlider(val…"
      ]
     },
     "metadata": {},
     "output_type": "display_data"
    },
    {
     "data": {
      "text/plain": [
       "<function __main__.plotControllerWithInverse(x0=0.0, γ=2.0)>"
      ]
     },
     "execution_count": 58,
     "metadata": {},
     "output_type": "execute_result"
    }
   ],
   "source": [
    "interact(plotControllerWithInverse,x0=widgets.FloatSlider(min=-10,max=10,step=0.5,value=0),γ=widgets.FloatSlider(min=1,max=10,step=0.1,value=1))"
   ]
  },
  {
   "cell_type": "code",
   "execution_count": 46,
   "metadata": {},
   "outputs": [
    {
     "data": {
      "application/vnd.jupyter.widget-view+json": {
       "model_id": "8c17f2c36bc241009d1394b860c2bc51",
       "version_major": 2,
       "version_minor": 0
      },
      "text/plain": [
       "interactive(children=(FloatSlider(value=0.0, description='x0', max=10.0, min=-10.0, step=0.5), FloatSlider(val…"
      ]
     },
     "metadata": {},
     "output_type": "display_data"
    },
    {
     "data": {
      "text/plain": [
       "<function __main__.plotInverseCDF(x0=0.0, γ=2.0)>"
      ]
     },
     "execution_count": 46,
     "metadata": {},
     "output_type": "execute_result"
    }
   ],
   "source": [
    "interact(plotInverseCDF,x0=widgets.FloatSlider(min=-10,max=10,step=0.5,value=0),γ=widgets.FloatSlider(min=1,max=10,step=0.1,value=1))"
   ]
  },
  {
   "cell_type": "code",
   "execution_count": 18,
   "metadata": {},
   "outputs": [],
   "source": [
    "def cauchy(n,x0=0,γ=2):\n",
    "    inverseCDFXs = []\n",
    "    for i in range(0,n):\n",
    "        u = np.random.uniform()\n",
    "        inverseCDFXs.append(inverseCDF(u,x0,γ))\n",
    "    return inverseCDFXs"
   ]
  },
  {
   "cell_type": "code",
   "execution_count": 19,
   "metadata": {},
   "outputs": [],
   "source": [
    "c = cauchy(1000000)"
   ]
  },
  {
   "cell_type": "code",
   "execution_count": 20,
   "metadata": {},
   "outputs": [
    {
     "data": {
      "text/plain": [
       "[<matplotlib.lines.Line2D at 0x116c9df5488>]"
      ]
     },
     "execution_count": 20,
     "metadata": {},
     "output_type": "execute_result"
    },
    {
     "data": {
      "image/png": "[encoded data removed]",
      "text/plain": [
       "<Figure size 432x288 with 1 Axes>"
      ]
     },
     "metadata": {
      "needs_background": "light"
     },
     "output_type": "display_data"
    }
   ],
   "source": [
    "plt.plot(c)"
   ]
  },
  {
   "cell_type": "code",
   "execution_count": 21,
   "metadata": {},
   "outputs": [
    {
     "data": {
      "text/plain": [
       "-2.023845274779916"
      ]
     },
     "execution_count": 21,
     "metadata": {},
     "output_type": "execute_result"
    }
   ],
   "source": [
    "np.mean(c)"
   ]
  },
  {
   "cell_type": "code",
   "execution_count": 22,
   "metadata": {},
   "outputs": [],
   "source": [
    "testC = stats.cauchy.rvs(size=1000000, loc=x0, scale=γ)"
   ]
  },
  {
   "cell_type": "code",
   "execution_count": 23,
   "metadata": {},
   "outputs": [
    {
     "data": {
      "text/plain": [
       "-0.28221966102117496"
      ]
     },
     "execution_count": 23,
     "metadata": {},
     "output_type": "execute_result"
    }
   ],
   "source": [
    "np.mean(testC)"
   ]
  },
  {
   "cell_type": "code",
   "execution_count": 24,
   "metadata": {},
   "outputs": [
    {
     "data": {
      "text/plain": [
       "[<matplotlib.lines.Line2D at 0x116c9e63fc8>]"
      ]
     },
     "execution_count": 24,
     "metadata": {},
     "output_type": "execute_result"
    },
    {
     "data": {
      "image/png": "[encoded data removed]",
      "text/plain": [
       "<Figure size 432x288 with 1 Axes>"
      ]
     },
     "metadata": {
      "needs_background": "light"
     },
     "output_type": "display_data"
    }
   ],
   "source": [
    "plt.plot(testC)"
   ]
  },
  {
   "cell_type": "markdown",
   "metadata": {},
   "source": [
    "# Problem 2\n",
    "\n",
    "You are asked to provide a random number generator from the Gamma PDF, $Gamma(x;2,2)$, given by\n",
    "\n",
    "$$\n",
    "f_X\\left(x\\right)=\\frac{1}{4}xe^{-\\frac{x}{2}}\n",
    "$$\n",
    "\n",
    "You are supposed to use rejection sampling, and choose the envelope PDF, i.e. $cg(x)$, to be a scaled version of Cauchy PDF (given in Problem 1)."
   ]
  },
  {
   "cell_type": "code",
   "execution_count": null,
   "metadata": {},
   "outputs": [],
   "source": []
  },
  {
   "cell_type": "markdown",
   "metadata": {},
   "source": [
    "## Problem 2.1\n",
    "\n",
    "Show how you modify your Cauchy PDF to become an upper bound for the Gamma PDF everywhere.  The parameters that you can vary so that this upper bound condition is satisfied are $x_0$, $\\gamma$, and also $c$.  There are several combinations of these parameters that can make the Cauchy PDF an envelope distribution.  Discussion how some of these conditions can be more favorable than others."
   ]
  },
  {
   "cell_type": "code",
   "execution_count": null,
   "metadata": {},
   "outputs": [],
   "source": []
  },
  {
   "cell_type": "markdown",
   "metadata": {},
   "source": [
    "## Problem 2.2\n",
    "\n",
    "Write an acceptance-rejection sampling code that can be used to generate $n$ samples from the given Gamma PDF.  Use the code you wrote for Problem 1 to draw samples from $g_X(x)$ within your rejection sampling algorithm.\n"
   ]
  },
  {
   "cell_type": "code",
   "execution_count": null,
   "metadata": {},
   "outputs": [],
   "source": []
  },
  {
   "cell_type": "markdown",
   "metadata": {},
   "source": [
    "## Problem 2.3\n",
    "\n",
    "Compare the generated samples with the targeted PDF.  You can use histogram plots or available kernel density estimator codes.  Discuss your results.\n"
   ]
  },
  {
   "cell_type": "code",
   "execution_count": null,
   "metadata": {},
   "outputs": [],
   "source": []
  }
 ],
 "metadata": {
  "kernelspec": {
   "display_name": "Python 3",
   "language": "python",
   "name": "python3"
  },
  "language_info": {
   "codemirror_mode": {
    "name": "ipython",
    "version": 3
   },
   "file_extension": ".py",
   "mimetype": "text/x-python",
   "name": "python",
   "nbconvert_exporter": "python",
   "pygments_lexer": "ipython3",
   "version": "3.7.4"
  }
 },
 "nbformat": 4,
 "nbformat_minor": 4
}
