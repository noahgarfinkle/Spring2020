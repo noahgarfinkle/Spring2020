{
 "cells": [
  {
   "cell_type": "markdown",
   "metadata": {},
   "source": [
    "# CEE 598: Uncertainty Quantification\n",
    "## Assignment Two\n",
    "### Noah Garfinkle (garfink2@illinois edu)\n",
    "### 13 February 2020"
   ]
  },
  {
   "cell_type": "markdown",
   "metadata": {},
   "source": [
    "# Imports and Setup"
   ]
  },
  {
   "cell_type": "code",
   "execution_count": 20,
   "metadata": {},
   "outputs": [],
   "source": [
    "import numpy as np\n",
    "import matplotlib.pyplot as plt\n",
    "import seaborn as sns\n",
    "import scipy.stats as stats"
   ]
  },
  {
   "cell_type": "markdown",
   "metadata": {},
   "source": [
    "# Problem 1\n",
    "\n",
    "Using inverse transform sampling, write a code that can be used to generate n samples from the Cauchy distribution.  The Cauchy PDF and CDF are given by\n",
    "\n",
    "$$\n",
    "f_X\\left(x\\right)=\\frac{1}{\\pi\\gamma\\left[1+\\left(\\frac{x-x_0}{\\gamma}\\right)^2\\right]}\n",
    "$$\n",
    "\n",
    "$$\n",
    "F_X\\left(x\\right)=\\frac{1}{\\pi}\\arctan{\\left(\\frac{x-x_0}{\\gamma}\\right)}+\\frac{1}{2}\n",
    "$$\n",
    "\n",
    "Where $x_o$ is the median, and $\\gamma$ is a scale factor.  The inputs to your code should be the number of samples $n$, and the numerical values for $x_0$ and $\\gamma$.  Compute the generated samples with the target PDF, for a particular choice of $x_0$ and $\\gamma$ (you’re free to choose any value).  You can use histogram plots or any available kernel density estimator codes.  Discuss your results."
   ]
  },
  {
   "cell_type": "code",
   "execution_count": 5,
   "metadata": {},
   "outputs": [],
   "source": [
    "def pdf(x,x0=0,γ=2):\n",
    "    f_denom = np.pi * γ * (1 + np.power((x-x0)/γ,2))\n",
    "    f = 1.0 / f_denom\n",
    "    return f"
   ]
  },
  {
   "cell_type": "code",
   "execution_count": 10,
   "metadata": {},
   "outputs": [],
   "source": [
    "def cdf(x,x0=0,γ=2):\n",
    "    F = (1/np.pi) * np.arctan((x-x0)/γ) + 1/2\n",
    "    return F"
   ]
  },
  {
   "cell_type": "code",
   "execution_count": 25,
   "metadata": {},
   "outputs": [],
   "source": [
    "def testPDF(x,x0=0,γ=2):\n",
    "    f = stats.cauchy.pdf(x=x, loc=x0, scale=γ)\n",
    "    return f"
   ]
  },
  {
   "cell_type": "code",
   "execution_count": 30,
   "metadata": {},
   "outputs": [],
   "source": [
    "def testCDF(x,x0=0,γ=2):\n",
    "    F = stats.cauchy.cdf(x=x, loc=x0, scale=γ)\n",
    "    return F"
   ]
  },
  {
   "cell_type": "code",
   "execution_count": 46,
   "metadata": {},
   "outputs": [
    {
     "data": {
      "text/plain": [
       "<matplotlib.legend.Legend at 0x14c7de73eb8>"
      ]
     },
     "execution_count": 46,
     "metadata": {},
     "output_type": "execute_result"
    },
    {
     "data": {
      "image/png": "[encoded data removed]",
      "text/plain": [
       "<Figure size 432x288 with 1 Axes>"
      ]
     },
     "metadata": {
      "needs_background": "light"
     },
     "output_type": "display_data"
    }
   ],
   "source": [
    "xs = np.linspace(0,10,100)\n",
    "fs = [pdf(x) for x in xs]\n",
    "testfs = [testPDF(x) for x in xs]\n",
    "fig,ax = plt.subplots()\n",
    "ax.plot(xs,fs,label=\"mine\",alpha=0.5)\n",
    "ax.plot(xs,testfs,label=\"theirs\",alpha=0.5)\n",
    "ax.fill_between(xs,testfs,hatch='x',facecolor=\"white\",label=\"theirs\")\n",
    "ax.legend()"
   ]
  },
  {
   "cell_type": "markdown",
   "metadata": {},
   "source": [
    "Solve for the inverse of the CDF\n",
    "\n",
    "$$\n",
    "y=\\frac{1}{\\pi}\\arctan{\\left(\\frac{x-x_0}{\\gamma}\\right)}+\\frac{1}{2}\n",
    "$$\n",
    "$$\n",
    "y-\\frac{1}{2}=\\frac{1}{\\pi}\\arctan{\\left(\\frac{x-x_0}{\\gamma}\\right)}\n",
    "$$\n",
    "$$\n",
    "\\pi y-\\frac{1}{2}\\pi=\\arctan{\\left(\\frac{x-x_0}{\\gamma}\\right)}\n",
    "$$\n",
    "$$\n",
    "\\tan{\\left(y\\pi-\\frac{1}{2}\\pi\\right)}=\\frac{x-x_0}{\\gamma}\n",
    "$$\n",
    "$$\n",
    "\\gamma tan{\\left(y\\pi-\\frac{1}{2}\\pi\\right)}=x-x_0\n",
    "$$\n",
    "$$\n",
    "x=\\gamma tan{\\left(y\\pi-\\frac{1}{2}\\pi\\right)}+x_0\\rightarrow Inverse\\ CDF\n",
    "$$"
   ]
  },
  {
   "cell_type": "markdown",
   "metadata": {},
   "source": [
    "# Problem 2\n",
    "\n",
    "You are asked to provide a random number generator from the Gamma PDF, $Gamma(x;2,2)$, given by\n",
    "\n",
    "$$\n",
    "f_X\\left(x\\right)=\\frac{1}{4}xe^{-\\frac{x}{2}}\n",
    "$$\n",
    "\n",
    "You are supposed to use rejection sampling, and choose the envelope PDF, i.e. $cg(x)$, to be a scaled version of Cauchy PDF (given in Problem 1)."
   ]
  },
  {
   "cell_type": "code",
   "execution_count": null,
   "metadata": {},
   "outputs": [],
   "source": []
  },
  {
   "cell_type": "markdown",
   "metadata": {},
   "source": [
    "## Problem 2.1\n",
    "\n",
    "Show how you modify your Cauchy PDF to become an upper bound for the Gamma PDF everywhere.  The parameters that you can vary so that this upper bound condition is satisfied are $x_0$, $\\gamma$, and also $c$.  There are several combinations of these parameters that can make the Cauchy PDF an envelope distribution.  Discussion how some of these conditions can be more favorable than others."
   ]
  },
  {
   "cell_type": "code",
   "execution_count": null,
   "metadata": {},
   "outputs": [],
   "source": []
  },
  {
   "cell_type": "markdown",
   "metadata": {},
   "source": [
    "## Problem 2.2\n",
    "\n",
    "Write an acceptance-rejection sampling code that can be used to generate $n$ samples from the given Gamma PDF.  Use the code you wrote for Problem 1 to draw samples from $g_X(x)$ within your rejection sampling algorithm.\n"
   ]
  },
  {
   "cell_type": "code",
   "execution_count": null,
   "metadata": {},
   "outputs": [],
   "source": []
  },
  {
   "cell_type": "markdown",
   "metadata": {},
   "source": [
    "## Problem 2.3\n",
    "\n",
    "Compare the generated samples with the targeted PDF.  You can use histogram plots or available kernel density estimator codes.  Discuss your results.\n"
   ]
  },
  {
   "cell_type": "code",
   "execution_count": null,
   "metadata": {},
   "outputs": [],
   "source": []
  }
 ],
 "metadata": {
  "kernelspec": {
   "display_name": "Python 3",
   "language": "python",
   "name": "python3"
  },
  "language_info": {
   "codemirror_mode": {
    "name": "ipython",
    "version": 3
   },
   "file_extension": ".py",
   "mimetype": "text/x-python",
   "name": "python",
   "nbconvert_exporter": "python",
   "pygments_lexer": "ipython3",
   "version": "3.7.3"
  }
 },
 "nbformat": 4,
 "nbformat_minor": 2
}
