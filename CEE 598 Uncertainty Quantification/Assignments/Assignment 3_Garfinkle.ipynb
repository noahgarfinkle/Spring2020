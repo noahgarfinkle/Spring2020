{
 "cells": [
  {
   "cell_type": "markdown",
   "metadata": {},
   "source": [
    "# CEE 598: Uncertainty Quantification\n",
    "## Assignment Three\n",
    "### Noah Garfinkle (garfink2@illinois edu)\n",
    "### 03 March 2020"
   ]
  },
  {
   "cell_type": "markdown",
   "metadata": {},
   "source": [
    "The following Jupyter notebook presents all code, results, and discussion.  The code is developed and tested using Python 3.7, with the notebook tested using Jupyter Lab.  Please let me know if you have any questions or would like any assistance running the code, or if you would prefer my work in a different format.  Please note that most calculated values are stochastic, and as such some variation will occur between runs.  After writing this report, I have cleared the kernel and rerun the notebook one last time in order to make sure all code runs linearly before submitting, and as such some of my figure values may not perfectly match example values I provide in the writeup.  However, they should be close and should further illustrate the write-up."
   ]
  },
  {
   "cell_type": "markdown",
   "metadata": {},
   "source": [
    "## Imports and Setup"
   ]
  },
  {
   "cell_type": "code",
   "execution_count": 1,
   "metadata": {},
   "outputs": [],
   "source": [
    "import numpy as np\n",
    "import matplotlib.pyplot as plt\n",
    "import seaborn as sns\n",
    "import scipy.stats as stats\n",
    "import ipywidgets as widgets\n",
    "from ipywidgets import interact, interact_manual\n",
    "import pandas as pd\n",
    "import time"
   ]
  },
  {
   "cell_type": "markdown",
   "metadata": {},
   "source": [
    "## Problem One"
   ]
  },
  {
   "cell_type": "markdown",
   "metadata": {},
   "source": [
    "Similar to importance sampling example in lecture notes, we would lke now to calculate $\\theta = P(X>2)$ where $X$ is distributed according to the standard Cauchy PDF, given by\n",
    "\n",
    "$$\n",
    "f_X(x) = \\frac{1}{\\pi(1+x^2)}\n",
    "$$\n",
    "\n",
    "Consider the proposal to be $q_x(x) = \\frac{2}{x^2}$ defined over the domain of interest.  Write a Monte Carlo (MC) integration code, as well as importance sampling code for the estimation of $\\theta$.  The input to these codes should be the size of the sample set $n$.  Let $\\hat{\\theta_f}$ be the result obtained from standard MC method and $\\hat{\\theta_g}$ be that from importance sampling."
   ]
  },
  {
   "cell_type": "markdown",
   "metadata": {},
   "source": [
    "### (a) Compare the convergence behaviors for $\\hat{\\theta_f}$ and $\\hat{\\theta_g}$."
   ]
  },
  {
   "cell_type": "code",
   "execution_count": 2,
   "metadata": {},
   "outputs": [],
   "source": [
    "def f(x):\n",
    "    fx = 1 / (np.pi*(1+np.power(x,2)))\n",
    "    return fx"
   ]
  },
  {
   "cell_type": "code",
   "execution_count": 3,
   "metadata": {},
   "outputs": [],
   "source": [
    "def q(x):\n",
    "    qx = 2 / np.power(x,2)\n",
    "    return qx"
   ]
  },
  {
   "cell_type": "markdown",
   "metadata": {},
   "source": [
    "Plot to compare the distributions"
   ]
  },
  {
   "cell_type": "code",
   "execution_count": 4,
   "metadata": {},
   "outputs": [],
   "source": [
    "xs = np.linspace(1.9,10,200)\n",
    "fs = [f(x) for x in xs]\n",
    "qs = [q(x) for x in xs]"
   ]
  },
  {
   "cell_type": "code",
   "execution_count": 5,
   "metadata": {},
   "outputs": [
    {
     "data": {
      "text/plain": [
       "Text(0, 0.5, '$P(X==x)$')"
      ]
     },
     "execution_count": 5,
     "metadata": {},
     "output_type": "execute_result"
    },
    {
     "data": {
      "image/png": "[encoded data removed]",
      "text/plain": [
       "<Figure size 360x360 with 1 Axes>"
      ]
     },
     "metadata": {
      "needs_background": "light"
     },
     "output_type": "display_data"
    }
   ],
   "source": [
    "fig,ax = plt.subplots(figsize=(5,5))\n",
    "sns.lineplot(xs,fs,label=\"$f_X(x)$\",ax=ax)\n",
    "sns.lineplot(xs,qs,label=\"$q_X(x)$\",ax=ax)\n",
    "ax.set_title(\"Comparison of actual and proposal distribution\")\n",
    "ax.set_xlabel(\"$x$\")\n",
    "ax.set_ylabel(\"$P(X==x)$\")"
   ]
  },
  {
   "cell_type": "markdown",
   "metadata": {},
   "source": [
    "For reference, estimate what the actual area should be by using the Scipy built-in Cauchy distribution"
   ]
  },
  {
   "cell_type": "code",
   "execution_count": 6,
   "metadata": {},
   "outputs": [
    {
     "data": {
      "text/plain": [
       "0.14758043455157155"
      ]
     },
     "execution_count": 6,
     "metadata": {},
     "output_type": "execute_result"
    }
   ],
   "source": [
    "stats.cauchy.cdf(100000)-stats.cauchy.cdf(2)"
   ]
  },
  {
   "cell_type": "markdown",
   "metadata": {},
   "source": [
    "#### Monte Carlo Integration"
   ]
  },
  {
   "cell_type": "markdown",
   "metadata": {},
   "source": [
    "Approach:\n",
    "\n",
    "Let us assume that the maximum value of the distirbution, per the figure above, is 0.1.  Therefore, we will randomly select values on the x axis between 2 and a large number (a number with a very small probability along the tail), and between 0 and 0.1.  We will check whether they fall under the curve."
   ]
  },
  {
   "cell_type": "code",
   "execution_count": 7,
   "metadata": {},
   "outputs": [
    {
     "name": "stdout",
     "output_type": "stream",
     "text": [
      "Wall time: 518 ms\n"
     ]
    }
   ],
   "source": [
    "%%time\n",
    "n = 100000\n",
    "min_x = 2.0\n",
    "max_x = 100\n",
    "min_y = 0.0\n",
    "max_y = 0.1\n",
    "sample_xs = []\n",
    "sample_ys = []\n",
    "p_xs = []\n",
    "sample_hits = []\n",
    "for i in range(0,n):\n",
    "    sample_x = np.random.random() * max_x\n",
    "    sample_y = np.random.random() * max_y\n",
    "    p_x = f(sample_x)\n",
    "    if sample_y < p_x:\n",
    "        sample_hits.append(True)\n",
    "    else:\n",
    "        sample_hits.append(False)\n",
    "    sample_xs.append(sample_x)\n",
    "    sample_ys.append(sample_y)\n",
    "    p_xs.append(p_x)\n",
    "df_mc = pd.DataFrame({\"x\":sample_xs,\"y\":sample_ys,\"f(x)\":p_xs,\"hit\":sample_hits})"
   ]
  },
  {
   "cell_type": "code",
   "execution_count": 8,
   "metadata": {},
   "outputs": [],
   "source": [
    "area_rectangle = (max_x-min_x) * (max_y-min_y)\n",
    "nHits = len(df_mc[(df_mc[\"hit\"]==True) & (df_mc[\"x\"]>min_x)])\n",
    "fractionHits = nHits / n\n",
    "fractionArea = fractionHits * area_rectangle"
   ]
  },
  {
   "cell_type": "code",
   "execution_count": 9,
   "metadata": {},
   "outputs": [
    {
     "data": {
      "text/plain": [
       "0.13739600000000002"
      ]
     },
     "execution_count": 9,
     "metadata": {},
     "output_type": "execute_result"
    }
   ],
   "source": [
    "fractionArea"
   ]
  },
  {
   "cell_type": "code",
   "execution_count": 10,
   "metadata": {},
   "outputs": [
    {
     "data": {
      "text/plain": [
       "Text(0.5, 1.0, 'Monte Carlo approach to area estimation with 100000 samples\\n$P(x>2)=0.14$')"
      ]
     },
     "execution_count": 10,
     "metadata": {},
     "output_type": "execute_result"
    },
    {
     "data": {
      "image/png": "[encoded data removed]",
      "text/plain": [
       "<Figure size 720x720 with 1 Axes>"
      ]
     },
     "metadata": {
      "needs_background": "light"
     },
     "output_type": "display_data"
    }
   ],
   "source": [
    "fig,ax = plt.subplots(figsize=(10,10))\n",
    "df_Miss = df_mc[df_mc[\"hit\"]==False]\n",
    "df_hitAbove2 = df_mc[(df_mc[\"hit\"]==True) & (df_mc[\"x\"]>min_x)]\n",
    "df_hitBelow2 = df_mc[(df_mc[\"hit\"]==True) & (df_mc[\"x\"]<=min_x)]\n",
    "ax.scatter(x=df_hitAbove2[\"x\"],y=df_hitAbove2[\"y\"],color=\"red\",label=\"Hit\")\n",
    "ax.scatter(x=df_Miss[\"x\"],y=df_Miss[\"y\"],color=\"green\",label=\"Miss\")\n",
    "ax.scatter(x=df_hitBelow2[\"x\"],y=df_hitBelow2[\"y\"],color=\"orange\",label=\"Hit but Outside of Range\",alpha=0.1)\n",
    "ax.axvspan(min_x,max_x,alpha=0.1,color=\"grey\",label=\"Area Being Estimated\")\n",
    "sns.lineplot(x=\"x\",y=\"f(x)\",data=df_mc,ax=ax,label=\"Distribution\")\n",
    "ax.set_title(f\"Monte Carlo approach to area estimation with {n} samples\\n$P(x>2)={fractionArea:,.2f}$\")"
   ]
  },
  {
   "cell_type": "markdown",
   "metadata": {},
   "source": [
    "#### Importance Sampling"
   ]
  },
  {
   "cell_type": "markdown",
   "metadata": {},
   "source": [
    "Approach\n",
    "- I will begin by creating a random number generator out of our proposal distribution.  Because the PDF, $q_X(x)=\\frac{2}{x^2}$,\n",
    "- The CDF, $Q_X(x)=\\int{\\frac{2}{x^2}} = \\frac{-2}{x}$\n",
    "- $\\therefore$ the inverse CDF is $\\frac{-2}{y}$\n",
    "- We can use this to construct a random number generator for our importance sampling measure.\n",
    "\n",
    "References\n",
    "\n",
    "- https://astrostatistics.psu.edu/su14/lectures/cisewski_is.pdf\n",
    "- https://people.duke.edu/~ccc14/sta-663/MonteCarlo.html"
   ]
  },
  {
   "cell_type": "code",
   "execution_count": 11,
   "metadata": {},
   "outputs": [],
   "source": [
    "def inversecdf(y):\n",
    "    x = 2.0 / y\n",
    "    return x"
   ]
  },
  {
   "cell_type": "code",
   "execution_count": 12,
   "metadata": {},
   "outputs": [
    {
     "name": "stdout",
     "output_type": "stream",
     "text": [
      "Wall time: 646 ms\n"
     ]
    }
   ],
   "source": [
    "%%time\n",
    "sample_xs = []\n",
    "Pzs = []\n",
    "Pzs_scaled = []\n",
    "\n",
    "n = 100000\n",
    "Pz = 0.0\n",
    "for i in range(0,n):\n",
    "    # pick a random x\n",
    "    rand = np.random.random()\n",
    "    x = inversecdf(rand)\n",
    "    sample_xs.append(x)\n",
    "    if x > min_x:\n",
    "        Pz += f(x) / q(x)\n",
    "        Pzs.append(Pz) \n",
    "        if i > 0:\n",
    "            Pzs_scaled.append(Pz/i)\n",
    "        else:\n",
    "            Pzs_scaled.append(0.0)\n",
    "Pz /= n\n",
    "\n",
    "df_is = pd.DataFrame({\"x\":sample_xs,\"Pz\":Pzs,\"Pz Scaled\":Pzs_scaled})"
   ]
  },
  {
   "cell_type": "code",
   "execution_count": 13,
   "metadata": {},
   "outputs": [
    {
     "data": {
      "text/plain": [
       "0.14764590872681183"
      ]
     },
     "execution_count": 13,
     "metadata": {},
     "output_type": "execute_result"
    }
   ],
   "source": [
    "Pz"
   ]
  },
  {
   "cell_type": "markdown",
   "metadata": {},
   "source": [
    "#### Discussion"
   ]
  },
  {
   "cell_type": "markdown",
   "metadata": {},
   "source": [
    "As expected, importance sampling provides a much better estimate of the tail probability, while as expected the Monte Carlo method is slightly faster for the same number of samples $n=100,000$.  Running on a Windows 10 PC with a 3.5 GHz quad-core processor and 32 gigabytes of ram, both approaches take approximatley 1/2 second.  The core difference, however, is the performance of the estimator.  For 100,000 samples, the Monte Carlo approach estimates 0.143, versus an estimated more-accurate value calculated above of 0.148.  The importance sampling estimates bound 0.148 using even 100 samples, at a runtime too small for my code profiler to track, demosntrating substantial performance benefits."
   ]
  },
  {
   "cell_type": "markdown",
   "metadata": {},
   "source": [
    "### (b) At each sample number, use the previous samples to calculate the sample variance for the $\\theta$ estimates, i.e. $Var(\\hat{\\theta_f})$ and $Var(\\hat{\\theta_g})$.  Compare these two measures and their convergences."
   ]
  },
  {
   "cell_type": "markdown",
   "metadata": {},
   "source": [
    "Appraoch\n",
    "\n",
    "- There are a number of ways to approach variance, considering that I have an estimate of the true sample expectation (option 1).  For option 2, I could have utilized the expectation for each subset of samples.  I opted for option 3, in which I compared each distribution to its end estimate of $\\theta$.  Changing this would be as simple as swapping values (options 1 and 3) or a little bit of additional code (option 2).\n",
    "- I felt this approach was most instructive, as the true expectation would likely not be known in a more complex case, and overall convergence behavior is what I was interested in studying.\n",
    "\n",
    "References\n",
    "\n",
    "- https://people.duke.edu/~ccc14/sta-663/MonteCarlo.html"
   ]
  },
  {
   "cell_type": "code",
   "execution_count": 14,
   "metadata": {},
   "outputs": [],
   "source": [
    "# For sake of comparison, take the actual value to be\n",
    "θ_actual = stats.cauchy.cdf(100000)-stats.cauchy.cdf(2)"
   ]
  },
  {
   "cell_type": "markdown",
   "metadata": {},
   "source": [
    "Variance analysis for the Monte Carlo algorithm"
   ]
  },
  {
   "cell_type": "code",
   "execution_count": 18,
   "metadata": {},
   "outputs": [],
   "source": [
    "θ_fs = []\n",
    "var_θ_fs = []\n",
    "for i in range(1,n):\n",
    "    df_mc_subset = df_mc[0:i]\n",
    "    # estimate theta and theata variance\n",
    "    hitDF = df_mc_subset[(df_mc_subset[\"hit\"]==True) & (df_mc_subset[\"x\"]>min_x)]\n",
    "    nHits = len(hitDF)\n",
    "    fractionHits = nHits / n\n",
    "    θ_f = fractionHits * area_rectangle\n",
    "    θ_fs.append(θ_f)\n",
    "    var_θ_f = np.power(θ_f-fractionArea,2)\n",
    "    var_θ_fs.append(var_θ_f)"
   ]
  },
  {
   "cell_type": "markdown",
   "metadata": {},
   "source": [
    "Variance analysis for the Improtance Sampling algorithm"
   ]
  },
  {
   "cell_type": "code",
   "execution_count": 19,
   "metadata": {},
   "outputs": [],
   "source": [
    "df_is[\"Var\"] = np.power(df_is[\"Pz Scaled\"]-Pz,2)"
   ]
  },
  {
   "cell_type": "markdown",
   "metadata": {},
   "source": [
    "Compare the behavior of both algorithms"
   ]
  },
  {
   "cell_type": "code",
   "execution_count": 20,
   "metadata": {},
   "outputs": [
    {
     "data": {
      "text/plain": [
       "Text(0.5, 0, 'Iteration')"
      ]
     },
     "execution_count": 20,
     "metadata": {},
     "output_type": "execute_result"
    },
    {
     "data": {
      "image/png": "[encoded data removed]",
      "text/plain": [
       "<Figure size 1080x1080 with 4 Axes>"
      ]
     },
     "metadata": {
      "needs_background": "light"
     },
     "output_type": "display_data"
    }
   ],
   "source": [
    "fig,ax = plt.subplots(2,2,figsize=(15,15),sharey=\"row\",sharex=\"col\")\n",
    "fig.suptitle(\"Comparison of converengence behavior between Monte Carlo and Importance Sampling\")\n",
    "\n",
    "ax[0,0].plot(θ_fs)\n",
    "ax[0,0].set_title(\"Expected Value: Monte Carlo\")\n",
    "ax[1,0].plot(var_θ_fs)\n",
    "ax[1,0].set_title(\"Variance: Monte Carlo\")\n",
    "ax[1,0].set_xlabel(\"Iteration\")\n",
    "\n",
    "ax[0,0].axhline(θ_actual,ls=\"--\",color=\"grey\",alpha=0.5)\n",
    "ax[0,1].axhline(θ_actual,ls=\"--\",color=\"grey\",alpha=0.5)\n",
    "\n",
    "ax[0,1].plot(df_is[\"Pz Scaled\"][0:250])\n",
    "ax[0,1].set_title(\"Expected Value: Importance Sampling\")\n",
    "ax[1,1].plot(df_is[\"Var\"][0:250])\n",
    "ax[1,1].set_title(\"Variance: Importance Sampling\")\n",
    "ax[1,1].set_xlabel(\"Iteration\")"
   ]
  },
  {
   "cell_type": "markdown",
   "metadata": {},
   "source": [
    "### (c) Discuss your observations"
   ]
  },
  {
   "cell_type": "markdown",
   "metadata": {},
   "source": [
    "While both approaches start at relatively similar values of variance, the decay of variance for importance sampling is very impressive, with convergence appearing to arise in fewer than 150 iterations.  For the Monte Carlo approach, 100,000 samples appear to lead the algorithm towards asymptotically approaching convergence, however even here convergence may not yet have been reached.  As such, importance sampling is highly superior in this application, achieving a better approximation of the integral in substantially less time."
   ]
  },
  {
   "cell_type": "markdown",
   "metadata": {},
   "source": [
    "## Problem Two"
   ]
  },
  {
   "cell_type": "markdown",
   "metadata": {},
   "source": [
    "Write a Metropolis-Hastings code that can be used to draw samples from the Rayleigh PDF given by\n",
    "\n",
    "$$\n",
    "f(x;\\sigma)=\\frac{x}{\\sigma^2}e^{\\frac{-x^2}{2\\sigma^2}}, x\\geq0\n",
    "$$\n",
    "\n",
    "Choose the proposal to be $q(y|x)=N(x,\\sigma_q^2)$"
   ]
  },
  {
   "cell_type": "code",
   "execution_count": 21,
   "metadata": {},
   "outputs": [],
   "source": [
    "def f_rayleigh(x,σ):\n",
    "    p = x / np.power(σ,2)*np.exp(-np.power(x,2)/(2*np.power(σ,2)))\n",
    "    return p"
   ]
  },
  {
   "cell_type": "code",
   "execution_count": 22,
   "metadata": {},
   "outputs": [],
   "source": [
    "# I think what actually needs to happen here with my proposal is a normal distribution centered on x and with σ\n",
    "def q_x(x,σ):\n",
    "    normalDist = stats.norm(loc=x,scale=σ)\n",
    "    proposedValue = normalDist.rvs()\n",
    "    return proposedValue"
   ]
  },
  {
   "cell_type": "markdown",
   "metadata": {},
   "source": [
    "First, we begin by ensuring that our impelmented distribution matches an accepted distribution."
   ]
  },
  {
   "cell_type": "code",
   "execution_count": 23,
   "metadata": {},
   "outputs": [],
   "source": [
    "xs = np.linspace(0,10,100)\n",
    "fs_rayleigh = [f_rayleigh(x,1) for x in xs]\n",
    "pdf_rayleigh = [stats.rayleigh.pdf(x,scale=1) for x in xs]"
   ]
  },
  {
   "cell_type": "code",
   "execution_count": 24,
   "metadata": {},
   "outputs": [
    {
     "data": {
      "text/plain": [
       "<matplotlib.legend.Legend at 0x1f625aca448>"
      ]
     },
     "execution_count": 24,
     "metadata": {},
     "output_type": "execute_result"
    },
    {
     "data": {
      "image/png": "[encoded data removed]",
      "text/plain": [
       "<Figure size 720x720 with 1 Axes>"
      ]
     },
     "metadata": {
      "needs_background": "light"
     },
     "output_type": "display_data"
    }
   ],
   "source": [
    "fig,ax = plt.subplots(figsize=(10,10))\n",
    "sns.lineplot(xs,fs_rayleigh,label=\"My distribution\",ax=ax)\n",
    "# sns.lineplot(xs,pdf_rayleigh,label=\"Scipy\",ax=ax)\n",
    "ax.fill_between(xs,pdf_rayleigh,hatch='x',facecolor=\"white\",label=\"Scipy PDF\")\n",
    "ax.legend()"
   ]
  },
  {
   "cell_type": "markdown",
   "metadata": {},
   "source": [
    "As such, my distribution as implemented appears to be a good fit."
   ]
  },
  {
   "cell_type": "markdown",
   "metadata": {},
   "source": [
    "### (a) Assume $\\sigma = \\sigma_q = 1$.  We have two ways to implement the algorithm now that the supports of $f$ and $q$ are different:\n",
    "\n",
    "_Option a.1_: We draw samples from the proposal distribution, and only if they fall inside the domain interest, we consider them a candidate, based on which we evaluate the rejection probability and move to the acceptance/rejection step.  That is, if they don't fall inside the support of $f$ we don't make a self-transition, and just free the step timer, until a proposal falls inside the support.\n",
    "\n",
    "_Option a.2_: We draw samples from the proposal distribution, and no matter where they fall (inside or outside the domain of interest), we treat them as a candidate, based on which we evaluate the rejection probability and move to the acceptance/rejection step.  That is, no matter where the proposal draw is, we will not freeze the time stepper.\n",
    "\n",
    "Compare the two sample populations generated using these two codes with the target distribution and commennt on the options you would pick."
   ]
  },
  {
   "cell_type": "markdown",
   "metadata": {},
   "source": [
    "General Approach:\n",
    "\n",
    "1. Set an initial value of x\n",
    "2. For t = 1,2,...\n",
    "\n",
    "    a. Obtain a proposed value from q\n",
    "    \n",
    "    b. Calculate the acceptance probability\n",
    "    \n",
    "    c. Based on the acceptance probability ,either set the next value as the proposed value or stay in place\n",
    "\n",
    "References:\n",
    "- https://stephens999.github.io/fiveMinuteStats/MH_intro.html\n",
    "- https://towardsdatascience.com/from-scratch-bayesian-inference-markov-chain-monte-carlo-and-metropolis-hastings-in-python-ef21a29e25a"
   ]
  },
  {
   "cell_type": "markdown",
   "metadata": {},
   "source": [
    "#### Option a.1\n",
    "\n",
    "For Option a.1, I have decided to consider a proposal $x$ as falling outside of the support for $f_X(x)$ if $f_X(x)<0.0$"
   ]
  },
  {
   "cell_type": "code",
   "execution_count": null,
   "metadata": {},
   "outputs": [],
   "source": [
    "iterations = []\n",
    "xs = []\n",
    "proposedXs = []\n",
    "arr_Accepted = []\n",
    "\n",
    "x = 1.0\n",
    "σ = 1\n",
    "σ_q = 1\n",
    "for t in range(0,100000):\n",
    "    check = -1\n",
    "    while check < 0:\n",
    "        # obtain a proposed value from q\n",
    "        proposedValue = q_x(x,σ_q)\n",
    "        # calculate the acceptance probability\n",
    "        acceptanceRatio = min(1,f_rayleigh(proposedValue,1) / f_rayleigh(x,1) * stats.norm.pdf(x,scale=σ_q,loc=proposedValue) / stats.norm.pdf(proposedValue,scale=σ_q,loc=x))\n",
    "        check = f_rayleigh(proposedValue,σ)\n",
    "        accepted = False\n",
    "        # check if it falls within the support for fx (positive probability)\n",
    "        if acceptanceRatio == 1: #accept\n",
    "            x = proposedValue\n",
    "            accepted = True\n",
    "        else: # draw a random number and take the probability from acceptanceRatio\n",
    "            rand = np.random.random()\n",
    "            if rand < acceptanceRatio:\n",
    "                x = proposedValue\n",
    "                accepted = True\n",
    "            else:\n",
    "                pass\n",
    "    iterations.append(t)\n",
    "    xs.append(x)\n",
    "    proposedXs.append(proposedValue)\n",
    "    arr_Accepted.append(accepted)\n",
    "df = pd.DataFrame({\"t\":iterations,\"x\":xs,\"proposals\":proposedXs,\"accepted\":arr_Accepted})"
   ]
  },
  {
   "cell_type": "code",
   "execution_count": null,
   "metadata": {},
   "outputs": [],
   "source": [
    "df_Accepted = df[df[\"accepted\"]==True]\n",
    "df_Rejected = df[df[\"accepted\"]==False]\n",
    "\n",
    "fig,ax = plt.subplots(figsize=(10,5))\n",
    "ax.scatter(df_Accepted[\"t\"],df_Accepted[\"x\"],label=\"Accepted\",marker=\".\",color=\"green\")\n",
    "ax.scatter(df_Rejected[\"t\"],df_Rejected[\"proposals\"],label=\"Rejected\",marker=\"x\",color=\"red\")\n",
    "ax.legend()\n",
    "ax.set_xlabel(\"Iteration\")\n",
    "ax.set_ylabel(\"$x$\")"
   ]
  },
  {
   "cell_type": "markdown",
   "metadata": {},
   "source": [
    "We can compare the expected value of our generated distribution with the expected value for a Raylleigh distribution"
   ]
  },
  {
   "cell_type": "code",
   "execution_count": null,
   "metadata": {},
   "outputs": [],
   "source": [
    "df[\"x\"].mean()"
   ]
  },
  {
   "cell_type": "code",
   "execution_count": null,
   "metadata": {},
   "outputs": [],
   "source": [
    "σ*np.power(np.pi/2,.5) # the true expected value of a Rayleigh distribution per https://www.statisticshowto.datasciencecentral.com/rayleigh-distribution/"
   ]
  },
  {
   "cell_type": "code",
   "execution_count": null,
   "metadata": {},
   "outputs": [],
   "source": [
    "xs = np.linspace(0,10,100)\n",
    "fs_rayleigh = [f_rayleigh(x,1) for x in xs]\n",
    "fig,ax = plt.subplots(figsize=(10,10))\n",
    "sns.lineplot(xs,fs_rayleigh,label=\"Rayleigh distribution\",ax=ax)\n",
    "sns.kdeplot(df[\"x\"],ax=ax,label=\"Metropolis Hastings\")\n",
    "ax.legend()\n",
    "ax.set_xlabel(\"$x$\")\n",
    "ax.set_ylabel(\"$P(x)$\")\n",
    "ax.set_title(\"Metropolis-Hastings Algorithm Implementation a.1\\nNote: No negative numbers are actually observed, the tail reflects the plotting library KDE\")"
   ]
  },
  {
   "cell_type": "markdown",
   "metadata": {},
   "source": [
    "#### Option a.2"
   ]
  },
  {
   "cell_type": "code",
   "execution_count": null,
   "metadata": {},
   "outputs": [],
   "source": [
    "iterations = []\n",
    "xs = []\n",
    "proposedXs = []\n",
    "arr_Accepted = []\n",
    "\n",
    "x = 1.0\n",
    "σ = 1\n",
    "σ_q = 1\n",
    "for t in range(0,100000):\n",
    "    # obtain a proposed value from q\n",
    "    proposedValue = q_x(x,σ_q)\n",
    "    # calculate the acceptance probability\n",
    "    acceptanceRatio = min(1,f_rayleigh(proposedValue,1) / f_rayleigh(x,1) * stats.norm.pdf(x,scale=σ_q,loc=proposedValue) / stats.norm.pdf(proposedValue,scale=σ_q,loc=x))\n",
    "    accepted = False\n",
    "    if acceptanceRatio == 1: #accept\n",
    "        x = proposedValue\n",
    "        accepted = True\n",
    "    else: # draw a random number and take the probability from acceptanceRatio\n",
    "        rand = np.random.random()\n",
    "        if rand < acceptanceRatio:\n",
    "            x = proposedValue\n",
    "            accepted = True\n",
    "        else:\n",
    "            pass\n",
    "    iterations.append(t)\n",
    "    xs.append(x)\n",
    "    proposedXs.append(proposedValue)\n",
    "    arr_Accepted.append(accepted)\n",
    "#     print(f\"Step {t}, current value: {x}, proposed value: {proposedValue}, acceptance ratio: {acceptanceRatio}, accepted: {accepted}\")\n",
    "df = pd.DataFrame({\"t\":iterations,\"x\":xs,\"proposals\":proposedXs,\"accepted\":arr_Accepted})"
   ]
  },
  {
   "cell_type": "code",
   "execution_count": null,
   "metadata": {},
   "outputs": [],
   "source": [
    "df_Accepted = df[df[\"accepted\"]==True]\n",
    "df_Rejected = df[df[\"accepted\"]==False]\n",
    "\n",
    "fig,ax = plt.subplots(figsize=(10,5))\n",
    "ax.scatter(df_Accepted[\"t\"],df_Accepted[\"x\"],label=\"Accepted\",marker=\".\",color=\"green\")\n",
    "ax.scatter(df_Rejected[\"t\"],df_Rejected[\"proposals\"],label=\"Rejected\",marker=\"x\",color=\"red\")\n",
    "ax.legend()\n",
    "ax.set_xlabel(\"Iteration\")\n",
    "ax.set_ylabel(\"$x$\")"
   ]
  },
  {
   "cell_type": "code",
   "execution_count": null,
   "metadata": {},
   "outputs": [],
   "source": [
    "df[\"x\"].mean()"
   ]
  },
  {
   "cell_type": "code",
   "execution_count": null,
   "metadata": {},
   "outputs": [],
   "source": [
    "σ*np.power(np.pi/2,.5) # the true expected value of a Rayleigh distribution per https://www.statisticshowto.datasciencecentral.com/rayleigh-distribution/"
   ]
  },
  {
   "cell_type": "code",
   "execution_count": null,
   "metadata": {},
   "outputs": [],
   "source": [
    "xs = np.linspace(0,10,100)\n",
    "fs_rayleigh = [f_rayleigh(x,1) for x in xs]\n",
    "fig,ax = plt.subplots(figsize=(10,10))\n",
    "sns.lineplot(xs,fs_rayleigh,label=\"Rayleigh distribution\",ax=ax)\n",
    "sns.kdeplot(df[\"x\"],ax=ax,label=\"Metropolis Hastings\")\n",
    "ax.legend()\n",
    "ax.set_xlabel(\"$x$\")\n",
    "ax.set_ylabel(\"$P(x)$\")\n",
    "ax.set_title(\"Metropolis-Hastings Algorithm Implementation a.1\\nNote: No negative numbers are actually observed, the tail reflects the plotting library KDE\")"
   ]
  },
  {
   "cell_type": "code",
   "execution_count": null,
   "metadata": {},
   "outputs": [],
   "source": [
    "# Replicate the plot for the early iterations to show convergence behavior\n",
    "df_Early = df[df[\"t\"]<50]\n",
    "df_Early_Accepted = df_Early[df_Early[\"accepted\"]==True]\n",
    "df_Early_Rejected = df_Early[df_Early[\"accepted\"]==False]\n",
    "\n",
    "fig,ax = plt.subplots(figsize=(10,5))\n",
    "ax.scatter(df_Early_Accepted[\"t\"],df_Early_Accepted[\"x\"],label=\"Accepted\",marker=\".\",color=\"green\")\n",
    "ax.scatter(df_Early_Rejected[\"t\"],df_Early_Rejected[\"proposals\"],label=\"Rejected\",marker=\"x\",color=\"red\")\n",
    "ax.legend()\n",
    "ax.set_xlabel(\"Iteration\")\n",
    "ax.set_ylabel(\"$x$\")"
   ]
  },
  {
   "cell_type": "markdown",
   "metadata": {},
   "source": [
    "#### Discussion"
   ]
  },
  {
   "cell_type": "markdown",
   "metadata": {},
   "source": [
    "I was surprised to find that option a.2 appears to provide a much better fit for the distribution than option a.1.  I found this surpising because a.1 focuses more time within the distribution of interest, running substantially longer to search out points.  My best guess is that this extra layer of rejection (sampling outside of the target distribution) serves a valuable purpose in assisting the algorithm to explore more of the distribution. "
   ]
  },
  {
   "cell_type": "markdown",
   "metadata": {},
   "source": [
    "### (b) Assume $\\sigma = 1$ in the target Rayleigh distribution.  Determine what choice of $\\sigma_q$ will lead to a better sampling algorithm.  Include details about your thought process and numerical tests in reaching a good proposal."
   ]
  },
  {
   "cell_type": "markdown",
   "metadata": {},
   "source": [
    "Approach:\n",
    "\n",
    "A vaolue of $\\sigma_q=1$ already appears to provide a relatively good fit to the distribution.  For completeness I will compare approaches a.1 and a.2, however based upon the previous results and discussion above I have decided to focus the majority of my analyses on approach a.2, which I will refer to simply as metrpoloisHastings in my code from now on.  Because I am already achieving a relatively good fit, there are two metrics I will evaluate when exploring different values of $\\sigma_q$.  First, I will continue to look at the quality of the fit as expressed quantitatively by the expectation and qualitatively by examining the plot of the distribution estimate (in order to catch any potential biases).  Second, I will explore whether different values of $\\sigma_q$ impact convergence behavior and runtime, with the metric of choice being the number of samples $n$ required and the resultant time required to run the function.\n",
    "\n",
    "Findings:\n",
    "As the graphics and time estimates below indicate, I stand by the selection of $\\sigma_q=1$ as a reasonable selection.  Smaller and larger values of $\\sigma_q$ do not appear to improve the quality of the fit for any portion of the distribution, and a value of 1 appears to give the best fit across a range of $n$, and thus across a range of run-times.  Please note in the grahpics below that no negative numbesr are actually generated by my distribution.  The tail appearing to go negative is a result of plotting choices I made to utilize the kernel density plot library from Seaborn, which attempts to fit a negative tail over my values.  The raw results can be explored from the returned Pandas dataframe, but I felt that this plot provides the most clear way of comparing the distributions for all regions except for that tail."
   ]
  },
  {
   "cell_type": "code",
   "execution_count": null,
   "metadata": {},
   "outputs": [],
   "source": [
    "def metropolisHastings(x=1.0,σ=1,σ_q=1,n=10000):\n",
    "    iterations = []\n",
    "    xs = []\n",
    "    proposedXs = []\n",
    "    arr_Accepted = []\n",
    "\n",
    "    for t in range(0,n):\n",
    "        # obtain a proposed value from q\n",
    "        proposedValue = q_x(x,σ_q)\n",
    "        # calculate the acceptance probability\n",
    "        acceptanceRatio = min(1,f_rayleigh(proposedValue,1) / f_rayleigh(x,1) * stats.norm.pdf(x,scale=σ_q,loc=proposedValue) / stats.norm.pdf(proposedValue,scale=σ_q,loc=x))\n",
    "        accepted = False\n",
    "        if acceptanceRatio == 1: #accept\n",
    "            x = proposedValue\n",
    "            accepted = True\n",
    "        else: # draw a random number and take the probability from acceptanceRatio\n",
    "            rand = np.random.random()\n",
    "            if rand < acceptanceRatio:\n",
    "                x = proposedValue\n",
    "                accepted = True\n",
    "            else:\n",
    "                pass\n",
    "        iterations.append(t)\n",
    "        xs.append(x)\n",
    "        proposedXs.append(proposedValue)\n",
    "        arr_Accepted.append(accepted)\n",
    "    df = pd.DataFrame({\"t\":iterations,\"x\":xs,\"proposals\":proposedXs,\"accepted\":arr_Accepted})\n",
    "    \n",
    "    df_Accepted = df[df[\"accepted\"]==True]\n",
    "    df_Rejected = df[df[\"accepted\"]==False]\n",
    "\n",
    "    fig,ax = plt.subplots(figsize=(10,5))\n",
    "    ax.scatter(df_Accepted[\"t\"],df_Accepted[\"x\"],label=\"Accepted\",marker=\".\",color=\"green\")\n",
    "    ax.scatter(df_Rejected[\"t\"],df_Rejected[\"proposals\"],label=\"Rejected\",marker=\"x\",color=\"red\")\n",
    "    ax.legend()\n",
    "    ax.set_xlabel(\"Iteration\")\n",
    "    ax.set_ylabel(\"$x$\")\n",
    "    \n",
    "    xs = np.linspace(0,10,100)\n",
    "    fs_rayleigh = [f_rayleigh(x,1) for x in xs]\n",
    "    fig,ax = plt.subplots(figsize=(10,10))\n",
    "    sns.lineplot(xs,fs_rayleigh,label=\"Rayleigh distribution\",ax=ax)\n",
    "    sns.kdeplot(df[\"x\"],ax=ax,label=\"Metropolis Hastings\")\n",
    "    ax.legend()\n",
    "    \n",
    "    return df"
   ]
  },
  {
   "cell_type": "code",
   "execution_count": null,
   "metadata": {},
   "outputs": [],
   "source": [
    "def metropolisHastings_compare(x=1.0,σ=1,σ_qs=[0.25,0.5,1.0,2.0,10.0],n=10000):\n",
    "  \n",
    "    xs_r = np.linspace(0,10,100)\n",
    "    fs_rayleigh = [f_rayleigh(x,1) for x in xs_r]\n",
    "    fig,ax = plt.subplots(figsize=(10,10))\n",
    "    sns.lineplot(xs_r,fs_rayleigh,label=\"Rayleigh distribution\",ax=ax)\n",
    "    \n",
    "    for σ_q in σ_qs:\n",
    "        print(σ_q)\n",
    "        iterations = []\n",
    "        xs = []\n",
    "        proposedXs = []\n",
    "        arr_Accepted = []\n",
    "        for t in range(0,n):\n",
    "            # obtain a proposed value from q\n",
    "            proposedValue = q_x(x,σ_q)\n",
    "            # calculate the acceptance probability\n",
    "            acceptanceRatio = min(1,f_rayleigh(proposedValue,1) / f_rayleigh(x,1) * stats.norm.pdf(x,scale=σ_q,loc=proposedValue) / stats.norm.pdf(proposedValue,scale=σ_q,loc=x))\n",
    "            accepted = False\n",
    "            if acceptanceRatio == 1: #accept\n",
    "                x = proposedValue\n",
    "                accepted = True\n",
    "            else: # draw a random number and take the probability from acceptanceRatio\n",
    "                rand = np.random.random()\n",
    "                if rand < acceptanceRatio:\n",
    "                    x = proposedValue\n",
    "                    accepted = True\n",
    "                else:\n",
    "                    pass\n",
    "            iterations.append(t)\n",
    "            xs.append(x)\n",
    "            proposedXs.append(proposedValue)\n",
    "            arr_Accepted.append(accepted)\n",
    "        df = pd.DataFrame({\"t\":iterations,\"x\":xs,\"proposals\":proposedXs,\"accepted\":arr_Accepted})\n",
    "        sns.kdeplot(df[\"x\"],ax=ax,label=f\"$σ_q = {σ_q}, n = {n:,.0f}$\")\n",
    "    ax.legend()\n",
    "    ax.set_title(\"Comparison of Metropolis Hastings for multiple values of $σ_q$\")"
   ]
  },
  {
   "cell_type": "code",
   "execution_count": null,
   "metadata": {},
   "outputs": [],
   "source": [
    "metropolisHastings_compare()"
   ]
  },
  {
   "cell_type": "markdown",
   "metadata": {},
   "source": [
    "Because this plot can be a little busy, I have also replicated analyses for a variety of parameters individually."
   ]
  },
  {
   "cell_type": "code",
   "execution_count": null,
   "metadata": {},
   "outputs": [],
   "source": [
    "%%time\n",
    "df = metropolisHastings(σ_q=0.5)"
   ]
  },
  {
   "cell_type": "code",
   "execution_count": null,
   "metadata": {},
   "outputs": [],
   "source": [
    "%%time\n",
    "df = metropolisHastings(σ_q=0.75)"
   ]
  },
  {
   "cell_type": "code",
   "execution_count": null,
   "metadata": {},
   "outputs": [],
   "source": [
    "%%time\n",
    "df = metropolisHastings(σ_q=1.0)"
   ]
  },
  {
   "cell_type": "code",
   "execution_count": null,
   "metadata": {},
   "outputs": [],
   "source": [
    "%%time\n",
    "df = metropolisHastings(σ_q=1.0,n=1000)"
   ]
  },
  {
   "cell_type": "code",
   "execution_count": null,
   "metadata": {},
   "outputs": [],
   "source": [
    "%%time\n",
    "df = metropolisHastings(σ_q=1.5,n=1000)"
   ]
  },
  {
   "cell_type": "code",
   "execution_count": null,
   "metadata": {},
   "outputs": [],
   "source": [
    "%%time\n",
    "df = metropolisHastings(σ_q=2,n=1000)"
   ]
  },
  {
   "cell_type": "code",
   "execution_count": null,
   "metadata": {},
   "outputs": [],
   "source": [
    "%%time\n",
    "df = metropolisHastings(σ_q=2.0)"
   ]
  },
  {
   "cell_type": "code",
   "execution_count": null,
   "metadata": {},
   "outputs": [],
   "source": [
    "%%time\n",
    "df = metropolisHastings(σ_q=2.6)"
   ]
  },
  {
   "cell_type": "code",
   "execution_count": null,
   "metadata": {},
   "outputs": [],
   "source": [
    "%%time\n",
    "df = metropolisHastings(σ_q=5.0)"
   ]
  },
  {
   "cell_type": "code",
   "execution_count": null,
   "metadata": {},
   "outputs": [],
   "source": [
    "def metropolisHastings_a1(x=1.0,σ=1,σ_q=1,n=10000):\n",
    "    iterations = []\n",
    "    xs = []\n",
    "    proposedXs = []\n",
    "    arr_Accepted = []\n",
    "\n",
    "    for t in range(0,10000):\n",
    "        check = -1\n",
    "        while check < 0:\n",
    "            # obtain a proposed value from q\n",
    "            proposedValue = q_x(x,σ_q)\n",
    "            # calculate the acceptance probability\n",
    "            acceptanceRatio = min(1,f_rayleigh(proposedValue,1) / f_rayleigh(x,1) * stats.norm.pdf(x,scale=σ_q,loc=proposedValue) / stats.norm.pdf(proposedValue,scale=σ_q,loc=x))\n",
    "            check = f_rayleigh(proposedValue,σ)\n",
    "            accepted = False\n",
    "            # check if it falls within the support for fx (positive probability)\n",
    "            if acceptanceRatio == 1: #accept\n",
    "                x = proposedValue\n",
    "                accepted = True\n",
    "            else: # draw a random number and take the probability from acceptanceRatio\n",
    "                rand = np.random.random()\n",
    "                if rand < acceptanceRatio:\n",
    "                    x = proposedValue\n",
    "                    accepted = True\n",
    "                else:\n",
    "                    pass\n",
    "        iterations.append(t)\n",
    "        xs.append(x)\n",
    "        proposedXs.append(proposedValue)\n",
    "        arr_Accepted.append(accepted)\n",
    "    df = pd.DataFrame({\"t\":iterations,\"x\":xs,\"proposals\":proposedXs,\"accepted\":arr_Accepted})\n",
    "\n",
    "    df_Accepted = df[df[\"accepted\"]==True]\n",
    "    df_Rejected = df[df[\"accepted\"]==False]\n",
    "\n",
    "    fig,ax = plt.subplots(figsize=(10,5))\n",
    "    ax.scatter(df_Accepted[\"t\"],df_Accepted[\"x\"],label=\"Accepted\",marker=\".\",color=\"green\")\n",
    "    ax.scatter(df_Rejected[\"t\"],df_Rejected[\"proposals\"],label=\"Rejected\",marker=\"x\",color=\"red\")\n",
    "    ax.legend()\n",
    "    ax.set_xlabel(\"Iteration\")\n",
    "    ax.set_ylabel(\"$x$\")\n",
    "\n",
    "    xs = np.linspace(0,10,100)\n",
    "    fs_rayleigh = [f_rayleigh(x,1) for x in xs]\n",
    "    fig,ax = plt.subplots(figsize=(10,10))\n",
    "    sns.lineplot(xs,fs_rayleigh,label=\"Rayleigh distribution\",ax=ax)\n",
    "    sns.kdeplot(df[\"x\"],ax=ax,label=\"Metropolis Hastings\")\n",
    "    ax.legend()\n",
    "    \n",
    "    return df"
   ]
  },
  {
   "cell_type": "code",
   "execution_count": null,
   "metadata": {},
   "outputs": [],
   "source": [
    "%%time\n",
    "df = metropolisHastings_a1(σ_q=0.5)"
   ]
  },
  {
   "cell_type": "code",
   "execution_count": null,
   "metadata": {},
   "outputs": [],
   "source": [
    "%%time\n",
    "df = metropolisHastings_a1(σ_q=2.0)"
   ]
  },
  {
   "cell_type": "code",
   "execution_count": null,
   "metadata": {},
   "outputs": [],
   "source": [
    "%%time\n",
    "df = metropolisHastings_a1(σ_q=0.1)"
   ]
  },
  {
   "cell_type": "code",
   "execution_count": null,
   "metadata": {},
   "outputs": [],
   "source": [
    "%%time\n",
    "df = metropolisHastings_a1(σ_q=10)"
   ]
  },
  {
   "cell_type": "markdown",
   "metadata": {},
   "source": [
    "### (c) Write an adaptive Metropolis algorithm to sample from the target Rayleigh distribution with $\\sigma = 1$.  Choose your own parameters"
   ]
  },
  {
   "cell_type": "markdown",
   "metadata": {},
   "source": [
    "Approach:\n",
    "\n",
    "Per the discussion above, I have chosen to implement variant a.2 as my study Metropolis-Hastings algorithm.  Per the course notes, I have opted to implement an Adaptive Metropolis-Hastings algorithm in which $\\sigma_q$ is updated every $k$ iterations, rather than continuously.  In order to execute this, I have provided a number of variables which can be set.  These include:\n",
    "\n",
    "- $\\sigma_q^0$: The initial value of $\\sigma_q$\n",
    "- $n$: The number of iterations to evaluate the algorithm.\n",
    "- $k$: The number of iterations to complete before updating $\\sigma_q$\n",
    "- $s_d$ and $\\epsilon$: Tuning parameters per the course notes\n",
    "- _**limitK**_: A boolean parameter designed to test algoirthm performance when covariance is calculated for the entire series as opposed to only the previous $k$ samples.  I implemented this out of curiositiy, though I do acknowledge that the course notes on slide 17 indicate that covariance is calculated beginning with index 0, and this is the methodology I ultimately settled upon.  As such this parameter is unnecessary, but I left it for my reference in future studies in case the same question re-arises."
   ]
  },
  {
   "cell_type": "code",
   "execution_count": null,
   "metadata": {},
   "outputs": [],
   "source": [
    "def adaptiveMetropolisHastings(x=1.0,σ=1,σ_q=1,n=10000,k=100,s_d=2.38**2/1,ϵ=0.001,limitK=True):\n",
    "    σ_q_0 = σ_q\n",
    "    iterations = []\n",
    "    xs = []\n",
    "    proposedXs = []\n",
    "    arr_Accepted = []\n",
    "    σ_qs = []\n",
    "    \n",
    "    counter = 1\n",
    "\n",
    "    for t in range(1,n+1):\n",
    "        # check if we need to update the estimate of σ_q\n",
    "        if counter % k == 0:\n",
    "            start = 0\n",
    "            if limitK:\n",
    "                start = t - k\n",
    "            σ_q = s_d * np.cov(xs[start:t]) + ϵ*1 # Note: this is a kludge and only works for the 1-d space so far.  TODO- adapt this to multi-dimensional problem\n",
    "        # obtain a proposed value from q\n",
    "        proposedValue = q_x(x,σ_q)\n",
    "        # calculate the acceptance probability\n",
    "        acceptanceRatio = min(1,f_rayleigh(proposedValue,1) / f_rayleigh(x,1) * stats.norm.pdf(x,scale=σ_q,loc=proposedValue) / stats.norm.pdf(proposedValue,scale=σ_q,loc=x))\n",
    "        accepted = False\n",
    "        if acceptanceRatio == 1: #accept\n",
    "            x = proposedValue\n",
    "            accepted = True\n",
    "        else: # draw a random number and take the probability from acceptanceRatio\n",
    "            rand = np.random.random()\n",
    "            if rand < acceptanceRatio:\n",
    "                x = proposedValue\n",
    "                accepted = True\n",
    "            else:\n",
    "                pass\n",
    "        iterations.append(t)\n",
    "        xs.append(x)\n",
    "        proposedXs.append(proposedValue)\n",
    "        arr_Accepted.append(accepted)\n",
    "        σ_qs.append(σ_q)\n",
    "\n",
    "        counter += 1\n",
    "        \n",
    "    df = pd.DataFrame({\"t\":iterations,\"x\":xs,\"proposals\":proposedXs,\"accepted\":arr_Accepted,\"σ_q\":σ_qs})\n",
    "    \n",
    "    df_Accepted = df[df[\"accepted\"]==True]\n",
    "    df_Rejected = df[df[\"accepted\"]==False]\n",
    "\n",
    "    fig,ax = plt.subplots(2,1,figsize=(10,10),sharex=\"col\")\n",
    "    fig.suptitle(f\"Adapative Metropolis-Hastings Algorithm\\n$n={n:,.0f}, k={k:,.0f},σ_q^0={σ_q_0:.2f},s_d={s_d:.3f},ϵ={ϵ:.3f}$,Limit covariance to last {k} samples: {limitK}\")\n",
    "    ax[0].scatter(df_Accepted[\"t\"],df_Accepted[\"x\"],label=\"Accepted\",marker=\".\",color=\"green\")\n",
    "    ax[0].scatter(df_Rejected[\"t\"],df_Rejected[\"proposals\"],label=\"Rejected\",marker=\"x\",color=\"red\")\n",
    "    ax[0].legend()\n",
    "    ax[0].set_ylabel(\"$x$\")\n",
    "    ax[0].set_title(\"Proposed points\")\n",
    "    \n",
    "    ax[1].plot(df[\"t\"],df[\"σ_q\"])\n",
    "    ax[1].set_title(\"Value of $σ_q$ over iterations\")\n",
    "    ax[1].set_xlabel(\"Iteration\")\n",
    "    ax[1].set_ylabel(f\"$σ_q$\")\n",
    "    \n",
    "\n",
    "    xs = np.linspace(0,10,100)\n",
    "    fs_rayleigh = [f_rayleigh(x,1) for x in xs]\n",
    "    fig,ax = plt.subplots(figsize=(10,10))\n",
    "    sns.lineplot(xs,fs_rayleigh,label=\"Rayleigh distribution\",ax=ax)\n",
    "    sns.kdeplot(df[\"x\"],ax=ax,label=\"Metropolis Hastings\")\n",
    "    ax.legend()\n",
    "    ax.set_title(\"Comparison of generated and standard distribution\")\n",
    "    ax.set_xlabel(f\"$x$\")\n",
    "    ax.set_ylabel(f\"$P(X==x)$\")\n",
    "    \n",
    "    return df"
   ]
  },
  {
   "cell_type": "markdown",
   "metadata": {},
   "source": [
    "We begin by testing whether we should apply the boolean limitK, as discussed above. Even with limited testing, it becomes clear that we should leave limitK as False."
   ]
  },
  {
   "cell_type": "code",
   "execution_count": null,
   "metadata": {},
   "outputs": [],
   "source": [
    "adf = adaptiveMetropolisHastings(limitK=True)"
   ]
  },
  {
   "cell_type": "code",
   "execution_count": null,
   "metadata": {},
   "outputs": [],
   "source": [
    "adf = adaptiveMetropolisHastings(limitK=False)"
   ]
  },
  {
   "cell_type": "markdown",
   "metadata": {},
   "source": [
    "The most important thing that this taught me is that the value of $\\sigma_q$ appears to converge around 2.5.  I have tested this above and this value does not, however, appear to improve my un-adapted algorithm's performance.  Having resolved the question of samples for the covariance, we now test how the test performs given variations of sample size $k$ and parameter $s_d$.  Some quick testing showed that parameter $\\epsilon$ appears to give decent results, although it should be tested again after we resolve the other parameters."
   ]
  },
  {
   "cell_type": "markdown",
   "metadata": {},
   "source": [
    "First, we will look at varying $s_d$"
   ]
  },
  {
   "cell_type": "code",
   "execution_count": null,
   "metadata": {},
   "outputs": [],
   "source": [
    "adf = adaptiveMetropolisHastings(limitK=False,s_d=1.0)"
   ]
  },
  {
   "cell_type": "code",
   "execution_count": null,
   "metadata": {},
   "outputs": [],
   "source": [
    "adf = adaptiveMetropolisHastings(limitK=False,s_d=2.5)"
   ]
  },
  {
   "cell_type": "code",
   "execution_count": null,
   "metadata": {},
   "outputs": [],
   "source": [
    "adf = adaptiveMetropolisHastings(limitK=False,σ_q=2.6)"
   ]
  },
  {
   "cell_type": "markdown",
   "metadata": {},
   "source": [
    "Now we examine impact of sample size, $k$"
   ]
  },
  {
   "cell_type": "code",
   "execution_count": null,
   "metadata": {},
   "outputs": [],
   "source": [
    "adf = adaptiveMetropolisHastings(limitK=False,k=50)"
   ]
  },
  {
   "cell_type": "code",
   "execution_count": null,
   "metadata": {},
   "outputs": [],
   "source": [
    "adf = adaptiveMetropolisHastings(limitK=False,k=500)"
   ]
  },
  {
   "cell_type": "code",
   "execution_count": null,
   "metadata": {},
   "outputs": [],
   "source": [
    "adf = adaptiveMetropolisHastings(limitK=False,k=1000)"
   ]
  },
  {
   "cell_type": "code",
   "execution_count": null,
   "metadata": {},
   "outputs": [],
   "source": [
    "adf = adaptiveMetropolisHastings(limitK=False,k=2000)"
   ]
  },
  {
   "cell_type": "code",
   "execution_count": null,
   "metadata": {},
   "outputs": [],
   "source": []
  }
 ],
 "metadata": {
  "kernelspec": {
   "display_name": "Python 3.7.6 64-bit ('phd': conda)",
   "language": "python",
   "name": "python37664bitphdcondab24623704836426aa66db115e96068bb"
  },
  "language_info": {
   "codemirror_mode": {
    "name": "ipython",
    "version": 3
   },
   "file_extension": ".py",
   "mimetype": "text/x-python",
   "name": "python",
   "nbconvert_exporter": "python",
   "pygments_lexer": "ipython3",
   "version": "3.7.6"
  }
 },
 "nbformat": 4,
 "nbformat_minor": 4
}
