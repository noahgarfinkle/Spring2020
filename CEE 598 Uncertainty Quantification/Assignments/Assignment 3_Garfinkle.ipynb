{
 "cells": [
  {
   "cell_type": "markdown",
   "metadata": {},
   "source": [
    "# CEE 598: Uncertainty Quantification\n",
    "## Assignment Three\n",
    "### Noah Garfinkle (garfink2@illinois edu)\n",
    "### 03 March 2020"
   ]
  },
  {
   "cell_type": "markdown",
   "metadata": {},
   "source": [
    "## Imports and Setup"
   ]
  },
  {
   "cell_type": "code",
   "execution_count": 1,
   "metadata": {},
   "outputs": [],
   "source": [
    "import numpy as np\n",
    "import matplotlib.pyplot as plt\n",
    "import seaborn as sns\n",
    "import scipy.stats as stats\n",
    "import ipywidgets as widgets\n",
    "from ipywidgets import interact, interact_manual"
   ]
  },
  {
   "cell_type": "markdown",
   "metadata": {},
   "source": [
    "## Problem One"
   ]
  },
  {
   "cell_type": "markdown",
   "metadata": {},
   "source": [
    "Similar to importance sampling example in lecture notes, we would lke now to calculate $\\theta = P(X>2)$ where $X$ is distributed according to the standard Cauchy PDF, given by\n",
    "\n",
    "$$\n",
    "f_X(x) = \\frac{1}{\\pi(1+x^2)}\n",
    "$$\n",
    "\n",
    "Consider the proposal to be $q_x(x) = \\frac{2}{x^2}$ defined over the domain of interest.  Write a Monte Carlo (MC) integration code, as well as importance sampling code for the estimation of $\\theta$.  The input to these codes should be the size of the sample set $n$.  Let $\\hat{\\theta_f}$ be the result obtained from standard MC method and $\\hat{\\theta_g}$ be that from importance sampling."
   ]
  },
  {
   "cell_type": "markdown",
   "metadata": {},
   "source": [
    "### (a) Compare the convergence behaviors for $\\hat{\\theta_f}$ and $\\hat{\\theta_g}$."
   ]
  },
  {
   "cell_type": "code",
   "execution_count": 4,
   "metadata": {},
   "outputs": [],
   "source": [
    "def f(x):\n",
    "    fx = 1 / (np.pi*(1+np.power(x,2)))\n",
    "    return fx"
   ]
  },
  {
   "cell_type": "code",
   "execution_count": 5,
   "metadata": {},
   "outputs": [],
   "source": [
    "def q(x):\n",
    "    qx = 2 / np.power(x,2)\n",
    "    return qx"
   ]
  },
  {
   "cell_type": "markdown",
   "metadata": {},
   "source": [
    "Plot to compare the distributions"
   ]
  },
  {
   "cell_type": "code",
   "execution_count": 12,
   "metadata": {},
   "outputs": [],
   "source": [
    "xs = np.linspace(1.9,10,200)\n",
    "fs = [f(x) for x in xs]\n",
    "qs = [q(x) for x in xs]"
   ]
  },
  {
   "cell_type": "code",
   "execution_count": 17,
   "metadata": {},
   "outputs": [
    {
     "data": {
      "text/plain": [
       "Text(0, 0.5, '$P(X==x)$')"
      ]
     },
     "execution_count": 17,
     "metadata": {},
     "output_type": "execute_result"
    },
    {
     "data": {
      "image/png": "[encoded data removed]",
      "text/plain": [
       "<Figure size 360x360 with 1 Axes>"
      ]
     },
     "metadata": {
      "needs_background": "light"
     },
     "output_type": "display_data"
    }
   ],
   "source": [
    "fig,ax = plt.subplots(figsize=(5,5))\n",
    "sns.lineplot(xs,fs,label=\"$f_X(x)$\",ax=ax)\n",
    "sns.lineplot(xs,qs,label=\"$q_X(x)$\",ax=ax)\n",
    "ax.set_title(\"Comparison of actual and proposal distribution\")\n",
    "ax.set_xlabel(\"$x$\")\n",
    "ax.set_ylabel(\"$P(X==x)$\")"
   ]
  },
  {
   "cell_type": "markdown",
   "metadata": {},
   "source": [
    "#### Monte Carlo Integration"
   ]
  },
  {
   "cell_type": "code",
   "execution_count": null,
   "metadata": {},
   "outputs": [],
   "source": []
  },
  {
   "cell_type": "markdown",
   "metadata": {},
   "source": [
    "#### Importance Sampling"
   ]
  },
  {
   "cell_type": "code",
   "execution_count": 18,
   "metadata": {},
   "outputs": [],
   "source": [
    "nmc = 10000"
   ]
  },
  {
   "cell_type": "markdown",
   "metadata": {},
   "source": [
    "#### Discussion"
   ]
  },
  {
   "cell_type": "code",
   "execution_count": null,
   "metadata": {},
   "outputs": [],
   "source": []
  },
  {
   "cell_type": "markdown",
   "metadata": {},
   "source": [
    "### (b) At each sample number, use the previous samples to calculate the sample variance for the $\\theta$ estimates, i.e. $Var(\\hat{\\theta_f})$ and $Var(\\hat{\\theta_g})$.  Compare these two measures and their convergences."
   ]
  },
  {
   "cell_type": "code",
   "execution_count": null,
   "metadata": {},
   "outputs": [],
   "source": []
  },
  {
   "cell_type": "markdown",
   "metadata": {},
   "source": [
    "### (c) Discuss your observations"
   ]
  },
  {
   "cell_type": "code",
   "execution_count": null,
   "metadata": {},
   "outputs": [],
   "source": []
  },
  {
   "cell_type": "markdown",
   "metadata": {},
   "source": [
    "## Problem Two"
   ]
  },
  {
   "cell_type": "markdown",
   "metadata": {},
   "source": [
    "Write a Metropolis-Hastings code that can be used to draw samples from the Rayleigh PDF given by\n",
    "\n",
    "$$\n",
    "f(x;\\sigma)=\\frac{x}{\\sigma^2}e^{\\frac{-x^2}{2\\sigma^2}}, x\\geq0\n",
    "$$\n",
    "\n",
    "Choose the proposal to be $q(y|x)=N(x,\\sigma_q^2)$"
   ]
  },
  {
   "cell_type": "markdown",
   "metadata": {},
   "source": [
    "### (a) Assume $\\sigma = \\sigma_q = 1$.  We have two ways to implement the algorithm now that the supports of $f$ and $q$ are different:\n",
    "\n",
    "_Option a.1_: We draw samples from the proposal distribution, and only if they fall inside the domain interest, we consider them a candidate, based on which we evaluate the rejection probability and move to the acceptance/rejection step.  That is, if they don't fall inside the support of $f$ we don't make a self-transition, and just free the step timer, until a proposal falls inside the support.\n",
    "\n",
    "_Option a.2_: We draw samples from the proposal distribution, and no matter where they fall (inside or outside the domain of interest), we treat them as a candidate, based on which we evaluate the rejection probability and move to the acceptance/rejection step.  That is, no matter where the proposal draw is, we will not freeze the time stepper.\n",
    "\n",
    "Compare the two sample populations generated using these two codes with the target distribution and commennt on the options you would pick."
   ]
  },
  {
   "cell_type": "code",
   "execution_count": null,
   "metadata": {},
   "outputs": [],
   "source": []
  },
  {
   "cell_type": "markdown",
   "metadata": {},
   "source": [
    "### (b) Assume $\\sigma = 1$ in the target Rayleigh distribution.  Determine what choice of $\\sigma_q$ will lead to a better sampling algorithm.  Include details about your thought process and numerical tests in reaching a good proposal."
   ]
  },
  {
   "cell_type": "code",
   "execution_count": null,
   "metadata": {},
   "outputs": [],
   "source": []
  },
  {
   "cell_type": "markdown",
   "metadata": {},
   "source": [
    "### (c) Write an adaptive Metropolis algoirthm to sample from the target Rayleigh distribution with $\\sigma = 1$.  Choose your own parameters"
   ]
  },
  {
   "cell_type": "code",
   "execution_count": null,
   "metadata": {},
   "outputs": [],
   "source": []
  }
 ],
 "metadata": {
  "kernelspec": {
   "display_name": "Python 3.7.6 64-bit ('phd': conda)",
   "language": "python",
   "name": "python37664bitphdcondab24623704836426aa66db115e96068bb"
  },
  "language_info": {
   "codemirror_mode": {
    "name": "ipython",
    "version": 3
   },
   "file_extension": ".py",
   "mimetype": "text/x-python",
   "name": "python",
   "nbconvert_exporter": "python",
   "pygments_lexer": "ipython3",
   "version": "3.7.6"
  }
 },
 "nbformat": 4,
 "nbformat_minor": 4
}
