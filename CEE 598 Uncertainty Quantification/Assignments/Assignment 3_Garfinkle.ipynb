{
 "cells": [
  {
   "cell_type": "markdown",
   "metadata": {},
   "source": [
    "# CEE 598: Uncertainty Quantification\n",
    "## Assignment Three\n",
    "### Noah Garfinkle (garfink2@illinois edu)\n",
    "### 03 March 2020"
   ]
  },
  {
   "cell_type": "markdown",
   "metadata": {},
   "source": [
    "## Imports and Setup"
   ]
  },
  {
   "cell_type": "code",
   "execution_count": 101,
   "metadata": {},
   "outputs": [],
   "source": [
    "import numpy as np\n",
    "import matplotlib.pyplot as plt\n",
    "import seaborn as sns\n",
    "import scipy.stats as stats\n",
    "import ipywidgets as widgets\n",
    "from ipywidgets import interact, interact_manual\n",
    "import pandas as pd"
   ]
  },
  {
   "cell_type": "markdown",
   "metadata": {},
   "source": [
    "## Problem One"
   ]
  },
  {
   "cell_type": "markdown",
   "metadata": {},
   "source": [
    "Similar to importance sampling example in lecture notes, we would lke now to calculate $\\theta = P(X>2)$ where $X$ is distributed according to the standard Cauchy PDF, given by\n",
    "\n",
    "$$\n",
    "f_X(x) = \\frac{1}{\\pi(1+x^2)}\n",
    "$$\n",
    "\n",
    "Consider the proposal to be $q_x(x) = \\frac{2}{x^2}$ defined over the domain of interest.  Write a Monte Carlo (MC) integration code, as well as importance sampling code for the estimation of $\\theta$.  The input to these codes should be the size of the sample set $n$.  Let $\\hat{\\theta_f}$ be the result obtained from standard MC method and $\\hat{\\theta_g}$ be that from importance sampling."
   ]
  },
  {
   "cell_type": "markdown",
   "metadata": {},
   "source": [
    "### (a) Compare the convergence behaviors for $\\hat{\\theta_f}$ and $\\hat{\\theta_g}$."
   ]
  },
  {
   "cell_type": "code",
   "execution_count": 121,
   "metadata": {},
   "outputs": [],
   "source": [
    "def f(x):\n",
    "    fx = 1 / (np.pi*(1+np.power(x,2)))\n",
    "    return fx"
   ]
  },
  {
   "cell_type": "code",
   "execution_count": 122,
   "metadata": {},
   "outputs": [],
   "source": [
    "def q(x):\n",
    "    qx = 2 / np.power(x,2)\n",
    "    return qx"
   ]
  },
  {
   "cell_type": "markdown",
   "metadata": {},
   "source": [
    "Plot to compare the distributions"
   ]
  },
  {
   "cell_type": "code",
   "execution_count": 123,
   "metadata": {},
   "outputs": [],
   "source": [
    "xs = np.linspace(1.9,10,200)\n",
    "fs = [f(x) for x in xs]\n",
    "qs = [q(x) for x in xs]"
   ]
  },
  {
   "cell_type": "code",
   "execution_count": 124,
   "metadata": {},
   "outputs": [
    {
     "data": {
      "text/plain": [
       "Text(0, 0.5, '$P(X==x)$')"
      ]
     },
     "execution_count": 124,
     "metadata": {},
     "output_type": "execute_result"
    },
    {
     "data": {
      "image/png": "[encoded data removed]",
      "text/plain": [
       "<Figure size 360x360 with 1 Axes>"
      ]
     },
     "metadata": {
      "needs_background": "light"
     },
     "output_type": "display_data"
    }
   ],
   "source": [
    "fig,ax = plt.subplots(figsize=(5,5))\n",
    "sns.lineplot(xs,fs,label=\"$f_X(x)$\",ax=ax)\n",
    "sns.lineplot(xs,qs,label=\"$q_X(x)$\",ax=ax)\n",
    "ax.set_title(\"Comparison of actual and proposal distribution\")\n",
    "ax.set_xlabel(\"$x$\")\n",
    "ax.set_ylabel(\"$P(X==x)$\")"
   ]
  },
  {
   "cell_type": "code",
   "execution_count": 315,
   "metadata": {},
   "outputs": [
    {
     "data": {
      "text/plain": [
       "0.14758043455157155"
      ]
     },
     "execution_count": 315,
     "metadata": {},
     "output_type": "execute_result"
    }
   ],
   "source": [
    "stats.cauchy.cdf(100000)-stats.cauchy.cdf(2)"
   ]
  },
  {
   "cell_type": "markdown",
   "metadata": {},
   "source": [
    "#### Monte Carlo Integration"
   ]
  },
  {
   "cell_type": "markdown",
   "metadata": {},
   "source": [
    "Approach:\n",
    "\n",
    "Let us assume that the maximum value of the distirbution, per the figure above, is 0.1.  Therefore, we will randomly select values on the x axis between 2 and a very large number (or a number with a very small probability along the tail, perhaps even as low as 10), and between 0 and 0.1.  We will check whether they fall under the curve."
   ]
  },
  {
   "cell_type": "code",
   "execution_count": 304,
   "metadata": {},
   "outputs": [],
   "source": [
    "n = 10000\n",
    "min_x = 2.0\n",
    "max_x = 100\n",
    "min_y = 0.0\n",
    "max_y = 0.1\n",
    "sample_xs = []\n",
    "sample_ys = []\n",
    "p_xs = []\n",
    "sample_hits = []\n",
    "for i in range(0,n):\n",
    "    sample_x = np.random.random() * max_x\n",
    "    sample_y = np.random.random() * max_y\n",
    "    p_x = f(sample_x)\n",
    "    if sample_y < p_x:\n",
    "        sample_hits.append(True)\n",
    "    else:\n",
    "        sample_hits.append(False)\n",
    "    sample_xs.append(sample_x)\n",
    "    sample_ys.append(sample_y)\n",
    "    p_xs.append(p_x)\n",
    "df = pd.DataFrame({\"x\":sample_xs,\"y\":sample_ys,\"f(x)\":p_xs,\"hit\":sample_hits})"
   ]
  },
  {
   "cell_type": "code",
   "execution_count": 305,
   "metadata": {},
   "outputs": [
    {
     "data": {
      "text/html": [
       "<div>\n",
       "<style scoped>\n",
       "    .dataframe tbody tr th:only-of-type {\n",
       "        vertical-align: middle;\n",
       "    }\n",
       "\n",
       "    .dataframe tbody tr th {\n",
       "        vertical-align: top;\n",
       "    }\n",
       "\n",
       "    .dataframe thead th {\n",
       "        text-align: right;\n",
       "    }\n",
       "</style>\n",
       "<table border=\"1\" class=\"dataframe\">\n",
       "  <thead>\n",
       "    <tr style=\"text-align: right;\">\n",
       "      <th></th>\n",
       "      <th>x</th>\n",
       "      <th>y</th>\n",
       "      <th>f(x)</th>\n",
       "      <th>hit</th>\n",
       "    </tr>\n",
       "  </thead>\n",
       "  <tbody>\n",
       "    <tr>\n",
       "      <th>0</th>\n",
       "      <td>34.320485</td>\n",
       "      <td>0.052295</td>\n",
       "      <td>0.000270</td>\n",
       "      <td>False</td>\n",
       "    </tr>\n",
       "    <tr>\n",
       "      <th>1</th>\n",
       "      <td>77.926490</td>\n",
       "      <td>0.099682</td>\n",
       "      <td>0.000052</td>\n",
       "      <td>False</td>\n",
       "    </tr>\n",
       "    <tr>\n",
       "      <th>2</th>\n",
       "      <td>77.888642</td>\n",
       "      <td>0.012865</td>\n",
       "      <td>0.000052</td>\n",
       "      <td>False</td>\n",
       "    </tr>\n",
       "    <tr>\n",
       "      <th>3</th>\n",
       "      <td>57.789514</td>\n",
       "      <td>0.045760</td>\n",
       "      <td>0.000095</td>\n",
       "      <td>False</td>\n",
       "    </tr>\n",
       "    <tr>\n",
       "      <th>4</th>\n",
       "      <td>45.061507</td>\n",
       "      <td>0.019179</td>\n",
       "      <td>0.000157</td>\n",
       "      <td>False</td>\n",
       "    </tr>\n",
       "  </tbody>\n",
       "</table>\n",
       "</div>"
      ],
      "text/plain": [
       "           x         y      f(x)    hit\n",
       "0  34.320485  0.052295  0.000270  False\n",
       "1  77.926490  0.099682  0.000052  False\n",
       "2  77.888642  0.012865  0.000052  False\n",
       "3  57.789514  0.045760  0.000095  False\n",
       "4  45.061507  0.019179  0.000157  False"
      ]
     },
     "execution_count": 305,
     "metadata": {},
     "output_type": "execute_result"
    }
   ],
   "source": [
    "df.head()"
   ]
  },
  {
   "cell_type": "code",
   "execution_count": 306,
   "metadata": {},
   "outputs": [],
   "source": [
    "area_rectangle = (max_x-min_x) * (max_y-min_y)\n",
    "nHits = len(df[(df[\"hit\"]==True) & (df[\"x\"]>min_x)])\n",
    "fractionHits = nHits / n\n",
    "fractionArea = fractionHits * area_rectangle"
   ]
  },
  {
   "cell_type": "code",
   "execution_count": 307,
   "metadata": {},
   "outputs": [
    {
     "data": {
      "text/plain": [
       "0.14406"
      ]
     },
     "execution_count": 307,
     "metadata": {},
     "output_type": "execute_result"
    }
   ],
   "source": [
    "fractionArea"
   ]
  },
  {
   "cell_type": "code",
   "execution_count": 308,
   "metadata": {},
   "outputs": [
    {
     "data": {
      "text/plain": [
       "Text(0.5, 1.0, 'Monte Carlo approach to area estimation with 10000 samples\\n$P(x>2)=0.14$')"
      ]
     },
     "execution_count": 308,
     "metadata": {},
     "output_type": "execute_result"
    },
    {
     "data": {
      "image/png": "[encoded data removed]",
      "text/plain": [
       "<Figure size 720x720 with 1 Axes>"
      ]
     },
     "metadata": {
      "needs_background": "light"
     },
     "output_type": "display_data"
    }
   ],
   "source": [
    "fig,ax = plt.subplots(figsize=(10,10))\n",
    "df_Miss = df[df[\"hit\"]==False]\n",
    "df_hitAbove2 = df[(df[\"hit\"]==True) & (df[\"x\"]>min_x)]\n",
    "df_hitBelow2 = df[(df[\"hit\"]==True) & (df[\"x\"]<=min_x)]\n",
    "ax.scatter(x=df_hitAbove2[\"x\"],y=df_hitAbove2[\"y\"],color=\"red\",label=\"Hit\")\n",
    "ax.scatter(x=df_Miss[\"x\"],y=df_Miss[\"y\"],color=\"green\",label=\"Miss\")\n",
    "ax.scatter(x=df_hitBelow2[\"x\"],y=df_hitBelow2[\"y\"],color=\"red\",label=\"Hit but Outside of Range\",alpha=0.1)\n",
    "ax.axvspan(2,10,alpha=0.1,color=\"grey\",label=\"Area Being Estimated\")\n",
    "sns.lineplot(x=\"x\",y=\"f(x)\",data=df,ax=ax,label=\"Distribution\")\n",
    "ax.set_title(f\"Monte Carlo approach to area estimation with {n} samples\\n$P(x>2)={fractionArea:,.2f}$\")"
   ]
  },
  {
   "cell_type": "markdown",
   "metadata": {},
   "source": [
    "#### Importance Sampling"
   ]
  },
  {
   "cell_type": "code",
   "execution_count": 316,
   "metadata": {},
   "outputs": [],
   "source": [
    "n = 100000\n",
    "Pz = 0.0\n",
    "for i in range(0,n):\n",
    "    # pick a random x\n",
    "    x = np.random.random()*max_x\n",
    "    if x > min_x:\n",
    "        Pz += f(x) / q(x)\n",
    "Pz /= n"
   ]
  },
  {
   "cell_type": "code",
   "execution_count": 314,
   "metadata": {},
   "outputs": [
    {
     "data": {
      "text/plain": [
       "0.15521239695926786"
      ]
     },
     "execution_count": 314,
     "metadata": {},
     "output_type": "execute_result"
    }
   ],
   "source": [
    "Pz"
   ]
  },
  {
   "cell_type": "markdown",
   "metadata": {},
   "source": [
    "#### Discussion"
   ]
  },
  {
   "cell_type": "code",
   "execution_count": null,
   "metadata": {},
   "outputs": [],
   "source": []
  },
  {
   "cell_type": "markdown",
   "metadata": {},
   "source": [
    "### (b) At each sample number, use the previous samples to calculate the sample variance for the $\\theta$ estimates, i.e. $Var(\\hat{\\theta_f})$ and $Var(\\hat{\\theta_g})$.  Compare these two measures and their convergences."
   ]
  },
  {
   "cell_type": "code",
   "execution_count": null,
   "metadata": {},
   "outputs": [],
   "source": []
  },
  {
   "cell_type": "markdown",
   "metadata": {},
   "source": [
    "### (c) Discuss your observations"
   ]
  },
  {
   "cell_type": "code",
   "execution_count": null,
   "metadata": {},
   "outputs": [],
   "source": []
  },
  {
   "cell_type": "markdown",
   "metadata": {},
   "source": [
    "## Problem Two"
   ]
  },
  {
   "cell_type": "markdown",
   "metadata": {},
   "source": [
    "Write a Metropolis-Hastings code that can be used to draw samples from the Rayleigh PDF given by\n",
    "\n",
    "$$\n",
    "f(x;\\sigma)=\\frac{x}{\\sigma^2}e^{\\frac{-x^2}{2\\sigma^2}}, x\\geq0\n",
    "$$\n",
    "\n",
    "Choose the proposal to be $q(y|x)=N(x,\\sigma_q^2)$"
   ]
  },
  {
   "cell_type": "code",
   "execution_count": 317,
   "metadata": {},
   "outputs": [],
   "source": [
    "def f_rayleigh(x,σ):\n",
    "    p = x / np.power(σ,2)*np.exp(-np.power(x,2)/(2*np.power(σ,2)))\n",
    "    return p"
   ]
  },
  {
   "cell_type": "code",
   "execution_count": 318,
   "metadata": {},
   "outputs": [],
   "source": [
    "def q_proposal(x,σ):\n",
    "    q = stats.norm.rvs(scale=σ)\n",
    "    return q"
   ]
  },
  {
   "cell_type": "markdown",
   "metadata": {},
   "source": [
    "First, we begin by ensuring that our impelmented distribution matches an accepted distribution."
   ]
  },
  {
   "cell_type": "code",
   "execution_count": 321,
   "metadata": {},
   "outputs": [],
   "source": [
    "xs = np.linspace(0,10,100)\n",
    "fs_rayleigh = [f_rayleigh(x,1) for x in xs]\n",
    "pdf_rayleigh = [stats.rayleigh.pdf(x,scale=1) for x in xs]"
   ]
  },
  {
   "cell_type": "code",
   "execution_count": 324,
   "metadata": {},
   "outputs": [
    {
     "data": {
      "text/plain": [
       "<matplotlib.collections.PolyCollection at 0x1e894c86848>"
      ]
     },
     "execution_count": 324,
     "metadata": {},
     "output_type": "execute_result"
    },
    {
     "data": {
      "image/png": "[encoded data removed]",
      "text/plain": [
       "<Figure size 720x720 with 1 Axes>"
      ]
     },
     "metadata": {
      "needs_background": "light"
     },
     "output_type": "display_data"
    }
   ],
   "source": [
    "fig,ax = plt.subplots(figsize=(10,10))\n",
    "sns.lineplot(xs,fs_rayleigh,label=\"My distribution\",ax=ax)\n",
    "# sns.lineplot(xs,pdf_rayleigh,label=\"Scipy\",ax=ax)\n",
    "ax.fill_between(xs,pdf_rayleigh,hatch='x',facecolor=\"white\",label=\"Scipy PDF\")"
   ]
  },
  {
   "cell_type": "markdown",
   "metadata": {},
   "source": [
    "### (a) Assume $\\sigma = \\sigma_q = 1$.  We have two ways to implement the algorithm now that the supports of $f$ and $q$ are different:\n",
    "\n",
    "_Option a.1_: We draw samples from the proposal distribution, and only if they fall inside the domain interest, we consider them a candidate, based on which we evaluate the rejection probability and move to the acceptance/rejection step.  That is, if they don't fall inside the support of $f$ we don't make a self-transition, and just free the step timer, until a proposal falls inside the support.\n",
    "\n",
    "_Option a.2_: We draw samples from the proposal distribution, and no matter where they fall (inside or outside the domain of interest), we treat them as a candidate, based on which we evaluate the rejection probability and move to the acceptance/rejection step.  That is, no matter where the proposal draw is, we will not freeze the time stepper.\n",
    "\n",
    "Compare the two sample populations generated using these two codes with the target distribution and commennt on the options you would pick."
   ]
  },
  {
   "cell_type": "code",
   "execution_count": null,
   "metadata": {},
   "outputs": [],
   "source": []
  },
  {
   "cell_type": "markdown",
   "metadata": {},
   "source": [
    "### (b) Assume $\\sigma = 1$ in the target Rayleigh distribution.  Determine what choice of $\\sigma_q$ will lead to a better sampling algorithm.  Include details about your thought process and numerical tests in reaching a good proposal."
   ]
  },
  {
   "cell_type": "code",
   "execution_count": null,
   "metadata": {},
   "outputs": [],
   "source": []
  },
  {
   "cell_type": "markdown",
   "metadata": {},
   "source": [
    "### (c) Write an adaptive Metropolis algoirthm to sample from the target Rayleigh distribution with $\\sigma = 1$.  Choose your own parameters"
   ]
  },
  {
   "cell_type": "code",
   "execution_count": null,
   "metadata": {},
   "outputs": [],
   "source": []
  }
 ],
 "metadata": {
  "kernelspec": {
   "display_name": "Python 3.7.6 64-bit ('phd': conda)",
   "language": "python",
   "name": "python37664bitphdcondab24623704836426aa66db115e96068bb"
  },
  "language_info": {
   "codemirror_mode": {
    "name": "ipython",
    "version": 3
   },
   "file_extension": ".py",
   "mimetype": "text/x-python",
   "name": "python",
   "nbconvert_exporter": "python",
   "pygments_lexer": "ipython3",
   "version": "3.7.6"
  }
 },
 "nbformat": 4,
 "nbformat_minor": 4
}
