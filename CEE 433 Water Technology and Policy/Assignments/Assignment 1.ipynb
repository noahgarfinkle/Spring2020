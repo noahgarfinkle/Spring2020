{
 "cells": [
  {
   "cell_type": "markdown",
   "metadata": {},
   "source": [
    "# CEE 433: Water Technology and Policy\n",
    "## Assignment One\n",
    "### Noah Garfinkle (garfink2@illinois edu)\n",
    "### 06 February 2020"
   ]
  },
  {
   "cell_type": "code",
   "execution_count": 17,
   "metadata": {},
   "outputs": [],
   "source": [
    "import numpy as np"
   ]
  },
  {
   "cell_type": "markdown",
   "metadata": {},
   "source": [
    "# Problem 3"
   ]
  },
  {
   "cell_type": "markdown",
   "metadata": {},
   "source": [
    "## Part a"
   ]
  },
  {
   "cell_type": "markdown",
   "metadata": {},
   "source": [
    "m = length of drought in years\n",
    "\n",
    "N = number of years on record\n",
    "\n",
    "n = years in the future under consideration"
   ]
  },
  {
   "cell_type": "code",
   "execution_count": 1,
   "metadata": {},
   "outputs": [],
   "source": [
    "def P(N,n,m):\n",
    "    num = n - m + 1\n",
    "    den = (N-m+1) + (n-m+1)\n",
    "    return num/den"
   ]
  },
  {
   "cell_type": "code",
   "execution_count": 2,
   "metadata": {},
   "outputs": [
    {
     "data": {
      "text/plain": [
       "0.16044776119402984"
      ]
     },
     "execution_count": 2,
     "metadata": {},
     "output_type": "execute_result"
    }
   ],
   "source": [
    "P(2020-1788,50,2009-2001)"
   ]
  },
  {
   "cell_type": "markdown",
   "metadata": {},
   "source": [
    "## Part b"
   ]
  },
  {
   "cell_type": "code",
   "execution_count": 1,
   "metadata": {},
   "outputs": [],
   "source": [
    "# count the number of possible blocks of length m in n years"
   ]
  },
  {
   "cell_type": "code",
   "execution_count": 14,
   "metadata": {},
   "outputs": [
    {
     "name": "stdout",
     "output_type": "stream",
     "text": [
      "The number of possible 8 year periods in 50 years is 43\n",
      "This is equivalent to n-m+1 = 43\n"
     ]
    }
   ],
   "source": [
    "m = 2009-2001\n",
    "N = 2020-1788\n",
    "n = 50\n",
    "count = 0\n",
    "for i in range(0,n):\n",
    "    if i + m <= n:\n",
    "        count += 1\n",
    "print(f\"The number of possible {m} year periods in {n} years is {count}\")\n",
    "print(f\"This is equivalent to n-m+1 = {n-m+1}\")"
   ]
  },
  {
   "cell_type": "code",
   "execution_count": 15,
   "metadata": {},
   "outputs": [
    {
     "name": "stdout",
     "output_type": "stream",
     "text": [
      "N-m+1 = 225\n",
      "n-m+1 = 43\n"
     ]
    }
   ],
   "source": [
    "print(f\"N-m+1 = {N-m+1}\")\n",
    "print(f\"n-m+1 = {n-m+1}\")"
   ]
  },
  {
   "cell_type": "code",
   "execution_count": 16,
   "metadata": {},
   "outputs": [
    {
     "data": {
      "text/plain": [
       "268"
      ]
     },
     "execution_count": 16,
     "metadata": {},
     "output_type": "execute_result"
    }
   ],
   "source": [
    "(N-m+1) + (n-m+1)"
   ]
  },
  {
   "cell_type": "code",
   "execution_count": 21,
   "metadata": {},
   "outputs": [
    {
     "data": {
      "text/plain": [
       "225"
      ]
     },
     "execution_count": 21,
     "metadata": {},
     "output_type": "execute_result"
    }
   ],
   "source": [
    "N-m+1"
   ]
  },
  {
   "cell_type": "code",
   "execution_count": 22,
   "metadata": {},
   "outputs": [
    {
     "name": "stdout",
     "output_type": "stream",
     "text": [
      "The number of possible 8 year periods in 232 years is 225\n",
      "This is equivalent to n-m+1 = 225\n"
     ]
    }
   ],
   "source": [
    "m = 2009-2001\n",
    "n = 2020-1788\n",
    "count = 0\n",
    "for i in range(0,n):\n",
    "    if i + m <= n:\n",
    "        count += 1\n",
    "print(f\"The number of possible {m} year periods in {n} years is {count}\")\n",
    "print(f\"This is equivalent to n-m+1 = {n-m+1}\")"
   ]
  }
 ],
 "metadata": {
  "kernelspec": {
   "display_name": "Python 3",
   "language": "python",
   "name": "python3"
  },
  "language_info": {
   "codemirror_mode": {
    "name": "ipython",
    "version": 3
   },
   "file_extension": ".py",
   "mimetype": "text/x-python",
   "name": "python",
   "nbconvert_exporter": "python",
   "pygments_lexer": "ipython3",
   "version": "3.7.4"
  }
 },
 "nbformat": 4,
 "nbformat_minor": 4
}
