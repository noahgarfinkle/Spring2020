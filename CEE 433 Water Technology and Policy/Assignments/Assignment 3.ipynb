{
 "cells": [
  {
   "cell_type": "markdown",
   "metadata": {},
   "source": [
    "# CEE 433: Water Technology and Policy\n",
    "\n",
    "## Assignment 3: Incremental Cost-Benefit Analysis\n",
    "\n",
    "Noah Garfinkle (garfink2@illinois.edu)\n",
    "\n",
    "03 March 2020"
   ]
  },
  {
   "cell_type": "markdown",
   "metadata": {},
   "source": [
    "## Imports"
   ]
  },
  {
   "cell_type": "code",
   "execution_count": 1,
   "metadata": {},
   "outputs": [],
   "source": [
    "import numpy as np\n",
    "import matplotlib.pyplot as plt\n",
    "import seaborn as sns"
   ]
  },
  {
   "cell_type": "markdown",
   "metadata": {},
   "source": [
    "## Problem 1\n",
    "\n",
    "In response to long-term drought conditions, the hypothetical city of Los Sedientos must decide the best approach to increase the municipal water supply.  The options under consideration include the following:"
   ]
  },
  {
   "cell_type": "markdown",
   "metadata": {},
   "source": [
    "A. Desalination of brackish water\n",
    "\n",
    "|Parameter|Value|\n",
    "|---|---|\n",
    "|Average Flow|5 MGD|\n",
    "|Investment Cost|\\$15 Million|\n",
    "|Annual Benefits|\\$1,950,000/year|\n",
    "|Annual O&M Cost|\\$1,400,000|\n",
    "|Useful Life|30 Years|"
   ]
  },
  {
   "cell_type": "markdown",
   "metadata": {},
   "source": [
    "B. Fund upstream agricultural water efficiency in exchange for the excess water\n",
    "\n",
    "|Parameter|Value|\n",
    "|---|---|\n",
    "|Average Flow|1 MGD|\n",
    "|Investment Cost|\\$2 Million|\n",
    "|Annual Benefits|\\$400,000/year|\n",
    "|Annual O&M Cost|\\$150,000|\n",
    "|Useful Life|45 Years|"
   ]
  },
  {
   "cell_type": "markdown",
   "metadata": {},
   "source": [
    "C. Indirect potable reuse (additional treatment of wastewater effluent, injection into aquifer, subsequent extraction for drinking water)\n",
    "\n",
    "|Parameter|Value|\n",
    "|---|---|\n",
    "|Average Flow|3 MGD|\n",
    "|Investment Cost|\\$5 Million|\n",
    "|Annual Benefits|\\$1,000,000/year|\n",
    "|Annual O&M Cost|\\$600,000|\n",
    "|Useful Life|35 Years|"
   ]
  },
  {
   "cell_type": "markdown",
   "metadata": {},
   "source": [
    "Create an incremental cost-benefit analysis using an annual interest reate of $i=2.8%$.  Which option makes the most sense from a cost-benefit perspective?  What inherent assumptions are included in the selection of the best option?"
   ]
  },
  {
   "cell_type": "code",
   "execution_count": null,
   "metadata": {},
   "outputs": [],
   "source": []
  },
  {
   "cell_type": "markdown",
   "metadata": {},
   "source": [
    "If the city can only secure municipal bonds for \\$6 million in capaital projects, what do you recommend they pursue?"
   ]
  },
  {
   "cell_type": "code",
   "execution_count": null,
   "metadata": {},
   "outputs": [],
   "source": []
  }
 ],
 "metadata": {
  "kernelspec": {
   "display_name": "Python 3",
   "language": "python",
   "name": "python3"
  },
  "language_info": {
   "codemirror_mode": {
    "name": "ipython",
    "version": 3
   },
   "file_extension": ".py",
   "mimetype": "text/x-python",
   "name": "python",
   "nbconvert_exporter": "python",
   "pygments_lexer": "ipython3",
   "version": "3.7.3"
  }
 },
 "nbformat": 4,
 "nbformat_minor": 2
}
