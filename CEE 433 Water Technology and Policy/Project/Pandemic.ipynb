{
 "cells": [
  {
   "cell_type": "markdown",
   "metadata": {},
   "source": [
    "Pandemic Preparedness"
   ]
  },
  {
   "cell_type": "markdown",
   "metadata": {},
   "source": [
    "Imports and Setup"
   ]
  },
  {
   "cell_type": "code",
   "execution_count": 64,
   "metadata": {},
   "outputs": [],
   "source": [
    "import numpy as np\n",
    "import pandas as pd\n",
    "import geopandas as gpd\n",
    "import matplotlib.pyplot as plt\n",
    "import seaborn as sns\n",
    "import os\n",
    "import datetime as dt\n",
    "from fuzzywuzzy import fuzz, process"
   ]
  },
  {
   "cell_type": "code",
   "execution_count": 48,
   "metadata": {},
   "outputs": [],
   "source": [
    " pd.options.display.max_columns = 999"
   ]
  },
  {
   "cell_type": "markdown",
   "metadata": {},
   "source": [
    "Data"
   ]
  },
  {
   "cell_type": "code",
   "execution_count": 91,
   "metadata": {},
   "outputs": [],
   "source": [
    "googleSheetsDataset = \"https://docs.google.com/spreadsheets/d/1itaohdPiAeniCXNlntNztZ_oRvjh0HsGuJXUJWET008/edit#gid=0\"\n",
    "CSEdatadir = \"https://github.com/CSSEGISandData/COVID-19/tree/master/csse_covid_19_data/csse_covid_19_daily_reports\"\n",
    "excelVersion = \"C:\\\\Users\\\\garfink2\\\\Documents\\\\data\\\\drinkingwater\\\\COVID19_2020_open_line_list.xlsx\"\n",
    "gitCovid = \"C:\\\\Users\\\\garfink2\\\\Documents\\\\data\\\\covid\\\\COVID-19\\\\csse_covid_19_data\\\\csse_covid_19_daily_reports\"\n",
    "nationalCombined = \"C:\\\\Users\\\\garfink2\\\\Documents\\\\data\\\\drinkingwater\\\\national_combined\\\\NATIONAL_FACILITY_FILE.CSV\"\n",
    "usCountyGaz = \"C:\\\\Users\\\\garfink2\\\\Documents\\\\data\\\\basemap\\\\2019_Gaz_counties_national\\\\2019_Gaz_counties_national.txt\""
   ]
  },
  {
   "cell_type": "code",
   "execution_count": 92,
   "metadata": {},
   "outputs": [],
   "source": [
    "cases = pd.read_excel(excelVersion)"
   ]
  },
  {
   "cell_type": "code",
   "execution_count": 93,
   "metadata": {},
   "outputs": [
    {
     "data": {
      "text/plain": [
       "Index(['ID', 'age', 'sex', 'city', 'province', 'country',\n",
       "       'wuhan(0)_not_wuhan(1)', 'latitude', 'longitude', 'geo_resolution',\n",
       "       'date_onset_symptoms', 'date_admission_hospital', 'date_confirmation',\n",
       "       'symptoms', 'lives_in_Wuhan', 'travel_history_dates',\n",
       "       'travel_history_location', 'reported_market_exposure',\n",
       "       'additional_information', 'chronic_disease_binary', 'chronic_disease',\n",
       "       'source', 'sequence_available', 'outcome', 'date_death_or_discharge',\n",
       "       'notes_for_discussion', 'location', 'admin3', 'admin2', 'admin1',\n",
       "       'country_new', 'admin_id', 'data_moderator_initials'],\n",
       "      dtype='object')"
      ]
     },
     "execution_count": 93,
     "metadata": {},
     "output_type": "execute_result"
    }
   ],
   "source": [
    "cases.columns"
   ]
  },
  {
   "cell_type": "code",
   "execution_count": 94,
   "metadata": {},
   "outputs": [
    {
     "data": {
      "text/plain": [
       "0                   NaN\n",
       "1                   NaN\n",
       "2        High-Tech Zone\n",
       "3        High-Tech Zone\n",
       "4                   NaN\n",
       "              ...      \n",
       "21135               NaN\n",
       "21136               NaN\n",
       "21137               NaN\n",
       "21138               NaN\n",
       "21139               NaN\n",
       "Name: location, Length: 21140, dtype: object"
      ]
     },
     "execution_count": 94,
     "metadata": {},
     "output_type": "execute_result"
    }
   ],
   "source": [
    "cases[\"location\"]"
   ]
  },
  {
   "cell_type": "code",
   "execution_count": 95,
   "metadata": {},
   "outputs": [],
   "source": [
    "cases = gpd.GeoDataFrame(cases,geometry=gpd.points_from_xy(cases.longitude,cases.latitude))"
   ]
  },
  {
   "cell_type": "code",
   "execution_count": 96,
   "metadata": {},
   "outputs": [
    {
     "data": {
      "text/plain": [
       "<matplotlib.axes._subplots.AxesSubplot at 0x1e8d6a18e48>"
      ]
     },
     "execution_count": 96,
     "metadata": {},
     "output_type": "execute_result"
    },
    {
     "data": {
      "image/png": "[encoded data removed]",
      "text/plain": [
       "<Figure size 432x288 with 1 Axes>"
      ]
     },
     "metadata": {
      "needs_background": "light"
     },
     "output_type": "display_data"
    }
   ],
   "source": [
    "cases.plot()"
   ]
  },
  {
   "cell_type": "code",
   "execution_count": 102,
   "metadata": {},
   "outputs": [
    {
     "data": {
      "text/plain": [
       "<matplotlib.axes._subplots.AxesSubplot at 0x1e8d6758188>"
      ]
     },
     "execution_count": 102,
     "metadata": {},
     "output_type": "execute_result"
    },
    {
     "data": {
      "image/png": "[encoded data removed]",
      "text/plain": [
       "<Figure size 432x288 with 1 Axes>"
      ]
     },
     "metadata": {
      "needs_background": "light"
     },
     "output_type": "display_data"
    }
   ],
   "source": [
    "cases[cases[\"country\"] == \"United States\"].plot()"
   ]
  },
  {
   "cell_type": "code",
   "execution_count": 26,
   "metadata": {},
   "outputs": [],
   "source": [
    "dailyUpdates = os.listdir(gitCovid)"
   ]
  },
  {
   "cell_type": "code",
   "execution_count": 29,
   "metadata": {},
   "outputs": [],
   "source": [
    "a = dailyUpdates[1]"
   ]
  },
  {
   "cell_type": "code",
   "execution_count": 35,
   "metadata": {},
   "outputs": [
    {
     "data": {
      "text/plain": [
       "datetime.datetime(2020, 1, 22, 0, 0)"
      ]
     },
     "execution_count": 35,
     "metadata": {},
     "output_type": "execute_result"
    }
   ],
   "source": [
    "dt.datetime.strptime(a.split('.')[0],\"%m-%d-%Y\")"
   ]
  },
  {
   "cell_type": "code",
   "execution_count": 36,
   "metadata": {},
   "outputs": [],
   "source": [
    "dailyUpdatesDict = {}\n",
    "for file in dailyUpdates:\n",
    "    if \".csv\" in file:\n",
    "        dailyUpdatesDict[dt.datetime.strptime(file.split('.')[0],\"%m-%d-%Y\")] = file"
   ]
  },
  {
   "cell_type": "code",
   "execution_count": 41,
   "metadata": {},
   "outputs": [
    {
     "data": {
      "text/plain": [
       "[1,\n",
       " 1,\n",
       " 1,\n",
       " 1,\n",
       " 1,\n",
       " 1,\n",
       " 1,\n",
       " 1,\n",
       " 1,\n",
       " 1,\n",
       " 2,\n",
       " 2,\n",
       " 2,\n",
       " 2,\n",
       " 2,\n",
       " 2,\n",
       " 2,\n",
       " 2,\n",
       " 2,\n",
       " 2,\n",
       " 2,\n",
       " 2,\n",
       " 2,\n",
       " 2,\n",
       " 2,\n",
       " 2,\n",
       " 2,\n",
       " 2,\n",
       " 2,\n",
       " 2,\n",
       " 2,\n",
       " 2,\n",
       " 2,\n",
       " 2,\n",
       " 2,\n",
       " 2,\n",
       " 2,\n",
       " 2,\n",
       " 2,\n",
       " 3,\n",
       " 3,\n",
       " 3,\n",
       " 3,\n",
       " 3,\n",
       " 3,\n",
       " 3,\n",
       " 3,\n",
       " 3,\n",
       " 3,\n",
       " 3,\n",
       " 3,\n",
       " 3,\n",
       " 3]"
      ]
     },
     "execution_count": 41,
     "metadata": {},
     "output_type": "execute_result"
    }
   ],
   "source": [
    "[d.month for d in dailyUpdatesDict.keys()]"
   ]
  },
  {
   "cell_type": "code",
   "execution_count": 43,
   "metadata": {},
   "outputs": [
    {
     "name": "stderr",
     "output_type": "stream",
     "text": [
      "C:\\Users\\garfink2\\AppData\\Local\\Continuum\\anaconda3\\envs\\phd\\lib\\site-packages\\IPython\\core\\interactiveshell.py:3051: DtypeWarning: Columns (4,7,11,12,13,14,15,16,21,23,24,31) have mixed types.Specify dtype option on import or set low_memory=False.\n",
      "  interactivity=interactivity, compiler=compiler, result=result)\n"
     ]
    }
   ],
   "source": [
    "df_nc = pd.read_csv(nationalCombined)"
   ]
  },
  {
   "cell_type": "code",
   "execution_count": 44,
   "metadata": {},
   "outputs": [
    {
     "data": {
      "text/plain": [
       "Index(['FRS_FACILITY_DETAIL_REPORT_URL', 'REGISTRY_ID', 'PRIMARY_NAME',\n",
       "       'LOCATION_ADDRESS', 'SUPPLEMENTAL_LOCATION', 'CITY_NAME', 'COUNTY_NAME',\n",
       "       'FIPS_CODE', 'STATE_CODE', 'STATE_NAME', 'COUNTRY_NAME', 'POSTAL_CODE',\n",
       "       'FEDERAL_FACILITY_CODE', 'FEDERAL_AGENCY_NAME', 'TRIBAL_LAND_CODE',\n",
       "       'TRIBAL_LAND_NAME', 'CONGRESSIONAL_DIST_NUM', 'CENSUS_BLOCK_CODE',\n",
       "       'HUC_CODE', 'EPA_REGION_CODE', 'SITE_TYPE_NAME', 'LOCATION_DESCRIPTION',\n",
       "       'CREATE_DATE', 'UPDATE_DATE', 'US_MEXICO_BORDER_IND', 'PGM_SYS_ACRNMS',\n",
       "       'LATITUDE83', 'LONGITUDE83', 'CONVEYOR', 'COLLECT_DESC',\n",
       "       'ACCURACY_VALUE', 'REF_POINT_DESC', 'HDATUM_DESC', 'SOURCE_DESC'],\n",
       "      dtype='object')"
      ]
     },
     "execution_count": 44,
     "metadata": {},
     "output_type": "execute_result"
    }
   ],
   "source": [
    "df_nc.columns"
   ]
  },
  {
   "cell_type": "code",
   "execution_count": 46,
   "metadata": {},
   "outputs": [
    {
     "data": {
      "text/plain": [
       "[nan,\n",
       " 'WATERFRONT FACILITY',\n",
       " 'MOBILE',\n",
       " 'MONITORING STATION',\n",
       " 'BARGE',\n",
       " 'CONTAMINATED SITE',\n",
       " 'POTENTIALLY CONTAMINATED SITE',\n",
       " 'WATER SYSTEM',\n",
       " 'CONTAMINATION ADDRESSED',\n",
       " 'STATIONARY',\n",
       " 'PORTABLE',\n",
       " 'PIPELINE',\n",
       " 'FACILITY',\n",
       " 'BROWNFIELDS SITE']"
      ]
     },
     "execution_count": 46,
     "metadata": {},
     "output_type": "execute_result"
    }
   ],
   "source": [
    "list(set(df_nc[\"SITE_TYPE_NAME\"]))"
   ]
  },
  {
   "cell_type": "code",
   "execution_count": 49,
   "metadata": {},
   "outputs": [
    {
     "data": {
      "text/html": [
       "<div>\n",
       "<style scoped>\n",
       "    .dataframe tbody tr th:only-of-type {\n",
       "        vertical-align: middle;\n",
       "    }\n",
       "\n",
       "    .dataframe tbody tr th {\n",
       "        vertical-align: top;\n",
       "    }\n",
       "\n",
       "    .dataframe thead th {\n",
       "        text-align: right;\n",
       "    }\n",
       "</style>\n",
       "<table border=\"1\" class=\"dataframe\">\n",
       "  <thead>\n",
       "    <tr style=\"text-align: right;\">\n",
       "      <th></th>\n",
       "      <th>FRS_FACILITY_DETAIL_REPORT_URL</th>\n",
       "      <th>REGISTRY_ID</th>\n",
       "      <th>PRIMARY_NAME</th>\n",
       "      <th>LOCATION_ADDRESS</th>\n",
       "      <th>SUPPLEMENTAL_LOCATION</th>\n",
       "      <th>CITY_NAME</th>\n",
       "      <th>COUNTY_NAME</th>\n",
       "      <th>FIPS_CODE</th>\n",
       "      <th>STATE_CODE</th>\n",
       "      <th>STATE_NAME</th>\n",
       "      <th>COUNTRY_NAME</th>\n",
       "      <th>POSTAL_CODE</th>\n",
       "      <th>FEDERAL_FACILITY_CODE</th>\n",
       "      <th>FEDERAL_AGENCY_NAME</th>\n",
       "      <th>TRIBAL_LAND_CODE</th>\n",
       "      <th>TRIBAL_LAND_NAME</th>\n",
       "      <th>CONGRESSIONAL_DIST_NUM</th>\n",
       "      <th>CENSUS_BLOCK_CODE</th>\n",
       "      <th>HUC_CODE</th>\n",
       "      <th>EPA_REGION_CODE</th>\n",
       "      <th>SITE_TYPE_NAME</th>\n",
       "      <th>LOCATION_DESCRIPTION</th>\n",
       "      <th>CREATE_DATE</th>\n",
       "      <th>UPDATE_DATE</th>\n",
       "      <th>US_MEXICO_BORDER_IND</th>\n",
       "      <th>PGM_SYS_ACRNMS</th>\n",
       "      <th>LATITUDE83</th>\n",
       "      <th>LONGITUDE83</th>\n",
       "      <th>CONVEYOR</th>\n",
       "      <th>COLLECT_DESC</th>\n",
       "      <th>ACCURACY_VALUE</th>\n",
       "      <th>REF_POINT_DESC</th>\n",
       "      <th>HDATUM_DESC</th>\n",
       "      <th>SOURCE_DESC</th>\n",
       "    </tr>\n",
       "  </thead>\n",
       "  <tbody>\n",
       "    <tr>\n",
       "      <th>955</th>\n",
       "      <td>http://ofmpub.epa.gov/enviro/fii_query_detail....</td>\n",
       "      <td>110007236623</td>\n",
       "      <td>WATER SERVICES</td>\n",
       "      <td>AHKOVAK ST</td>\n",
       "      <td>NaN</td>\n",
       "      <td>UTQIAGVIK</td>\n",
       "      <td>NORTH SLOPE</td>\n",
       "      <td>NaN</td>\n",
       "      <td>AK</td>\n",
       "      <td>ALASKA</td>\n",
       "      <td>UNITED STATES</td>\n",
       "      <td>99723</td>\n",
       "      <td>NaN</td>\n",
       "      <td>NaN</td>\n",
       "      <td>NaN</td>\n",
       "      <td>NaN</td>\n",
       "      <td>NaN</td>\n",
       "      <td>NaN</td>\n",
       "      <td>NaN</td>\n",
       "      <td>10.0</td>\n",
       "      <td>WATER SYSTEM</td>\n",
       "      <td>NaN</td>\n",
       "      <td>01-MAR-2000 00:00:00</td>\n",
       "      <td>25-APR-2019 18:36:09</td>\n",
       "      <td>NaN</td>\n",
       "      <td>SFDW:AK2320230</td>\n",
       "      <td>NaN</td>\n",
       "      <td>NaN</td>\n",
       "      <td>NaN</td>\n",
       "      <td>NaN</td>\n",
       "      <td>NaN</td>\n",
       "      <td>NaN</td>\n",
       "      <td>NAD83</td>\n",
       "      <td>NaN</td>\n",
       "    </tr>\n",
       "    <tr>\n",
       "      <th>3093</th>\n",
       "      <td>http://ofmpub.epa.gov/enviro/fii_query_detail....</td>\n",
       "      <td>110012948061</td>\n",
       "      <td>MOUNTAIN POINT SERVICE AREA</td>\n",
       "      <td>MAYO LN</td>\n",
       "      <td>NaN</td>\n",
       "      <td>KETCHIKAN</td>\n",
       "      <td>KETCHIKAN GATEWAY</td>\n",
       "      <td>NaN</td>\n",
       "      <td>AK</td>\n",
       "      <td>ALASKA</td>\n",
       "      <td>UNITED STATES</td>\n",
       "      <td>99901</td>\n",
       "      <td>NaN</td>\n",
       "      <td>NaN</td>\n",
       "      <td>NaN</td>\n",
       "      <td>NaN</td>\n",
       "      <td>00</td>\n",
       "      <td>2.130000e+13</td>\n",
       "      <td>19010102.0</td>\n",
       "      <td>10.0</td>\n",
       "      <td>WATER SYSTEM</td>\n",
       "      <td>NaN</td>\n",
       "      <td>30-OCT-2002 18:12:08</td>\n",
       "      <td>11-APR-2017 11:49:19</td>\n",
       "      <td>NaN</td>\n",
       "      <td>SFDW:AK2120452</td>\n",
       "      <td>55.302290</td>\n",
       "      <td>-131.535337</td>\n",
       "      <td>EPA_SLT</td>\n",
       "      <td>INTERPOLATION-PHOTO</td>\n",
       "      <td>588.0</td>\n",
       "      <td>FACILITY CENTROID</td>\n",
       "      <td>NAD83</td>\n",
       "      <td>NaN</td>\n",
       "    </tr>\n",
       "    <tr>\n",
       "      <th>3094</th>\n",
       "      <td>http://ofmpub.epa.gov/enviro/fii_query_detail....</td>\n",
       "      <td>110012948089</td>\n",
       "      <td>KASAAN</td>\n",
       "      <td>BARONOVICH RD</td>\n",
       "      <td>LINCKUM CREEK</td>\n",
       "      <td>THORNE BAY</td>\n",
       "      <td>PRINCE OF WALES-HYDER</td>\n",
       "      <td>NaN</td>\n",
       "      <td>AK</td>\n",
       "      <td>ALASKA</td>\n",
       "      <td>UNITED STATES</td>\n",
       "      <td>99919</td>\n",
       "      <td>NaN</td>\n",
       "      <td>NaN</td>\n",
       "      <td>NaN</td>\n",
       "      <td>NaN</td>\n",
       "      <td>00</td>\n",
       "      <td>2.198000e+13</td>\n",
       "      <td>19010103.0</td>\n",
       "      <td>10.0</td>\n",
       "      <td>WATER SYSTEM</td>\n",
       "      <td>NaN</td>\n",
       "      <td>30-OCT-2002 18:12:08</td>\n",
       "      <td>11-APR-2017 12:11:49</td>\n",
       "      <td>NaN</td>\n",
       "      <td>SFDW:AK2120606</td>\n",
       "      <td>55.542218</td>\n",
       "      <td>-132.400424</td>\n",
       "      <td>EPA_SLT</td>\n",
       "      <td>INTERPOLATION-PHOTO</td>\n",
       "      <td>586.0</td>\n",
       "      <td>FACILITY CENTROID</td>\n",
       "      <td>NAD83</td>\n",
       "      <td>NaN</td>\n",
       "    </tr>\n",
       "    <tr>\n",
       "      <th>3095</th>\n",
       "      <td>http://ofmpub.epa.gov/enviro/fii_query_detail....</td>\n",
       "      <td>110012948196</td>\n",
       "      <td>ANGOON PUBLIC WATER</td>\n",
       "      <td>AUKLA ST</td>\n",
       "      <td>NaN</td>\n",
       "      <td>ANGOON</td>\n",
       "      <td>HOONAH-ANGOON</td>\n",
       "      <td>NaN</td>\n",
       "      <td>AK</td>\n",
       "      <td>ALASKA</td>\n",
       "      <td>UNITED STATES</td>\n",
       "      <td>99820</td>\n",
       "      <td>NaN</td>\n",
       "      <td>NaN</td>\n",
       "      <td>NaN</td>\n",
       "      <td>NaN</td>\n",
       "      <td>00</td>\n",
       "      <td>2.105000e+13</td>\n",
       "      <td>19010204.0</td>\n",
       "      <td>10.0</td>\n",
       "      <td>WATER SYSTEM</td>\n",
       "      <td>NaN</td>\n",
       "      <td>30-OCT-2002 18:12:10</td>\n",
       "      <td>11-APR-2017 12:18:27</td>\n",
       "      <td>NaN</td>\n",
       "      <td>SFDW:AK2130017</td>\n",
       "      <td>57.461740</td>\n",
       "      <td>-134.522502</td>\n",
       "      <td>EPA_SLT</td>\n",
       "      <td>INTERPOLATION-PHOTO</td>\n",
       "      <td>1112.0</td>\n",
       "      <td>FACILITY CENTROID</td>\n",
       "      <td>NAD83</td>\n",
       "      <td>NaN</td>\n",
       "    </tr>\n",
       "    <tr>\n",
       "      <th>3096</th>\n",
       "      <td>http://ofmpub.epa.gov/enviro/fii_query_detail....</td>\n",
       "      <td>110012948258</td>\n",
       "      <td>HOONAH PWS</td>\n",
       "      <td>HUNA CT</td>\n",
       "      <td>NaN</td>\n",
       "      <td>HOONAH</td>\n",
       "      <td>HOONAH-ANGOON</td>\n",
       "      <td>NaN</td>\n",
       "      <td>AK</td>\n",
       "      <td>ALASKA</td>\n",
       "      <td>UNITED STATES</td>\n",
       "      <td>99829</td>\n",
       "      <td>NaN</td>\n",
       "      <td>NaN</td>\n",
       "      <td>NaN</td>\n",
       "      <td>NaN</td>\n",
       "      <td>00</td>\n",
       "      <td>2.105000e+13</td>\n",
       "      <td>19010203.0</td>\n",
       "      <td>10.0</td>\n",
       "      <td>WATER SYSTEM</td>\n",
       "      <td>NaN</td>\n",
       "      <td>30-OCT-2002 18:12:11</td>\n",
       "      <td>11-APR-2017 12:33:37</td>\n",
       "      <td>NaN</td>\n",
       "      <td>SFDW:AK2130067</td>\n",
       "      <td>58.110348</td>\n",
       "      <td>-135.432715</td>\n",
       "      <td>EPA_SLT</td>\n",
       "      <td>INTERPOLATION-PHOTO</td>\n",
       "      <td>546.0</td>\n",
       "      <td>FACILITY CENTROID</td>\n",
       "      <td>NAD83</td>\n",
       "      <td>NaN</td>\n",
       "    </tr>\n",
       "    <tr>\n",
       "      <th>...</th>\n",
       "      <td>...</td>\n",
       "      <td>...</td>\n",
       "      <td>...</td>\n",
       "      <td>...</td>\n",
       "      <td>...</td>\n",
       "      <td>...</td>\n",
       "      <td>...</td>\n",
       "      <td>...</td>\n",
       "      <td>...</td>\n",
       "      <td>...</td>\n",
       "      <td>...</td>\n",
       "      <td>...</td>\n",
       "      <td>...</td>\n",
       "      <td>...</td>\n",
       "      <td>...</td>\n",
       "      <td>...</td>\n",
       "      <td>...</td>\n",
       "      <td>...</td>\n",
       "      <td>...</td>\n",
       "      <td>...</td>\n",
       "      <td>...</td>\n",
       "      <td>...</td>\n",
       "      <td>...</td>\n",
       "      <td>...</td>\n",
       "      <td>...</td>\n",
       "      <td>...</td>\n",
       "      <td>...</td>\n",
       "      <td>...</td>\n",
       "      <td>...</td>\n",
       "      <td>...</td>\n",
       "      <td>...</td>\n",
       "      <td>...</td>\n",
       "      <td>...</td>\n",
       "      <td>...</td>\n",
       "    </tr>\n",
       "    <tr>\n",
       "      <th>4219017</th>\n",
       "      <td>http://ofmpub.epa.gov/enviro/fii_query_detail....</td>\n",
       "      <td>110063367636</td>\n",
       "      <td>ALL SEASONS RV PARK</td>\n",
       "      <td>NaN</td>\n",
       "      <td>NaN</td>\n",
       "      <td>NaN</td>\n",
       "      <td>CAMPBELL</td>\n",
       "      <td>NaN</td>\n",
       "      <td>WY</td>\n",
       "      <td>WYOMING</td>\n",
       "      <td>NaN</td>\n",
       "      <td>NaN</td>\n",
       "      <td>NaN</td>\n",
       "      <td>NaN</td>\n",
       "      <td>NaN</td>\n",
       "      <td>NaN</td>\n",
       "      <td>NaN</td>\n",
       "      <td>NaN</td>\n",
       "      <td>NaN</td>\n",
       "      <td>8.0</td>\n",
       "      <td>WATER SYSTEM</td>\n",
       "      <td>NaN</td>\n",
       "      <td>27-JAN-2015 21:04:28</td>\n",
       "      <td>19-MAY-2015 04:58:51</td>\n",
       "      <td>NaN</td>\n",
       "      <td>SFDW:WY5601658</td>\n",
       "      <td>NaN</td>\n",
       "      <td>NaN</td>\n",
       "      <td>NaN</td>\n",
       "      <td>NaN</td>\n",
       "      <td>NaN</td>\n",
       "      <td>NaN</td>\n",
       "      <td>NAD83</td>\n",
       "      <td>NaN</td>\n",
       "    </tr>\n",
       "    <tr>\n",
       "      <th>4219018</th>\n",
       "      <td>http://ofmpub.epa.gov/enviro/fii_query_detail....</td>\n",
       "      <td>110063370926</td>\n",
       "      <td>BRINTON MUSEUM</td>\n",
       "      <td>NaN</td>\n",
       "      <td>NaN</td>\n",
       "      <td>NaN</td>\n",
       "      <td>SHERIDAN</td>\n",
       "      <td>NaN</td>\n",
       "      <td>WY</td>\n",
       "      <td>WYOMING</td>\n",
       "      <td>NaN</td>\n",
       "      <td>NaN</td>\n",
       "      <td>NaN</td>\n",
       "      <td>NaN</td>\n",
       "      <td>NaN</td>\n",
       "      <td>NaN</td>\n",
       "      <td>NaN</td>\n",
       "      <td>NaN</td>\n",
       "      <td>NaN</td>\n",
       "      <td>8.0</td>\n",
       "      <td>WATER SYSTEM</td>\n",
       "      <td>NaN</td>\n",
       "      <td>27-JAN-2015 21:04:38</td>\n",
       "      <td>18-MAY-2015 17:42:03</td>\n",
       "      <td>NaN</td>\n",
       "      <td>SFDW:WY5601677</td>\n",
       "      <td>NaN</td>\n",
       "      <td>NaN</td>\n",
       "      <td>NaN</td>\n",
       "      <td>NaN</td>\n",
       "      <td>NaN</td>\n",
       "      <td>NaN</td>\n",
       "      <td>NAD83</td>\n",
       "      <td>NaN</td>\n",
       "    </tr>\n",
       "    <tr>\n",
       "      <th>4219019</th>\n",
       "      <td>http://ofmpub.epa.gov/enviro/fii_query_detail....</td>\n",
       "      <td>110063371499</td>\n",
       "      <td>SWEETWATER IMPROVEMENT &amp; SERVICE DISTRIC</td>\n",
       "      <td>NaN</td>\n",
       "      <td>NaN</td>\n",
       "      <td>NaN</td>\n",
       "      <td>WESTON</td>\n",
       "      <td>NaN</td>\n",
       "      <td>WY</td>\n",
       "      <td>WYOMING</td>\n",
       "      <td>NaN</td>\n",
       "      <td>NaN</td>\n",
       "      <td>NaN</td>\n",
       "      <td>NaN</td>\n",
       "      <td>NaN</td>\n",
       "      <td>NaN</td>\n",
       "      <td>NaN</td>\n",
       "      <td>NaN</td>\n",
       "      <td>NaN</td>\n",
       "      <td>8.0</td>\n",
       "      <td>WATER SYSTEM</td>\n",
       "      <td>NaN</td>\n",
       "      <td>27-JAN-2015 21:04:40</td>\n",
       "      <td>18-MAY-2015 15:03:42</td>\n",
       "      <td>NaN</td>\n",
       "      <td>SFDW:WY5601675</td>\n",
       "      <td>NaN</td>\n",
       "      <td>NaN</td>\n",
       "      <td>NaN</td>\n",
       "      <td>NaN</td>\n",
       "      <td>NaN</td>\n",
       "      <td>NaN</td>\n",
       "      <td>NAD83</td>\n",
       "      <td>NaN</td>\n",
       "    </tr>\n",
       "    <tr>\n",
       "      <th>4219020</th>\n",
       "      <td>http://ofmpub.epa.gov/enviro/fii_query_detail....</td>\n",
       "      <td>110063374352</td>\n",
       "      <td>WY DOT-SOUTH EAST WELCOME CENTER</td>\n",
       "      <td>NaN</td>\n",
       "      <td>NaN</td>\n",
       "      <td>NaN</td>\n",
       "      <td>LARAMIE</td>\n",
       "      <td>NaN</td>\n",
       "      <td>WY</td>\n",
       "      <td>WYOMING</td>\n",
       "      <td>NaN</td>\n",
       "      <td>NaN</td>\n",
       "      <td>NaN</td>\n",
       "      <td>NaN</td>\n",
       "      <td>NaN</td>\n",
       "      <td>NaN</td>\n",
       "      <td>NaN</td>\n",
       "      <td>NaN</td>\n",
       "      <td>NaN</td>\n",
       "      <td>8.0</td>\n",
       "      <td>WATER SYSTEM</td>\n",
       "      <td>NaN</td>\n",
       "      <td>27-JAN-2015 21:04:55</td>\n",
       "      <td>18-MAY-2015 12:19:31</td>\n",
       "      <td>NaN</td>\n",
       "      <td>SFDW:WY5601678</td>\n",
       "      <td>NaN</td>\n",
       "      <td>NaN</td>\n",
       "      <td>NaN</td>\n",
       "      <td>NaN</td>\n",
       "      <td>NaN</td>\n",
       "      <td>NaN</td>\n",
       "      <td>NAD83</td>\n",
       "      <td>NaN</td>\n",
       "    </tr>\n",
       "    <tr>\n",
       "      <th>4219021</th>\n",
       "      <td>http://ofmpub.epa.gov/enviro/fii_query_detail....</td>\n",
       "      <td>110063375182</td>\n",
       "      <td>POWER RESOURCES INC/CAMECO-N. BUTTE ISR</td>\n",
       "      <td>NaN</td>\n",
       "      <td>NaN</td>\n",
       "      <td>NaN</td>\n",
       "      <td>CAMPBELL</td>\n",
       "      <td>NaN</td>\n",
       "      <td>WY</td>\n",
       "      <td>WYOMING</td>\n",
       "      <td>NaN</td>\n",
       "      <td>NaN</td>\n",
       "      <td>NaN</td>\n",
       "      <td>NaN</td>\n",
       "      <td>NaN</td>\n",
       "      <td>NaN</td>\n",
       "      <td>NaN</td>\n",
       "      <td>NaN</td>\n",
       "      <td>NaN</td>\n",
       "      <td>8.0</td>\n",
       "      <td>WATER SYSTEM</td>\n",
       "      <td>NaN</td>\n",
       "      <td>27-JAN-2015 21:05:03</td>\n",
       "      <td>18-MAY-2015 12:28:34</td>\n",
       "      <td>NaN</td>\n",
       "      <td>SFDW:WY5601667</td>\n",
       "      <td>NaN</td>\n",
       "      <td>NaN</td>\n",
       "      <td>NaN</td>\n",
       "      <td>NaN</td>\n",
       "      <td>NaN</td>\n",
       "      <td>NaN</td>\n",
       "      <td>NAD83</td>\n",
       "      <td>NaN</td>\n",
       "    </tr>\n",
       "  </tbody>\n",
       "</table>\n",
       "<p>370348 rows × 34 columns</p>\n",
       "</div>"
      ],
      "text/plain": [
       "                            FRS_FACILITY_DETAIL_REPORT_URL   REGISTRY_ID  \\\n",
       "955      http://ofmpub.epa.gov/enviro/fii_query_detail....  110007236623   \n",
       "3093     http://ofmpub.epa.gov/enviro/fii_query_detail....  110012948061   \n",
       "3094     http://ofmpub.epa.gov/enviro/fii_query_detail....  110012948089   \n",
       "3095     http://ofmpub.epa.gov/enviro/fii_query_detail....  110012948196   \n",
       "3096     http://ofmpub.epa.gov/enviro/fii_query_detail....  110012948258   \n",
       "...                                                    ...           ...   \n",
       "4219017  http://ofmpub.epa.gov/enviro/fii_query_detail....  110063367636   \n",
       "4219018  http://ofmpub.epa.gov/enviro/fii_query_detail....  110063370926   \n",
       "4219019  http://ofmpub.epa.gov/enviro/fii_query_detail....  110063371499   \n",
       "4219020  http://ofmpub.epa.gov/enviro/fii_query_detail....  110063374352   \n",
       "4219021  http://ofmpub.epa.gov/enviro/fii_query_detail....  110063375182   \n",
       "\n",
       "                                     PRIMARY_NAME LOCATION_ADDRESS  \\\n",
       "955                                WATER SERVICES       AHKOVAK ST   \n",
       "3093                  MOUNTAIN POINT SERVICE AREA          MAYO LN   \n",
       "3094                                       KASAAN    BARONOVICH RD   \n",
       "3095                          ANGOON PUBLIC WATER         AUKLA ST   \n",
       "3096                                   HOONAH PWS          HUNA CT   \n",
       "...                                           ...              ...   \n",
       "4219017                       ALL SEASONS RV PARK              NaN   \n",
       "4219018                            BRINTON MUSEUM              NaN   \n",
       "4219019  SWEETWATER IMPROVEMENT & SERVICE DISTRIC              NaN   \n",
       "4219020          WY DOT-SOUTH EAST WELCOME CENTER              NaN   \n",
       "4219021   POWER RESOURCES INC/CAMECO-N. BUTTE ISR              NaN   \n",
       "\n",
       "        SUPPLEMENTAL_LOCATION   CITY_NAME            COUNTY_NAME FIPS_CODE  \\\n",
       "955                       NaN   UTQIAGVIK            NORTH SLOPE       NaN   \n",
       "3093                      NaN   KETCHIKAN      KETCHIKAN GATEWAY       NaN   \n",
       "3094            LINCKUM CREEK  THORNE BAY  PRINCE OF WALES-HYDER       NaN   \n",
       "3095                      NaN      ANGOON          HOONAH-ANGOON       NaN   \n",
       "3096                      NaN      HOONAH          HOONAH-ANGOON       NaN   \n",
       "...                       ...         ...                    ...       ...   \n",
       "4219017                   NaN         NaN               CAMPBELL       NaN   \n",
       "4219018                   NaN         NaN               SHERIDAN       NaN   \n",
       "4219019                   NaN         NaN                 WESTON       NaN   \n",
       "4219020                   NaN         NaN                LARAMIE       NaN   \n",
       "4219021                   NaN         NaN               CAMPBELL       NaN   \n",
       "\n",
       "        STATE_CODE STATE_NAME   COUNTRY_NAME POSTAL_CODE  \\\n",
       "955             AK     ALASKA  UNITED STATES       99723   \n",
       "3093            AK     ALASKA  UNITED STATES       99901   \n",
       "3094            AK     ALASKA  UNITED STATES       99919   \n",
       "3095            AK     ALASKA  UNITED STATES       99820   \n",
       "3096            AK     ALASKA  UNITED STATES       99829   \n",
       "...            ...        ...            ...         ...   \n",
       "4219017         WY    WYOMING            NaN         NaN   \n",
       "4219018         WY    WYOMING            NaN         NaN   \n",
       "4219019         WY    WYOMING            NaN         NaN   \n",
       "4219020         WY    WYOMING            NaN         NaN   \n",
       "4219021         WY    WYOMING            NaN         NaN   \n",
       "\n",
       "        FEDERAL_FACILITY_CODE FEDERAL_AGENCY_NAME TRIBAL_LAND_CODE  \\\n",
       "955                       NaN                 NaN              NaN   \n",
       "3093                      NaN                 NaN              NaN   \n",
       "3094                      NaN                 NaN              NaN   \n",
       "3095                      NaN                 NaN              NaN   \n",
       "3096                      NaN                 NaN              NaN   \n",
       "...                       ...                 ...              ...   \n",
       "4219017                   NaN                 NaN              NaN   \n",
       "4219018                   NaN                 NaN              NaN   \n",
       "4219019                   NaN                 NaN              NaN   \n",
       "4219020                   NaN                 NaN              NaN   \n",
       "4219021                   NaN                 NaN              NaN   \n",
       "\n",
       "        TRIBAL_LAND_NAME CONGRESSIONAL_DIST_NUM  CENSUS_BLOCK_CODE  \\\n",
       "955                  NaN                    NaN                NaN   \n",
       "3093                 NaN                     00       2.130000e+13   \n",
       "3094                 NaN                     00       2.198000e+13   \n",
       "3095                 NaN                     00       2.105000e+13   \n",
       "3096                 NaN                     00       2.105000e+13   \n",
       "...                  ...                    ...                ...   \n",
       "4219017              NaN                    NaN                NaN   \n",
       "4219018              NaN                    NaN                NaN   \n",
       "4219019              NaN                    NaN                NaN   \n",
       "4219020              NaN                    NaN                NaN   \n",
       "4219021              NaN                    NaN                NaN   \n",
       "\n",
       "           HUC_CODE  EPA_REGION_CODE SITE_TYPE_NAME LOCATION_DESCRIPTION  \\\n",
       "955             NaN             10.0   WATER SYSTEM                  NaN   \n",
       "3093     19010102.0             10.0   WATER SYSTEM                  NaN   \n",
       "3094     19010103.0             10.0   WATER SYSTEM                  NaN   \n",
       "3095     19010204.0             10.0   WATER SYSTEM                  NaN   \n",
       "3096     19010203.0             10.0   WATER SYSTEM                  NaN   \n",
       "...             ...              ...            ...                  ...   \n",
       "4219017         NaN              8.0   WATER SYSTEM                  NaN   \n",
       "4219018         NaN              8.0   WATER SYSTEM                  NaN   \n",
       "4219019         NaN              8.0   WATER SYSTEM                  NaN   \n",
       "4219020         NaN              8.0   WATER SYSTEM                  NaN   \n",
       "4219021         NaN              8.0   WATER SYSTEM                  NaN   \n",
       "\n",
       "                  CREATE_DATE           UPDATE_DATE US_MEXICO_BORDER_IND  \\\n",
       "955      01-MAR-2000 00:00:00  25-APR-2019 18:36:09                  NaN   \n",
       "3093     30-OCT-2002 18:12:08  11-APR-2017 11:49:19                  NaN   \n",
       "3094     30-OCT-2002 18:12:08  11-APR-2017 12:11:49                  NaN   \n",
       "3095     30-OCT-2002 18:12:10  11-APR-2017 12:18:27                  NaN   \n",
       "3096     30-OCT-2002 18:12:11  11-APR-2017 12:33:37                  NaN   \n",
       "...                       ...                   ...                  ...   \n",
       "4219017  27-JAN-2015 21:04:28  19-MAY-2015 04:58:51                  NaN   \n",
       "4219018  27-JAN-2015 21:04:38  18-MAY-2015 17:42:03                  NaN   \n",
       "4219019  27-JAN-2015 21:04:40  18-MAY-2015 15:03:42                  NaN   \n",
       "4219020  27-JAN-2015 21:04:55  18-MAY-2015 12:19:31                  NaN   \n",
       "4219021  27-JAN-2015 21:05:03  18-MAY-2015 12:28:34                  NaN   \n",
       "\n",
       "         PGM_SYS_ACRNMS  LATITUDE83  LONGITUDE83 CONVEYOR  \\\n",
       "955      SFDW:AK2320230         NaN          NaN      NaN   \n",
       "3093     SFDW:AK2120452   55.302290  -131.535337  EPA_SLT   \n",
       "3094     SFDW:AK2120606   55.542218  -132.400424  EPA_SLT   \n",
       "3095     SFDW:AK2130017   57.461740  -134.522502  EPA_SLT   \n",
       "3096     SFDW:AK2130067   58.110348  -135.432715  EPA_SLT   \n",
       "...                 ...         ...          ...      ...   \n",
       "4219017  SFDW:WY5601658         NaN          NaN      NaN   \n",
       "4219018  SFDW:WY5601677         NaN          NaN      NaN   \n",
       "4219019  SFDW:WY5601675         NaN          NaN      NaN   \n",
       "4219020  SFDW:WY5601678         NaN          NaN      NaN   \n",
       "4219021  SFDW:WY5601667         NaN          NaN      NaN   \n",
       "\n",
       "                COLLECT_DESC  ACCURACY_VALUE     REF_POINT_DESC HDATUM_DESC  \\\n",
       "955                      NaN             NaN                NaN       NAD83   \n",
       "3093     INTERPOLATION-PHOTO           588.0  FACILITY CENTROID       NAD83   \n",
       "3094     INTERPOLATION-PHOTO           586.0  FACILITY CENTROID       NAD83   \n",
       "3095     INTERPOLATION-PHOTO          1112.0  FACILITY CENTROID       NAD83   \n",
       "3096     INTERPOLATION-PHOTO           546.0  FACILITY CENTROID       NAD83   \n",
       "...                      ...             ...                ...         ...   \n",
       "4219017                  NaN             NaN                NaN       NAD83   \n",
       "4219018                  NaN             NaN                NaN       NAD83   \n",
       "4219019                  NaN             NaN                NaN       NAD83   \n",
       "4219020                  NaN             NaN                NaN       NAD83   \n",
       "4219021                  NaN             NaN                NaN       NAD83   \n",
       "\n",
       "         SOURCE_DESC  \n",
       "955              NaN  \n",
       "3093             NaN  \n",
       "3094             NaN  \n",
       "3095             NaN  \n",
       "3096             NaN  \n",
       "...              ...  \n",
       "4219017          NaN  \n",
       "4219018          NaN  \n",
       "4219019          NaN  \n",
       "4219020          NaN  \n",
       "4219021          NaN  \n",
       "\n",
       "[370348 rows x 34 columns]"
      ]
     },
     "execution_count": 49,
     "metadata": {},
     "output_type": "execute_result"
    }
   ],
   "source": [
    "df_nc[df_nc[\"SITE_TYPE_NAME\"]==\"WATER SYSTEM\"]"
   ]
  },
  {
   "cell_type": "code",
   "execution_count": 50,
   "metadata": {},
   "outputs": [],
   "source": [
    "# https://ofmpub.epa.gov/apex/sfdw/f?p=108:103:::NO:RP::\n",
    "# great and wroks but doesn't have gis"
   ]
  },
  {
   "cell_type": "markdown",
   "metadata": {},
   "source": [
    "Fuzzy Wuzzy Gazetteer\n",
    "\n",
    "https://github.com/seatgeek/fuzzywuzzy"
   ]
  },
  {
   "cell_type": "code",
   "execution_count": 57,
   "metadata": {},
   "outputs": [],
   "source": [
    "gaz = pd.read_csv(usCountyGaz,delimiter='\\t')"
   ]
  },
  {
   "cell_type": "code",
   "execution_count": 58,
   "metadata": {},
   "outputs": [
    {
     "data": {
      "text/html": [
       "<div>\n",
       "<style scoped>\n",
       "    .dataframe tbody tr th:only-of-type {\n",
       "        vertical-align: middle;\n",
       "    }\n",
       "\n",
       "    .dataframe tbody tr th {\n",
       "        vertical-align: top;\n",
       "    }\n",
       "\n",
       "    .dataframe thead th {\n",
       "        text-align: right;\n",
       "    }\n",
       "</style>\n",
       "<table border=\"1\" class=\"dataframe\">\n",
       "  <thead>\n",
       "    <tr style=\"text-align: right;\">\n",
       "      <th></th>\n",
       "      <th>USPS</th>\n",
       "      <th>GEOID</th>\n",
       "      <th>ANSICODE</th>\n",
       "      <th>NAME</th>\n",
       "      <th>ALAND</th>\n",
       "      <th>AWATER</th>\n",
       "      <th>ALAND_SQMI</th>\n",
       "      <th>AWATER_SQMI</th>\n",
       "      <th>INTPTLAT</th>\n",
       "      <th>INTPTLONG</th>\n",
       "    </tr>\n",
       "  </thead>\n",
       "  <tbody>\n",
       "    <tr>\n",
       "      <th>0</th>\n",
       "      <td>AL</td>\n",
       "      <td>1001</td>\n",
       "      <td>161526</td>\n",
       "      <td>Autauga County</td>\n",
       "      <td>1539602137</td>\n",
       "      <td>25706961</td>\n",
       "      <td>594.444</td>\n",
       "      <td>9.926</td>\n",
       "      <td>32.532237</td>\n",
       "      <td>-86.646440</td>\n",
       "    </tr>\n",
       "    <tr>\n",
       "      <th>1</th>\n",
       "      <td>AL</td>\n",
       "      <td>1003</td>\n",
       "      <td>161527</td>\n",
       "      <td>Baldwin County</td>\n",
       "      <td>4117621645</td>\n",
       "      <td>1132980868</td>\n",
       "      <td>1589.823</td>\n",
       "      <td>437.446</td>\n",
       "      <td>30.659218</td>\n",
       "      <td>-87.746067</td>\n",
       "    </tr>\n",
       "    <tr>\n",
       "      <th>2</th>\n",
       "      <td>AL</td>\n",
       "      <td>1005</td>\n",
       "      <td>161528</td>\n",
       "      <td>Barbour County</td>\n",
       "      <td>2292160139</td>\n",
       "      <td>50523213</td>\n",
       "      <td>885.008</td>\n",
       "      <td>19.507</td>\n",
       "      <td>31.870253</td>\n",
       "      <td>-85.405104</td>\n",
       "    </tr>\n",
       "    <tr>\n",
       "      <th>3</th>\n",
       "      <td>AL</td>\n",
       "      <td>1007</td>\n",
       "      <td>161529</td>\n",
       "      <td>Bibb County</td>\n",
       "      <td>1612167476</td>\n",
       "      <td>9602089</td>\n",
       "      <td>622.461</td>\n",
       "      <td>3.707</td>\n",
       "      <td>33.015893</td>\n",
       "      <td>-87.127148</td>\n",
       "    </tr>\n",
       "    <tr>\n",
       "      <th>4</th>\n",
       "      <td>AL</td>\n",
       "      <td>1009</td>\n",
       "      <td>161530</td>\n",
       "      <td>Blount County</td>\n",
       "      <td>1670103866</td>\n",
       "      <td>15015467</td>\n",
       "      <td>644.831</td>\n",
       "      <td>5.798</td>\n",
       "      <td>33.977358</td>\n",
       "      <td>-86.566440</td>\n",
       "    </tr>\n",
       "  </tbody>\n",
       "</table>\n",
       "</div>"
      ],
      "text/plain": [
       "  USPS  GEOID  ANSICODE            NAME       ALAND      AWATER  ALAND_SQMI  \\\n",
       "0   AL   1001    161526  Autauga County  1539602137    25706961     594.444   \n",
       "1   AL   1003    161527  Baldwin County  4117621645  1132980868    1589.823   \n",
       "2   AL   1005    161528  Barbour County  2292160139    50523213     885.008   \n",
       "3   AL   1007    161529     Bibb County  1612167476     9602089     622.461   \n",
       "4   AL   1009    161530   Blount County  1670103866    15015467     644.831   \n",
       "\n",
       "   AWATER_SQMI   INTPTLAT  \\\n",
       "0        9.926  32.532237   \n",
       "1      437.446  30.659218   \n",
       "2       19.507  31.870253   \n",
       "3        3.707  33.015893   \n",
       "4        5.798  33.977358   \n",
       "\n",
       "   INTPTLONG                                                                                                                 \n",
       "0                                         -86.646440                                                                         \n",
       "1                                         -87.746067                                                                         \n",
       "2                                         -85.405104                                                                         \n",
       "3                                         -87.127148                                                                         \n",
       "4                                         -86.566440                                                                         "
      ]
     },
     "execution_count": 58,
     "metadata": {},
     "output_type": "execute_result"
    }
   ],
   "source": [
    "gaz.head()"
   ]
  },
  {
   "cell_type": "code",
   "execution_count": 59,
   "metadata": {},
   "outputs": [],
   "source": [
    "names = gaz[\"NAME\"]"
   ]
  },
  {
   "cell_type": "code",
   "execution_count": 75,
   "metadata": {},
   "outputs": [],
   "source": [
    "testSearch = \"St Louis\""
   ]
  },
  {
   "cell_type": "code",
   "execution_count": 89,
   "metadata": {},
   "outputs": [],
   "source": [
    "testSearch = \"St Louis County\""
   ]
  },
  {
   "cell_type": "code",
   "execution_count": 76,
   "metadata": {},
   "outputs": [],
   "source": [
    "testSearch = testSearch.upper()"
   ]
  },
  {
   "cell_type": "code",
   "execution_count": 73,
   "metadata": {},
   "outputs": [],
   "source": [
    "testSearch = \"St. Louis\""
   ]
  },
  {
   "cell_type": "code",
   "execution_count": 90,
   "metadata": {},
   "outputs": [
    {
     "data": {
      "text/plain": [
       "[('St. Louis County', 97, 1382),\n",
       " ('St. Louis County', 97, 1578),\n",
       " ('Lee County', 86, 40),\n",
       " ('Lee County', 86, 149),\n",
       " ('Bay County', 86, 322),\n",
       " ('Lee County', 86, 354),\n",
       " ('Lee County', 86, 474),\n",
       " ('Ada County', 86, 551),\n",
       " ('Gem County', 86, 573),\n",
       " ('Lee County', 86, 646),\n",
       " ('Jay County', 86, 734),\n",
       " ('Ida County', 86, 835),\n",
       " ('Lee County', 86, 844),\n",
       " ('Louisa County', 86, 846),\n",
       " ('Sac County', 86, 869),\n",
       " ('Elk County', 86, 912),\n",
       " ('Lee County', 86, 1057),\n",
       " ('St. John the Baptist Parish', 86, 1160),\n",
       " ('Bay County', 86, 1239),\n",
       " ('Lake of the Woods County', 86, 1352)]"
      ]
     },
     "execution_count": 90,
     "metadata": {},
     "output_type": "execute_result"
    }
   ],
   "source": [
    "process.extract(testSearch,names,limit=20)"
   ]
  },
  {
   "cell_type": "code",
   "execution_count": 80,
   "metadata": {},
   "outputs": [
    {
     "data": {
      "text/plain": [
       "3220"
      ]
     },
     "execution_count": 80,
     "metadata": {},
     "output_type": "execute_result"
    }
   ],
   "source": [
    "len(names)"
   ]
  },
  {
   "cell_type": "code",
   "execution_count": 88,
   "metadata": {},
   "outputs": [
    {
     "data": {
      "text/plain": [
       "3007"
      ]
     },
     "execution_count": 88,
     "metadata": {},
     "output_type": "execute_result"
    }
   ],
   "source": [
    "np.sum([\"County\" in x for x in names])"
   ]
  },
  {
   "cell_type": "code",
   "execution_count": null,
   "metadata": {},
   "outputs": [],
   "source": []
  }
 ],
 "metadata": {
  "kernelspec": {
   "display_name": "Python 3.7.6 64-bit ('phd': conda)",
   "language": "python",
   "name": "python37664bitphdcondab24623704836426aa66db115e96068bb"
  },
  "language_info": {
   "codemirror_mode": {
    "name": "ipython",
    "version": 3
   },
   "file_extension": ".py",
   "mimetype": "text/x-python",
   "name": "python",
   "nbconvert_exporter": "python",
   "pygments_lexer": "ipython3",
   "version": "3.7.6"
  }
 },
 "nbformat": 4,
 "nbformat_minor": 4
}
