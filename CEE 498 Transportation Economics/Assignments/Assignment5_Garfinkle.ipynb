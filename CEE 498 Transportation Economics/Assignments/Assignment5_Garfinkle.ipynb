{
 "cells": [
  {
   "cell_type": "markdown",
   "metadata": {},
   "source": [
    "# CEE 498: Transportation Economics\n",
    "## Assignment Five: Static Models\n",
    "### Noah Garfinkle (garfink2@illinois edu)\n",
    "### 30 March 2020"
   ]
  },
  {
   "cell_type": "markdown",
   "metadata": {},
   "source": [
    "## Imports and Setup"
   ]
  },
  {
   "cell_type": "code",
   "execution_count": 1,
   "metadata": {},
   "outputs": [],
   "source": [
    "import numpy as np\n",
    "import matplotlib.pyplot as plt\n",
    "import pandas as pd\n",
    "import seaborn as sns\n",
    "from scipy.optimize import root_scalar #this works only for scalar functions\n",
    "from scipy.optimize import minimize"
   ]
  },
  {
   "cell_type": "markdown",
   "metadata": {},
   "source": [
    "## Problem One"
   ]
  },
  {
   "cell_type": "markdown",
   "metadata": {},
   "source": [
    "There are two links going from an origin to a destination.  Travel time on the link $i$ is a function of flow on that link $q_i$.  The functions are:\n",
    "\n",
    "$$t_1(q_1)=t_{f,1}+\\left(\\frac{q_1}{\\theta_1}\\right)^2$$\n",
    "\n",
    "$$t_2(q_2)=t_{f,2}+\\left(\\frac{q_2}{\\theta_2}\\right)$$\n",
    "\n",
    "The total flow on both links is $Q$.\n",
    "\n",
    "Assume that $t_{f,1}\\lt t_{f,2}$.  To solve these problems you will have to recall the quadratic formula."
   ]
  },
  {
   "cell_type": "markdown",
   "metadata": {},
   "source": [
    "Recall, the quadratic formula for $ax^2+bx+c=0$ is:\n",
    "\n",
    "$$x=\\frac{-b\\pm\\sqrt{b^2-4ac}}{2a}$$"
   ]
  },
  {
   "cell_type": "markdown",
   "metadata": {},
   "source": [
    "### Part a)\n",
    "\n",
    "Derive, in terms of the given parameters, the equilibrium flow on both links.  Assume that $Q$ is large enough that there is some flow on both."
   ]
  },
  {
   "cell_type": "markdown",
   "metadata": {},
   "source": [
    "Let $q_1+q_2=Q$.\n",
    "\n",
    "Because $Q$ is large, we skip the first two steps of the algorithm and set:\n",
    "\n",
    "$$t_1(q_1)=t_2(q_2)=t_2(Q-q_1)$$"
   ]
  },
  {
   "cell_type": "markdown",
   "metadata": {},
   "source": [
    "$$t_{f,1}+\\left(\\frac{q_1}{\\theta_1}\\right)^2=t_{f,2}+\\left(\\frac{q_2}{\\theta_2}\\right)$$\n",
    "\n",
    "$$\\therefore \\left(\\frac{q_1}{\\theta_1}\\right)^2-\\left(\\frac{q_2}{\\theta_2}\\right)+t_{f,1}-t_{f,2}=0$$"
   ]
  },
  {
   "cell_type": "markdown",
   "metadata": {},
   "source": [
    "Applying the quadratic formula, let:\n",
    "\n",
    "$$a=\\frac{1}{\\theta_1^2}$$\n",
    "\n",
    "$$b=\\frac{1}{\\theta_2}$$\n",
    "\n",
    "$$c=-\\frac{Q}{\\theta_2}+t_{f,1}-t_{f,2}$$"
   ]
  },
  {
   "cell_type": "markdown",
   "metadata": {},
   "source": [
    "$$q_1=\\frac{-\\frac{1}{\\theta_2}\\pm \\sqrt{\\left(\\frac{1}{\\theta_2}\\right)^2-4\\left(\\frac{1}{\\theta_1^2}\\right)\\left(-\\frac{Q}{\\theta_2}+t_{f,1}-t_{f,2}\\right)}}{2\\left(\\frac{1}{\\theta_1^2}\\right)}$$"
   ]
  },
  {
   "cell_type": "markdown",
   "metadata": {},
   "source": [
    "This can be cleaned up a bit to\n",
    "\n",
    "$$\\boxed{\\boxed{q_1=\\frac{\\theta_1^2}{2} \\left[ -\\frac{1}{\\theta_2} \\pm \\sqrt{\\frac{1}{\\theta_2} - \\frac{4\\left( t_{f,1}-t_{f,2} - \\frac{Q}{\\theta_2} \\right)}{\\theta_1^2}} \\right]}}$$"
   ]
  },
  {
   "cell_type": "markdown",
   "metadata": {},
   "source": [
    "### Part b)\n",
    "\n",
    "What is the lowest value of $Q$ such that, in equilibrium, some people use both links instead of just 1?"
   ]
  },
  {
   "cell_type": "markdown",
   "metadata": {},
   "source": [
    "Per the algorithm in the course notes, all travel will be assigned to one link if allocation of all travel to that link results in a trave time lower than the other link with zero allocation."
   ]
  },
  {
   "cell_type": "markdown",
   "metadata": {},
   "source": [
    "$$t_1(q_1)=t_{f,1}+\\left(\\frac{q_1}{\\theta_1}\\right)^2$$\n",
    "\n",
    "$$t_2(q_2)=t_{f,2}+\\left(\\frac{q_2}{\\theta_2}\\right)$$\n",
    "\n",
    "Per the assignment prompt, $t_{f,1}\\lt t_{f,2}$.  I also assume that $\\theta_1$ is small relative to $q_1$, otherwise increasing $q_1$ could actually decrease travel times.  Because $t_{f,1}\\lt t_{f,2}$, people would use only link one until the differential in time is made up by the variable travel time, as in the initial case the travel time $t_{f,1}+\\left(\\frac{q_1}{\\theta_1}\\right)^2 \\lt t_{f,2}$.\n",
    "\n",
    "As such, we can solve for where $Q=q_1+0$ such that:\n",
    "\n",
    "$$t_{f,1}+\\left( \\frac{q_1}{\\theta_1} \\right)^2 - t_{f,2}=0$$"
   ]
  },
  {
   "cell_type": "markdown",
   "metadata": {},
   "source": [
    "Again applying the quadratic formula,\n",
    "\n",
    "$$a=\\frac{1}{\\theta_1^2}$$\n",
    "\n",
    "$$b=0$$\n",
    "\n",
    "$$c=t_{f,1}-t_{f,2}$$"
   ]
  },
  {
   "cell_type": "markdown",
   "metadata": {},
   "source": [
    "$$\\boxed{\\boxed{Q^*=q_1=\\frac{\\pm\\sqrt{-4\\left(\\frac{1}{\\theta_1^2}\\right)\\left(t_{f,1}-t_{f,2}\\right)}}{2\\left(\\frac{1}{\\theta_1^2}\\right)}}}$$"
   ]
  },
  {
   "cell_type": "markdown",
   "metadata": {},
   "source": [
    "### Part c)\n",
    "\n",
    "Derive expressions for the marginal social cost of travel on each link."
   ]
  },
  {
   "cell_type": "markdown",
   "metadata": {},
   "source": [
    "Per the course notes, marginal social cost is defined as:\n",
    "\n",
    "$$msc_i(q_i)=\\frac{d}{dq_i}(q_it_i(q_i)) = t_i(q_i)+q_i\\frac{dt_i(q_i)}{dq_i}$$"
   ]
  },
  {
   "cell_type": "markdown",
   "metadata": {},
   "source": [
    "For $msc_1(q_1)$, \n",
    "\n",
    "$$\\frac{dt_1(q_1)}{dq_1}=\\frac{2q_1}{\\theta_1^2}$$\n",
    "\n",
    "$$\\therefore \\boxed{\\boxed{msc_1(q_1)=t_{f,1}+\\left(\\frac{q_1}{\\theta_1}\\right)^2+\\frac{2q_1}{\\theta_1^2}}}$$"
   ]
  },
  {
   "cell_type": "markdown",
   "metadata": {},
   "source": [
    "For $msc_2(q_2)$, \n",
    "\n",
    "$$\\frac{dt_2(q_2)}{dq_2}=\\frac{1}{\\theta_2}$$\n",
    "\n",
    "$$\\therefore \\boxed{\\boxed{msc_2(q_2)=t_{f,2}+\\left(\\frac{q_2}{\\theta_2}\\right)+\\frac{1}{\\theta_2}}}$$"
   ]
  },
  {
   "cell_type": "markdown",
   "metadata": {},
   "source": [
    "### Part d)\n",
    "\n",
    "Derive the socially optimal flow on each link in terms of the given parameters."
   ]
  },
  {
   "cell_type": "markdown",
   "metadata": {},
   "source": [
    "Per the course notes, at the scoial optimum $msc_1(q_1)=msc_2(q_2)$ where:\n",
    "\n",
    "$$t_{f,1}+\\left(\\frac{q_1}{\\theta_1}\\right)^2+\\frac{2q_1}{\\theta_1^2}=t_{f,2}+\\left(\\frac{q_2}{\\theta_2}\\right)+\\frac{1}{\\theta_2}$$\n",
    "\n",
    "Substituting $q_2=Q-q_1$ and setting equal to zero,\n",
    "\n",
    "$$t_{f,1}+\\left(\\frac{q_1}{\\theta_1}\\right)^2+\\frac{2q_1}{\\theta_1^2}-t_{f,2}-\\left(\\frac{Q-q_1}{\\theta_2}\\right)-\\frac{1}{\\theta_2}=0$$"
   ]
  },
  {
   "cell_type": "markdown",
   "metadata": {},
   "source": [
    "Again applying the quadratic formula, we set:\n",
    "\n",
    "$$a=\\left(\\frac{1}{\\theta_1^2}\\right)$$\n",
    "\n",
    "$$b=\\left( \\frac{2}{\\theta_1^2} + \\frac{1}{\\theta_2} \\right)$$\n",
    "\n",
    "$$c=\\left(t_{f,1}-t_{f,2}-\\left( \\frac{1}{\\theta_2}\\left( Q+1 \\right) \\right)\\right)$$\n",
    "\n",
    "Plugging into the quadratic formula, we find that\n",
    "\n",
    "$$\\boxed{\\boxed{q_1^*=\\frac{-\\left( \\frac{2}{\\theta_1^2} + \\frac{1}{\\theta_2} \\right)\\pm\\sqrt{\\left( \\frac{2}{\\theta_1^2} + \\frac{1}{\\theta_2} \\right)^2-4\\left(\\frac{1}{\\theta_1^2}\\right)\\left(t_{f,1}-t_{f,2}-\\left( \\frac{1}{\\theta_2}\\left( Q+1 \\right) \\right)\\right)}}{2\\left(\\frac{1}{\\theta_1^2}\\right)}}}$$\n",
    "\n",
    "and \n",
    "\n",
    "$$\\boxed{\\boxed{q_2^*=Q-q_1^*}}$$"
   ]
  },
  {
   "cell_type": "markdown",
   "metadata": {},
   "source": [
    "### Part e)\n",
    "\n",
    "What is the minimal optimal toll (in terms of travel time) and which link should it be imposed on?"
   ]
  },
  {
   "cell_type": "markdown",
   "metadata": {},
   "source": [
    "Per the course notes, you need to impose a toll $\\tau$ on link 1 (because $t_{f,1} \\lt t_{f,2}$) of\n",
    "\n",
    "$$\\mu\\left( t_2(Q-q_1^*) - t_1(q_1^*) \\right)$$\n",
    "\n",
    "Where $\\mu$ can be neglected because the problem asks for the toll in terms of travel time."
   ]
  },
  {
   "cell_type": "markdown",
   "metadata": {},
   "source": [
    "$$\\tau_1$$"
   ]
  },
  {
   "cell_type": "markdown",
   "metadata": {},
   "source": [
    "$$t_1(q_1)=t_{f,1}+\\left(\\frac{q_1}{\\theta_1}\\right)^2$$\n",
    "\n",
    "$$t_2(q_2)=t_{f,2}+\\left(\\frac{q_2}{\\theta_2}\\right)$$\n",
    "\n",
    "$$q_1^*=\\frac{-\\left( \\frac{2}{\\theta_1^2} + \\frac{1}{\\theta_2} \\right)\\pm\\sqrt{\\left( \\frac{2}{\\theta_1^2} + \\frac{1}{\\theta_2} \\right)^2-4\\left(\\frac{1}{\\theta_1^2}\\right)\\left(t_{f,1}-t_{f,2}-\\left( \\frac{1}{\\theta_2}\\left( Q+1 \\right) \\right)\\right)}}{2\\left(\\frac{1}{\\theta_1^2}\\right)}$$\n",
    "\n",
    "$$q_2^*=Q-q_1^*$$"
   ]
  },
  {
   "cell_type": "code",
   "execution_count": null,
   "metadata": {},
   "outputs": [],
   "source": []
  }
 ],
 "metadata": {
  "kernelspec": {
   "display_name": "Python 3.7.6 64-bit ('phd': conda)",
   "language": "python",
   "name": "python37664bitphdcondab24623704836426aa66db115e96068bb"
  },
  "language_info": {
   "codemirror_mode": {
    "name": "ipython",
    "version": 3
   },
   "file_extension": ".py",
   "mimetype": "text/x-python",
   "name": "python",
   "nbconvert_exporter": "python",
   "pygments_lexer": "ipython3",
   "version": "3.7.6"
  }
 },
 "nbformat": 4,
 "nbformat_minor": 4
}
