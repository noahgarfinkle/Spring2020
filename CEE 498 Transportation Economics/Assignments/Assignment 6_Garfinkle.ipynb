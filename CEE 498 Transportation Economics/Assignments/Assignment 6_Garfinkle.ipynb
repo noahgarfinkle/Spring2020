{
 "cells": [
  {
   "cell_type": "markdown",
   "metadata": {},
   "source": [
    "# CEE 498: Transportation Economics\n",
    "## Assignment Six: Monocentric City Model\n",
    "### Noah Garfinkle (garfink2@illinois edu)\n",
    "### 29 April 2020"
   ]
  },
  {
   "cell_type": "code",
   "execution_count": 4,
   "metadata": {},
   "outputs": [],
   "source": [
    "import numpy as np\n",
    "import matplotlib.pyplot as plt\n",
    "import seaborn as sns"
   ]
  },
  {
   "cell_type": "markdown",
   "metadata": {},
   "source": [
    "Consider a monocentric city in which the cost of commuting to the city center is given by $tx$, where $x$ is the distance to the city center and $t$ is the cost of travel per unit distance.  Residents are all the same and have utility functions given by\n",
    "\n",
    "$$u(h,z)=h^\\alpha z^{1-\\alpha}$$\n",
    "\n",
    "where $h$ is the floorspace per resident, $z$ is consumption of the numeraire and $\\alpha$ is a parameter such that $0<\\alpha<1$.  In equilibrium, every resident achieves the same utility $\\bar{u}$.\n",
    "\n",
    "Developers build on the land by building floorspace, $f$. The cost of building $f$ floorspace on 1 unit area of land is\n",
    "\n",
    "$$TC(f)=cf^{\\frac{1}{\\beta}}$$\n",
    "\n",
    "where $0<\\beta<1$."
   ]
  },
  {
   "cell_type": "code",
   "execution_count": 49,
   "metadata": {},
   "outputs": [],
   "source": [
    "u = 3.0\n",
    "α = 0.45\n",
    "β = 2.0/3.0\n",
    "πa = 1.0\n",
    "c = 0.6\n",
    "t = 0.25\n",
    "Y = 10.0"
   ]
  },
  {
   "cell_type": "code",
   "execution_count": 50,
   "metadata": {},
   "outputs": [],
   "source": [
    "xs = np.linspace(0,35,100)"
   ]
  },
  {
   "cell_type": "markdown",
   "metadata": {},
   "source": [
    "## Problem One"
   ]
  },
  {
   "cell_type": "markdown",
   "metadata": {},
   "source": [
    "Derive symbolic expressions for the following functions in equilibrium, for the developed part of the city. Reduce the functions as much as possible."
   ]
  },
  {
   "cell_type": "markdown",
   "metadata": {},
   "source": [
    "### (a) $\\bar{p}(x)$, the equilibrium price of one unit of floorspace at $x$."
   ]
  },
  {
   "cell_type": "markdown",
   "metadata": {},
   "source": [
    "Assume, per the course lecture, that the budget constraint is \n",
    "\n",
    "$$Y-tx=hp(x)+z$$\n",
    "\n",
    "If we accept that every resident achieves the same utility, then we can solve for $\\bar{p}(x)$ by substituting the budget constriant into the utility function and solving for the first order condition.\n",
    "\n",
    "$$u(h,Y-tx-ph)=h^\\alpha(Y-tx-ph)^{1-\\alpha}$$\n",
    "\n",
    "We now chose $h$ to maximize utility conditional on $p$ and $x$.\n",
    "\n",
    "$$\\frac{\\delta u}{\\delta h} = 0$$\n",
    "\n",
    "$$\\therefore ph^*=\\alpha(Y-tx)$$\n",
    "\n",
    "$$\\therefore h^* = \\frac{\\alpha(Y-tx)}{p}$$\n",
    "\n",
    "We can now plug $h^*$ back into the constant utility function, such that\n",
    "\n",
    "$$u(h^*,Y-tx-ph)=\\frac{\\alpha(Y-tx)}{p}^\\alpha(Y-tx-p\\left(\\frac{\\alpha(Y-tx)}{p}\\right))^{1-\\alpha}$$\n",
    "\n",
    "$$p_{equilibrium}=\\left[\\frac{\\phi(Y-tx)}{\\bar{u}}\\right]^{\\frac{1}{\\alpha}}$$\n",
    "\n",
    "where $\\phi=\\alpha^\\alpha(1-\\alpha)^{1-\\alpha}$"
   ]
  },
  {
   "cell_type": "code",
   "execution_count": 7,
   "metadata": {},
   "outputs": [],
   "source": [
    "def p(x,α,Y,t,u):\n",
    "    ϕ = np.power(α,α) * np.power((1 - α),(1 - α))\n",
    "    toReturn = np.power(ϕ*(Y-t*x)/u,1.0/α)\n",
    "    return toReturn"
   ]
  },
  {
   "cell_type": "code",
   "execution_count": 52,
   "metadata": {},
   "outputs": [
    {
     "data": {
      "text/plain": [
       "Text(0.5, 1.0, '$\\\\bar{p}(x)$')"
      ]
     },
     "execution_count": 52,
     "metadata": {},
     "output_type": "execute_result"
    },
    {
     "data": {
      "image/png": "[encoded data removed]",
      "text/plain": [
       "<Figure size 720x360 with 1 Axes>"
      ]
     },
     "metadata": {
      "needs_background": "light"
     },
     "output_type": "display_data"
    }
   ],
   "source": [
    "ps = [p(x,α,Y,t,u) for x in xs]\n",
    "fig,ax = plt.subplots(figsize=(10,5))\n",
    "ax.plot(xs,ps,label=\"Willingness to Pay\")\n",
    "ax.axhline(0.0,ls=\"--\")\n",
    "ax.legend()\n",
    "ax.set_xlabel(\"$x$\")\n",
    "ax.set_ylabel(\"$p$\")\n",
    "ax.set_title(\"$\\\\bar{p}(x)$\")"
   ]
  },
  {
   "cell_type": "markdown",
   "metadata": {},
   "source": [
    "### (b) $\\bar{h}(x)$, the equilibrium size of a housing unit at $x$."
   ]
  },
  {
   "cell_type": "markdown",
   "metadata": {},
   "source": [
    "The bid rent can be used to determine house size. Per our previous analyses,\n",
    "\n",
    "$$\\therefore h^* = \\frac{\\alpha(Y-tx)}{p}$$\n",
    "\n",
    "and\n",
    "\n",
    "$$p_{equilibrium}=\\left[\\frac{\\phi(Y-tx)}{\\bar{u}}\\right]^{\\frac{1}{\\alpha}}$$\n",
    "\n",
    "where $\\phi=\\alpha^\\alpha(1-\\alpha)^{1-\\alpha}$"
   ]
  },
  {
   "cell_type": "markdown",
   "metadata": {},
   "source": [
    "As such, \n",
    "\n",
    "$$\\bar{h} = \\frac{\\alpha(Y-tx)}{\\left[\\frac{\\phi(Y-tx)}{\\bar{u}}\\right]^{\\frac{1}{\\alpha}}}$$\n"
   ]
  },
  {
   "cell_type": "code",
   "execution_count": 20,
   "metadata": {},
   "outputs": [],
   "source": [
    "def h(x,α,Y,t,u):\n",
    "    toReturn = α * (Y-t*x)\n",
    "    toReturn /= p(x,α,Y,t,u)\n",
    "    return toReturn"
   ]
  },
  {
   "cell_type": "code",
   "execution_count": 53,
   "metadata": {},
   "outputs": [
    {
     "data": {
      "text/plain": [
       "Text(0.5, 1.0, '$\\\\bar{h}(x)$')"
      ]
     },
     "execution_count": 53,
     "metadata": {},
     "output_type": "execute_result"
    },
    {
     "data": {
      "image/png": "[encoded data removed]",
      "text/plain": [
       "<Figure size 720x360 with 1 Axes>"
      ]
     },
     "metadata": {
      "needs_background": "light"
     },
     "output_type": "display_data"
    }
   ],
   "source": [
    "hs = [h(x,α,Y,t,u) for x in xs]\n",
    "fig,ax = plt.subplots(figsize=(10,5))\n",
    "ax.plot(xs,hs,label=\"Equilibrium Housing Size\")\n",
    "ax.axhline(0.0,ls=\"--\")\n",
    "ax.legend()\n",
    "ax.set_xlabel(\"$x$\")\n",
    "ax.set_ylabel(\"$h$\")\n",
    "ax.set_title(\"$\\\\bar{h}(x)$\")"
   ]
  },
  {
   "cell_type": "markdown",
   "metadata": {},
   "source": [
    "### (c) $\\bar{f}(x)$, the equilibrium density of floorspace at $x$ (the floorspace built per unit of land)."
   ]
  },
  {
   "cell_type": "markdown",
   "metadata": {},
   "source": [
    "$$TC(f)=cf^{\\frac{1}{\\beta}}$$\n",
    "\n",
    "\n",
    "Per the course lecture, take the derivitive to calculate marginal cost, and set this equal to the bid rent at that location. \n",
    "\n",
    "$$\\pi=fp-cf^{\\frac{1}{\\beta}}$$\n",
    "\n",
    "Set $\\frac{\\delta\\pi}{\\delta f}=0$\n",
    "\n",
    "$$\\therefore f^*=\\left( \\frac{p_{equilibrium}\\beta}{c} \\right)^{\\frac{\\beta}{1-\\beta}}$$\n",
    "\n",
    "We can then substitute our bid rent found in part a to find the equilibrium floor space at a location $x$. \n",
    "\n",
    "$$p_{equilibrium}=\\left[\\frac{\\phi(Y-tx)}{\\bar{u}}\\right]^{\\frac{1}{\\alpha}}$$\n",
    "\n",
    "where $\\phi=\\alpha^\\alpha(1-\\alpha)^{1-\\alpha}$"
   ]
  },
  {
   "cell_type": "code",
   "execution_count": 42,
   "metadata": {},
   "outputs": [],
   "source": [
    "def f(x,α,Y,t,u,β,c):\n",
    "    toReturn = np.power(p(x,α,Y,t,u)*β/c,β/(1-β))\n",
    "    return toReturn"
   ]
  },
  {
   "cell_type": "code",
   "execution_count": 55,
   "metadata": {},
   "outputs": [
    {
     "data": {
      "text/plain": [
       "Text(0.5, 1.0, '$\\\\bar{f}(x)$')"
      ]
     },
     "execution_count": 55,
     "metadata": {},
     "output_type": "execute_result"
    },
    {
     "data": {
      "image/png": "[encoded data removed]",
      "text/plain": [
       "<Figure size 720x360 with 1 Axes>"
      ]
     },
     "metadata": {
      "needs_background": "light"
     },
     "output_type": "display_data"
    }
   ],
   "source": [
    "fs = [f(x,α,Y,t,u,β,c) for x in xs]\n",
    "fig,ax = plt.subplots(figsize=(10,5))\n",
    "ax.plot(xs,fs,label=\"Floorspace Investment\")\n",
    "ax.axhline(0.0,ls=\"--\")\n",
    "ax.legend()\n",
    "ax.set_xlabel(\"$x$\")\n",
    "ax.set_ylabel(\"$f$\")\n",
    "ax.set_title(\"$\\\\bar{f}(x)$\")"
   ]
  },
  {
   "cell_type": "markdown",
   "metadata": {},
   "source": [
    "### (d) $\\bar{d}(x)$, the equilibrium population density at $x$."
   ]
  },
  {
   "cell_type": "markdown",
   "metadata": {},
   "source": [
    "We can approach this by dividing the density of floorspace by the house size, such that\n",
    "\n",
    "$$\\bar{d}(x) = \\frac{\\left( \\frac{p_{equilibrium}\\beta}{c} \\right)^{\\frac{\\beta}{1-\\beta}}}{\\frac{\\alpha(Y-tx)}{p_{equilibrium}}}$$\n",
    "\n",
    "$$\\therefore \\bar{d}(x) = \\frac{p_{equilibrium}\\left( \\frac{p_{equilibrium}\\beta}{c} \\right)^{\\frac{\\beta}{1-\\beta}}}{\\alpha(Y-tx)}$$\n"
   ]
  },
  {
   "cell_type": "code",
   "execution_count": 43,
   "metadata": {},
   "outputs": [],
   "source": [
    "def d(x,α,Y,t,u,β,c):\n",
    "    toReturn = p(x,α,Y,t,u) * np.power(p(x,α,Y,t,u)*β/c,β/(1.0-β))\n",
    "    toReturn /= α*(Y-t*x)\n",
    "    return toReturn"
   ]
  },
  {
   "cell_type": "code",
   "execution_count": 57,
   "metadata": {},
   "outputs": [
    {
     "data": {
      "text/plain": [
       "Text(0.5, 1.0, '$\\\\bar{d}(x)$')"
      ]
     },
     "execution_count": 57,
     "metadata": {},
     "output_type": "execute_result"
    },
    {
     "data": {
      "image/png": "[encoded data removed]",
      "text/plain": [
       "<Figure size 720x360 with 1 Axes>"
      ]
     },
     "metadata": {
      "needs_background": "light"
     },
     "output_type": "display_data"
    }
   ],
   "source": [
    "ds = [d(x,α,Y,t,u,β,c) for x in xs]\n",
    "fig,ax = plt.subplots(figsize=(10,5))\n",
    "ax.plot(xs,ds,label=\"Population Density\")\n",
    "ax.axhline(0.0,ls=\"--\")\n",
    "ax.legend()\n",
    "ax.set_xlabel(\"$x$\")\n",
    "ax.set_ylabel(\"$d$\")\n",
    "ax.set_title(\"$\\\\bar{d}(x)$\")"
   ]
  },
  {
   "cell_type": "markdown",
   "metadata": {},
   "source": [
    "### (e) $\\bar{\\pi}(x)$, the equilibrium profit per unit of land at $x$."
   ]
  },
  {
   "cell_type": "markdown",
   "metadata": {},
   "source": [
    "$$\\pi=\\bar{f}\\bar{p}-c\\bar{f}^{\\frac{1}{\\beta}}$$\n",
    "\n",
    "where $f$ and $p$ are both functions of of $x$."
   ]
  },
  {
   "cell_type": "markdown",
   "metadata": {},
   "source": [
    "$$\\bar{f}=\\left( \\frac{p_{equilibrium}\\beta}{c} \\right)^{\\frac{\\beta}{1-\\beta}}$$\n",
    "\n",
    "$$\\bar{p}=\\left[\\frac{\\phi(Y-tx)}{\\bar{u}}\\right]^{\\frac{1}{\\alpha}}$$\n",
    "\n",
    "where $\\phi=\\alpha^\\alpha(1-\\alpha)^{1-\\alpha}$"
   ]
  },
  {
   "cell_type": "code",
   "execution_count": 48,
   "metadata": {},
   "outputs": [],
   "source": [
    "def π(x,α,Y,t,u,β,c):\n",
    "    toReturn = f(x,α,Y,t,u,β,c) * p(x,α,Y,t,u) - c * np.power(f(x,α,Y,t,u,β,c),1.0/β)\n",
    "    return toReturn"
   ]
  },
  {
   "cell_type": "code",
   "execution_count": 59,
   "metadata": {},
   "outputs": [
    {
     "data": {
      "text/plain": [
       "Text(0.5, 1.0, '$\\\\bar{\\\\pi}(x)$')"
      ]
     },
     "execution_count": 59,
     "metadata": {},
     "output_type": "execute_result"
    },
    {
     "data": {
      "image/png": "[encoded data removed]",
      "text/plain": [
       "<Figure size 720x360 with 1 Axes>"
      ]
     },
     "metadata": {
      "needs_background": "light"
     },
     "output_type": "display_data"
    }
   ],
   "source": [
    "πs = [π(x,α,Y,t,u,β,c) for x in xs]\n",
    "fig,ax = plt.subplots(figsize=(10,5))\n",
    "ax.plot(xs,πs,label=\"Equilibrium Profit\")\n",
    "ax.axhline(0.0,ls=\"--\")\n",
    "ax.legend()\n",
    "ax.set_xlabel(\"$x$\")\n",
    "ax.set_ylabel(\"$\\pi$\")\n",
    "ax.set_title(\"$\\\\bar{\\pi}(x)$\")"
   ]
  },
  {
   "cell_type": "markdown",
   "metadata": {},
   "source": [
    "## Problem Two"
   ]
  },
  {
   "cell_type": "markdown",
   "metadata": {},
   "source": [
    "For this question you will have to numerically solve the model. Suppose that the parameters have the values:\n",
    "- $\\bar{u}=3$\n",
    "- $\\alpha=0.45$\n",
    "- $\\beta=\\frac{2}{3}$\n",
    "- $\\pi_\\alpha=1$\n",
    "- $c=0.6$\n",
    "- $t=0.25$\n",
    "- $Y=10$"
   ]
  },
  {
   "cell_type": "markdown",
   "metadata": {},
   "source": [
    "### (a) How far does the city extend? That is, what is the distance $x_a$ where development ends?"
   ]
  },
  {
   "cell_type": "markdown",
   "metadata": {},
   "source": [
    "Per the course lecture, \"the city will extend from $x=0$ to $x_a$ where $\\bar{\\pi}(x_a)=\\pi_a$."
   ]
  },
  {
   "cell_type": "code",
   "execution_count": null,
   "metadata": {},
   "outputs": [],
   "source": []
  },
  {
   "cell_type": "markdown",
   "metadata": {},
   "source": [
    "### (b) What is the equilibrium population of the city?"
   ]
  },
  {
   "cell_type": "markdown",
   "metadata": {},
   "source": [
    "$$\\int_0^{x_a}{\\frac{\\bar{f}(x)}{\\bar{h}(x)}2 \\pi x \\delta x}$$\n",
    "\n",
    "Note- The circumference of rings is $2\\pi x$, please do not read this $\\pi$ as profit."
   ]
  },
  {
   "cell_type": "code",
   "execution_count": null,
   "metadata": {},
   "outputs": [],
   "source": []
  }
 ],
 "metadata": {
  "kernelspec": {
   "display_name": "Python 3.7.6 64-bit ('phd': conda)",
   "language": "python",
   "name": "python37664bitphdcondab24623704836426aa66db115e96068bb"
  },
  "language_info": {
   "codemirror_mode": {
    "name": "ipython",
    "version": 3
   },
   "file_extension": ".py",
   "mimetype": "text/x-python",
   "name": "python",
   "nbconvert_exporter": "python",
   "pygments_lexer": "ipython3",
   "version": "3.7.6"
  }
 },
 "nbformat": 4,
 "nbformat_minor": 4
}
