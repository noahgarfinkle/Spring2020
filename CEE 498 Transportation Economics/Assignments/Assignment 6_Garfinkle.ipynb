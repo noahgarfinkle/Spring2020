{
 "cells": [
  {
   "cell_type": "markdown",
   "metadata": {},
   "source": [
    "# CEE 498: Transportation Economics\n",
    "## Assignment Six: Monocentric City Model\n",
    "### Noah Garfinkle (garfink2@illinois edu)\n",
    "### 29 April 2020"
   ]
  },
  {
   "cell_type": "markdown",
   "metadata": {},
   "source": [
    "Consider a monocentric city in which the cost of commuting to the city center is given by $tx$, where $x$ is the distance to the city center and $t$ is the cost of travel per unit distance.  Residents are all the same and have utility functions given by\n",
    "\n",
    "$$u(h,z)=h^\\alpha z^{1-\\alpha}$$\n",
    "\n",
    "where $h$ is the floorspace per resident, $z$ is consumption of the numeraire and $\\alpha$ is a parameter such that $0<\\alpha<1$.  In equilibrium, every resident achieves the same utility $\\bar{u}$.\n",
    "\n",
    "Developers build on the land by building floorspace, $f$. The cost of building $f$ floorspace on 1 unit area of land is\n",
    "\n",
    "$$TC(f)=cf^{\\frac{1}{\\beta}}$$\n",
    "\n",
    "where $0<\\beta<1$."
   ]
  },
  {
   "cell_type": "code",
   "execution_count": null,
   "metadata": {},
   "outputs": [],
   "source": []
  }
 ],
 "metadata": {
  "kernelspec": {
   "display_name": "Python 3.7.6 64-bit ('phd': conda)",
   "language": "python",
   "name": "python37664bitphdcondab24623704836426aa66db115e96068bb"
  },
  "language_info": {
   "codemirror_mode": {
    "name": "ipython",
    "version": 3
   },
   "file_extension": ".py",
   "mimetype": "text/x-python",
   "name": "python",
   "nbconvert_exporter": "python",
   "pygments_lexer": "ipython3",
   "version": "3.7.6"
  }
 },
 "nbformat": 4,
 "nbformat_minor": 4
}
