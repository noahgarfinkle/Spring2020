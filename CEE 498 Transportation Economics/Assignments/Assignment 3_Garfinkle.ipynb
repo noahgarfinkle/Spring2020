{
 "cells": [
  {
   "cell_type": "markdown",
   "metadata": {},
   "source": [
    "# CEE 498: Transportation Economics\n",
    "\n",
    "## Assignment Three: Operator Objectives\n",
    "\n",
    "Noah Garfinkle (garfink2@illinois.edu)\n",
    "\n",
    "13 February 2020"
   ]
  },
  {
   "cell_type": "markdown",
   "metadata": {},
   "source": [
    "# Imports and Setup"
   ]
  },
  {
   "cell_type": "code",
   "execution_count": 1,
   "metadata": {},
   "outputs": [],
   "source": [
    "import numpy as np\n",
    "import matplotlib.pyplot as plt\n",
    "import seaborn as sns\n",
    "from scipy.optimize import root_scalar #this works only for scalar functions\n",
    "from scipy.optimize import minimize\n",
    "import sympy as sy"
   ]
  },
  {
   "cell_type": "markdown",
   "metadata": {},
   "source": [
    "# Problem 1\n",
    "\n",
    "Ridership, $Q$, on a bus line is given by\n",
    "\n",
    "$$\n",
    "Q=e^{\\alpha-\\beta P-\\frac{\\gamma}{f}}\n",
    "$$\n",
    "\n",
    "Where $\\alpha=4$, $\\beta=0.25$, and $\\gamma=4$.\n",
    "You have to cover fixed costs $F=5$.  The cost of frequency is $c_f=3$."
   ]
  },
  {
   "cell_type": "code",
   "execution_count": null,
   "metadata": {},
   "outputs": [],
   "source": []
  },
  {
   "cell_type": "markdown",
   "metadata": {},
   "source": [
    "## Part a\n",
    "\n",
    "Derive and calculate values for $P$, $Q$, and $f$ which maximize ridership."
   ]
  },
  {
   "cell_type": "code",
   "execution_count": 6,
   "metadata": {},
   "outputs": [],
   "source": [
    "def budgetConstraint_λ(λ,γ=4.0,β=0.25,α=4.0,cf=3.0,F=5.0):\n",
    "    term1 = -1/np.power(λ,2)\n",
    "    term2 = β/np.power(λ,3)\n",
    "    term3 = -1*cf*np.sqrt((γ/(cf*λ))*(1-β/λ))\n",
    "    bc = term1 + term2 + term3 - F\n",
    "    return bc"
   ]
  },
  {
   "cell_type": "code",
   "execution_count": 8,
   "metadata": {},
   "outputs": [
    {
     "name": "stderr",
     "output_type": "stream",
     "text": [
      "C:\\Users\\Noah\\Anaconda3\\lib\\site-packages\\ipykernel_launcher.py:2: RuntimeWarning: divide by zero encountered in double_scalars\n",
      "  \n",
      "C:\\Users\\Noah\\Anaconda3\\lib\\site-packages\\ipykernel_launcher.py:3: RuntimeWarning: divide by zero encountered in double_scalars\n",
      "  This is separate from the ipykernel package so we can avoid doing imports until\n",
      "C:\\Users\\Noah\\Anaconda3\\lib\\site-packages\\ipykernel_launcher.py:4: RuntimeWarning: divide by zero encountered in double_scalars\n",
      "  after removing the cwd from sys.path.\n",
      "C:\\Users\\Noah\\Anaconda3\\lib\\site-packages\\ipykernel_launcher.py:4: RuntimeWarning: invalid value encountered in sqrt\n",
      "  after removing the cwd from sys.path.\n",
      "C:\\Users\\Noah\\Anaconda3\\lib\\site-packages\\ipykernel_launcher.py:5: RuntimeWarning: invalid value encountered in double_scalars\n",
      "  \"\"\"\n"
     ]
    },
    {
     "data": {
      "text/plain": [
       "[<matplotlib.lines.Line2D at 0x208d4c97828>]"
      ]
     },
     "execution_count": 8,
     "metadata": {},
     "output_type": "execute_result"
    },
    {
     "data": {
      "image/png": "[encoded data removed]",
      "text/plain": [
       "<Figure size 720x720 with 1 Axes>"
      ]
     },
     "metadata": {
      "needs_background": "light"
     },
     "output_type": "display_data"
    }
   ],
   "source": [
    "λs = np.linspace(0,1,100)\n",
    "bcs = [budgetConstraint_λ(λ) for λ in λs]\n",
    "fig,ax = plt.subplots(figsize=(10,10))\n",
    "ax.plot(λs,bcs)"
   ]
  },
  {
   "cell_type": "markdown",
   "metadata": {},
   "source": [
    "## Part b\n",
    "\n",
    "Derive and calculate values for $P$, $Q$, and $f$ which maximize frequency."
   ]
  },
  {
   "cell_type": "code",
   "execution_count": null,
   "metadata": {},
   "outputs": [],
   "source": []
  },
  {
   "cell_type": "markdown",
   "metadata": {},
   "source": [
    "# Problem 2\n",
    "\n",
    "Suppose that the federal government agrees to cover the fixed costs, so $F=0$.  Derive, in terms of $\\alpha$, $\\beta$, $\\gamma$ , and $c$ the value of $f$ at which price is minimized, and the minimum price.\n"
   ]
  },
  {
   "cell_type": "code",
   "execution_count": null,
   "metadata": {},
   "outputs": [],
   "source": []
  }
 ],
 "metadata": {
  "kernelspec": {
   "display_name": "Python 3",
   "language": "python",
   "name": "python3"
  },
  "language_info": {
   "codemirror_mode": {
    "name": "ipython",
    "version": 3
   },
   "file_extension": ".py",
   "mimetype": "text/x-python",
   "name": "python",
   "nbconvert_exporter": "python",
   "pygments_lexer": "ipython3",
   "version": "3.7.3"
  }
 },
 "nbformat": 4,
 "nbformat_minor": 2
}
