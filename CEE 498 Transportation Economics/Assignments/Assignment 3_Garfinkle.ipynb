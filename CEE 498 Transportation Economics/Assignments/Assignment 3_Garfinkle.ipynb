{
 "cells": [
  {
   "cell_type": "markdown",
   "metadata": {},
   "source": [
    "# CEE 498: Transportation Economics\n",
    "\n",
    "## Assignment Three: Operator Objectives\n",
    "\n",
    "Noah Garfinkle (garfink2@illinois.edu)\n",
    "\n",
    "13 February 2020"
   ]
  },
  {
   "cell_type": "markdown",
   "metadata": {},
   "source": [
    "# Imports and Setup"
   ]
  },
  {
   "cell_type": "code",
   "execution_count": 1,
   "metadata": {},
   "outputs": [],
   "source": [
    "import numpy as np\n",
    "import matplotlib.pyplot as plt\n",
    "import seaborn as sns\n",
    "from scipy.optimize import root_scalar #this works only for scalar functions\n",
    "from scipy.optimize import minimize\n",
    "import sympy as sy\n",
    "%matplotlib inline"
   ]
  },
  {
   "cell_type": "markdown",
   "metadata": {},
   "source": [
    "# Problem 1\n",
    "\n",
    "Ridership, $Q$, on a bus line is given by\n",
    "\n",
    "$$\n",
    "Q=e^{\\alpha-\\beta P-\\frac{\\gamma}{f}}\n",
    "$$\n",
    "\n",
    "Where $\\alpha=4$, $\\beta=0.25$, and $\\gamma=4$.\n",
    "You have to cover fixed costs $F=5$.  The cost of frequency is $c_f=3$."
   ]
  },
  {
   "cell_type": "code",
   "execution_count": 2,
   "metadata": {},
   "outputs": [],
   "source": [
    "def Q(P,f,α=4.0,β=0.25,γ=4.0):\n",
    "    q = np.exp(α-β*P-γ/f)\n",
    "    return q"
   ]
  },
  {
   "cell_type": "code",
   "execution_count": 3,
   "metadata": {},
   "outputs": [],
   "source": [
    "def BC(P,f,cf=3.0,F=5.0):\n",
    "    bc = Q(P,f)*P-cf*f-F\n",
    "    return bc"
   ]
  },
  {
   "cell_type": "markdown",
   "metadata": {},
   "source": [
    "## Part a\n",
    "\n",
    "Derive and calculate values for $P$, $Q$, and $f$ which maximize ridership."
   ]
  },
  {
   "cell_type": "code",
   "execution_count": 33,
   "metadata": {},
   "outputs": [],
   "source": [
    "def BC(Q,α=4.0,β=0.25,γ=4.0,cf=3.0,F=5.0):\n",
    "    bc = -F\n",
    "    bc -= np.power(Q*γ/(β*cf),0.5)*cf\n",
    "    bc += 1/β*(α-(np.power(γ,0.5)*np.power(cf,0.5)*np.power(β,0.5)*np.power(Q,-0.5))-np.log(Q))\n",
    "    return bc"
   ]
  },
  {
   "cell_type": "code",
   "execution_count": 37,
   "metadata": {},
   "outputs": [],
   "source": [
    "def BC(Q,α=4.0,β=0.25,γ=4.0,cf=3.0,F=5.0):\n",
    "    bc = Q/β*(α-(np.power(γ,0.5)*np.power(cf,0.5)*np.power(β,0.5))/(np.power(Q,0.5))-np.log(Q)) - cf * np.power(Q*γ/(β*cf),0.5) - F\n",
    "    return bc"
   ]
  },
  {
   "cell_type": "code",
   "execution_count": 42,
   "metadata": {},
   "outputs": [],
   "source": [
    "def fstar(Q,α=4.0,β=0.25,γ=4.0,cf=3.0,F=5.0):\n",
    "    f = np.power(Q*γ/(β*cf),0.5)\n",
    "    return f"
   ]
  },
  {
   "cell_type": "code",
   "execution_count": 43,
   "metadata": {},
   "outputs": [],
   "source": [
    "def pstar(Q,α=4.0,β=0.25,γ=4.0,cf=3.0,F=5.0):\n",
    "    p = 1/β * (α - (np.power(γ,0.5)*np.power(cf,0.5)*np.power(β,0.5))/np.power(Q,0.5) - np.log(Q))\n",
    "    return p"
   ]
  },
  {
   "cell_type": "code",
   "execution_count": 44,
   "metadata": {},
   "outputs": [],
   "source": [
    "def BC(Q,α=4.0,β=0.25,γ=4.0,cf=3.0,F=5.0):\n",
    "    bc = pstar(Q)*Q - cf * fstar(Q) - F\n",
    "    return bc"
   ]
  },
  {
   "cell_type": "code",
   "execution_count": 45,
   "metadata": {},
   "outputs": [],
   "source": [
    "Qs = np.linspace(0.1,10,100)\n",
    "BCs = [BC(Q) for Q in Qs]"
   ]
  },
  {
   "cell_type": "code",
   "execution_count": 46,
   "metadata": {},
   "outputs": [
    {
     "name": "stdout",
     "output_type": "stream",
     "text": [
      "      converged: True\n",
      "           flag: 'converged'\n",
      " function_calls: 7\n",
      "     iterations: 6\n",
      "           root: 1.5860474767024555\n",
      "1.5860474767024555\n",
      "-1.936228954946273e-13\n"
     ]
    }
   ],
   "source": [
    "res = root_scalar(BC,x0=1.5,bracket=(1,2))\n",
    "Qstar = res.root\n",
    "print(res)\n",
    "print(res.root)\n",
    "print(BC(res.root)) #this is about zero"
   ]
  },
  {
   "cell_type": "code",
   "execution_count": 47,
   "metadata": {},
   "outputs": [
    {
     "data": {
      "text/plain": [
       "Text(0, 0.5, 'Budget Constraint')"
      ]
     },
     "execution_count": 47,
     "metadata": {},
     "output_type": "execute_result"
    },
    {
     "data": {
      "image/png": "[encoded data removed]",
      "text/plain": [
       "<Figure size 720x720 with 1 Axes>"
      ]
     },
     "metadata": {
      "needs_background": "light"
     },
     "output_type": "display_data"
    }
   ],
   "source": [
    "fig,ax = plt.subplots(figsize=(10,10))\n",
    "ax.plot(Qs,BCs,label=\"Budget Constraint\")\n",
    "ax.axhline(0,ls=\"--\",alpha=0.5)\n",
    "ax.axvline(res.root,ls=\"--\",alpha=0.5,label=f\"Q*={res.root:,.2f}\")\n",
    "ax.legend()\n",
    "ax.set_title(\"Problem 1a\")\n",
    "ax.set_xlabel(\"Q\")\n",
    "ax.set_ylabel(\"Budget Constraint\")"
   ]
  },
  {
   "cell_type": "code",
   "execution_count": 48,
   "metadata": {},
   "outputs": [
    {
     "data": {
      "text/plain": [
       "2.9084222313389145"
      ]
     },
     "execution_count": 48,
     "metadata": {},
     "output_type": "execute_result"
    }
   ],
   "source": [
    "fstar(Qstar)"
   ]
  },
  {
   "cell_type": "code",
   "execution_count": 49,
   "metadata": {},
   "outputs": [
    {
     "data": {
      "text/plain": [
       "8.653755259932504"
      ]
     },
     "execution_count": 49,
     "metadata": {},
     "output_type": "execute_result"
    }
   ],
   "source": [
    "pstar(Qstar)"
   ]
  },
  {
   "cell_type": "markdown",
   "metadata": {},
   "source": [
    "## Part b\n",
    "\n",
    "Derive and calculate values for $P$, $Q$, and $f$ which maximize frequency."
   ]
  },
  {
   "cell_type": "code",
   "execution_count": 8,
   "metadata": {},
   "outputs": [],
   "source": [
    "f = 2.02\n",
    "Ps = np.linspace(0,10,100)\n",
    "Qs = [Q(P,f) for P in Ps]\n",
    "BCs = [BC(P,f) for P in Ps]"
   ]
  },
  {
   "cell_type": "code",
   "execution_count": 9,
   "metadata": {},
   "outputs": [
    {
     "data": {
      "text/plain": [
       "<matplotlib.lines.Line2D at 0x12cbfe68c08>"
      ]
     },
     "execution_count": 9,
     "metadata": {},
     "output_type": "execute_result"
    },
    {
     "data": {
      "image/png": "[encoded data removed]",
      "text/plain": [
       "<Figure size 720x720 with 1 Axes>"
      ]
     },
     "metadata": {
      "needs_background": "light"
     },
     "output_type": "display_data"
    }
   ],
   "source": [
    "fig,ax = plt.subplots(figsize=(10,10))\n",
    "ax.plot(Qs,Ps,label=\"Demand Curve\")\n",
    "ax.plot(Qs,BCs,label=\"Budget Constraint\")\n",
    "ax.axvline(2.78,label=\"Q*\")\n",
    "ax.axhline(4.0,label=\"P*\")\n",
    "ax.axhline(0.0,label=\"y-intercept\",ls=\"--\",alpha=0.5)"
   ]
  },
  {
   "cell_type": "markdown",
   "metadata": {},
   "source": [
    "# Problem 2\n",
    "\n",
    "Suppose that the federal government agrees to cover the fixed costs, so $F=0$.  Derive, in terms of $\\alpha$, $\\beta$, $\\gamma$ , and $c$ the value of $f$ at which price is minimized, and the minimum price.\n"
   ]
  },
  {
   "cell_type": "code",
   "execution_count": null,
   "metadata": {},
   "outputs": [],
   "source": []
  }
 ],
 "metadata": {
  "kernelspec": {
   "display_name": "Python 3",
   "language": "python",
   "name": "python3"
  },
  "language_info": {
   "codemirror_mode": {
    "name": "ipython",
    "version": 3
   },
   "file_extension": ".py",
   "mimetype": "text/x-python",
   "name": "python",
   "nbconvert_exporter": "python",
   "pygments_lexer": "ipython3",
   "version": "3.7.4"
  }
 },
 "nbformat": 4,
 "nbformat_minor": 4
}
