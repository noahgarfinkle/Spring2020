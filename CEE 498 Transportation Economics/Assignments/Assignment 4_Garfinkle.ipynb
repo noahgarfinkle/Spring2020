{
 "cells": [
  {
   "cell_type": "markdown",
   "metadata": {},
   "source": [
    "# CEE 498: Transportation Economics\n",
    "## Assignment Four: Road Pricing\n",
    "### Noah Garfinkle (garfink2@illinois edu)\n",
    "### 11 March 2020"
   ]
  },
  {
   "cell_type": "markdown",
   "metadata": {},
   "source": [
    "## Imports and Setup"
   ]
  },
  {
   "cell_type": "code",
   "execution_count": 2,
   "metadata": {},
   "outputs": [],
   "source": [
    "import numpy as np\n",
    "import matplotlib.pyplot as plt\n",
    "import pandas as pd\n",
    "import seaborn as sns\n",
    "from scipy.optimize import root_scalar #this works only for scalar functions\n",
    "from scipy.optimize import minimize"
   ]
  },
  {
   "cell_type": "markdown",
   "metadata": {},
   "source": [
    "## Parameters"
   ]
  },
  {
   "cell_type": "code",
   "execution_count": 3,
   "metadata": {},
   "outputs": [],
   "source": [
    "μ=0.5\n",
    "α=10.0\n",
    "β=0.5\n",
    "t_f = 2.0\n",
    "z_0 = 1.0\n",
    "γ = 6.0"
   ]
  },
  {
   "cell_type": "markdown",
   "metadata": {},
   "source": [
    "## Problem One"
   ]
  },
  {
   "cell_type": "markdown",
   "metadata": {},
   "source": [
    "Consider a highway with the following demand function\n",
    "\n",
    "$$Q(z)=\\alpha-\\beta z$$\n",
    "\n",
    "Where $z$ is the \"user cost\" (dollars) and $Q$ is the traffic flow.\n",
    "\n",
    "The user cost (not counting tolls) is given by\n",
    "\n",
    "$$Z^s(Q)=z_0+\\mu t_f[1+(\\frac{Q}{\\gamma})^4]$$\n",
    "\n",
    "where the value of time, $t_f$, is the free-flow travel time of the road, $\\tau$ is the toll, and $\\gamma$ is a parameter showing how sensitive travel time is to traffic.  The values of the above parameters are set above."
   ]
  },
  {
   "cell_type": "markdown",
   "metadata": {},
   "source": [
    "The inverse demand function can be written as\n",
    "\n",
    "$$z(Q) = \\frac{\\alpha-Q}{\\beta}$$"
   ]
  },
  {
   "cell_type": "code",
   "execution_count": 4,
   "metadata": {},
   "outputs": [],
   "source": [
    "def Q(z,α=α,β=β):\n",
    "    q = α - β * z\n",
    "    return q"
   ]
  },
  {
   "cell_type": "code",
   "execution_count": 5,
   "metadata": {},
   "outputs": [],
   "source": [
    "def Z(q,z_0=z_0,μ=μ,t_f=t_f,γ=γ):\n",
    "    z = z_0 + μ * t_f * (1+np.power(q/γ,4))\n",
    "    return z"
   ]
  },
  {
   "cell_type": "code",
   "execution_count": 6,
   "metadata": {},
   "outputs": [],
   "source": [
    "def Qinverse(Q,α=α,β=β):\n",
    "    z = (α-Q)/β\n",
    "    return z"
   ]
  },
  {
   "cell_type": "code",
   "execution_count": 7,
   "metadata": {},
   "outputs": [],
   "source": [
    "Qs = np.linspace(0,10,100)\n",
    "Ps = [Z(q) for q in Qs]\n",
    "Ds = [Qinverse(q) for q in Qs]"
   ]
  },
  {
   "cell_type": "code",
   "execution_count": 9,
   "metadata": {},
   "outputs": [],
   "source": [
    "f = lambda q: Qinverse(q) - Z(q)\n",
    "res = root_scalar(f,x0=7.5,bracket=(7,8))"
   ]
  },
  {
   "cell_type": "code",
   "execution_count": 10,
   "metadata": {},
   "outputs": [],
   "source": [
    "cs = 0.5 * res.root * (α/β - Z(res.root))"
   ]
  },
  {
   "cell_type": "code",
   "execution_count": 39,
   "metadata": {},
   "outputs": [
    {
     "data": {
      "text/plain": [
       "<matplotlib.legend.Legend at 0x1539e6bd9c8>"
      ]
     },
     "execution_count": 39,
     "metadata": {},
     "output_type": "execute_result"
    },
    {
     "data": {
      "image/png": "[encoded data removed]",
      "text/plain": [
       "<Figure size 360x360 with 1 Axes>"
      ]
     },
     "metadata": {
      "needs_background": "light"
     },
     "output_type": "display_data"
    }
   ],
   "source": [
    "fig,ax = plt.subplots(figsize=(5,5))\n",
    "plt.plot(Qs,Ps,label=\"Cost\")\n",
    "plt.plot(Qs,Ds,label=\"Demand\")\n",
    "ax.set_xlabel(\"Travel Demand $Q$\")\n",
    "ax.set_ylabel(\"Travel Cost $Z^s$\")\n",
    "ax.set_title(\"Supply and Demand Curve\")\n",
    "ax.axvline(res.root,ls=\"--\",color=\"grey\",alpha=0.5,label=f\"$Q^*={res.root:,.2f}$\")\n",
    "ax.axhline(Z(res.root),ls=\"--\",color=\"grey\",alpha=0.5,label=f\"$z^*={Z(res.root):,.2f}$\")\n",
    "ax.fill_between(Qs,Z(res.root),Ds,where=Qs<res.root,alpha=0.1,hatch=\"*\",color=\"green\",label=f\"$CS={cs:,.2f}$\")\n",
    "ax.legend()"
   ]
  },
  {
   "cell_type": "code",
   "execution_count": 12,
   "metadata": {},
   "outputs": [
    {
     "data": {
      "text/plain": [
       "58.78187002744739"
      ]
     },
     "execution_count": 12,
     "metadata": {},
     "output_type": "execute_result"
    }
   ],
   "source": [
    "# confirm the consumer surplus, which for linear is q^2/2β\n",
    "np.power(res.root,2)/(2*β)"
   ]
  },
  {
   "cell_type": "markdown",
   "metadata": {},
   "source": [
    "### Untolled equilibrium"
   ]
  },
  {
   "cell_type": "markdown",
   "metadata": {},
   "source": [
    "#### (a) If the toll is zero, what is the equilibrium traffic flow $Q$ and user cost $z$?"
   ]
  },
  {
   "cell_type": "code",
   "execution_count": 13,
   "metadata": {},
   "outputs": [
    {
     "name": "stdout",
     "output_type": "stream",
     "text": [
      "Q*=7.67, z*=$4.67\n"
     ]
    }
   ],
   "source": [
    "print(f\"Q*={res.root:,.2f}, z*=${Z(res.root):,.2f}\")"
   ]
  },
  {
   "cell_type": "markdown",
   "metadata": {},
   "source": [
    "#### (b) What is consumer surplus without a toll?"
   ]
  },
  {
   "cell_type": "code",
   "execution_count": 25,
   "metadata": {},
   "outputs": [
    {
     "name": "stdout",
     "output_type": "stream",
     "text": [
      "CS=$58.78\n"
     ]
    }
   ],
   "source": [
    "print(f\"CS=${cs:,.2f}\")"
   ]
  },
  {
   "cell_type": "markdown",
   "metadata": {},
   "source": [
    "### Social Optimum"
   ]
  },
  {
   "cell_type": "markdown",
   "metadata": {},
   "source": [
    "#### (c) Write an expression for marginal social cost as a function of $Q$."
   ]
  },
  {
   "cell_type": "markdown",
   "metadata": {},
   "source": [
    "Per the lecture slides,\n",
    "\n",
    "$$TSC(Q)=Q*Z^s(Q)$$\n",
    "\n",
    "and\n",
    "\n",
    "$$MSC(Q)=\\frac{\\delta TSC}{\\delta Q} = Z^s(Q) + Q \\frac{\\delta Z^s(Q)}{\\delta Q}$$"
   ]
  },
  {
   "cell_type": "markdown",
   "metadata": {},
   "source": [
    "$$\\frac{\\delta Z^s(Q)}{\\delta Q} = \\frac{4 \\mu Q^3 t_f}{\\gamma^4}$$\n",
    "\n",
    "$$\\therefore MSC(Q) = z_0+\\mu t_f[1+(\\frac{Q}{\\gamma})^4] + \\frac{4 \\mu Q^4 t_f}{\\gamma^4}$$"
   ]
  },
  {
   "cell_type": "code",
   "execution_count": 15,
   "metadata": {},
   "outputs": [],
   "source": [
    "def MSC(q,z_0=z_0,μ=μ,γ=γ,t_f=t_f):\n",
    "    msc = Z(q) + 4.0 * μ * np.power(q,4) * t_f / np.power(γ,4)\n",
    "    return msc"
   ]
  },
  {
   "cell_type": "code",
   "execution_count": 16,
   "metadata": {},
   "outputs": [],
   "source": [
    "MSCs = [MSC(q) for q in Qs]"
   ]
  },
  {
   "cell_type": "code",
   "execution_count": 24,
   "metadata": {},
   "outputs": [],
   "source": [
    "f2 = lambda q: Qinverse(q) - MSC(q)\n",
    "res2 = root_scalar(f2,x0=6.0,bracket=(5.5,7.0))"
   ]
  },
  {
   "cell_type": "code",
   "execution_count": 18,
   "metadata": {},
   "outputs": [],
   "source": [
    "CS_new = np.power(res2.root,2)/(2*β)"
   ]
  },
  {
   "cell_type": "code",
   "execution_count": 41,
   "metadata": {},
   "outputs": [
    {
     "data": {
      "text/plain": [
       "<matplotlib.legend.Legend at 0x153a090f788>"
      ]
     },
     "execution_count": 41,
     "metadata": {},
     "output_type": "execute_result"
    },
    {
     "data": {
      "image/png": "[encoded data removed]",
      "text/plain": [
       "<Figure size 576x576 with 1 Axes>"
      ]
     },
     "metadata": {
      "needs_background": "light"
     },
     "output_type": "display_data"
    }
   ],
   "source": [
    "fig,ax = plt.subplots(figsize=(8,8))\n",
    "plt.plot(Qs,Ps,label=\"Cost\")\n",
    "plt.plot(Qs,Ds,label=\"Demand\")\n",
    "plt.plot(Qs,MSCs,label=\"MSC\")\n",
    "ax.set_xlabel(\"Travel Demand $Q$\")\n",
    "ax.set_ylabel(\"Travel Cost $Z^s$\")\n",
    "ax.set_title(\"Supply and Demand Curve\")\n",
    "ax.axvline(res.root,ls=\"--\",color=\"grey\",alpha=0.5,label=f\"$Q^*={res.root:,.2f}$\")\n",
    "ax.axhline(Z(res.root),ls=\"--\",color=\"grey\",alpha=0.5,label=f\"$z^*={Z(res.root):,.2f}$\")\n",
    "ax.axvline(res2.root,ls=\"--\",color=\"red\",alpha=0.5,label=f\"$Q_{{toll}}^*={res2.root:,.2f}$\")\n",
    "ax.axhline(Z(res2.root),ls=\"--\",color=\"red\",alpha=0.5,label=f\"$z_{{toll}}^*={Z(res2.root):,.2f}$\")\n",
    "ax.axhline(MSC(res2.root),ls=\"--\",color=\"red\",alpha=0.5,label=f\"$MSC_{{toll}}^*={MSC(res2.root):,.2f}$\")\n",
    "ax.fill_between(Qs,MSC(res2.root),Ds,where=Qs<res2.root,alpha=0.1,hatch=\"*\",color=\"green\",label=f\"$CS={CS_new:,.2f}$\")\n",
    "ax.legend()"
   ]
  },
  {
   "cell_type": "markdown",
   "metadata": {},
   "source": [
    "#### (d) What is the welfare-maximizing toll level?"
   ]
  },
  {
   "cell_type": "code",
   "execution_count": 20,
   "metadata": {},
   "outputs": [],
   "source": [
    "τ = Qinverse(res2.root)-Qinverse(res.root)"
   ]
  },
  {
   "cell_type": "code",
   "execution_count": 21,
   "metadata": {},
   "outputs": [
    {
     "name": "stdout",
     "output_type": "stream",
     "text": [
      "Wellfare maximizing toll is $2.97 with a travel demand of 6.18\n"
     ]
    }
   ],
   "source": [
    "print(f\"Wellfare maximizing toll is ${τ:,.2f} with a travel demand of {res2.root:,.2f}\")"
   ]
  },
  {
   "cell_type": "markdown",
   "metadata": {},
   "source": [
    "#### (e) Given the welfare-maximizing toll, calculate"
   ]
  },
  {
   "cell_type": "markdown",
   "metadata": {},
   "source": [
    "##### i. Consumer Surplus"
   ]
  },
  {
   "cell_type": "code",
   "execution_count": 22,
   "metadata": {},
   "outputs": [
    {
     "name": "stdout",
     "output_type": "stream",
     "text": [
      "The new consumer surplus is $38.22\n"
     ]
    }
   ],
   "source": [
    "print(f\"The new consumer surplus is ${CS_new:,.2f}\")"
   ]
  },
  {
   "cell_type": "markdown",
   "metadata": {},
   "source": [
    "##### ii. Total toll revenue"
   ]
  },
  {
   "cell_type": "code",
   "execution_count": 23,
   "metadata": {},
   "outputs": [
    {
     "name": "stdout",
     "output_type": "stream",
     "text": [
      "Total toll revenue = $18.36\n"
     ]
    }
   ],
   "source": [
    "print(f\"Total toll revenue = ${τ*res2.root:,.2f}\")"
   ]
  },
  {
   "cell_type": "markdown",
   "metadata": {},
   "source": [
    "### Revenue Maximization"
   ]
  },
  {
   "cell_type": "markdown",
   "metadata": {},
   "source": [
    "#### (f) What is the revenue-maximizing toll?"
   ]
  },
  {
   "cell_type": "markdown",
   "metadata": {},
   "source": [
    "Recall that the revenue of a toll $\\tau$ is simply the demand at the new price multiplied by $\\tau$ where the new demand is calcualted shifted by $\\tau$ "
   ]
  },
  {
   "cell_type": "markdown",
   "metadata": {},
   "source": [
    "Step 1: for a given toll $\\tau$, calculate the demand"
   ]
  },
  {
   "cell_type": "markdown",
   "metadata": {},
   "source": [
    "$$Q(z)=\\alpha-\\beta (z+\\tau)$$"
   ]
  },
  {
   "cell_type": "code",
   "execution_count": 26,
   "metadata": {},
   "outputs": [],
   "source": [
    "def Q_with_τ(z,τ,α=α,β=β):\n",
    "    q = α - β * (z+τ)\n",
    "    return q"
   ]
  },
  {
   "cell_type": "code",
   "execution_count": 27,
   "metadata": {},
   "outputs": [],
   "source": [
    "def Z_with_τ(q,τ,z_0=z_0,μ=μ,t_f=t_f,γ=γ):\n",
    "    z = z_0 + μ * t_f * (1+np.power(q/γ,4)) + τ\n",
    "    return z"
   ]
  },
  {
   "cell_type": "code",
   "execution_count": 28,
   "metadata": {},
   "outputs": [],
   "source": [
    "τ_candidates = np.linspace(0,15,10000)"
   ]
  },
  {
   "cell_type": "code",
   "execution_count": 35,
   "metadata": {},
   "outputs": [
    {
     "name": "stdout",
     "output_type": "stream",
     "text": [
      "The toll which maximizes revenue is τ*=$9.36, with a revenue of $39.31 generated from a demand of 4.20\n"
     ]
    }
   ],
   "source": [
    "root_candidates = []\n",
    "revenue_candidates = []\n",
    "maxRevenue = 0.0\n",
    "tollProvidingMaxRevenue = 0.0\n",
    "demandAtMaxRevenue = 0.0\n",
    "for τ_candidate in τ_candidates:\n",
    "    f_candidate = lambda q: Qinverse(q) - Z_with_τ(q,τ_candidate)\n",
    "    res_candidate = root_scalar(f_candidate,x0=5,bracket=(0,10))\n",
    "    root_candidates.append(res_candidate.root)\n",
    "    revenue_candidate = res_candidate.root * τ_candidate\n",
    "    if revenue_candidate > maxRevenue:\n",
    "        maxRevenue = revenue_candidate\n",
    "        tollProvidingMaxRevenue = τ_candidate\n",
    "        demandAtMaxRevenue = res_candidate.root\n",
    "    revenue_candidates.append(revenue_candidate)\n",
    "print(f\"The toll which maximizes revenue is τ*=${tollProvidingMaxRevenue:,.2f}, with a revenue of ${maxRevenue:,.2f} generated from a demand of {demandAtMaxRevenue:,.2f}\")"
   ]
  },
  {
   "cell_type": "code",
   "execution_count": 36,
   "metadata": {},
   "outputs": [
    {
     "data": {
      "text/plain": [
       "<matplotlib.legend.Legend at 0x1539e105208>"
      ]
     },
     "execution_count": 36,
     "metadata": {},
     "output_type": "execute_result"
    },
    {
     "data": {
      "image/png": "[encoded data removed]",
      "text/plain": [
       "<Figure size 360x360 with 1 Axes>"
      ]
     },
     "metadata": {
      "needs_background": "light"
     },
     "output_type": "display_data"
    }
   ],
   "source": [
    "fig,ax = plt.subplots(figsize=(5,5))\n",
    "ax.plot(τ_candidates,revenue_candidates)\n",
    "ax.set_xlabel(\"$τ$\")\n",
    "ax.set_ylabel(\"Operator Revenue ($)\")\n",
    "ax.set_title(\"Revenue vs Toll\")\n",
    "ax.axvline(tollProvidingMaxRevenue,ls=\":\",label=f\"$τ^*={tollProvidingMaxRevenue:,.2f}$\")\n",
    "ax.legend()"
   ]
  },
  {
   "cell_type": "code",
   "execution_count": 38,
   "metadata": {},
   "outputs": [
    {
     "data": {
      "text/plain": [
       "<matplotlib.legend.Legend at 0x1539e615ac8>"
      ]
     },
     "execution_count": 38,
     "metadata": {},
     "output_type": "execute_result"
    },
    {
     "data": {
      "image/png": "[encoded data removed]",
      "text/plain": [
       "<Figure size 360x360 with 1 Axes>"
      ]
     },
     "metadata": {
      "needs_background": "light"
     },
     "output_type": "display_data"
    }
   ],
   "source": [
    "zs = np.linspace(0,10,100)\n",
    "Qs_with_τ = [Q_with_τ(z,tollProvidingMaxRevenue) for z in zs]\n",
    "\n",
    "fig,ax = plt.subplots(figsize=(5,5))\n",
    "plt.plot(Qs,Ps,label=\"Cost\")\n",
    "plt.plot(Qs,Ds,label=\"Demand\",alpha=0.1)\n",
    "plt.plot(Qs_with_τ,zs,label=f\"Demand with $τ={tollProvidingMaxRevenue:,.2f}$\")\n",
    "ax.set_xlabel(\"Travel Demand $Q$\")\n",
    "ax.set_ylabel(\"Travel Cost $Z^s$\")\n",
    "ax.set_title(\"Supply and Demand Curve\")\n",
    "ax.axvline(demandAtMaxRevenue,ls=\":\",alpha=0.5,label=f\"Demand with toll: {demandAtMaxRevenue:,.2f}\")\n",
    "ax.legend()"
   ]
  },
  {
   "cell_type": "markdown",
   "metadata": {},
   "source": [
    "#### (g) Given the revenue maximizing toll, calculate"
   ]
  },
  {
   "cell_type": "markdown",
   "metadata": {},
   "source": [
    "##### i. Consumer surplus"
   ]
  },
  {
   "cell_type": "code",
   "execution_count": 42,
   "metadata": {},
   "outputs": [],
   "source": [
    "CS_new = np.power(demandAtMaxRevenue,2)/(2*β)"
   ]
  },
  {
   "cell_type": "code",
   "execution_count": 43,
   "metadata": {},
   "outputs": [
    {
     "name": "stdout",
     "output_type": "stream",
     "text": [
      "The new consumer surplus is $17.64\n"
     ]
    }
   ],
   "source": [
    "print(f\"The new consumer surplus is ${CS_new:,.2f}\")"
   ]
  },
  {
   "cell_type": "markdown",
   "metadata": {},
   "source": [
    "##### ii. Total toll revenue"
   ]
  },
  {
   "cell_type": "code",
   "execution_count": 44,
   "metadata": {},
   "outputs": [
    {
     "name": "stdout",
     "output_type": "stream",
     "text": [
      "The total toll revenue is $39.31\n"
     ]
    }
   ],
   "source": [
    "print(f\"The total toll revenue is ${maxRevenue:,.2f}\")"
   ]
  },
  {
   "cell_type": "markdown",
   "metadata": {},
   "source": [
    "### Queuing\n",
    "\n",
    "Supposed that there is a bottleneck with capacity 7 at the upstream entrance to the highway."
   ]
  },
  {
   "cell_type": "markdown",
   "metadata": {},
   "source": [
    "$$7 = Q(z)=\\alpha-\\beta z$$\n",
    "\n",
    "$α=10.0, β=0.5$\n",
    "\n",
    "$$\\therefore 7 = 10.0-0.5 z$$\n",
    "\n",
    "$$\\therefore z = 6$$"
   ]
  },
  {
   "cell_type": "code",
   "execution_count": 45,
   "metadata": {},
   "outputs": [],
   "source": [
    "def Z_queue(q,z_0=z_0,μ=μ,t_f=t_f,γ=γ,queue=7):\n",
    "    if q < queue:\n",
    "        z = z_0 + μ * t_f * (1+np.power(q/γ,4))\n",
    "    else:\n",
    "        z = 40 # a large number\n",
    "    return z"
   ]
  },
  {
   "cell_type": "code",
   "execution_count": 46,
   "metadata": {},
   "outputs": [],
   "source": [
    "Ps_queue = [Z_queue(q) for q in Qs]"
   ]
  },
  {
   "cell_type": "code",
   "execution_count": 49,
   "metadata": {},
   "outputs": [
    {
     "data": {
      "text/plain": [
       "<matplotlib.legend.Legend at 0x153a0e70b08>"
      ]
     },
     "execution_count": 49,
     "metadata": {},
     "output_type": "execute_result"
    },
    {
     "data": {
      "image/png": "[encoded data removed]",
      "text/plain": [
       "<Figure size 360x360 with 1 Axes>"
      ]
     },
     "metadata": {
      "needs_background": "light"
     },
     "output_type": "display_data"
    }
   ],
   "source": [
    "fig,ax = plt.subplots(figsize=(5,5))\n",
    "plt.plot(Qs,Ps_queue,label=\"Cost\")\n",
    "plt.plot(Qs,Ds,label=\"Demand\")\n",
    "# plt.plot(Qs,MSCs,label=\"MSC\")\n",
    "ax.set_xlabel(\"Travel Demand $Q$\")\n",
    "ax.set_ylabel(\"Travel Cost $Z^s$\")\n",
    "ax.set_ylim(0,30)\n",
    "ax.set_title(\"Supply and Demand Curve\")\n",
    "ax.axhline(6,label=\"intercept\",ls=\"-.\")\n",
    "ax.legend()"
   ]
  },
  {
   "cell_type": "markdown",
   "metadata": {},
   "source": [
    "#### (h) In equilibrium, how much time do vehicles spend queueing?"
   ]
  },
  {
   "cell_type": "markdown",
   "metadata": {},
   "source": [
    "Approach\n",
    "\n",
    "Per the course notes, go from cost to time to vehicle count"
   ]
  },
  {
   "cell_type": "code",
   "execution_count": 50,
   "metadata": {},
   "outputs": [],
   "source": [
    "cost_queueing = (Qinverse(7) - Z(7)) * 7"
   ]
  },
  {
   "cell_type": "code",
   "execution_count": 53,
   "metadata": {},
   "outputs": [
    {
     "name": "stdout",
     "output_type": "stream",
     "text": [
      "The cost of queueing is 15.03.\n"
     ]
    }
   ],
   "source": [
    "print(f\"The cost of queueing is {cost_queueing:,.2f}.\")"
   ]
  },
  {
   "cell_type": "code",
   "execution_count": 54,
   "metadata": {},
   "outputs": [],
   "source": [
    "time_queueing = cost_queueing / μ"
   ]
  },
  {
   "cell_type": "code",
   "execution_count": 55,
   "metadata": {},
   "outputs": [
    {
     "name": "stdout",
     "output_type": "stream",
     "text": [
      "The time spent queueing is 30.06.\n"
     ]
    }
   ],
   "source": [
    "print(f\"The time spent queueing is {time_queueing:,.2f}.\")"
   ]
  },
  {
   "cell_type": "markdown",
   "metadata": {},
   "source": [
    "The number of vehicles in the queue is now approximately equal to time in queue divided by $Q_0$, the highway capaicty"
   ]
  },
  {
   "cell_type": "code",
   "execution_count": 56,
   "metadata": {},
   "outputs": [],
   "source": [
    "vehicles_in_queue = time_queueing / 7"
   ]
  },
  {
   "cell_type": "code",
   "execution_count": 58,
   "metadata": {},
   "outputs": [
    {
     "name": "stdout",
     "output_type": "stream",
     "text": [
      "There are 4.29 vehicles in queue.\n"
     ]
    }
   ],
   "source": [
    "print(f\"There are {vehicles_in_queue:,.2f} vehicles in queue.\")"
   ]
  },
  {
   "cell_type": "markdown",
   "metadata": {},
   "source": [
    "#### (i) What toll would eliminate queueing?"
   ]
  },
  {
   "cell_type": "code",
   "execution_count": 59,
   "metadata": {},
   "outputs": [],
   "source": [
    "τ_queueing = Qinverse(7) - Z(7)"
   ]
  },
  {
   "cell_type": "code",
   "execution_count": 60,
   "metadata": {},
   "outputs": [
    {
     "name": "stdout",
     "output_type": "stream",
     "text": [
      "The toll which eliminates queueing is 2.15\n"
     ]
    }
   ],
   "source": [
    "print(f\"The toll which eliminates queueing is {τ_queueing:,.2f}\")"
   ]
  },
  {
   "cell_type": "code",
   "execution_count": 63,
   "metadata": {},
   "outputs": [
    {
     "data": {
      "text/plain": [
       "<matplotlib.legend.Legend at 0x1539e09d188>"
      ]
     },
     "execution_count": 63,
     "metadata": {},
     "output_type": "execute_result"
    },
    {
     "data": {
      "image/png": "[encoded data removed]",
      "text/plain": [
       "<Figure size 360x360 with 1 Axes>"
      ]
     },
     "metadata": {
      "needs_background": "light"
     },
     "output_type": "display_data"
    }
   ],
   "source": [
    "Qs_with_τ_queueing = [Q(z+τ_queueing) for z in zs]\n",
    "fig,ax = plt.subplots(figsize=(5,5))\n",
    "plt.plot(Qs,Ps_queue,label=\"Cost\")\n",
    "plt.plot(Qs,Ds,label=\"Demand\")\n",
    "plt.plot(Qs_with_τ_queueing,zs,label=f\"Toll ($τ={τ_queueing:,.2f}$) to eliminate queueing\")\n",
    "ax.set_xlabel(\"Travel Demand $Q$\")\n",
    "ax.set_ylabel(\"Travel Cost $Z^s$\")\n",
    "ax.set_title(\"Supply and Demand Curve\")\n",
    "ax.axhline(6,label=\"intercept\",ls=\"-.\")\n",
    "ax.set_ylim(0,30)\n",
    "ax.legend()"
   ]
  }
 ],
 "metadata": {
  "kernelspec": {
   "display_name": "Python 3",
   "language": "python",
   "name": "python3"
  },
  "language_info": {
   "codemirror_mode": {
    "name": "ipython",
    "version": 3
   },
   "file_extension": ".py",
   "mimetype": "text/x-python",
   "name": "python",
   "nbconvert_exporter": "python",
   "pygments_lexer": "ipython3",
   "version": "3.7.4"
  }
 },
 "nbformat": 4,
 "nbformat_minor": 4
}
