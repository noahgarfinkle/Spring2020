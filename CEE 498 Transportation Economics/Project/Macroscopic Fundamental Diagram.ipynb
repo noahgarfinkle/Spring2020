{
 "cells": [
  {
   "cell_type": "markdown",
   "metadata": {},
   "source": [
    "# Macroscopic Fundamental Diagrams\n",
    "## CEE 498- Transportation Economics\n",
    "\n",
    "Noah Garfinkle"
   ]
  },
  {
   "cell_type": "markdown",
   "metadata": {},
   "source": [
    "# References:\n",
    "- http://web.mit.edu/sheffi/www/selectedMedia/sheffi_urban_trans_networks.pdf\n",
    "- https://www.jstor.org/stable/pdf/25768196.pdf\n",
    "- https://sboyles.github.io/teaching/ce392c/5-beckmannmsafw.pdf\n",
    "- https://ieeexplore.ieee.org/stamp/stamp.jsp?tp=&arnumber=7967870\n",
    "- https://link.springer.com/content/pdf/10.1007%2F978-3-319-00155-5.pdf\n",
    "- https://link.springer.com/chapter/10.1007/978-3-319-00155-5_10\n"
   ]
  },
  {
   "cell_type": "code",
   "execution_count": 1,
   "metadata": {},
   "outputs": [],
   "source": [
    "import numpy as np\n",
    "import pandas as pd\n",
    "import geopandas as gpd\n",
    "import matplotlib.pyplot as plt\n",
    "import seaborn as sns\n",
    "import ortools as ort\n",
    "from shapely.geometry import Point, LineString\n",
    "import shapely.geometry as geom\n",
    "from ortools.graph import pywrapgraph\n",
    "import time"
   ]
  },
  {
   "cell_type": "markdown",
   "metadata": {},
   "source": [
    "Step 1. Create a conceptual model of the road network"
   ]
  },
  {
   "cell_type": "code",
   "execution_count": 2,
   "metadata": {},
   "outputs": [],
   "source": [
    "intersections = [Point(0,0),Point(3,0),Point(6,0),Point(0,3),Point(3,3),Point(6,3),Point(0,6),Point(3,6),Point(6,6)]"
   ]
  },
  {
   "cell_type": "code",
   "execution_count": 3,
   "metadata": {},
   "outputs": [],
   "source": [
    "df_intersections = gpd.GeoDataFrame({\"geometry\":intersections})"
   ]
  },
  {
   "cell_type": "code",
   "execution_count": 4,
   "metadata": {},
   "outputs": [
    {
     "data": {
      "text/plain": [
       "<matplotlib.axes._subplots.AxesSubplot at 0x18919f44ac8>"
      ]
     },
     "execution_count": 4,
     "metadata": {},
     "output_type": "execute_result"
    },
    {
     "data": {
      "image/png": "[encoded data removed]",
      "text/plain": [
       "<Figure size 432x288 with 1 Axes>"
      ]
     },
     "metadata": {
      "needs_background": "light"
     },
     "output_type": "display_data"
    }
   ],
   "source": [
    "df_intersections.plot()"
   ]
  },
  {
   "cell_type": "code",
   "execution_count": 5,
   "metadata": {},
   "outputs": [],
   "source": [
    "roads = []\n",
    "for i in range(0,len(intersections)):\n",
    "    for j in range(0,len(intersections)):\n",
    "        if i < j:\n",
    "            road = LineString([intersections[i],intersections[j]])\n",
    "            roads.append(road)\n",
    "df_roads = gpd.GeoDataFrame({\"geometry\":roads})"
   ]
  },
  {
   "cell_type": "code",
   "execution_count": 6,
   "metadata": {},
   "outputs": [],
   "source": [
    "df_roads = df_roads[df_roads.geometry.length == 3]"
   ]
  },
  {
   "cell_type": "code",
   "execution_count": 7,
   "metadata": {},
   "outputs": [
    {
     "data": {
      "text/plain": [
       "<matplotlib.axes._subplots.AxesSubplot at 0x1891f4c3688>"
      ]
     },
     "execution_count": 7,
     "metadata": {},
     "output_type": "execute_result"
    },
    {
     "data": {
      "image/png": "[encoded data removed]",
      "text/plain": [
       "<Figure size 360x360 with 1 Axes>"
      ]
     },
     "metadata": {
      "needs_background": "light"
     },
     "output_type": "display_data"
    }
   ],
   "source": [
    "fig,ax = plt.subplots(figsize=(5,5))\n",
    "df_roads.plot(ax=ax)\n",
    "df_intersections.plot(ax=ax,marker=\"*\",color='red',markersize=60)"
   ]
  },
  {
   "cell_type": "code",
   "execution_count": 8,
   "metadata": {},
   "outputs": [],
   "source": [
    "def generateGrid(nRows=3,nCols=3,rowSpacing=3,colSpacing=3):\n",
    "    points = []\n",
    "    for row in range(0,nRows):\n",
    "        x = row * rowSpacing\n",
    "        for col in range(0,nCols):\n",
    "            y = col * colSpacing\n",
    "            point = Point(x,y)\n",
    "            points.append(point)\n",
    "    df = gpd.GeoDataFrame({'geometry':points})\n",
    "    return df"
   ]
  },
  {
   "cell_type": "code",
   "execution_count": 9,
   "metadata": {},
   "outputs": [
    {
     "data": {
      "text/plain": [
       "<matplotlib.axes._subplots.AxesSubplot at 0x1891f53e4c8>"
      ]
     },
     "execution_count": 9,
     "metadata": {},
     "output_type": "execute_result"
    },
    {
     "data": {
      "image/png": "[encoded data removed]",
      "text/plain": [
       "<Figure size 432x288 with 1 Axes>"
      ]
     },
     "metadata": {
      "needs_background": "light"
     },
     "output_type": "display_data"
    }
   ],
   "source": [
    "generateGrid(5,5).plot()"
   ]
  },
  {
   "cell_type": "markdown",
   "metadata": {},
   "source": [
    "## Four-Step Travel Demand Model\n",
    "\n",
    "- https://bfcog.us/transportation/gismapping-modeling/regional-travel-demand-model/four-step-travel-demand-model/\n",
    "- https://www.transitwiki.org/TransitWiki/index.php/Four-step_travel_model\n",
    "- https://github.com/bstabler/TransportationNetworks # an amazing link!\n",
    "- https://sboyles.github.io/teaching/ce392c/hw5.html # an amazing site!\n",
    "- https://github.com/teknomo/IdealFlowNetwork # python library\n",
    "- https://www.hindawi.com/journals/jat/2019/9540386/\n",
    "- https://github.com/spartalab/wrap\n"
   ]
  },
  {
   "cell_type": "markdown",
   "metadata": {},
   "source": [
    "### 1. Trip generation- where do trips start?"
   ]
  },
  {
   "cell_type": "code",
   "execution_count": null,
   "metadata": {},
   "outputs": [],
   "source": []
  },
  {
   "cell_type": "markdown",
   "metadata": {},
   "source": [
    "### 2. Trip distribution- where do trips go?"
   ]
  },
  {
   "cell_type": "code",
   "execution_count": null,
   "metadata": {},
   "outputs": [],
   "source": []
  },
  {
   "cell_type": "markdown",
   "metadata": {},
   "source": [
    "### 3. Mode choice- how do people travel?"
   ]
  },
  {
   "cell_type": "code",
   "execution_count": null,
   "metadata": {},
   "outputs": [],
   "source": []
  },
  {
   "cell_type": "markdown",
   "metadata": {},
   "source": [
    "### 4. Trip assignment- what is the route for each trip?"
   ]
  },
  {
   "cell_type": "code",
   "execution_count": 12,
   "metadata": {},
   "outputs": [
    {
     "name": "stdout",
     "output_type": "stream",
     "text": [
      "Total cost =  265\n",
      "\n",
      "Worker 1 assigned to task 8.  Cost = 70\n",
      "Worker 2 assigned to task 7.  Cost = 55\n",
      "Worker 3 assigned to task 6.  Cost = 95\n",
      "Worker 4 assigned to task 5.  Cost = 45\n",
      "\n",
      "Time = 0.00023670000000208802 seconds\n"
     ]
    },
    {
     "name": "stderr",
     "output_type": "stream",
     "text": [
      "C:\\Users\\garfink2\\AppData\\Local\\Continuum\\anaconda3\\envs\\phd\\lib\\site-packages\\ipykernel_launcher.py:49: DeprecationWarning: time.clock has been deprecated in Python 3.3 and will be removed from Python 3.8: use time.perf_counter or time.process_time instead\n",
      "C:\\Users\\garfink2\\AppData\\Local\\Continuum\\anaconda3\\envs\\phd\\lib\\site-packages\\ipykernel_launcher.py:52: DeprecationWarning: time.clock has been deprecated in Python 3.3 and will be removed from Python 3.8: use time.perf_counter or time.process_time instead\n"
     ]
    }
   ],
   "source": [
    "# https://developers.google.com/optimization/assignment/assignment_min_cost_flow\n",
    "def main():\n",
    "  \"\"\"Solving an Assignment Problem with MinCostFlow\"\"\"\n",
    "\n",
    "  # Instantiate a SimpleMinCostFlow solver.\n",
    "  min_cost_flow = pywrapgraph.SimpleMinCostFlow()\n",
    "  # Define the directed graph for the flow.\n",
    "\n",
    "  start_nodes = [0, 0, 0, 0] + [1, 1, 1, 1, 2, 2, 2, 2, 3, 3, 3, 3, 4, 4, 4, 4] + [5, 6, 7, 8]\n",
    "  end_nodes =   [1, 2, 3, 4] + [5, 6, 7, 8, 5, 6, 7, 8, 5, 6, 7, 8, 5, 6, 7, 8] + [9, 9, 9, 9]\n",
    "  capacities =  [1, 1, 1, 1] + [1, 1, 1, 1, 1, 1, 1, 1, 1, 1, 1, 1, 1, 1, 1, 1] + [1, 1, 1, 1 ]\n",
    "  costs  = ([0, 0, 0, 0] + [90, 76, 75, 70, 35, 85, 55, 65, 125, 95, 90, 105, 45, 110, 95, 115]\n",
    "                + [0, 0, 0, 0])\n",
    "  # Define an array of supplies at each node.\n",
    "  supplies = [4, 0, 0, 0, 0, 0, 0, 0, 0, -4]\n",
    "  source = 0\n",
    "  sink = 9\n",
    "  tasks = 4\n",
    "\n",
    "  # Add each arc.\n",
    "  for i in range(len(start_nodes)):\n",
    "    min_cost_flow.AddArcWithCapacityAndUnitCost(start_nodes[i], end_nodes[i],\n",
    "                                                capacities[i], costs[i])\n",
    "\n",
    "  # Add node supplies.\n",
    "\n",
    "  for i in range(len(supplies)):\n",
    "    min_cost_flow.SetNodeSupply(i, supplies[i])\n",
    "  # Find the minimum cost flow between node 0 and node 10.\n",
    "  if min_cost_flow.Solve() == min_cost_flow.OPTIMAL:\n",
    "    print('Total cost = ', min_cost_flow.OptimalCost())\n",
    "    print()\n",
    "    for arc in range(min_cost_flow.NumArcs()):\n",
    "\n",
    "      # Can ignore arcs leading out of source or into sink.\n",
    "      if min_cost_flow.Tail(arc)!=source and min_cost_flow.Head(arc)!=sink:\n",
    "\n",
    "        # Arcs in the solution have a flow value of 1. Their start and end nodes\n",
    "        # give an assignment of worker to task.\n",
    "\n",
    "        if min_cost_flow.Flow(arc) > 0:\n",
    "          print('Worker %d assigned to task %d.  Cost = %d' % (\n",
    "                min_cost_flow.Tail(arc),\n",
    "                min_cost_flow.Head(arc),\n",
    "                min_cost_flow.UnitCost(arc)))\n",
    "  else:\n",
    "    print('There was an issue with the min cost flow input.')\n",
    "if __name__ == '__main__':\n",
    "  start_time = time.clock()\n",
    "  main()\n",
    "  print()\n",
    "  print(\"Time =\", time.clock() - start_time, \"seconds\")"
   ]
  },
  {
   "cell_type": "code",
   "execution_count": null,
   "metadata": {},
   "outputs": [],
   "source": []
  }
 ],
 "metadata": {
  "kernelspec": {
   "display_name": "Python 3.7.6 64-bit ('phd': conda)",
   "language": "python",
   "name": "python37664bitphdcondab24623704836426aa66db115e96068bb"
  },
  "language_info": {
   "codemirror_mode": {
    "name": "ipython",
    "version": 3
   },
   "file_extension": ".py",
   "mimetype": "text/x-python",
   "name": "python",
   "nbconvert_exporter": "python",
   "pygments_lexer": "ipython3",
   "version": "3.7.6"
  }
 },
 "nbformat": 4,
 "nbformat_minor": 4
}
